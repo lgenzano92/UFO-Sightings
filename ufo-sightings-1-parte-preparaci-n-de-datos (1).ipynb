{
 "cells": [
  {
   "cell_type": "markdown",
   "metadata": {
    "papermill": {
     "duration": 0.039052,
     "end_time": "2020-10-25T15:21:16.212769",
     "exception": false,
     "start_time": "2020-10-25T15:21:16.173717",
     "status": "completed"
    },
    "tags": []
   },
   "source": [
    "# **THE TRUTH IS OUT THERE 1°parte** "
   ]
  },
  {
   "cell_type": "markdown",
   "metadata": {
    "papermill": {
     "duration": 0.03691,
     "end_time": "2020-10-25T15:21:16.287843",
     "exception": false,
     "start_time": "2020-10-25T15:21:16.250933",
     "status": "completed"
    },
    "tags": []
   },
   "source": [
    "Datos: https://www.kaggle.com/NUFORC/ufo-sightings<br>\n",
    "Es un registro de avistamientos de OVNI llevado a cabo por National UFO Reporting Center (NUFORC)<br>\n",
    "Contiene registros de avistamientos desde 1906 hasta 2014<br>\n",
    "En este notebook haremos una pequeña preparación de datos para dejar un set limpio para analizar luego con visualizaciones. Por ese motivo no va a ser un notebook muy entretenido. Las visualizaciones las hare en otro notebook<br>\n",
    "2° Parte: https://www.kaggle.com/leogenzano/ufo-sightings-2-parte-analisis-exploratorio/<br>"
   ]
  },
  {
   "cell_type": "markdown",
   "metadata": {
    "papermill": {
     "duration": 0.037883,
     "end_time": "2020-10-25T15:21:16.363037",
     "exception": false,
     "start_time": "2020-10-25T15:21:16.325154",
     "status": "completed"
    },
    "tags": []
   },
   "source": [
    "Consideraciones:\n",
    "* voy a estar utilizando algunas funciones de la libreria funpymodeling, que nos ayuda sobretodo con el analisis exploratorio y la preparación de datos https://pypi.org/project/funpymodeling/\n",
    "* Tambien voy a usar la libreria reverse_geocoding para encontrar nombres de países a partir de sus coordenadas https://github.com/thampiman/reverse-geocoder\n",
    "* en algunos casos donde el código rompe por algun motivo, oculte el output para no hacer largo el notebook. Podes verlo presionando el boton Output arriba a la derecha de cada celda\n",
    "* Este notebook no fue realizado por un experto. Seguramente haya mejores maneras de afrontar las mismas problematicas. Quedo atento a cualquier comentario o sugerencia "
   ]
  },
  {
   "cell_type": "markdown",
   "metadata": {
    "papermill": {
     "duration": 0.037988,
     "end_time": "2020-10-25T15:21:16.439895",
     "exception": false,
     "start_time": "2020-10-25T15:21:16.401907",
     "status": "completed"
    },
    "tags": []
   },
   "source": [
    "![The kaggle logo][1]\n",
    "[1]: https://cdn.forbes.com.mx/2015/03/Internet-XFiles-Mulder.jpg"
   ]
  },
  {
   "cell_type": "markdown",
   "metadata": {
    "papermill": {
     "duration": 0.037797,
     "end_time": "2020-10-25T15:21:16.516456",
     "exception": false,
     "start_time": "2020-10-25T15:21:16.478659",
     "status": "completed"
    },
    "tags": []
   },
   "source": [
    "**Importamos librerias que vamos a utilizar y cargamos los datos en un dataframe**"
   ]
  },
  {
   "cell_type": "code",
   "execution_count": 1,
   "metadata": {
    "_kg_hide-output": true,
    "collapsed": true,
    "execution": {
     "iopub.execute_input": "2020-10-25T15:21:16.596122Z",
     "iopub.status.busy": "2020-10-25T15:21:16.595635Z",
     "iopub.status.idle": "2020-10-25T15:21:48.787332Z",
     "shell.execute_reply": "2020-10-25T15:21:48.786583Z"
    },
    "papermill": {
     "duration": 32.233401,
     "end_time": "2020-10-25T15:21:48.787472",
     "exception": false,
     "start_time": "2020-10-25T15:21:16.554071",
     "status": "completed"
    },
    "tags": []
   },
   "outputs": [
    {
     "name": "stdout",
     "output_type": "stream",
     "text": [
      "Collecting funpymodeling\r\n",
      "  Downloading funpymodeling-0.1.7-py3-none-any.whl (6.4 kB)\r\n",
      "Requirement already satisfied: sklearn<0.1,>=0.0 in /opt/conda/lib/python3.7/site-packages (from funpymodeling) (0.0)\r\n",
      "Collecting seaborn<0.11.0,>=0.10.1\r\n",
      "  Downloading seaborn-0.10.1-py3-none-any.whl (215 kB)\r\n",
      "\u001b[K     |████████████████████████████████| 215 kB 491 kB/s \r\n",
      "\u001b[?25hRequirement already satisfied: typing-extensions<4.0.0,>=3.7.4; python_version < \"3.8\" in /opt/conda/lib/python3.7/site-packages (from funpymodeling) (3.7.4.1)\r\n",
      "Requirement already satisfied: numpy<2.0.0,>=1.18.5 in /opt/conda/lib/python3.7/site-packages (from funpymodeling) (1.18.5)\r\n",
      "Requirement already satisfied: pandas<2.0.0,>=1.0.5 in /opt/conda/lib/python3.7/site-packages (from funpymodeling) (1.1.3)\r\n",
      "Collecting matplotlib<4.0.0,>=3.2.2\r\n",
      "  Downloading matplotlib-3.3.2-cp37-cp37m-manylinux1_x86_64.whl (11.6 MB)\r\n",
      "\u001b[K     |████████████████████████████████| 11.6 MB 7.3 MB/s \r\n",
      "\u001b[?25hRequirement already satisfied: scikit-learn in /opt/conda/lib/python3.7/site-packages (from sklearn<0.1,>=0.0->funpymodeling) (0.23.2)\r\n",
      "Requirement already satisfied: scipy>=1.0.1 in /opt/conda/lib/python3.7/site-packages (from seaborn<0.11.0,>=0.10.1->funpymodeling) (1.4.1)\r\n",
      "Requirement already satisfied: pytz>=2017.2 in /opt/conda/lib/python3.7/site-packages (from pandas<2.0.0,>=1.0.5->funpymodeling) (2019.3)\r\n",
      "Requirement already satisfied: python-dateutil>=2.7.3 in /opt/conda/lib/python3.7/site-packages (from pandas<2.0.0,>=1.0.5->funpymodeling) (2.8.1)\r\n",
      "Requirement already satisfied: pyparsing!=2.0.4,!=2.1.2,!=2.1.6,>=2.0.3 in /opt/conda/lib/python3.7/site-packages (from matplotlib<4.0.0,>=3.2.2->funpymodeling) (2.4.7)\r\n",
      "Requirement already satisfied: certifi>=2020.06.20 in /opt/conda/lib/python3.7/site-packages (from matplotlib<4.0.0,>=3.2.2->funpymodeling) (2020.6.20)\r\n",
      "Requirement already satisfied: pillow>=6.2.0 in /opt/conda/lib/python3.7/site-packages (from matplotlib<4.0.0,>=3.2.2->funpymodeling) (7.2.0)\r\n",
      "Requirement already satisfied: kiwisolver>=1.0.1 in /opt/conda/lib/python3.7/site-packages (from matplotlib<4.0.0,>=3.2.2->funpymodeling) (1.2.0)\r\n",
      "Requirement already satisfied: cycler>=0.10 in /opt/conda/lib/python3.7/site-packages (from matplotlib<4.0.0,>=3.2.2->funpymodeling) (0.10.0)\r\n",
      "Requirement already satisfied: threadpoolctl>=2.0.0 in /opt/conda/lib/python3.7/site-packages (from scikit-learn->sklearn<0.1,>=0.0->funpymodeling) (2.1.0)\r\n",
      "Requirement already satisfied: joblib>=0.11 in /opt/conda/lib/python3.7/site-packages (from scikit-learn->sklearn<0.1,>=0.0->funpymodeling) (0.14.1)\r\n",
      "Requirement already satisfied: six>=1.5 in /opt/conda/lib/python3.7/site-packages (from python-dateutil>=2.7.3->pandas<2.0.0,>=1.0.5->funpymodeling) (1.14.0)\r\n",
      "Installing collected packages: matplotlib, seaborn, funpymodeling\r\n",
      "  Attempting uninstall: matplotlib\r\n",
      "    Found existing installation: matplotlib 3.2.1\r\n",
      "    Uninstalling matplotlib-3.2.1:\r\n",
      "      Successfully uninstalled matplotlib-3.2.1\r\n",
      "  Attempting uninstall: seaborn\r\n",
      "    Found existing installation: seaborn 0.10.0\r\n",
      "    Uninstalling seaborn-0.10.0:\r\n",
      "      Successfully uninstalled seaborn-0.10.0\r\n",
      "Successfully installed funpymodeling-0.1.7 matplotlib-3.3.2 seaborn-0.10.1\r\n",
      "\u001b[33mWARNING: You are using pip version 20.2.3; however, version 20.2.4 is available.\r\n",
      "You should consider upgrading via the '/opt/conda/bin/python -m pip install --upgrade pip' command.\u001b[0m\r\n",
      "Note: you may need to restart the kernel to use updated packages.\n"
     ]
    }
   ],
   "source": [
    "pip install funpymodeling"
   ]
  },
  {
   "cell_type": "code",
   "execution_count": 2,
   "metadata": {
    "_kg_hide-output": true,
    "collapsed": true,
    "execution": {
     "iopub.execute_input": "2020-10-25T15:21:48.938347Z",
     "iopub.status.busy": "2020-10-25T15:21:48.937837Z",
     "iopub.status.idle": "2020-10-25T15:21:57.808343Z",
     "shell.execute_reply": "2020-10-25T15:21:57.808750Z"
    },
    "papermill": {
     "duration": 8.935485,
     "end_time": "2020-10-25T15:21:57.808854",
     "exception": false,
     "start_time": "2020-10-25T15:21:48.873369",
     "status": "completed"
    },
    "tags": []
   },
   "outputs": [
    {
     "name": "stdout",
     "output_type": "stream",
     "text": [
      "Collecting reverse_geocoder\r\n",
      "  Downloading reverse_geocoder-1.5.1.tar.gz (2.2 MB)\r\n",
      "\u001b[K     |████████████████████████████████| 2.2 MB 402 kB/s \r\n",
      "\u001b[?25hRequirement already satisfied: numpy>=1.11.0 in /opt/conda/lib/python3.7/site-packages (from reverse_geocoder) (1.18.5)\r\n",
      "Requirement already satisfied: scipy>=0.17.1 in /opt/conda/lib/python3.7/site-packages (from reverse_geocoder) (1.4.1)\r\n",
      "Building wheels for collected packages: reverse-geocoder\r\n",
      "  Building wheel for reverse-geocoder (setup.py) ... \u001b[?25l-\b \b\\\b \bdone\r\n",
      "\u001b[?25h  Created wheel for reverse-geocoder: filename=reverse_geocoder-1.5.1-py3-none-any.whl size=2268088 sha256=bb47e259c0034c2e592484ab027c33f2da480de0cd3366de17bc7e0bf0e45eb8\r\n",
      "  Stored in directory: /root/.cache/pip/wheels/34/6e/70/5423639428a2cac8ea7eb467214a4254b549b381f306a9c790\r\n",
      "Successfully built reverse-geocoder\r\n",
      "Installing collected packages: reverse-geocoder\r\n",
      "Successfully installed reverse-geocoder-1.5.1\r\n",
      "\u001b[33mWARNING: You are using pip version 20.2.3; however, version 20.2.4 is available.\r\n",
      "You should consider upgrading via the '/opt/conda/bin/python -m pip install --upgrade pip' command.\u001b[0m\r\n",
      "Note: you may need to restart the kernel to use updated packages.\n"
     ]
    }
   ],
   "source": [
    "pip install reverse_geocoder"
   ]
  },
  {
   "cell_type": "code",
   "execution_count": 3,
   "metadata": {
    "execution": {
     "iopub.execute_input": "2020-10-25T15:21:57.967557Z",
     "iopub.status.busy": "2020-10-25T15:21:57.967064Z",
     "iopub.status.idle": "2020-10-25T15:21:59.643853Z",
     "shell.execute_reply": "2020-10-25T15:21:59.643341Z"
    },
    "papermill": {
     "duration": 1.746206,
     "end_time": "2020-10-25T15:21:59.643955",
     "exception": false,
     "start_time": "2020-10-25T15:21:57.897749",
     "status": "completed"
    },
    "tags": []
   },
   "outputs": [],
   "source": [
    "import pandas as pd\n",
    "from funpymodeling.exploratory import freq_tbl, status, profiling_num, cat_vars, num_vars\n",
    "from pandas_profiling import ProfileReport\n",
    "import reverse_geocoder as rg"
   ]
  },
  {
   "cell_type": "code",
   "execution_count": 4,
   "metadata": {
    "_kg_hide-output": true,
    "execution": {
     "iopub.execute_input": "2020-10-25T15:21:59.844362Z",
     "iopub.status.busy": "2020-10-25T15:21:59.843757Z",
     "iopub.status.idle": "2020-10-25T15:22:00.918179Z",
     "shell.execute_reply": "2020-10-25T15:22:00.917524Z"
    },
    "papermill": {
     "duration": 1.177386,
     "end_time": "2020-10-25T15:22:00.918323",
     "exception": false,
     "start_time": "2020-10-25T15:21:59.740937",
     "status": "completed"
    },
    "tags": []
   },
   "outputs": [
    {
     "name": "stderr",
     "output_type": "stream",
     "text": [
      "/opt/conda/lib/python3.7/site-packages/IPython/core/interactiveshell.py:3063: DtypeWarning: Columns (5,9) have mixed types.Specify dtype option on import or set low_memory=False.\n",
      "  interactivity=interactivity, compiler=compiler, result=result)\n"
     ]
    }
   ],
   "source": [
    "# Cargamos los datos\n",
    "data = pd.read_csv(\"../input/ufo-sightings/scrubbed.csv\", sep=\",\")"
   ]
  },
  {
   "cell_type": "markdown",
   "metadata": {
    "papermill": {
     "duration": 0.097241,
     "end_time": "2020-10-25T15:22:01.113923",
     "exception": false,
     "start_time": "2020-10-25T15:22:01.016682",
     "status": "completed"
    },
    "tags": []
   },
   "source": [
    "# **Análisis inicial**"
   ]
  },
  {
   "cell_type": "markdown",
   "metadata": {
    "papermill": {
     "duration": 0.09768,
     "end_time": "2020-10-25T15:22:01.309134",
     "exception": false,
     "start_time": "2020-10-25T15:22:01.211454",
     "status": "completed"
    },
    "tags": []
   },
   "source": [
    "Variables de los datos\n",
    "* datetime: fecha y hora del avistamiento\n",
    "* country: país\n",
    "* state: estado/provincia/region\n",
    "* city: ciudad\n",
    "* shape: forma del ovni\n",
    "* duration(seconds): duración en segundos del avistamiento\n",
    "* duration (hours/min): duración en horas y minutos del avistamiento\n",
    "* comments: descripción \n",
    "* datePosted: fecha en que fue cargado el registro\n",
    "* latitude & longitude: coordenadas geográficas"
   ]
  },
  {
   "cell_type": "code",
   "execution_count": 5,
   "metadata": {
    "execution": {
     "iopub.execute_input": "2020-10-25T15:22:01.535508Z",
     "iopub.status.busy": "2020-10-25T15:22:01.534909Z",
     "iopub.status.idle": "2020-10-25T15:22:01.701176Z",
     "shell.execute_reply": "2020-10-25T15:22:01.701688Z"
    },
    "papermill": {
     "duration": 0.294778,
     "end_time": "2020-10-25T15:22:01.701827",
     "exception": false,
     "start_time": "2020-10-25T15:22:01.407049",
     "status": "completed"
    },
    "tags": []
   },
   "outputs": [
    {
     "data": {
      "text/html": [
       "<div>\n",
       "<style scoped>\n",
       "    .dataframe tbody tr th:only-of-type {\n",
       "        vertical-align: middle;\n",
       "    }\n",
       "\n",
       "    .dataframe tbody tr th {\n",
       "        vertical-align: top;\n",
       "    }\n",
       "\n",
       "    .dataframe thead th {\n",
       "        text-align: right;\n",
       "    }\n",
       "</style>\n",
       "<table border=\"1\" class=\"dataframe\">\n",
       "  <thead>\n",
       "    <tr style=\"text-align: right;\">\n",
       "      <th></th>\n",
       "      <th>variable</th>\n",
       "      <th>q_nan</th>\n",
       "      <th>p_nan</th>\n",
       "      <th>q_zeros</th>\n",
       "      <th>p_zeros</th>\n",
       "      <th>unique</th>\n",
       "      <th>type</th>\n",
       "    </tr>\n",
       "  </thead>\n",
       "  <tbody>\n",
       "    <tr>\n",
       "      <th>0</th>\n",
       "      <td>datetime</td>\n",
       "      <td>0</td>\n",
       "      <td>0.000000</td>\n",
       "      <td>0</td>\n",
       "      <td>0.0</td>\n",
       "      <td>69586</td>\n",
       "      <td>object</td>\n",
       "    </tr>\n",
       "    <tr>\n",
       "      <th>1</th>\n",
       "      <td>city</td>\n",
       "      <td>0</td>\n",
       "      <td>0.000000</td>\n",
       "      <td>0</td>\n",
       "      <td>0.0</td>\n",
       "      <td>19900</td>\n",
       "      <td>object</td>\n",
       "    </tr>\n",
       "    <tr>\n",
       "      <th>2</th>\n",
       "      <td>state</td>\n",
       "      <td>5797</td>\n",
       "      <td>0.072163</td>\n",
       "      <td>0</td>\n",
       "      <td>0.0</td>\n",
       "      <td>67</td>\n",
       "      <td>object</td>\n",
       "    </tr>\n",
       "    <tr>\n",
       "      <th>3</th>\n",
       "      <td>country</td>\n",
       "      <td>9670</td>\n",
       "      <td>0.120375</td>\n",
       "      <td>0</td>\n",
       "      <td>0.0</td>\n",
       "      <td>5</td>\n",
       "      <td>object</td>\n",
       "    </tr>\n",
       "    <tr>\n",
       "      <th>4</th>\n",
       "      <td>shape</td>\n",
       "      <td>1932</td>\n",
       "      <td>0.024050</td>\n",
       "      <td>0</td>\n",
       "      <td>0.0</td>\n",
       "      <td>29</td>\n",
       "      <td>object</td>\n",
       "    </tr>\n",
       "    <tr>\n",
       "      <th>5</th>\n",
       "      <td>duration (seconds)</td>\n",
       "      <td>0</td>\n",
       "      <td>0.000000</td>\n",
       "      <td>0</td>\n",
       "      <td>0.0</td>\n",
       "      <td>706</td>\n",
       "      <td>object</td>\n",
       "    </tr>\n",
       "    <tr>\n",
       "      <th>6</th>\n",
       "      <td>duration (hours/min)</td>\n",
       "      <td>0</td>\n",
       "      <td>0.000000</td>\n",
       "      <td>0</td>\n",
       "      <td>0.0</td>\n",
       "      <td>8349</td>\n",
       "      <td>object</td>\n",
       "    </tr>\n",
       "    <tr>\n",
       "      <th>7</th>\n",
       "      <td>comments</td>\n",
       "      <td>15</td>\n",
       "      <td>0.000187</td>\n",
       "      <td>0</td>\n",
       "      <td>0.0</td>\n",
       "      <td>79997</td>\n",
       "      <td>object</td>\n",
       "    </tr>\n",
       "    <tr>\n",
       "      <th>8</th>\n",
       "      <td>date posted</td>\n",
       "      <td>0</td>\n",
       "      <td>0.000000</td>\n",
       "      <td>0</td>\n",
       "      <td>0.0</td>\n",
       "      <td>317</td>\n",
       "      <td>object</td>\n",
       "    </tr>\n",
       "    <tr>\n",
       "      <th>9</th>\n",
       "      <td>latitude</td>\n",
       "      <td>0</td>\n",
       "      <td>0.000000</td>\n",
       "      <td>0</td>\n",
       "      <td>0.0</td>\n",
       "      <td>23312</td>\n",
       "      <td>object</td>\n",
       "    </tr>\n",
       "    <tr>\n",
       "      <th>10</th>\n",
       "      <td>longitude</td>\n",
       "      <td>0</td>\n",
       "      <td>0.000000</td>\n",
       "      <td>0</td>\n",
       "      <td>0.0</td>\n",
       "      <td>19455</td>\n",
       "      <td>float64</td>\n",
       "    </tr>\n",
       "  </tbody>\n",
       "</table>\n",
       "</div>"
      ],
      "text/plain": [
       "                variable  q_nan     p_nan  q_zeros  p_zeros  unique     type\n",
       "0               datetime      0  0.000000        0      0.0   69586   object\n",
       "1                   city      0  0.000000        0      0.0   19900   object\n",
       "2                  state   5797  0.072163        0      0.0      67   object\n",
       "3                country   9670  0.120375        0      0.0       5   object\n",
       "4                  shape   1932  0.024050        0      0.0      29   object\n",
       "5     duration (seconds)      0  0.000000        0      0.0     706   object\n",
       "6   duration (hours/min)      0  0.000000        0      0.0    8349   object\n",
       "7               comments     15  0.000187        0      0.0   79997   object\n",
       "8            date posted      0  0.000000        0      0.0     317   object\n",
       "9               latitude      0  0.000000        0      0.0   23312   object\n",
       "10            longitude       0  0.000000        0      0.0   19455  float64"
      ]
     },
     "execution_count": 5,
     "metadata": {},
     "output_type": "execute_result"
    }
   ],
   "source": [
    "status(data)"
   ]
  },
  {
   "cell_type": "markdown",
   "metadata": {
    "papermill": {
     "duration": 0.096619,
     "end_time": "2020-10-25T15:22:01.898631",
     "exception": false,
     "start_time": "2020-10-25T15:22:01.802012",
     "status": "completed"
    },
    "tags": []
   },
   "source": [
    "Con la función status de funpymodeling, verificamos el estado de salud de los datos\n",
    "* Tipos de datos: excepto por longitude, todos vienen en object.\n",
    "* Hay muchisimos nulos en country y shape. Esto a pesar de tener registrado por ejemplo el estado o ciudad\n",
    "* Tambien tenemos nulos en city, state, shape y comments.\n",
    "* Tenemos dos columnas que muestran el tiempo que duró el avistamiento. Nos quedaremos con la de segundos ya que tiene solo numeros, pero al final la transformaremos a minutos."
   ]
  },
  {
   "cell_type": "code",
   "execution_count": 6,
   "metadata": {
    "execution": {
     "iopub.execute_input": "2020-10-25T15:22:02.101646Z",
     "iopub.status.busy": "2020-10-25T15:22:02.101051Z",
     "iopub.status.idle": "2020-10-25T15:22:02.110449Z",
     "shell.execute_reply": "2020-10-25T15:22:02.109691Z"
    },
    "papermill": {
     "duration": 0.115396,
     "end_time": "2020-10-25T15:22:02.110630",
     "exception": false,
     "start_time": "2020-10-25T15:22:01.995234",
     "status": "completed"
    },
    "tags": []
   },
   "outputs": [
    {
     "data": {
      "text/html": [
       "<div>\n",
       "<style scoped>\n",
       "    .dataframe tbody tr th:only-of-type {\n",
       "        vertical-align: middle;\n",
       "    }\n",
       "\n",
       "    .dataframe tbody tr th {\n",
       "        vertical-align: top;\n",
       "    }\n",
       "\n",
       "    .dataframe thead th {\n",
       "        text-align: right;\n",
       "    }\n",
       "</style>\n",
       "<table border=\"1\" class=\"dataframe\">\n",
       "  <thead>\n",
       "    <tr style=\"text-align: right;\">\n",
       "      <th></th>\n",
       "      <th>datetime</th>\n",
       "      <th>city</th>\n",
       "      <th>state</th>\n",
       "      <th>country</th>\n",
       "      <th>shape</th>\n",
       "      <th>duration (seconds)</th>\n",
       "      <th>duration (hours/min)</th>\n",
       "      <th>comments</th>\n",
       "      <th>date posted</th>\n",
       "      <th>latitude</th>\n",
       "      <th>longitude</th>\n",
       "    </tr>\n",
       "  </thead>\n",
       "  <tbody>\n",
       "    <tr>\n",
       "      <th>0</th>\n",
       "      <td>10/10/1949 20:30</td>\n",
       "      <td>san marcos</td>\n",
       "      <td>tx</td>\n",
       "      <td>us</td>\n",
       "      <td>cylinder</td>\n",
       "      <td>2700</td>\n",
       "      <td>45 minutes</td>\n",
       "      <td>This event took place in early fall around 194...</td>\n",
       "      <td>4/27/2004</td>\n",
       "      <td>29.8830556</td>\n",
       "      <td>-97.941111</td>\n",
       "    </tr>\n",
       "    <tr>\n",
       "      <th>1</th>\n",
       "      <td>10/10/1949 21:00</td>\n",
       "      <td>lackland afb</td>\n",
       "      <td>tx</td>\n",
       "      <td>NaN</td>\n",
       "      <td>light</td>\n",
       "      <td>7200</td>\n",
       "      <td>1-2 hrs</td>\n",
       "      <td>1949 Lackland AFB&amp;#44 TX.  Lights racing acros...</td>\n",
       "      <td>12/16/2005</td>\n",
       "      <td>29.38421</td>\n",
       "      <td>-98.581082</td>\n",
       "    </tr>\n",
       "    <tr>\n",
       "      <th>2</th>\n",
       "      <td>10/10/1955 17:00</td>\n",
       "      <td>chester (uk/england)</td>\n",
       "      <td>NaN</td>\n",
       "      <td>gb</td>\n",
       "      <td>circle</td>\n",
       "      <td>20</td>\n",
       "      <td>20 seconds</td>\n",
       "      <td>Green/Orange circular disc over Chester&amp;#44 En...</td>\n",
       "      <td>1/21/2008</td>\n",
       "      <td>53.2</td>\n",
       "      <td>-2.916667</td>\n",
       "    </tr>\n",
       "    <tr>\n",
       "      <th>3</th>\n",
       "      <td>10/10/1956 21:00</td>\n",
       "      <td>edna</td>\n",
       "      <td>tx</td>\n",
       "      <td>us</td>\n",
       "      <td>circle</td>\n",
       "      <td>20</td>\n",
       "      <td>1/2 hour</td>\n",
       "      <td>My older brother and twin sister were leaving ...</td>\n",
       "      <td>1/17/2004</td>\n",
       "      <td>28.9783333</td>\n",
       "      <td>-96.645833</td>\n",
       "    </tr>\n",
       "    <tr>\n",
       "      <th>4</th>\n",
       "      <td>10/10/1960 20:00</td>\n",
       "      <td>kaneohe</td>\n",
       "      <td>hi</td>\n",
       "      <td>us</td>\n",
       "      <td>light</td>\n",
       "      <td>900</td>\n",
       "      <td>15 minutes</td>\n",
       "      <td>AS a Marine 1st Lt. flying an FJ4B fighter/att...</td>\n",
       "      <td>1/22/2004</td>\n",
       "      <td>21.4180556</td>\n",
       "      <td>-157.803611</td>\n",
       "    </tr>\n",
       "  </tbody>\n",
       "</table>\n",
       "</div>"
      ],
      "text/plain": [
       "           datetime                  city state country     shape  \\\n",
       "0  10/10/1949 20:30            san marcos    tx      us  cylinder   \n",
       "1  10/10/1949 21:00          lackland afb    tx     NaN     light   \n",
       "2  10/10/1955 17:00  chester (uk/england)   NaN      gb    circle   \n",
       "3  10/10/1956 21:00                  edna    tx      us    circle   \n",
       "4  10/10/1960 20:00               kaneohe    hi      us     light   \n",
       "\n",
       "  duration (seconds) duration (hours/min)  \\\n",
       "0               2700           45 minutes   \n",
       "1               7200              1-2 hrs   \n",
       "2                 20           20 seconds   \n",
       "3                 20             1/2 hour   \n",
       "4                900           15 minutes   \n",
       "\n",
       "                                            comments date posted    latitude  \\\n",
       "0  This event took place in early fall around 194...   4/27/2004  29.8830556   \n",
       "1  1949 Lackland AFB&#44 TX.  Lights racing acros...  12/16/2005    29.38421   \n",
       "2  Green/Orange circular disc over Chester&#44 En...   1/21/2008        53.2   \n",
       "3  My older brother and twin sister were leaving ...   1/17/2004  28.9783333   \n",
       "4  AS a Marine 1st Lt. flying an FJ4B fighter/att...   1/22/2004  21.4180556   \n",
       "\n",
       "   longitude   \n",
       "0  -97.941111  \n",
       "1  -98.581082  \n",
       "2   -2.916667  \n",
       "3  -96.645833  \n",
       "4 -157.803611  "
      ]
     },
     "execution_count": 6,
     "metadata": {},
     "output_type": "execute_result"
    }
   ],
   "source": [
    "# Veamos algunos datos\n",
    "data.head()"
   ]
  },
  {
   "cell_type": "markdown",
   "metadata": {
    "papermill": {
     "duration": 0.098933,
     "end_time": "2020-10-25T15:22:02.308550",
     "exception": false,
     "start_time": "2020-10-25T15:22:02.209617",
     "status": "completed"
    },
    "tags": []
   },
   "source": [
    "INDICE<br>\n",
    "<br>\n",
    "CONVERSIÓN DE TIPO DE DATOS<br>\n",
    "* 1° OBSERVACIÓN: 'DATETIME' TIENE COMO TIPO DE DATOS: OBJECT<br>\n",
    "* 2° OBSERVACIÓN. 'LATITUDE' TIENE COMO TIPO DE DATOS: OBJECT<br>\n",
    "* 3° OBSERVACIÓN. TENEMOS DOS COLUMNAS PARA EL TIEMPO DE AVISTAMIENTO. AMBAS FIGURAN COMO OBJECT<br>\n",
    "* 4° OBSERVACIÓN. DATE POSTED FIGURA COMO OBJECT<br>\n",
    "<br>\n",
    "TRATAMIENTO DE NULOS<br>\n",
    "* 5° OBSERVACIÓN: NULOS EN COUNTRY, STATE y CITY<br>\n",
    "* 6° OBSERVACIÓN: NULOS EN SHAPE Y COMMENTS<br>\n",
    "<br>\n",
    "OTRAS TRANSFORMACIONES<br>\n",
    "* 7° OBSERVACIÓN: CREAR NUEVA COLUMNA DE TIEMPO DE AVISTAMIENTO (MINUTOS)<br>\n",
    "<br>\n",
    "ULTIMOS PASOS<br>\n",
    "* (EDIT) 8° OBSERVACIÓN: ASIGNAR NOMBRE AMIGABLE A LOS PAISES<br>"
   ]
  },
  {
   "cell_type": "markdown",
   "metadata": {
    "papermill": {
     "duration": 0.099047,
     "end_time": "2020-10-25T15:22:02.506701",
     "exception": false,
     "start_time": "2020-10-25T15:22:02.407654",
     "status": "completed"
    },
    "tags": []
   },
   "source": [
    "ALGUNAS ACLARACIONES"
   ]
  },
  {
   "cell_type": "markdown",
   "metadata": {
    "papermill": {
     "duration": 0.099049,
     "end_time": "2020-10-25T15:22:02.704541",
     "exception": false,
     "start_time": "2020-10-25T15:22:02.605492",
     "status": "completed"
    },
    "tags": []
   },
   "source": [
    "* No voy a estar reemplazando las variables originales, les asignare otro nombre y las eliminare al final cuando este seguro de que me quedo como quiero"
   ]
  },
  {
   "cell_type": "markdown",
   "metadata": {
    "papermill": {
     "duration": 0.097386,
     "end_time": "2020-10-25T15:22:02.901805",
     "exception": false,
     "start_time": "2020-10-25T15:22:02.804419",
     "status": "completed"
    },
    "tags": []
   },
   "source": [
    "****************************************************************************************"
   ]
  },
  {
   "cell_type": "markdown",
   "metadata": {
    "papermill": {
     "duration": 0.09715,
     "end_time": "2020-10-25T15:22:03.096782",
     "exception": false,
     "start_time": "2020-10-25T15:22:02.999632",
     "status": "completed"
    },
    "tags": []
   },
   "source": [
    "![The kaggle logo][2]\n",
    "[2]: https://i.ytimg.com/vi/FtyEo-8OWNA/hqdefault.jpg"
   ]
  },
  {
   "cell_type": "markdown",
   "metadata": {
    "papermill": {
     "duration": 0.098203,
     "end_time": "2020-10-25T15:22:03.293995",
     "exception": false,
     "start_time": "2020-10-25T15:22:03.195792",
     "status": "completed"
    },
    "tags": []
   },
   "source": [
    "# **CONVERSION DE TIPO DE DATOS**"
   ]
  },
  {
   "cell_type": "markdown",
   "metadata": {
    "papermill": {
     "duration": 0.098309,
     "end_time": "2020-10-25T15:22:03.490640",
     "exception": false,
     "start_time": "2020-10-25T15:22:03.392331",
     "status": "completed"
    },
    "tags": []
   },
   "source": [
    "#1° OBSERVACIÓN: 'DATETIME' TIENE COMO TIPO DE DATOS: OBJECT<br>\n",
    "<br>\n",
    "Enfoque: convertirlo a datetime64"
   ]
  },
  {
   "cell_type": "code",
   "execution_count": 7,
   "metadata": {
    "_kg_hide-output": true,
    "execution": {
     "iopub.execute_input": "2020-10-25T15:22:03.701120Z",
     "iopub.status.busy": "2020-10-25T15:22:03.696362Z",
     "iopub.status.idle": "2020-10-25T15:22:03.867235Z",
     "shell.execute_reply": "2020-10-25T15:22:03.867985Z"
    },
    "papermill": {
     "duration": 0.278749,
     "end_time": "2020-10-25T15:22:03.868118",
     "exception": false,
     "start_time": "2020-10-25T15:22:03.589369",
     "status": "completed"
    },
    "tags": []
   },
   "outputs": [
    {
     "ename": "ParserError",
     "evalue": "hour must be in 0..23: 10/11/2006 24:00",
     "output_type": "error",
     "traceback": [
      "\u001b[0;31m---------------------------------------------------------------------------\u001b[0m",
      "\u001b[0;31mValueError\u001b[0m                                Traceback (most recent call last)",
      "\u001b[0;32m/opt/conda/lib/python3.7/site-packages/dateutil/parser/_parser.py\u001b[0m in \u001b[0;36mparse\u001b[0;34m(self, timestr, default, ignoretz, tzinfos, **kwargs)\u001b[0m\n\u001b[1;32m    654\u001b[0m         \u001b[0;32mtry\u001b[0m\u001b[0;34m:\u001b[0m\u001b[0;34m\u001b[0m\u001b[0;34m\u001b[0m\u001b[0m\n\u001b[0;32m--> 655\u001b[0;31m             \u001b[0mret\u001b[0m \u001b[0;34m=\u001b[0m \u001b[0mself\u001b[0m\u001b[0;34m.\u001b[0m\u001b[0m_build_naive\u001b[0m\u001b[0;34m(\u001b[0m\u001b[0mres\u001b[0m\u001b[0;34m,\u001b[0m \u001b[0mdefault\u001b[0m\u001b[0;34m)\u001b[0m\u001b[0;34m\u001b[0m\u001b[0;34m\u001b[0m\u001b[0m\n\u001b[0m\u001b[1;32m    656\u001b[0m         \u001b[0;32mexcept\u001b[0m \u001b[0mValueError\u001b[0m \u001b[0;32mas\u001b[0m \u001b[0me\u001b[0m\u001b[0;34m:\u001b[0m\u001b[0;34m\u001b[0m\u001b[0;34m\u001b[0m\u001b[0m\n",
      "\u001b[0;32m/opt/conda/lib/python3.7/site-packages/dateutil/parser/_parser.py\u001b[0m in \u001b[0;36m_build_naive\u001b[0;34m(self, res, default)\u001b[0m\n\u001b[1;32m   1240\u001b[0m \u001b[0;34m\u001b[0m\u001b[0m\n\u001b[0;32m-> 1241\u001b[0;31m         \u001b[0mnaive\u001b[0m \u001b[0;34m=\u001b[0m \u001b[0mdefault\u001b[0m\u001b[0;34m.\u001b[0m\u001b[0mreplace\u001b[0m\u001b[0;34m(\u001b[0m\u001b[0;34m**\u001b[0m\u001b[0mrepl\u001b[0m\u001b[0;34m)\u001b[0m\u001b[0;34m\u001b[0m\u001b[0;34m\u001b[0m\u001b[0m\n\u001b[0m\u001b[1;32m   1242\u001b[0m \u001b[0;34m\u001b[0m\u001b[0m\n",
      "\u001b[0;31mValueError\u001b[0m: hour must be in 0..23",
      "\nThe above exception was the direct cause of the following exception:\n",
      "\u001b[0;31mParserError\u001b[0m                               Traceback (most recent call last)",
      "\u001b[0;32mpandas/_libs/tslib.pyx\u001b[0m in \u001b[0;36mpandas._libs.tslib.array_to_datetime\u001b[0;34m()\u001b[0m\n",
      "\u001b[0;32mpandas/_libs/tslibs/parsing.pyx\u001b[0m in \u001b[0;36mpandas._libs.tslibs.parsing.parse_datetime_string\u001b[0;34m()\u001b[0m\n",
      "\u001b[0;32m/opt/conda/lib/python3.7/site-packages/dateutil/parser/_parser.py\u001b[0m in \u001b[0;36mparse\u001b[0;34m(timestr, parserinfo, **kwargs)\u001b[0m\n\u001b[1;32m   1373\u001b[0m     \u001b[0;32melse\u001b[0m\u001b[0;34m:\u001b[0m\u001b[0;34m\u001b[0m\u001b[0;34m\u001b[0m\u001b[0m\n\u001b[0;32m-> 1374\u001b[0;31m         \u001b[0;32mreturn\u001b[0m \u001b[0mDEFAULTPARSER\u001b[0m\u001b[0;34m.\u001b[0m\u001b[0mparse\u001b[0m\u001b[0;34m(\u001b[0m\u001b[0mtimestr\u001b[0m\u001b[0;34m,\u001b[0m \u001b[0;34m**\u001b[0m\u001b[0mkwargs\u001b[0m\u001b[0;34m)\u001b[0m\u001b[0;34m\u001b[0m\u001b[0;34m\u001b[0m\u001b[0m\n\u001b[0m\u001b[1;32m   1375\u001b[0m \u001b[0;34m\u001b[0m\u001b[0m\n",
      "\u001b[0;32m/opt/conda/lib/python3.7/site-packages/dateutil/parser/_parser.py\u001b[0m in \u001b[0;36mparse\u001b[0;34m(self, timestr, default, ignoretz, tzinfos, **kwargs)\u001b[0m\n\u001b[1;32m    656\u001b[0m         \u001b[0;32mexcept\u001b[0m \u001b[0mValueError\u001b[0m \u001b[0;32mas\u001b[0m \u001b[0me\u001b[0m\u001b[0;34m:\u001b[0m\u001b[0;34m\u001b[0m\u001b[0;34m\u001b[0m\u001b[0m\n\u001b[0;32m--> 657\u001b[0;31m             \u001b[0msix\u001b[0m\u001b[0;34m.\u001b[0m\u001b[0mraise_from\u001b[0m\u001b[0;34m(\u001b[0m\u001b[0mParserError\u001b[0m\u001b[0;34m(\u001b[0m\u001b[0me\u001b[0m\u001b[0;34m.\u001b[0m\u001b[0margs\u001b[0m\u001b[0;34m[\u001b[0m\u001b[0;36m0\u001b[0m\u001b[0;34m]\u001b[0m \u001b[0;34m+\u001b[0m \u001b[0;34m\": %s\"\u001b[0m\u001b[0;34m,\u001b[0m \u001b[0mtimestr\u001b[0m\u001b[0;34m)\u001b[0m\u001b[0;34m,\u001b[0m \u001b[0me\u001b[0m\u001b[0;34m)\u001b[0m\u001b[0;34m\u001b[0m\u001b[0;34m\u001b[0m\u001b[0m\n\u001b[0m\u001b[1;32m    658\u001b[0m \u001b[0;34m\u001b[0m\u001b[0m\n",
      "\u001b[0;32m/opt/conda/lib/python3.7/site-packages/six.py\u001b[0m in \u001b[0;36mraise_from\u001b[0;34m(value, from_value)\u001b[0m\n",
      "\u001b[0;31mParserError\u001b[0m: hour must be in 0..23: 10/11/2006 24:00",
      "\nDuring handling of the above exception, another exception occurred:\n",
      "\u001b[0;31mTypeError\u001b[0m                                 Traceback (most recent call last)",
      "\u001b[0;32mpandas/_libs/tslib.pyx\u001b[0m in \u001b[0;36mpandas._libs.tslib.array_to_datetime\u001b[0;34m()\u001b[0m\n",
      "\u001b[0;31mTypeError\u001b[0m: invalid string coercion to datetime",
      "\nDuring handling of the above exception, another exception occurred:\n",
      "\u001b[0;31mValueError\u001b[0m                                Traceback (most recent call last)",
      "\u001b[0;32m/opt/conda/lib/python3.7/site-packages/dateutil/parser/_parser.py\u001b[0m in \u001b[0;36mparse\u001b[0;34m(self, timestr, default, ignoretz, tzinfos, **kwargs)\u001b[0m\n\u001b[1;32m    654\u001b[0m         \u001b[0;32mtry\u001b[0m\u001b[0;34m:\u001b[0m\u001b[0;34m\u001b[0m\u001b[0;34m\u001b[0m\u001b[0m\n\u001b[0;32m--> 655\u001b[0;31m             \u001b[0mret\u001b[0m \u001b[0;34m=\u001b[0m \u001b[0mself\u001b[0m\u001b[0;34m.\u001b[0m\u001b[0m_build_naive\u001b[0m\u001b[0;34m(\u001b[0m\u001b[0mres\u001b[0m\u001b[0;34m,\u001b[0m \u001b[0mdefault\u001b[0m\u001b[0;34m)\u001b[0m\u001b[0;34m\u001b[0m\u001b[0;34m\u001b[0m\u001b[0m\n\u001b[0m\u001b[1;32m    656\u001b[0m         \u001b[0;32mexcept\u001b[0m \u001b[0mValueError\u001b[0m \u001b[0;32mas\u001b[0m \u001b[0me\u001b[0m\u001b[0;34m:\u001b[0m\u001b[0;34m\u001b[0m\u001b[0;34m\u001b[0m\u001b[0m\n",
      "\u001b[0;32m/opt/conda/lib/python3.7/site-packages/dateutil/parser/_parser.py\u001b[0m in \u001b[0;36m_build_naive\u001b[0;34m(self, res, default)\u001b[0m\n\u001b[1;32m   1240\u001b[0m \u001b[0;34m\u001b[0m\u001b[0m\n\u001b[0;32m-> 1241\u001b[0;31m         \u001b[0mnaive\u001b[0m \u001b[0;34m=\u001b[0m \u001b[0mdefault\u001b[0m\u001b[0;34m.\u001b[0m\u001b[0mreplace\u001b[0m\u001b[0;34m(\u001b[0m\u001b[0;34m**\u001b[0m\u001b[0mrepl\u001b[0m\u001b[0;34m)\u001b[0m\u001b[0;34m\u001b[0m\u001b[0;34m\u001b[0m\u001b[0m\n\u001b[0m\u001b[1;32m   1242\u001b[0m \u001b[0;34m\u001b[0m\u001b[0m\n",
      "\u001b[0;31mValueError\u001b[0m: hour must be in 0..23",
      "\nThe above exception was the direct cause of the following exception:\n",
      "\u001b[0;31mParserError\u001b[0m                               Traceback (most recent call last)",
      "\u001b[0;32m<ipython-input-7-5817b0cd9a1e>\u001b[0m in \u001b[0;36m<module>\u001b[0;34m\u001b[0m\n\u001b[0;32m----> 1\u001b[0;31m \u001b[0mdata\u001b[0m\u001b[0;34m[\u001b[0m\u001b[0;34m'datetime_dat'\u001b[0m\u001b[0;34m]\u001b[0m\u001b[0;34m=\u001b[0m\u001b[0mdata\u001b[0m\u001b[0;34m[\u001b[0m\u001b[0;34m'datetime'\u001b[0m\u001b[0;34m]\u001b[0m\u001b[0;34m.\u001b[0m\u001b[0mastype\u001b[0m\u001b[0;34m(\u001b[0m\u001b[0;34m'datetime64'\u001b[0m\u001b[0;34m)\u001b[0m\u001b[0;34m\u001b[0m\u001b[0;34m\u001b[0m\u001b[0m\n\u001b[0m\u001b[1;32m      2\u001b[0m \u001b[0;31m# No permite hacer la conversion porque aparentemente algunas fechas tienen la hora como '24:00'\u001b[0m\u001b[0;34m\u001b[0m\u001b[0;34m\u001b[0m\u001b[0;34m\u001b[0m\u001b[0m\n\u001b[1;32m      3\u001b[0m \u001b[0;31m# Entonces vamos a reemplazarlo por '00:00'\u001b[0m\u001b[0;34m\u001b[0m\u001b[0;34m\u001b[0m\u001b[0;34m\u001b[0m\u001b[0m\n",
      "\u001b[0;32m/opt/conda/lib/python3.7/site-packages/pandas/core/generic.py\u001b[0m in \u001b[0;36mastype\u001b[0;34m(self, dtype, copy, errors)\u001b[0m\n\u001b[1;32m   5544\u001b[0m         \u001b[0;32melse\u001b[0m\u001b[0;34m:\u001b[0m\u001b[0;34m\u001b[0m\u001b[0;34m\u001b[0m\u001b[0m\n\u001b[1;32m   5545\u001b[0m             \u001b[0;31m# else, only a single dtype is given\u001b[0m\u001b[0;34m\u001b[0m\u001b[0;34m\u001b[0m\u001b[0;34m\u001b[0m\u001b[0m\n\u001b[0;32m-> 5546\u001b[0;31m             \u001b[0mnew_data\u001b[0m \u001b[0;34m=\u001b[0m \u001b[0mself\u001b[0m\u001b[0;34m.\u001b[0m\u001b[0m_mgr\u001b[0m\u001b[0;34m.\u001b[0m\u001b[0mastype\u001b[0m\u001b[0;34m(\u001b[0m\u001b[0mdtype\u001b[0m\u001b[0;34m=\u001b[0m\u001b[0mdtype\u001b[0m\u001b[0;34m,\u001b[0m \u001b[0mcopy\u001b[0m\u001b[0;34m=\u001b[0m\u001b[0mcopy\u001b[0m\u001b[0;34m,\u001b[0m \u001b[0merrors\u001b[0m\u001b[0;34m=\u001b[0m\u001b[0merrors\u001b[0m\u001b[0;34m,\u001b[0m\u001b[0;34m)\u001b[0m\u001b[0;34m\u001b[0m\u001b[0;34m\u001b[0m\u001b[0m\n\u001b[0m\u001b[1;32m   5547\u001b[0m             \u001b[0;32mreturn\u001b[0m \u001b[0mself\u001b[0m\u001b[0;34m.\u001b[0m\u001b[0m_constructor\u001b[0m\u001b[0;34m(\u001b[0m\u001b[0mnew_data\u001b[0m\u001b[0;34m)\u001b[0m\u001b[0;34m.\u001b[0m\u001b[0m__finalize__\u001b[0m\u001b[0;34m(\u001b[0m\u001b[0mself\u001b[0m\u001b[0;34m,\u001b[0m \u001b[0mmethod\u001b[0m\u001b[0;34m=\u001b[0m\u001b[0;34m\"astype\"\u001b[0m\u001b[0;34m)\u001b[0m\u001b[0;34m\u001b[0m\u001b[0;34m\u001b[0m\u001b[0m\n\u001b[1;32m   5548\u001b[0m \u001b[0;34m\u001b[0m\u001b[0m\n",
      "\u001b[0;32m/opt/conda/lib/python3.7/site-packages/pandas/core/internals/managers.py\u001b[0m in \u001b[0;36mastype\u001b[0;34m(self, dtype, copy, errors)\u001b[0m\n\u001b[1;32m    593\u001b[0m         \u001b[0mself\u001b[0m\u001b[0;34m,\u001b[0m \u001b[0mdtype\u001b[0m\u001b[0;34m,\u001b[0m \u001b[0mcopy\u001b[0m\u001b[0;34m:\u001b[0m \u001b[0mbool\u001b[0m \u001b[0;34m=\u001b[0m \u001b[0;32mFalse\u001b[0m\u001b[0;34m,\u001b[0m \u001b[0merrors\u001b[0m\u001b[0;34m:\u001b[0m \u001b[0mstr\u001b[0m \u001b[0;34m=\u001b[0m \u001b[0;34m\"raise\"\u001b[0m\u001b[0;34m\u001b[0m\u001b[0;34m\u001b[0m\u001b[0m\n\u001b[1;32m    594\u001b[0m     ) -> \"BlockManager\":\n\u001b[0;32m--> 595\u001b[0;31m         \u001b[0;32mreturn\u001b[0m \u001b[0mself\u001b[0m\u001b[0;34m.\u001b[0m\u001b[0mapply\u001b[0m\u001b[0;34m(\u001b[0m\u001b[0;34m\"astype\"\u001b[0m\u001b[0;34m,\u001b[0m \u001b[0mdtype\u001b[0m\u001b[0;34m=\u001b[0m\u001b[0mdtype\u001b[0m\u001b[0;34m,\u001b[0m \u001b[0mcopy\u001b[0m\u001b[0;34m=\u001b[0m\u001b[0mcopy\u001b[0m\u001b[0;34m,\u001b[0m \u001b[0merrors\u001b[0m\u001b[0;34m=\u001b[0m\u001b[0merrors\u001b[0m\u001b[0;34m)\u001b[0m\u001b[0;34m\u001b[0m\u001b[0;34m\u001b[0m\u001b[0m\n\u001b[0m\u001b[1;32m    596\u001b[0m \u001b[0;34m\u001b[0m\u001b[0m\n\u001b[1;32m    597\u001b[0m     def convert(\n",
      "\u001b[0;32m/opt/conda/lib/python3.7/site-packages/pandas/core/internals/managers.py\u001b[0m in \u001b[0;36mapply\u001b[0;34m(self, f, align_keys, **kwargs)\u001b[0m\n\u001b[1;32m    404\u001b[0m                 \u001b[0mapplied\u001b[0m \u001b[0;34m=\u001b[0m \u001b[0mb\u001b[0m\u001b[0;34m.\u001b[0m\u001b[0mapply\u001b[0m\u001b[0;34m(\u001b[0m\u001b[0mf\u001b[0m\u001b[0;34m,\u001b[0m \u001b[0;34m**\u001b[0m\u001b[0mkwargs\u001b[0m\u001b[0;34m)\u001b[0m\u001b[0;34m\u001b[0m\u001b[0;34m\u001b[0m\u001b[0m\n\u001b[1;32m    405\u001b[0m             \u001b[0;32melse\u001b[0m\u001b[0;34m:\u001b[0m\u001b[0;34m\u001b[0m\u001b[0;34m\u001b[0m\u001b[0m\n\u001b[0;32m--> 406\u001b[0;31m                 \u001b[0mapplied\u001b[0m \u001b[0;34m=\u001b[0m \u001b[0mgetattr\u001b[0m\u001b[0;34m(\u001b[0m\u001b[0mb\u001b[0m\u001b[0;34m,\u001b[0m \u001b[0mf\u001b[0m\u001b[0;34m)\u001b[0m\u001b[0;34m(\u001b[0m\u001b[0;34m**\u001b[0m\u001b[0mkwargs\u001b[0m\u001b[0;34m)\u001b[0m\u001b[0;34m\u001b[0m\u001b[0;34m\u001b[0m\u001b[0m\n\u001b[0m\u001b[1;32m    407\u001b[0m             \u001b[0mresult_blocks\u001b[0m \u001b[0;34m=\u001b[0m \u001b[0m_extend_blocks\u001b[0m\u001b[0;34m(\u001b[0m\u001b[0mapplied\u001b[0m\u001b[0;34m,\u001b[0m \u001b[0mresult_blocks\u001b[0m\u001b[0;34m)\u001b[0m\u001b[0;34m\u001b[0m\u001b[0;34m\u001b[0m\u001b[0m\n\u001b[1;32m    408\u001b[0m \u001b[0;34m\u001b[0m\u001b[0m\n",
      "\u001b[0;32m/opt/conda/lib/python3.7/site-packages/pandas/core/internals/blocks.py\u001b[0m in \u001b[0;36mastype\u001b[0;34m(self, dtype, copy, errors)\u001b[0m\n\u001b[1;32m    593\u001b[0m             \u001b[0mvals1d\u001b[0m \u001b[0;34m=\u001b[0m \u001b[0mvalues\u001b[0m\u001b[0;34m.\u001b[0m\u001b[0mravel\u001b[0m\u001b[0;34m(\u001b[0m\u001b[0;34m)\u001b[0m\u001b[0;34m\u001b[0m\u001b[0;34m\u001b[0m\u001b[0m\n\u001b[1;32m    594\u001b[0m             \u001b[0;32mtry\u001b[0m\u001b[0;34m:\u001b[0m\u001b[0;34m\u001b[0m\u001b[0;34m\u001b[0m\u001b[0m\n\u001b[0;32m--> 595\u001b[0;31m                 \u001b[0mvalues\u001b[0m \u001b[0;34m=\u001b[0m \u001b[0mastype_nansafe\u001b[0m\u001b[0;34m(\u001b[0m\u001b[0mvals1d\u001b[0m\u001b[0;34m,\u001b[0m \u001b[0mdtype\u001b[0m\u001b[0;34m,\u001b[0m \u001b[0mcopy\u001b[0m\u001b[0;34m=\u001b[0m\u001b[0;32mTrue\u001b[0m\u001b[0;34m)\u001b[0m\u001b[0;34m\u001b[0m\u001b[0;34m\u001b[0m\u001b[0m\n\u001b[0m\u001b[1;32m    596\u001b[0m             \u001b[0;32mexcept\u001b[0m \u001b[0;34m(\u001b[0m\u001b[0mValueError\u001b[0m\u001b[0;34m,\u001b[0m \u001b[0mTypeError\u001b[0m\u001b[0;34m)\u001b[0m\u001b[0;34m:\u001b[0m\u001b[0;34m\u001b[0m\u001b[0;34m\u001b[0m\u001b[0m\n\u001b[1;32m    597\u001b[0m                 \u001b[0;31m# e.g. astype_nansafe can fail on object-dtype of strings\u001b[0m\u001b[0;34m\u001b[0m\u001b[0;34m\u001b[0m\u001b[0;34m\u001b[0m\u001b[0m\n",
      "\u001b[0;32m/opt/conda/lib/python3.7/site-packages/pandas/core/dtypes/cast.py\u001b[0m in \u001b[0;36mastype_nansafe\u001b[0;34m(arr, dtype, copy, skipna)\u001b[0m\n\u001b[1;32m    978\u001b[0m             \u001b[0;32mfrom\u001b[0m \u001b[0mpandas\u001b[0m \u001b[0;32mimport\u001b[0m \u001b[0mto_datetime\u001b[0m\u001b[0;34m\u001b[0m\u001b[0;34m\u001b[0m\u001b[0m\n\u001b[1;32m    979\u001b[0m \u001b[0;34m\u001b[0m\u001b[0m\n\u001b[0;32m--> 980\u001b[0;31m             \u001b[0;32mreturn\u001b[0m \u001b[0mastype_nansafe\u001b[0m\u001b[0;34m(\u001b[0m\u001b[0mto_datetime\u001b[0m\u001b[0;34m(\u001b[0m\u001b[0marr\u001b[0m\u001b[0;34m)\u001b[0m\u001b[0;34m.\u001b[0m\u001b[0mvalues\u001b[0m\u001b[0;34m,\u001b[0m \u001b[0mdtype\u001b[0m\u001b[0;34m,\u001b[0m \u001b[0mcopy\u001b[0m\u001b[0;34m=\u001b[0m\u001b[0mcopy\u001b[0m\u001b[0;34m)\u001b[0m\u001b[0;34m\u001b[0m\u001b[0;34m\u001b[0m\u001b[0m\n\u001b[0m\u001b[1;32m    981\u001b[0m         \u001b[0;32melif\u001b[0m \u001b[0mis_timedelta64_dtype\u001b[0m\u001b[0;34m(\u001b[0m\u001b[0mdtype\u001b[0m\u001b[0;34m)\u001b[0m\u001b[0;34m:\u001b[0m\u001b[0;34m\u001b[0m\u001b[0;34m\u001b[0m\u001b[0m\n\u001b[1;32m    982\u001b[0m             \u001b[0;32mfrom\u001b[0m \u001b[0mpandas\u001b[0m \u001b[0;32mimport\u001b[0m \u001b[0mto_timedelta\u001b[0m\u001b[0;34m\u001b[0m\u001b[0;34m\u001b[0m\u001b[0m\n",
      "\u001b[0;32m/opt/conda/lib/python3.7/site-packages/pandas/core/tools/datetimes.py\u001b[0m in \u001b[0;36mto_datetime\u001b[0;34m(arg, errors, dayfirst, yearfirst, utc, format, exact, unit, infer_datetime_format, origin, cache)\u001b[0m\n\u001b[1;32m    826\u001b[0m             \u001b[0mresult\u001b[0m \u001b[0;34m=\u001b[0m \u001b[0m_convert_and_box_cache\u001b[0m\u001b[0;34m(\u001b[0m\u001b[0marg\u001b[0m\u001b[0;34m,\u001b[0m \u001b[0mcache_array\u001b[0m\u001b[0;34m)\u001b[0m\u001b[0;34m\u001b[0m\u001b[0;34m\u001b[0m\u001b[0m\n\u001b[1;32m    827\u001b[0m         \u001b[0;32melse\u001b[0m\u001b[0;34m:\u001b[0m\u001b[0;34m\u001b[0m\u001b[0;34m\u001b[0m\u001b[0m\n\u001b[0;32m--> 828\u001b[0;31m             \u001b[0mresult\u001b[0m \u001b[0;34m=\u001b[0m \u001b[0mconvert_listlike\u001b[0m\u001b[0;34m(\u001b[0m\u001b[0marg\u001b[0m\u001b[0;34m,\u001b[0m \u001b[0mformat\u001b[0m\u001b[0;34m)\u001b[0m\u001b[0;34m\u001b[0m\u001b[0;34m\u001b[0m\u001b[0m\n\u001b[0m\u001b[1;32m    829\u001b[0m     \u001b[0;32melse\u001b[0m\u001b[0;34m:\u001b[0m\u001b[0;34m\u001b[0m\u001b[0;34m\u001b[0m\u001b[0m\n\u001b[1;32m    830\u001b[0m         \u001b[0mresult\u001b[0m \u001b[0;34m=\u001b[0m \u001b[0mconvert_listlike\u001b[0m\u001b[0;34m(\u001b[0m\u001b[0mnp\u001b[0m\u001b[0;34m.\u001b[0m\u001b[0marray\u001b[0m\u001b[0;34m(\u001b[0m\u001b[0;34m[\u001b[0m\u001b[0marg\u001b[0m\u001b[0;34m]\u001b[0m\u001b[0;34m)\u001b[0m\u001b[0;34m,\u001b[0m \u001b[0mformat\u001b[0m\u001b[0;34m)\u001b[0m\u001b[0;34m[\u001b[0m\u001b[0;36m0\u001b[0m\u001b[0;34m]\u001b[0m\u001b[0;34m\u001b[0m\u001b[0;34m\u001b[0m\u001b[0m\n",
      "\u001b[0;32m/opt/conda/lib/python3.7/site-packages/pandas/core/tools/datetimes.py\u001b[0m in \u001b[0;36m_convert_listlike_datetimes\u001b[0;34m(arg, format, name, tz, unit, errors, infer_datetime_format, dayfirst, yearfirst, exact)\u001b[0m\n\u001b[1;32m    464\u001b[0m             \u001b[0merrors\u001b[0m\u001b[0;34m=\u001b[0m\u001b[0merrors\u001b[0m\u001b[0;34m,\u001b[0m\u001b[0;34m\u001b[0m\u001b[0;34m\u001b[0m\u001b[0m\n\u001b[1;32m    465\u001b[0m             \u001b[0mrequire_iso8601\u001b[0m\u001b[0;34m=\u001b[0m\u001b[0mrequire_iso8601\u001b[0m\u001b[0;34m,\u001b[0m\u001b[0;34m\u001b[0m\u001b[0;34m\u001b[0m\u001b[0m\n\u001b[0;32m--> 466\u001b[0;31m             \u001b[0mallow_object\u001b[0m\u001b[0;34m=\u001b[0m\u001b[0;32mTrue\u001b[0m\u001b[0;34m,\u001b[0m\u001b[0;34m\u001b[0m\u001b[0;34m\u001b[0m\u001b[0m\n\u001b[0m\u001b[1;32m    467\u001b[0m         )\n\u001b[1;32m    468\u001b[0m \u001b[0;34m\u001b[0m\u001b[0m\n",
      "\u001b[0;32m/opt/conda/lib/python3.7/site-packages/pandas/core/arrays/datetimes.py\u001b[0m in \u001b[0;36mobjects_to_datetime64ns\u001b[0;34m(data, dayfirst, yearfirst, utc, errors, require_iso8601, allow_object)\u001b[0m\n\u001b[1;32m   2057\u001b[0m             \u001b[0;32mreturn\u001b[0m \u001b[0mvalues\u001b[0m\u001b[0;34m.\u001b[0m\u001b[0mview\u001b[0m\u001b[0;34m(\u001b[0m\u001b[0;34m\"i8\"\u001b[0m\u001b[0;34m)\u001b[0m\u001b[0;34m,\u001b[0m \u001b[0mtz_parsed\u001b[0m\u001b[0;34m\u001b[0m\u001b[0;34m\u001b[0m\u001b[0m\n\u001b[1;32m   2058\u001b[0m         \u001b[0;32mexcept\u001b[0m \u001b[0;34m(\u001b[0m\u001b[0mValueError\u001b[0m\u001b[0;34m,\u001b[0m \u001b[0mTypeError\u001b[0m\u001b[0;34m)\u001b[0m\u001b[0;34m:\u001b[0m\u001b[0;34m\u001b[0m\u001b[0;34m\u001b[0m\u001b[0m\n\u001b[0;32m-> 2059\u001b[0;31m             \u001b[0;32mraise\u001b[0m \u001b[0me\u001b[0m\u001b[0;34m\u001b[0m\u001b[0;34m\u001b[0m\u001b[0m\n\u001b[0m\u001b[1;32m   2060\u001b[0m \u001b[0;34m\u001b[0m\u001b[0m\n\u001b[1;32m   2061\u001b[0m     \u001b[0;32mif\u001b[0m \u001b[0mtz_parsed\u001b[0m \u001b[0;32mis\u001b[0m \u001b[0;32mnot\u001b[0m \u001b[0;32mNone\u001b[0m\u001b[0;34m:\u001b[0m\u001b[0;34m\u001b[0m\u001b[0;34m\u001b[0m\u001b[0m\n",
      "\u001b[0;32m/opt/conda/lib/python3.7/site-packages/pandas/core/arrays/datetimes.py\u001b[0m in \u001b[0;36mobjects_to_datetime64ns\u001b[0;34m(data, dayfirst, yearfirst, utc, errors, require_iso8601, allow_object)\u001b[0m\n\u001b[1;32m   2048\u001b[0m             \u001b[0mdayfirst\u001b[0m\u001b[0;34m=\u001b[0m\u001b[0mdayfirst\u001b[0m\u001b[0;34m,\u001b[0m\u001b[0;34m\u001b[0m\u001b[0;34m\u001b[0m\u001b[0m\n\u001b[1;32m   2049\u001b[0m             \u001b[0myearfirst\u001b[0m\u001b[0;34m=\u001b[0m\u001b[0myearfirst\u001b[0m\u001b[0;34m,\u001b[0m\u001b[0;34m\u001b[0m\u001b[0;34m\u001b[0m\u001b[0m\n\u001b[0;32m-> 2050\u001b[0;31m             \u001b[0mrequire_iso8601\u001b[0m\u001b[0;34m=\u001b[0m\u001b[0mrequire_iso8601\u001b[0m\u001b[0;34m,\u001b[0m\u001b[0;34m\u001b[0m\u001b[0;34m\u001b[0m\u001b[0m\n\u001b[0m\u001b[1;32m   2051\u001b[0m         )\n\u001b[1;32m   2052\u001b[0m     \u001b[0;32mexcept\u001b[0m \u001b[0mValueError\u001b[0m \u001b[0;32mas\u001b[0m \u001b[0me\u001b[0m\u001b[0;34m:\u001b[0m\u001b[0;34m\u001b[0m\u001b[0;34m\u001b[0m\u001b[0m\n",
      "\u001b[0;32mpandas/_libs/tslib.pyx\u001b[0m in \u001b[0;36mpandas._libs.tslib.array_to_datetime\u001b[0;34m()\u001b[0m\n",
      "\u001b[0;32mpandas/_libs/tslib.pyx\u001b[0m in \u001b[0;36mpandas._libs.tslib.array_to_datetime\u001b[0;34m()\u001b[0m\n",
      "\u001b[0;32mpandas/_libs/tslib.pyx\u001b[0m in \u001b[0;36mpandas._libs.tslib.array_to_datetime_object\u001b[0;34m()\u001b[0m\n",
      "\u001b[0;32mpandas/_libs/tslib.pyx\u001b[0m in \u001b[0;36mpandas._libs.tslib.array_to_datetime_object\u001b[0;34m()\u001b[0m\n",
      "\u001b[0;32mpandas/_libs/tslibs/parsing.pyx\u001b[0m in \u001b[0;36mpandas._libs.tslibs.parsing.parse_datetime_string\u001b[0;34m()\u001b[0m\n",
      "\u001b[0;32m/opt/conda/lib/python3.7/site-packages/dateutil/parser/_parser.py\u001b[0m in \u001b[0;36mparse\u001b[0;34m(timestr, parserinfo, **kwargs)\u001b[0m\n\u001b[1;32m   1372\u001b[0m         \u001b[0;32mreturn\u001b[0m \u001b[0mparser\u001b[0m\u001b[0;34m(\u001b[0m\u001b[0mparserinfo\u001b[0m\u001b[0;34m)\u001b[0m\u001b[0;34m.\u001b[0m\u001b[0mparse\u001b[0m\u001b[0;34m(\u001b[0m\u001b[0mtimestr\u001b[0m\u001b[0;34m,\u001b[0m \u001b[0;34m**\u001b[0m\u001b[0mkwargs\u001b[0m\u001b[0;34m)\u001b[0m\u001b[0;34m\u001b[0m\u001b[0;34m\u001b[0m\u001b[0m\n\u001b[1;32m   1373\u001b[0m     \u001b[0;32melse\u001b[0m\u001b[0;34m:\u001b[0m\u001b[0;34m\u001b[0m\u001b[0;34m\u001b[0m\u001b[0m\n\u001b[0;32m-> 1374\u001b[0;31m         \u001b[0;32mreturn\u001b[0m \u001b[0mDEFAULTPARSER\u001b[0m\u001b[0;34m.\u001b[0m\u001b[0mparse\u001b[0m\u001b[0;34m(\u001b[0m\u001b[0mtimestr\u001b[0m\u001b[0;34m,\u001b[0m \u001b[0;34m**\u001b[0m\u001b[0mkwargs\u001b[0m\u001b[0;34m)\u001b[0m\u001b[0;34m\u001b[0m\u001b[0;34m\u001b[0m\u001b[0m\n\u001b[0m\u001b[1;32m   1375\u001b[0m \u001b[0;34m\u001b[0m\u001b[0m\n\u001b[1;32m   1376\u001b[0m \u001b[0;34m\u001b[0m\u001b[0m\n",
      "\u001b[0;32m/opt/conda/lib/python3.7/site-packages/dateutil/parser/_parser.py\u001b[0m in \u001b[0;36mparse\u001b[0;34m(self, timestr, default, ignoretz, tzinfos, **kwargs)\u001b[0m\n\u001b[1;32m    655\u001b[0m             \u001b[0mret\u001b[0m \u001b[0;34m=\u001b[0m \u001b[0mself\u001b[0m\u001b[0;34m.\u001b[0m\u001b[0m_build_naive\u001b[0m\u001b[0;34m(\u001b[0m\u001b[0mres\u001b[0m\u001b[0;34m,\u001b[0m \u001b[0mdefault\u001b[0m\u001b[0;34m)\u001b[0m\u001b[0;34m\u001b[0m\u001b[0;34m\u001b[0m\u001b[0m\n\u001b[1;32m    656\u001b[0m         \u001b[0;32mexcept\u001b[0m \u001b[0mValueError\u001b[0m \u001b[0;32mas\u001b[0m \u001b[0me\u001b[0m\u001b[0;34m:\u001b[0m\u001b[0;34m\u001b[0m\u001b[0;34m\u001b[0m\u001b[0m\n\u001b[0;32m--> 657\u001b[0;31m             \u001b[0msix\u001b[0m\u001b[0;34m.\u001b[0m\u001b[0mraise_from\u001b[0m\u001b[0;34m(\u001b[0m\u001b[0mParserError\u001b[0m\u001b[0;34m(\u001b[0m\u001b[0me\u001b[0m\u001b[0;34m.\u001b[0m\u001b[0margs\u001b[0m\u001b[0;34m[\u001b[0m\u001b[0;36m0\u001b[0m\u001b[0;34m]\u001b[0m \u001b[0;34m+\u001b[0m \u001b[0;34m\": %s\"\u001b[0m\u001b[0;34m,\u001b[0m \u001b[0mtimestr\u001b[0m\u001b[0;34m)\u001b[0m\u001b[0;34m,\u001b[0m \u001b[0me\u001b[0m\u001b[0;34m)\u001b[0m\u001b[0;34m\u001b[0m\u001b[0;34m\u001b[0m\u001b[0m\n\u001b[0m\u001b[1;32m    658\u001b[0m \u001b[0;34m\u001b[0m\u001b[0m\n\u001b[1;32m    659\u001b[0m         \u001b[0;32mif\u001b[0m \u001b[0;32mnot\u001b[0m \u001b[0mignoretz\u001b[0m\u001b[0;34m:\u001b[0m\u001b[0;34m\u001b[0m\u001b[0;34m\u001b[0m\u001b[0m\n",
      "\u001b[0;32m/opt/conda/lib/python3.7/site-packages/six.py\u001b[0m in \u001b[0;36mraise_from\u001b[0;34m(value, from_value)\u001b[0m\n",
      "\u001b[0;31mParserError\u001b[0m: hour must be in 0..23: 10/11/2006 24:00"
     ]
    }
   ],
   "source": [
    "data['datetime_dat']=data['datetime'].astype('datetime64')\n",
    "# No permite hacer la conversion porque aparentemente algunas fechas tienen la hora como '24:00'\n",
    "# Entonces vamos a reemplazarlo por '00:00'\n"
   ]
  },
  {
   "cell_type": "code",
   "execution_count": 8,
   "metadata": {
    "execution": {
     "iopub.execute_input": "2020-10-25T15:22:04.091070Z",
     "iopub.status.busy": "2020-10-25T15:22:04.070890Z",
     "iopub.status.idle": "2020-10-25T15:22:04.117524Z",
     "shell.execute_reply": "2020-10-25T15:22:04.118014Z"
    },
    "papermill": {
     "duration": 0.151897,
     "end_time": "2020-10-25T15:22:04.118138",
     "exception": false,
     "start_time": "2020-10-25T15:22:03.966241",
     "status": "completed"
    },
    "tags": []
   },
   "outputs": [
    {
     "data": {
      "text/html": [
       "<div>\n",
       "<style scoped>\n",
       "    .dataframe tbody tr th:only-of-type {\n",
       "        vertical-align: middle;\n",
       "    }\n",
       "\n",
       "    .dataframe tbody tr th {\n",
       "        vertical-align: top;\n",
       "    }\n",
       "\n",
       "    .dataframe thead th {\n",
       "        text-align: right;\n",
       "    }\n",
       "</style>\n",
       "<table border=\"1\" class=\"dataframe\">\n",
       "  <thead>\n",
       "    <tr style=\"text-align: right;\">\n",
       "      <th></th>\n",
       "      <th>datetime</th>\n",
       "      <th>city</th>\n",
       "      <th>state</th>\n",
       "      <th>country</th>\n",
       "      <th>shape</th>\n",
       "      <th>duration (seconds)</th>\n",
       "      <th>duration (hours/min)</th>\n",
       "      <th>comments</th>\n",
       "      <th>date posted</th>\n",
       "      <th>latitude</th>\n",
       "      <th>longitude</th>\n",
       "    </tr>\n",
       "  </thead>\n",
       "  <tbody>\n",
       "    <tr>\n",
       "      <th>388</th>\n",
       "      <td>10/11/2006 24:00</td>\n",
       "      <td>rome</td>\n",
       "      <td>ny</td>\n",
       "      <td>us</td>\n",
       "      <td>oval</td>\n",
       "      <td>120</td>\n",
       "      <td>a min or two</td>\n",
       "      <td>I was walking from the garage to the house&amp;#44...</td>\n",
       "      <td>2/1/2007</td>\n",
       "      <td>43.2127778</td>\n",
       "      <td>-75.456111</td>\n",
       "    </tr>\n",
       "    <tr>\n",
       "      <th>693</th>\n",
       "      <td>10/1/2001 24:00</td>\n",
       "      <td>chulucanas-piura la vieja (peru)</td>\n",
       "      <td>NaN</td>\n",
       "      <td>NaN</td>\n",
       "      <td>other</td>\n",
       "      <td>6312000</td>\n",
       "      <td>2 years</td>\n",
       "      <td>go to:  http://www.24horas.com.pe/data/videos/...</td>\n",
       "      <td>3/4/2003</td>\n",
       "      <td>-5.129547</td>\n",
       "      <td>-80.120569</td>\n",
       "    </tr>\n",
       "    <tr>\n",
       "      <th>962</th>\n",
       "      <td>10/1/2012 24:00</td>\n",
       "      <td>novi</td>\n",
       "      <td>mi</td>\n",
       "      <td>us</td>\n",
       "      <td>triangle</td>\n",
       "      <td>300</td>\n",
       "      <td>5 minutes</td>\n",
       "      <td>V shaped and 8 big and very brite lights&amp;#44mo...</td>\n",
       "      <td>10/30/2012</td>\n",
       "      <td>42.4805556</td>\n",
       "      <td>-83.475556</td>\n",
       "    </tr>\n",
       "    <tr>\n",
       "      <th>1067</th>\n",
       "      <td>10/12/2003 24:00</td>\n",
       "      <td>salatiga (indonesia)</td>\n",
       "      <td>NaN</td>\n",
       "      <td>NaN</td>\n",
       "      <td>disk</td>\n",
       "      <td>22</td>\n",
       "      <td>22 seconds</td>\n",
       "      <td>UFO in Salatiga&amp;#44Indonesia</td>\n",
       "      <td>10/31/2003</td>\n",
       "      <td>-7.33683</td>\n",
       "      <td>110.498817</td>\n",
       "    </tr>\n",
       "    <tr>\n",
       "      <th>1221</th>\n",
       "      <td>10/12/2013 24:00</td>\n",
       "      <td>cincinnati</td>\n",
       "      <td>oh</td>\n",
       "      <td>us</td>\n",
       "      <td>fireball</td>\n",
       "      <td>300</td>\n",
       "      <td>3-5 minutes</td>\n",
       "      <td>A bright orange light split into four&amp;#44 did ...</td>\n",
       "      <td>10/14/2013</td>\n",
       "      <td>39.1619444</td>\n",
       "      <td>-84.456944</td>\n",
       "    </tr>\n",
       "    <tr>\n",
       "      <th>...</th>\n",
       "      <td>...</td>\n",
       "      <td>...</td>\n",
       "      <td>...</td>\n",
       "      <td>...</td>\n",
       "      <td>...</td>\n",
       "      <td>...</td>\n",
       "      <td>...</td>\n",
       "      <td>...</td>\n",
       "      <td>...</td>\n",
       "      <td>...</td>\n",
       "      <td>...</td>\n",
       "    </tr>\n",
       "    <tr>\n",
       "      <th>79136</th>\n",
       "      <td>9/4/2005 24:00</td>\n",
       "      <td>boonville</td>\n",
       "      <td>nc</td>\n",
       "      <td>us</td>\n",
       "      <td>cigar</td>\n",
       "      <td>10800</td>\n",
       "      <td>3+ hours</td>\n",
       "      <td>Unusual activity in our small community&amp;#44 cr...</td>\n",
       "      <td>9/9/2013</td>\n",
       "      <td>36.2325</td>\n",
       "      <td>-80.708333</td>\n",
       "    </tr>\n",
       "    <tr>\n",
       "      <th>79137</th>\n",
       "      <td>9/4/2005 24:00</td>\n",
       "      <td>redondo beach</td>\n",
       "      <td>ca</td>\n",
       "      <td>us</td>\n",
       "      <td>triangle</td>\n",
       "      <td>300</td>\n",
       "      <td>5 minutes</td>\n",
       "      <td>Triangulat UFO seen over Redondo Beach&amp;#44 Cal...</td>\n",
       "      <td>12/16/2005</td>\n",
       "      <td>33.8492</td>\n",
       "      <td>-118.387500</td>\n",
       "    </tr>\n",
       "    <tr>\n",
       "      <th>79740</th>\n",
       "      <td>9/7/2002 24:00</td>\n",
       "      <td>portsmouth</td>\n",
       "      <td>oh</td>\n",
       "      <td>us</td>\n",
       "      <td>changing</td>\n",
       "      <td>900</td>\n",
       "      <td>15 minutes</td>\n",
       "      <td>A bright red light hoovering in the sky.</td>\n",
       "      <td>9/13/2002</td>\n",
       "      <td>38.7317</td>\n",
       "      <td>-82.997778</td>\n",
       "    </tr>\n",
       "    <tr>\n",
       "      <th>79759</th>\n",
       "      <td>9/7/2004 24:00</td>\n",
       "      <td>montrose</td>\n",
       "      <td>co</td>\n",
       "      <td>us</td>\n",
       "      <td>unknown</td>\n",
       "      <td>1200</td>\n",
       "      <td>20 minutes</td>\n",
       "      <td>Stationary object with three pulsating lights ...</td>\n",
       "      <td>9/9/2004</td>\n",
       "      <td>38.4783</td>\n",
       "      <td>-107.875556</td>\n",
       "    </tr>\n",
       "    <tr>\n",
       "      <th>79942</th>\n",
       "      <td>9/8/2003 24:00</td>\n",
       "      <td>cedar rapids</td>\n",
       "      <td>ia</td>\n",
       "      <td>us</td>\n",
       "      <td>changing</td>\n",
       "      <td>900</td>\n",
       "      <td>15 min</td>\n",
       "      <td>WE SEEN IT</td>\n",
       "      <td>9/17/2003</td>\n",
       "      <td>42.0083</td>\n",
       "      <td>-91.643889</td>\n",
       "    </tr>\n",
       "  </tbody>\n",
       "</table>\n",
       "<p>694 rows × 11 columns</p>\n",
       "</div>"
      ],
      "text/plain": [
       "               datetime                              city state country  \\\n",
       "388    10/11/2006 24:00                              rome    ny      us   \n",
       "693     10/1/2001 24:00  chulucanas-piura la vieja (peru)   NaN     NaN   \n",
       "962     10/1/2012 24:00                              novi    mi      us   \n",
       "1067   10/12/2003 24:00              salatiga (indonesia)   NaN     NaN   \n",
       "1221   10/12/2013 24:00                        cincinnati    oh      us   \n",
       "...                 ...                               ...   ...     ...   \n",
       "79136    9/4/2005 24:00                         boonville    nc      us   \n",
       "79137    9/4/2005 24:00                     redondo beach    ca      us   \n",
       "79740    9/7/2002 24:00                        portsmouth    oh      us   \n",
       "79759    9/7/2004 24:00                          montrose    co      us   \n",
       "79942    9/8/2003 24:00                      cedar rapids    ia      us   \n",
       "\n",
       "          shape duration (seconds) duration (hours/min)  \\\n",
       "388        oval                120         a min or two   \n",
       "693       other            6312000              2 years   \n",
       "962    triangle                300            5 minutes   \n",
       "1067       disk                 22           22 seconds   \n",
       "1221   fireball                300          3-5 minutes   \n",
       "...         ...                ...                  ...   \n",
       "79136     cigar              10800             3+ hours   \n",
       "79137  triangle                300            5 minutes   \n",
       "79740  changing                900           15 minutes   \n",
       "79759   unknown               1200           20 minutes   \n",
       "79942  changing                900               15 min   \n",
       "\n",
       "                                                comments date posted  \\\n",
       "388    I was walking from the garage to the house&#44...    2/1/2007   \n",
       "693    go to:  http://www.24horas.com.pe/data/videos/...    3/4/2003   \n",
       "962    V shaped and 8 big and very brite lights&#44mo...  10/30/2012   \n",
       "1067                        UFO in Salatiga&#44Indonesia  10/31/2003   \n",
       "1221   A bright orange light split into four&#44 did ...  10/14/2013   \n",
       "...                                                  ...         ...   \n",
       "79136  Unusual activity in our small community&#44 cr...    9/9/2013   \n",
       "79137  Triangulat UFO seen over Redondo Beach&#44 Cal...  12/16/2005   \n",
       "79740           A bright red light hoovering in the sky.   9/13/2002   \n",
       "79759  Stationary object with three pulsating lights ...    9/9/2004   \n",
       "79942                                         WE SEEN IT   9/17/2003   \n",
       "\n",
       "         latitude  longitude   \n",
       "388    43.2127778  -75.456111  \n",
       "693     -5.129547  -80.120569  \n",
       "962    42.4805556  -83.475556  \n",
       "1067     -7.33683  110.498817  \n",
       "1221   39.1619444  -84.456944  \n",
       "...           ...         ...  \n",
       "79136     36.2325  -80.708333  \n",
       "79137     33.8492 -118.387500  \n",
       "79740     38.7317  -82.997778  \n",
       "79759     38.4783 -107.875556  \n",
       "79942     42.0083  -91.643889  \n",
       "\n",
       "[694 rows x 11 columns]"
      ]
     },
     "execution_count": 8,
     "metadata": {},
     "output_type": "execute_result"
    }
   ],
   "source": [
    "# verifico si efectivamente hay registros con la hora cargada como '24:00'\n",
    "data[data['datetime'].str.contains(\"24:00\")]\n",
    "# hay 694 regirstros con hora '24:00'"
   ]
  },
  {
   "cell_type": "code",
   "execution_count": 9,
   "metadata": {
    "execution": {
     "iopub.execute_input": "2020-10-25T15:22:04.347667Z",
     "iopub.status.busy": "2020-10-25T15:22:04.342414Z",
     "iopub.status.idle": "2020-10-25T15:22:04.438246Z",
     "shell.execute_reply": "2020-10-25T15:22:04.437840Z"
    },
    "papermill": {
     "duration": 0.220155,
     "end_time": "2020-10-25T15:22:04.438356",
     "exception": false,
     "start_time": "2020-10-25T15:22:04.218201",
     "status": "completed"
    },
    "tags": []
   },
   "outputs": [],
   "source": [
    "# donde encuentra un '24:00' le asigna '00:00'\n",
    "data['datetime_dat'] = data['datetime'].replace({'24:00': '00:00'}, regex=True)"
   ]
  },
  {
   "cell_type": "code",
   "execution_count": 10,
   "metadata": {
    "execution": {
     "iopub.execute_input": "2020-10-25T15:22:04.593140Z",
     "iopub.status.busy": "2020-10-25T15:22:04.588108Z",
     "iopub.status.idle": "2020-10-25T15:22:11.358659Z",
     "shell.execute_reply": "2020-10-25T15:22:11.358123Z"
    },
    "papermill": {
     "duration": 6.849093,
     "end_time": "2020-10-25T15:22:11.358766",
     "exception": false,
     "start_time": "2020-10-25T15:22:04.509673",
     "status": "completed"
    },
    "tags": []
   },
   "outputs": [],
   "source": [
    "# Probemos ahora la conversión al tipo de datos datetime\n",
    "data['datetime_dat']=data['datetime_dat'].astype('datetime64')"
   ]
  },
  {
   "cell_type": "markdown",
   "metadata": {
    "papermill": {
     "duration": 0.100106,
     "end_time": "2020-10-25T15:22:11.558981",
     "exception": false,
     "start_time": "2020-10-25T15:22:11.458875",
     "status": "completed"
    },
    "tags": []
   },
   "source": [
    "**********************"
   ]
  },
  {
   "cell_type": "markdown",
   "metadata": {
    "papermill": {
     "duration": 0.101128,
     "end_time": "2020-10-25T15:22:11.760599",
     "exception": false,
     "start_time": "2020-10-25T15:22:11.659471",
     "status": "completed"
    },
    "tags": []
   },
   "source": [
    "#2° OBSERVACIÓN: 'LATITUDE' TIENE COMO TIPO DE DATOS: OBJECT<br>\n",
    "<br>\n",
    "Enfoque: convertirlo a float64"
   ]
  },
  {
   "cell_type": "code",
   "execution_count": 11,
   "metadata": {
    "_kg_hide-output": true,
    "execution": {
     "iopub.execute_input": "2020-10-25T15:22:11.978921Z",
     "iopub.status.busy": "2020-10-25T15:22:11.973596Z",
     "iopub.status.idle": "2020-10-25T15:22:11.989943Z",
     "shell.execute_reply": "2020-10-25T15:22:11.990593Z"
    },
    "papermill": {
     "duration": 0.130584,
     "end_time": "2020-10-25T15:22:11.990707",
     "exception": false,
     "start_time": "2020-10-25T15:22:11.860123",
     "status": "completed"
    },
    "tags": []
   },
   "outputs": [
    {
     "ename": "ValueError",
     "evalue": "could not convert string to float: '33q.200088'",
     "output_type": "error",
     "traceback": [
      "\u001b[0;31m---------------------------------------------------------------------------\u001b[0m",
      "\u001b[0;31mValueError\u001b[0m                                Traceback (most recent call last)",
      "\u001b[0;32m<ipython-input-11-6c5cda527376>\u001b[0m in \u001b[0;36m<module>\u001b[0;34m\u001b[0m\n\u001b[0;32m----> 1\u001b[0;31m \u001b[0mdata\u001b[0m\u001b[0;34m[\u001b[0m\u001b[0;34m'latitude_num'\u001b[0m\u001b[0;34m]\u001b[0m\u001b[0;34m=\u001b[0m\u001b[0mdata\u001b[0m\u001b[0;34m[\u001b[0m\u001b[0;34m'latitude'\u001b[0m\u001b[0;34m]\u001b[0m\u001b[0;34m.\u001b[0m\u001b[0mastype\u001b[0m\u001b[0;34m(\u001b[0m\u001b[0;34m'float64'\u001b[0m\u001b[0;34m)\u001b[0m\u001b[0;34m\u001b[0m\u001b[0;34m\u001b[0m\u001b[0m\n\u001b[0m\u001b[1;32m      2\u001b[0m \u001b[0;31m# no lo permite porque encontró un registro donde aparece una letra 'q'.\u001b[0m\u001b[0;34m\u001b[0m\u001b[0;34m\u001b[0m\u001b[0;34m\u001b[0m\u001b[0m\n\u001b[1;32m      3\u001b[0m \u001b[0;31m# desconozco si es algo propio de la codificacion de las latitudes. Pero como es solo un registro, lo elimino\u001b[0m\u001b[0;34m\u001b[0m\u001b[0;34m\u001b[0m\u001b[0;34m\u001b[0m\u001b[0m\n",
      "\u001b[0;32m/opt/conda/lib/python3.7/site-packages/pandas/core/generic.py\u001b[0m in \u001b[0;36mastype\u001b[0;34m(self, dtype, copy, errors)\u001b[0m\n\u001b[1;32m   5544\u001b[0m         \u001b[0;32melse\u001b[0m\u001b[0;34m:\u001b[0m\u001b[0;34m\u001b[0m\u001b[0;34m\u001b[0m\u001b[0m\n\u001b[1;32m   5545\u001b[0m             \u001b[0;31m# else, only a single dtype is given\u001b[0m\u001b[0;34m\u001b[0m\u001b[0;34m\u001b[0m\u001b[0;34m\u001b[0m\u001b[0m\n\u001b[0;32m-> 5546\u001b[0;31m             \u001b[0mnew_data\u001b[0m \u001b[0;34m=\u001b[0m \u001b[0mself\u001b[0m\u001b[0;34m.\u001b[0m\u001b[0m_mgr\u001b[0m\u001b[0;34m.\u001b[0m\u001b[0mastype\u001b[0m\u001b[0;34m(\u001b[0m\u001b[0mdtype\u001b[0m\u001b[0;34m=\u001b[0m\u001b[0mdtype\u001b[0m\u001b[0;34m,\u001b[0m \u001b[0mcopy\u001b[0m\u001b[0;34m=\u001b[0m\u001b[0mcopy\u001b[0m\u001b[0;34m,\u001b[0m \u001b[0merrors\u001b[0m\u001b[0;34m=\u001b[0m\u001b[0merrors\u001b[0m\u001b[0;34m,\u001b[0m\u001b[0;34m)\u001b[0m\u001b[0;34m\u001b[0m\u001b[0;34m\u001b[0m\u001b[0m\n\u001b[0m\u001b[1;32m   5547\u001b[0m             \u001b[0;32mreturn\u001b[0m \u001b[0mself\u001b[0m\u001b[0;34m.\u001b[0m\u001b[0m_constructor\u001b[0m\u001b[0;34m(\u001b[0m\u001b[0mnew_data\u001b[0m\u001b[0;34m)\u001b[0m\u001b[0;34m.\u001b[0m\u001b[0m__finalize__\u001b[0m\u001b[0;34m(\u001b[0m\u001b[0mself\u001b[0m\u001b[0;34m,\u001b[0m \u001b[0mmethod\u001b[0m\u001b[0;34m=\u001b[0m\u001b[0;34m\"astype\"\u001b[0m\u001b[0;34m)\u001b[0m\u001b[0;34m\u001b[0m\u001b[0;34m\u001b[0m\u001b[0m\n\u001b[1;32m   5548\u001b[0m \u001b[0;34m\u001b[0m\u001b[0m\n",
      "\u001b[0;32m/opt/conda/lib/python3.7/site-packages/pandas/core/internals/managers.py\u001b[0m in \u001b[0;36mastype\u001b[0;34m(self, dtype, copy, errors)\u001b[0m\n\u001b[1;32m    593\u001b[0m         \u001b[0mself\u001b[0m\u001b[0;34m,\u001b[0m \u001b[0mdtype\u001b[0m\u001b[0;34m,\u001b[0m \u001b[0mcopy\u001b[0m\u001b[0;34m:\u001b[0m \u001b[0mbool\u001b[0m \u001b[0;34m=\u001b[0m \u001b[0;32mFalse\u001b[0m\u001b[0;34m,\u001b[0m \u001b[0merrors\u001b[0m\u001b[0;34m:\u001b[0m \u001b[0mstr\u001b[0m \u001b[0;34m=\u001b[0m \u001b[0;34m\"raise\"\u001b[0m\u001b[0;34m\u001b[0m\u001b[0;34m\u001b[0m\u001b[0m\n\u001b[1;32m    594\u001b[0m     ) -> \"BlockManager\":\n\u001b[0;32m--> 595\u001b[0;31m         \u001b[0;32mreturn\u001b[0m \u001b[0mself\u001b[0m\u001b[0;34m.\u001b[0m\u001b[0mapply\u001b[0m\u001b[0;34m(\u001b[0m\u001b[0;34m\"astype\"\u001b[0m\u001b[0;34m,\u001b[0m \u001b[0mdtype\u001b[0m\u001b[0;34m=\u001b[0m\u001b[0mdtype\u001b[0m\u001b[0;34m,\u001b[0m \u001b[0mcopy\u001b[0m\u001b[0;34m=\u001b[0m\u001b[0mcopy\u001b[0m\u001b[0;34m,\u001b[0m \u001b[0merrors\u001b[0m\u001b[0;34m=\u001b[0m\u001b[0merrors\u001b[0m\u001b[0;34m)\u001b[0m\u001b[0;34m\u001b[0m\u001b[0;34m\u001b[0m\u001b[0m\n\u001b[0m\u001b[1;32m    596\u001b[0m \u001b[0;34m\u001b[0m\u001b[0m\n\u001b[1;32m    597\u001b[0m     def convert(\n",
      "\u001b[0;32m/opt/conda/lib/python3.7/site-packages/pandas/core/internals/managers.py\u001b[0m in \u001b[0;36mapply\u001b[0;34m(self, f, align_keys, **kwargs)\u001b[0m\n\u001b[1;32m    404\u001b[0m                 \u001b[0mapplied\u001b[0m \u001b[0;34m=\u001b[0m \u001b[0mb\u001b[0m\u001b[0;34m.\u001b[0m\u001b[0mapply\u001b[0m\u001b[0;34m(\u001b[0m\u001b[0mf\u001b[0m\u001b[0;34m,\u001b[0m \u001b[0;34m**\u001b[0m\u001b[0mkwargs\u001b[0m\u001b[0;34m)\u001b[0m\u001b[0;34m\u001b[0m\u001b[0;34m\u001b[0m\u001b[0m\n\u001b[1;32m    405\u001b[0m             \u001b[0;32melse\u001b[0m\u001b[0;34m:\u001b[0m\u001b[0;34m\u001b[0m\u001b[0;34m\u001b[0m\u001b[0m\n\u001b[0;32m--> 406\u001b[0;31m                 \u001b[0mapplied\u001b[0m \u001b[0;34m=\u001b[0m \u001b[0mgetattr\u001b[0m\u001b[0;34m(\u001b[0m\u001b[0mb\u001b[0m\u001b[0;34m,\u001b[0m \u001b[0mf\u001b[0m\u001b[0;34m)\u001b[0m\u001b[0;34m(\u001b[0m\u001b[0;34m**\u001b[0m\u001b[0mkwargs\u001b[0m\u001b[0;34m)\u001b[0m\u001b[0;34m\u001b[0m\u001b[0;34m\u001b[0m\u001b[0m\n\u001b[0m\u001b[1;32m    407\u001b[0m             \u001b[0mresult_blocks\u001b[0m \u001b[0;34m=\u001b[0m \u001b[0m_extend_blocks\u001b[0m\u001b[0;34m(\u001b[0m\u001b[0mapplied\u001b[0m\u001b[0;34m,\u001b[0m \u001b[0mresult_blocks\u001b[0m\u001b[0;34m)\u001b[0m\u001b[0;34m\u001b[0m\u001b[0;34m\u001b[0m\u001b[0m\n\u001b[1;32m    408\u001b[0m \u001b[0;34m\u001b[0m\u001b[0m\n",
      "\u001b[0;32m/opt/conda/lib/python3.7/site-packages/pandas/core/internals/blocks.py\u001b[0m in \u001b[0;36mastype\u001b[0;34m(self, dtype, copy, errors)\u001b[0m\n\u001b[1;32m    593\u001b[0m             \u001b[0mvals1d\u001b[0m \u001b[0;34m=\u001b[0m \u001b[0mvalues\u001b[0m\u001b[0;34m.\u001b[0m\u001b[0mravel\u001b[0m\u001b[0;34m(\u001b[0m\u001b[0;34m)\u001b[0m\u001b[0;34m\u001b[0m\u001b[0;34m\u001b[0m\u001b[0m\n\u001b[1;32m    594\u001b[0m             \u001b[0;32mtry\u001b[0m\u001b[0;34m:\u001b[0m\u001b[0;34m\u001b[0m\u001b[0;34m\u001b[0m\u001b[0m\n\u001b[0;32m--> 595\u001b[0;31m                 \u001b[0mvalues\u001b[0m \u001b[0;34m=\u001b[0m \u001b[0mastype_nansafe\u001b[0m\u001b[0;34m(\u001b[0m\u001b[0mvals1d\u001b[0m\u001b[0;34m,\u001b[0m \u001b[0mdtype\u001b[0m\u001b[0;34m,\u001b[0m \u001b[0mcopy\u001b[0m\u001b[0;34m=\u001b[0m\u001b[0;32mTrue\u001b[0m\u001b[0;34m)\u001b[0m\u001b[0;34m\u001b[0m\u001b[0;34m\u001b[0m\u001b[0m\n\u001b[0m\u001b[1;32m    596\u001b[0m             \u001b[0;32mexcept\u001b[0m \u001b[0;34m(\u001b[0m\u001b[0mValueError\u001b[0m\u001b[0;34m,\u001b[0m \u001b[0mTypeError\u001b[0m\u001b[0;34m)\u001b[0m\u001b[0;34m:\u001b[0m\u001b[0;34m\u001b[0m\u001b[0;34m\u001b[0m\u001b[0m\n\u001b[1;32m    597\u001b[0m                 \u001b[0;31m# e.g. astype_nansafe can fail on object-dtype of strings\u001b[0m\u001b[0;34m\u001b[0m\u001b[0;34m\u001b[0m\u001b[0;34m\u001b[0m\u001b[0m\n",
      "\u001b[0;32m/opt/conda/lib/python3.7/site-packages/pandas/core/dtypes/cast.py\u001b[0m in \u001b[0;36mastype_nansafe\u001b[0;34m(arr, dtype, copy, skipna)\u001b[0m\n\u001b[1;32m    993\u001b[0m     \u001b[0;32mif\u001b[0m \u001b[0mcopy\u001b[0m \u001b[0;32mor\u001b[0m \u001b[0mis_object_dtype\u001b[0m\u001b[0;34m(\u001b[0m\u001b[0marr\u001b[0m\u001b[0;34m)\u001b[0m \u001b[0;32mor\u001b[0m \u001b[0mis_object_dtype\u001b[0m\u001b[0;34m(\u001b[0m\u001b[0mdtype\u001b[0m\u001b[0;34m)\u001b[0m\u001b[0;34m:\u001b[0m\u001b[0;34m\u001b[0m\u001b[0;34m\u001b[0m\u001b[0m\n\u001b[1;32m    994\u001b[0m         \u001b[0;31m# Explicit copy, or required since NumPy can't view from / to object.\u001b[0m\u001b[0;34m\u001b[0m\u001b[0;34m\u001b[0m\u001b[0;34m\u001b[0m\u001b[0m\n\u001b[0;32m--> 995\u001b[0;31m         \u001b[0;32mreturn\u001b[0m \u001b[0marr\u001b[0m\u001b[0;34m.\u001b[0m\u001b[0mastype\u001b[0m\u001b[0;34m(\u001b[0m\u001b[0mdtype\u001b[0m\u001b[0;34m,\u001b[0m \u001b[0mcopy\u001b[0m\u001b[0;34m=\u001b[0m\u001b[0;32mTrue\u001b[0m\u001b[0;34m)\u001b[0m\u001b[0;34m\u001b[0m\u001b[0;34m\u001b[0m\u001b[0m\n\u001b[0m\u001b[1;32m    996\u001b[0m \u001b[0;34m\u001b[0m\u001b[0m\n\u001b[1;32m    997\u001b[0m     \u001b[0;32mreturn\u001b[0m \u001b[0marr\u001b[0m\u001b[0;34m.\u001b[0m\u001b[0mview\u001b[0m\u001b[0;34m(\u001b[0m\u001b[0mdtype\u001b[0m\u001b[0;34m)\u001b[0m\u001b[0;34m\u001b[0m\u001b[0;34m\u001b[0m\u001b[0m\n",
      "\u001b[0;31mValueError\u001b[0m: could not convert string to float: '33q.200088'"
     ]
    }
   ],
   "source": [
    "data['latitude_num']=data['latitude'].astype('float64')\n",
    "# no lo permite porque encontró un registro donde aparece una letra 'q'. \n",
    "# desconozco si es algo propio de la codificacion de las latitudes. Pero como es solo un registro, lo elimino "
   ]
  },
  {
   "cell_type": "code",
   "execution_count": 12,
   "metadata": {
    "execution": {
     "iopub.execute_input": "2020-10-25T15:22:12.206862Z",
     "iopub.status.busy": "2020-10-25T15:22:12.200710Z",
     "iopub.status.idle": "2020-10-25T15:22:12.282495Z",
     "shell.execute_reply": "2020-10-25T15:22:12.282080Z"
    },
    "papermill": {
     "duration": 0.189771,
     "end_time": "2020-10-25T15:22:12.282574",
     "exception": false,
     "start_time": "2020-10-25T15:22:12.092803",
     "status": "completed"
    },
    "tags": []
   },
   "outputs": [
    {
     "data": {
      "text/html": [
       "<div>\n",
       "<style scoped>\n",
       "    .dataframe tbody tr th:only-of-type {\n",
       "        vertical-align: middle;\n",
       "    }\n",
       "\n",
       "    .dataframe tbody tr th {\n",
       "        vertical-align: top;\n",
       "    }\n",
       "\n",
       "    .dataframe thead th {\n",
       "        text-align: right;\n",
       "    }\n",
       "</style>\n",
       "<table border=\"1\" class=\"dataframe\">\n",
       "  <thead>\n",
       "    <tr style=\"text-align: right;\">\n",
       "      <th></th>\n",
       "      <th>datetime</th>\n",
       "      <th>city</th>\n",
       "      <th>state</th>\n",
       "      <th>country</th>\n",
       "      <th>shape</th>\n",
       "      <th>duration (seconds)</th>\n",
       "      <th>duration (hours/min)</th>\n",
       "      <th>comments</th>\n",
       "      <th>date posted</th>\n",
       "      <th>latitude</th>\n",
       "      <th>longitude</th>\n",
       "      <th>datetime_dat</th>\n",
       "    </tr>\n",
       "  </thead>\n",
       "  <tbody>\n",
       "    <tr>\n",
       "      <th>43782</th>\n",
       "      <td>5/22/1974 05:30</td>\n",
       "      <td>mescalero indian reservation</td>\n",
       "      <td>nm</td>\n",
       "      <td>NaN</td>\n",
       "      <td>rectangle</td>\n",
       "      <td>180</td>\n",
       "      <td>two hours</td>\n",
       "      <td>Huge rectangular object emmitting intense whit...</td>\n",
       "      <td>4/18/2012</td>\n",
       "      <td>33q.200088</td>\n",
       "      <td>-105.624152</td>\n",
       "      <td>1974-05-22 05:30:00</td>\n",
       "    </tr>\n",
       "  </tbody>\n",
       "</table>\n",
       "</div>"
      ],
      "text/plain": [
       "              datetime                          city state country      shape  \\\n",
       "43782  5/22/1974 05:30  mescalero indian reservation    nm     NaN  rectangle   \n",
       "\n",
       "      duration (seconds) duration (hours/min)  \\\n",
       "43782                180            two hours   \n",
       "\n",
       "                                                comments date posted  \\\n",
       "43782  Huge rectangular object emmitting intense whit...   4/18/2012   \n",
       "\n",
       "         latitude  longitude         datetime_dat  \n",
       "43782  33q.200088 -105.624152 1974-05-22 05:30:00  "
      ]
     },
     "execution_count": 12,
     "metadata": {},
     "output_type": "execute_result"
    }
   ],
   "source": [
    "# veamos qué registro es\n",
    "data[data['latitude'].str.contains('[A-Za-z]', na=False)]  \n",
    "# es el registro 43782. Vemos que en latitud aparece una 'q' en el medio"
   ]
  },
  {
   "cell_type": "code",
   "execution_count": 13,
   "metadata": {
    "execution": {
     "iopub.execute_input": "2020-10-25T15:22:12.426441Z",
     "iopub.status.busy": "2020-10-25T15:22:12.425791Z",
     "iopub.status.idle": "2020-10-25T15:22:12.440102Z",
     "shell.execute_reply": "2020-10-25T15:22:12.439716Z"
    },
    "papermill": {
     "duration": 0.088512,
     "end_time": "2020-10-25T15:22:12.440186",
     "exception": false,
     "start_time": "2020-10-25T15:22:12.351674",
     "status": "completed"
    },
    "tags": []
   },
   "outputs": [],
   "source": [
    "# Vemos que es el 43782. Vamos a eliminarlo con su índice \n",
    "data= data.drop([43782])"
   ]
  },
  {
   "cell_type": "code",
   "execution_count": 14,
   "metadata": {
    "execution": {
     "iopub.execute_input": "2020-10-25T15:22:12.582511Z",
     "iopub.status.busy": "2020-10-25T15:22:12.580579Z",
     "iopub.status.idle": "2020-10-25T15:22:12.596420Z",
     "shell.execute_reply": "2020-10-25T15:22:12.596791Z"
    },
    "papermill": {
     "duration": 0.087913,
     "end_time": "2020-10-25T15:22:12.596905",
     "exception": false,
     "start_time": "2020-10-25T15:22:12.508992",
     "status": "completed"
    },
    "tags": []
   },
   "outputs": [],
   "source": [
    "# MUY IMPORTANTE\n",
    "# en este punto, es recomendable reiniciar el índice de la tabla, \n",
    "# ya que luego obtendremos los países faltantes a traves de reverse_geocoding.\n",
    "data = data.reset_index(drop=True)"
   ]
  },
  {
   "cell_type": "code",
   "execution_count": 15,
   "metadata": {
    "execution": {
     "iopub.execute_input": "2020-10-25T15:22:12.761827Z",
     "iopub.status.busy": "2020-10-25T15:22:12.761162Z",
     "iopub.status.idle": "2020-10-25T15:22:12.764715Z",
     "shell.execute_reply": "2020-10-25T15:22:12.764349Z"
    },
    "papermill": {
     "duration": 0.096796,
     "end_time": "2020-10-25T15:22:12.764795",
     "exception": false,
     "start_time": "2020-10-25T15:22:12.667999",
     "status": "completed"
    },
    "tags": []
   },
   "outputs": [],
   "source": [
    "# probemos otra vez la conversión de object a numerico\n",
    "data['latitude_num']=data['latitude'].astype('float64')\n",
    "# ahora si nos permitió"
   ]
  },
  {
   "cell_type": "markdown",
   "metadata": {
    "papermill": {
     "duration": 0.068355,
     "end_time": "2020-10-25T15:22:12.902383",
     "exception": false,
     "start_time": "2020-10-25T15:22:12.834028",
     "status": "completed"
    },
    "tags": []
   },
   "source": [
    "**********************"
   ]
  },
  {
   "cell_type": "markdown",
   "metadata": {
    "papermill": {
     "duration": 0.100454,
     "end_time": "2020-10-25T15:22:13.070846",
     "exception": false,
     "start_time": "2020-10-25T15:22:12.970392",
     "status": "completed"
    },
    "tags": []
   },
   "source": [
    "#3° OBSERVACIÓN. TENEMOS DOS COLUMNAS PARA EL TIEMPO DE AVISTAMIENTO. AMBAS FIGURAN COMO OBJECT<br>\n",
    "<br>\n",
    "Enfoque: eliminar la que muestra en minutos, ya que tiene muchisimos caracteres no numericos (lo haremos al final del notebook)"
   ]
  },
  {
   "cell_type": "code",
   "execution_count": 16,
   "metadata": {
    "_kg_hide-output": true,
    "execution": {
     "iopub.execute_input": "2020-10-25T15:22:13.229816Z",
     "iopub.status.busy": "2020-10-25T15:22:13.229352Z",
     "iopub.status.idle": "2020-10-25T15:22:13.242454Z",
     "shell.execute_reply": "2020-10-25T15:22:13.242873Z"
    },
    "papermill": {
     "duration": 0.103211,
     "end_time": "2020-10-25T15:22:13.242983",
     "exception": false,
     "start_time": "2020-10-25T15:22:13.139772",
     "status": "completed"
    },
    "tags": []
   },
   "outputs": [
    {
     "ename": "ValueError",
     "evalue": "could not convert string to float: '2`'",
     "output_type": "error",
     "traceback": [
      "\u001b[0;31m---------------------------------------------------------------------------\u001b[0m",
      "\u001b[0;31mValueError\u001b[0m                                Traceback (most recent call last)",
      "\u001b[0;32m<ipython-input-16-eeb5d591f746>\u001b[0m in \u001b[0;36m<module>\u001b[0;34m\u001b[0m\n\u001b[1;32m      1\u001b[0m \u001b[0;31m# me quedo con la que muestra en segundos (probablemente al final la transformemos a minutos para facilitar el analisis)\u001b[0m\u001b[0;34m\u001b[0m\u001b[0;34m\u001b[0m\u001b[0;34m\u001b[0m\u001b[0m\n\u001b[1;32m      2\u001b[0m \u001b[0;31m# entonces, tomamos 'duration (seconds)' y la transformamos a float64\u001b[0m\u001b[0;34m\u001b[0m\u001b[0;34m\u001b[0m\u001b[0;34m\u001b[0m\u001b[0m\n\u001b[0;32m----> 3\u001b[0;31m \u001b[0mdata\u001b[0m\u001b[0;34m[\u001b[0m\u001b[0;34m'duration(seconds)_num'\u001b[0m\u001b[0;34m]\u001b[0m\u001b[0;34m=\u001b[0m\u001b[0mdata\u001b[0m\u001b[0;34m[\u001b[0m\u001b[0;34m'duration (seconds)'\u001b[0m\u001b[0;34m]\u001b[0m\u001b[0;34m.\u001b[0m\u001b[0mastype\u001b[0m\u001b[0;34m(\u001b[0m\u001b[0;34m'float64'\u001b[0m\u001b[0;34m)\u001b[0m\u001b[0;34m\u001b[0m\u001b[0;34m\u001b[0m\u001b[0m\n\u001b[0m\u001b[1;32m      4\u001b[0m \u001b[0;31m# No lo puede converir porque encuentra valores como '2`', es decir tienen caracteres no numericos\u001b[0m\u001b[0;34m\u001b[0m\u001b[0;34m\u001b[0m\u001b[0;34m\u001b[0m\u001b[0m\n",
      "\u001b[0;32m/opt/conda/lib/python3.7/site-packages/pandas/core/generic.py\u001b[0m in \u001b[0;36mastype\u001b[0;34m(self, dtype, copy, errors)\u001b[0m\n\u001b[1;32m   5544\u001b[0m         \u001b[0;32melse\u001b[0m\u001b[0;34m:\u001b[0m\u001b[0;34m\u001b[0m\u001b[0;34m\u001b[0m\u001b[0m\n\u001b[1;32m   5545\u001b[0m             \u001b[0;31m# else, only a single dtype is given\u001b[0m\u001b[0;34m\u001b[0m\u001b[0;34m\u001b[0m\u001b[0;34m\u001b[0m\u001b[0m\n\u001b[0;32m-> 5546\u001b[0;31m             \u001b[0mnew_data\u001b[0m \u001b[0;34m=\u001b[0m \u001b[0mself\u001b[0m\u001b[0;34m.\u001b[0m\u001b[0m_mgr\u001b[0m\u001b[0;34m.\u001b[0m\u001b[0mastype\u001b[0m\u001b[0;34m(\u001b[0m\u001b[0mdtype\u001b[0m\u001b[0;34m=\u001b[0m\u001b[0mdtype\u001b[0m\u001b[0;34m,\u001b[0m \u001b[0mcopy\u001b[0m\u001b[0;34m=\u001b[0m\u001b[0mcopy\u001b[0m\u001b[0;34m,\u001b[0m \u001b[0merrors\u001b[0m\u001b[0;34m=\u001b[0m\u001b[0merrors\u001b[0m\u001b[0;34m,\u001b[0m\u001b[0;34m)\u001b[0m\u001b[0;34m\u001b[0m\u001b[0;34m\u001b[0m\u001b[0m\n\u001b[0m\u001b[1;32m   5547\u001b[0m             \u001b[0;32mreturn\u001b[0m \u001b[0mself\u001b[0m\u001b[0;34m.\u001b[0m\u001b[0m_constructor\u001b[0m\u001b[0;34m(\u001b[0m\u001b[0mnew_data\u001b[0m\u001b[0;34m)\u001b[0m\u001b[0;34m.\u001b[0m\u001b[0m__finalize__\u001b[0m\u001b[0;34m(\u001b[0m\u001b[0mself\u001b[0m\u001b[0;34m,\u001b[0m \u001b[0mmethod\u001b[0m\u001b[0;34m=\u001b[0m\u001b[0;34m\"astype\"\u001b[0m\u001b[0;34m)\u001b[0m\u001b[0;34m\u001b[0m\u001b[0;34m\u001b[0m\u001b[0m\n\u001b[1;32m   5548\u001b[0m \u001b[0;34m\u001b[0m\u001b[0m\n",
      "\u001b[0;32m/opt/conda/lib/python3.7/site-packages/pandas/core/internals/managers.py\u001b[0m in \u001b[0;36mastype\u001b[0;34m(self, dtype, copy, errors)\u001b[0m\n\u001b[1;32m    593\u001b[0m         \u001b[0mself\u001b[0m\u001b[0;34m,\u001b[0m \u001b[0mdtype\u001b[0m\u001b[0;34m,\u001b[0m \u001b[0mcopy\u001b[0m\u001b[0;34m:\u001b[0m \u001b[0mbool\u001b[0m \u001b[0;34m=\u001b[0m \u001b[0;32mFalse\u001b[0m\u001b[0;34m,\u001b[0m \u001b[0merrors\u001b[0m\u001b[0;34m:\u001b[0m \u001b[0mstr\u001b[0m \u001b[0;34m=\u001b[0m \u001b[0;34m\"raise\"\u001b[0m\u001b[0;34m\u001b[0m\u001b[0;34m\u001b[0m\u001b[0m\n\u001b[1;32m    594\u001b[0m     ) -> \"BlockManager\":\n\u001b[0;32m--> 595\u001b[0;31m         \u001b[0;32mreturn\u001b[0m \u001b[0mself\u001b[0m\u001b[0;34m.\u001b[0m\u001b[0mapply\u001b[0m\u001b[0;34m(\u001b[0m\u001b[0;34m\"astype\"\u001b[0m\u001b[0;34m,\u001b[0m \u001b[0mdtype\u001b[0m\u001b[0;34m=\u001b[0m\u001b[0mdtype\u001b[0m\u001b[0;34m,\u001b[0m \u001b[0mcopy\u001b[0m\u001b[0;34m=\u001b[0m\u001b[0mcopy\u001b[0m\u001b[0;34m,\u001b[0m \u001b[0merrors\u001b[0m\u001b[0;34m=\u001b[0m\u001b[0merrors\u001b[0m\u001b[0;34m)\u001b[0m\u001b[0;34m\u001b[0m\u001b[0;34m\u001b[0m\u001b[0m\n\u001b[0m\u001b[1;32m    596\u001b[0m \u001b[0;34m\u001b[0m\u001b[0m\n\u001b[1;32m    597\u001b[0m     def convert(\n",
      "\u001b[0;32m/opt/conda/lib/python3.7/site-packages/pandas/core/internals/managers.py\u001b[0m in \u001b[0;36mapply\u001b[0;34m(self, f, align_keys, **kwargs)\u001b[0m\n\u001b[1;32m    404\u001b[0m                 \u001b[0mapplied\u001b[0m \u001b[0;34m=\u001b[0m \u001b[0mb\u001b[0m\u001b[0;34m.\u001b[0m\u001b[0mapply\u001b[0m\u001b[0;34m(\u001b[0m\u001b[0mf\u001b[0m\u001b[0;34m,\u001b[0m \u001b[0;34m**\u001b[0m\u001b[0mkwargs\u001b[0m\u001b[0;34m)\u001b[0m\u001b[0;34m\u001b[0m\u001b[0;34m\u001b[0m\u001b[0m\n\u001b[1;32m    405\u001b[0m             \u001b[0;32melse\u001b[0m\u001b[0;34m:\u001b[0m\u001b[0;34m\u001b[0m\u001b[0;34m\u001b[0m\u001b[0m\n\u001b[0;32m--> 406\u001b[0;31m                 \u001b[0mapplied\u001b[0m \u001b[0;34m=\u001b[0m \u001b[0mgetattr\u001b[0m\u001b[0;34m(\u001b[0m\u001b[0mb\u001b[0m\u001b[0;34m,\u001b[0m \u001b[0mf\u001b[0m\u001b[0;34m)\u001b[0m\u001b[0;34m(\u001b[0m\u001b[0;34m**\u001b[0m\u001b[0mkwargs\u001b[0m\u001b[0;34m)\u001b[0m\u001b[0;34m\u001b[0m\u001b[0;34m\u001b[0m\u001b[0m\n\u001b[0m\u001b[1;32m    407\u001b[0m             \u001b[0mresult_blocks\u001b[0m \u001b[0;34m=\u001b[0m \u001b[0m_extend_blocks\u001b[0m\u001b[0;34m(\u001b[0m\u001b[0mapplied\u001b[0m\u001b[0;34m,\u001b[0m \u001b[0mresult_blocks\u001b[0m\u001b[0;34m)\u001b[0m\u001b[0;34m\u001b[0m\u001b[0;34m\u001b[0m\u001b[0m\n\u001b[1;32m    408\u001b[0m \u001b[0;34m\u001b[0m\u001b[0m\n",
      "\u001b[0;32m/opt/conda/lib/python3.7/site-packages/pandas/core/internals/blocks.py\u001b[0m in \u001b[0;36mastype\u001b[0;34m(self, dtype, copy, errors)\u001b[0m\n\u001b[1;32m    593\u001b[0m             \u001b[0mvals1d\u001b[0m \u001b[0;34m=\u001b[0m \u001b[0mvalues\u001b[0m\u001b[0;34m.\u001b[0m\u001b[0mravel\u001b[0m\u001b[0;34m(\u001b[0m\u001b[0;34m)\u001b[0m\u001b[0;34m\u001b[0m\u001b[0;34m\u001b[0m\u001b[0m\n\u001b[1;32m    594\u001b[0m             \u001b[0;32mtry\u001b[0m\u001b[0;34m:\u001b[0m\u001b[0;34m\u001b[0m\u001b[0;34m\u001b[0m\u001b[0m\n\u001b[0;32m--> 595\u001b[0;31m                 \u001b[0mvalues\u001b[0m \u001b[0;34m=\u001b[0m \u001b[0mastype_nansafe\u001b[0m\u001b[0;34m(\u001b[0m\u001b[0mvals1d\u001b[0m\u001b[0;34m,\u001b[0m \u001b[0mdtype\u001b[0m\u001b[0;34m,\u001b[0m \u001b[0mcopy\u001b[0m\u001b[0;34m=\u001b[0m\u001b[0;32mTrue\u001b[0m\u001b[0;34m)\u001b[0m\u001b[0;34m\u001b[0m\u001b[0;34m\u001b[0m\u001b[0m\n\u001b[0m\u001b[1;32m    596\u001b[0m             \u001b[0;32mexcept\u001b[0m \u001b[0;34m(\u001b[0m\u001b[0mValueError\u001b[0m\u001b[0;34m,\u001b[0m \u001b[0mTypeError\u001b[0m\u001b[0;34m)\u001b[0m\u001b[0;34m:\u001b[0m\u001b[0;34m\u001b[0m\u001b[0;34m\u001b[0m\u001b[0m\n\u001b[1;32m    597\u001b[0m                 \u001b[0;31m# e.g. astype_nansafe can fail on object-dtype of strings\u001b[0m\u001b[0;34m\u001b[0m\u001b[0;34m\u001b[0m\u001b[0;34m\u001b[0m\u001b[0m\n",
      "\u001b[0;32m/opt/conda/lib/python3.7/site-packages/pandas/core/dtypes/cast.py\u001b[0m in \u001b[0;36mastype_nansafe\u001b[0;34m(arr, dtype, copy, skipna)\u001b[0m\n\u001b[1;32m    993\u001b[0m     \u001b[0;32mif\u001b[0m \u001b[0mcopy\u001b[0m \u001b[0;32mor\u001b[0m \u001b[0mis_object_dtype\u001b[0m\u001b[0;34m(\u001b[0m\u001b[0marr\u001b[0m\u001b[0;34m)\u001b[0m \u001b[0;32mor\u001b[0m \u001b[0mis_object_dtype\u001b[0m\u001b[0;34m(\u001b[0m\u001b[0mdtype\u001b[0m\u001b[0;34m)\u001b[0m\u001b[0;34m:\u001b[0m\u001b[0;34m\u001b[0m\u001b[0;34m\u001b[0m\u001b[0m\n\u001b[1;32m    994\u001b[0m         \u001b[0;31m# Explicit copy, or required since NumPy can't view from / to object.\u001b[0m\u001b[0;34m\u001b[0m\u001b[0;34m\u001b[0m\u001b[0;34m\u001b[0m\u001b[0m\n\u001b[0;32m--> 995\u001b[0;31m         \u001b[0;32mreturn\u001b[0m \u001b[0marr\u001b[0m\u001b[0;34m.\u001b[0m\u001b[0mastype\u001b[0m\u001b[0;34m(\u001b[0m\u001b[0mdtype\u001b[0m\u001b[0;34m,\u001b[0m \u001b[0mcopy\u001b[0m\u001b[0;34m=\u001b[0m\u001b[0;32mTrue\u001b[0m\u001b[0;34m)\u001b[0m\u001b[0;34m\u001b[0m\u001b[0;34m\u001b[0m\u001b[0m\n\u001b[0m\u001b[1;32m    996\u001b[0m \u001b[0;34m\u001b[0m\u001b[0m\n\u001b[1;32m    997\u001b[0m     \u001b[0;32mreturn\u001b[0m \u001b[0marr\u001b[0m\u001b[0;34m.\u001b[0m\u001b[0mview\u001b[0m\u001b[0;34m(\u001b[0m\u001b[0mdtype\u001b[0m\u001b[0;34m)\u001b[0m\u001b[0;34m\u001b[0m\u001b[0;34m\u001b[0m\u001b[0m\n",
      "\u001b[0;31mValueError\u001b[0m: could not convert string to float: '2`'"
     ]
    }
   ],
   "source": [
    "# me quedo con la que muestra en segundos (probablemente al final la transformemos a minutos para facilitar el analisis)\n",
    "# entonces, tomamos 'duration (seconds)' y la transformamos a float64\n",
    "data['duration(seconds)_num']=data['duration (seconds)'].astype('float64')\n",
    "# No lo puede converir porque encuentra valores como '2`', es decir tienen caracteres no numericos"
   ]
  },
  {
   "cell_type": "code",
   "execution_count": 17,
   "metadata": {
    "execution": {
     "iopub.execute_input": "2020-10-25T15:22:13.397482Z",
     "iopub.status.busy": "2020-10-25T15:22:13.390721Z",
     "iopub.status.idle": "2020-10-25T15:22:13.509007Z",
     "shell.execute_reply": "2020-10-25T15:22:13.508634Z"
    },
    "papermill": {
     "duration": 0.197529,
     "end_time": "2020-10-25T15:22:13.509085",
     "exception": false,
     "start_time": "2020-10-25T15:22:13.311556",
     "status": "completed"
    },
    "tags": []
   },
   "outputs": [
    {
     "data": {
      "text/html": [
       "<div>\n",
       "<style scoped>\n",
       "    .dataframe tbody tr th:only-of-type {\n",
       "        vertical-align: middle;\n",
       "    }\n",
       "\n",
       "    .dataframe tbody tr th {\n",
       "        vertical-align: top;\n",
       "    }\n",
       "\n",
       "    .dataframe thead th {\n",
       "        text-align: right;\n",
       "    }\n",
       "</style>\n",
       "<table border=\"1\" class=\"dataframe\">\n",
       "  <thead>\n",
       "    <tr style=\"text-align: right;\">\n",
       "      <th></th>\n",
       "      <th>datetime</th>\n",
       "      <th>city</th>\n",
       "      <th>state</th>\n",
       "      <th>country</th>\n",
       "      <th>shape</th>\n",
       "      <th>duration (seconds)</th>\n",
       "      <th>duration (hours/min)</th>\n",
       "      <th>comments</th>\n",
       "      <th>date posted</th>\n",
       "      <th>latitude</th>\n",
       "      <th>longitude</th>\n",
       "      <th>datetime_dat</th>\n",
       "      <th>latitude_num</th>\n",
       "    </tr>\n",
       "  </thead>\n",
       "  <tbody>\n",
       "    <tr>\n",
       "      <th>27822</th>\n",
       "      <td>2/2/2000 19:33</td>\n",
       "      <td>bouse</td>\n",
       "      <td>az</td>\n",
       "      <td>us</td>\n",
       "      <td>NaN</td>\n",
       "      <td>2`</td>\n",
       "      <td>each a few seconds</td>\n",
       "      <td>Driving through Plomosa Pass towards Bouse Loo...</td>\n",
       "      <td>2/16/2000</td>\n",
       "      <td>33.9325000</td>\n",
       "      <td>-114.005000</td>\n",
       "      <td>2000-02-02 19:33:00</td>\n",
       "      <td>33.932500</td>\n",
       "    </tr>\n",
       "    <tr>\n",
       "      <th>35692</th>\n",
       "      <td>4/10/2005 22:52</td>\n",
       "      <td>santa cruz</td>\n",
       "      <td>ca</td>\n",
       "      <td>us</td>\n",
       "      <td>NaN</td>\n",
       "      <td>8`</td>\n",
       "      <td>eight seconds</td>\n",
       "      <td>2 red lights moving together and apart with a ...</td>\n",
       "      <td>4/16/2005</td>\n",
       "      <td>36.9741667</td>\n",
       "      <td>-122.029722</td>\n",
       "      <td>2005-04-10 22:52:00</td>\n",
       "      <td>36.974167</td>\n",
       "    </tr>\n",
       "    <tr>\n",
       "      <th>58590</th>\n",
       "      <td>7/21/2006 13:00</td>\n",
       "      <td>ibague (colombia)</td>\n",
       "      <td>NaN</td>\n",
       "      <td>NaN</td>\n",
       "      <td>circle</td>\n",
       "      <td>0.5`</td>\n",
       "      <td>1/2 segundo</td>\n",
       "      <td>Viajaba a 27.000 pies en un avion comercial ve...</td>\n",
       "      <td>10/30/2006</td>\n",
       "      <td>4.440663</td>\n",
       "      <td>-75.244141</td>\n",
       "      <td>2006-07-21 13:00:00</td>\n",
       "      <td>4.440663</td>\n",
       "    </tr>\n",
       "  </tbody>\n",
       "</table>\n",
       "</div>"
      ],
      "text/plain": [
       "              datetime               city state country   shape  \\\n",
       "27822   2/2/2000 19:33              bouse    az      us     NaN   \n",
       "35692  4/10/2005 22:52         santa cruz    ca      us     NaN   \n",
       "58590  7/21/2006 13:00  ibague (colombia)   NaN     NaN  circle   \n",
       "\n",
       "      duration (seconds) duration (hours/min)  \\\n",
       "27822                 2`   each a few seconds   \n",
       "35692                 8`        eight seconds   \n",
       "58590               0.5`          1/2 segundo   \n",
       "\n",
       "                                                comments date posted  \\\n",
       "27822  Driving through Plomosa Pass towards Bouse Loo...   2/16/2000   \n",
       "35692  2 red lights moving together and apart with a ...   4/16/2005   \n",
       "58590  Viajaba a 27.000 pies en un avion comercial ve...  10/30/2006   \n",
       "\n",
       "         latitude  longitude         datetime_dat  latitude_num  \n",
       "27822  33.9325000 -114.005000 2000-02-02 19:33:00     33.932500  \n",
       "35692  36.9741667 -122.029722 2005-04-10 22:52:00     36.974167  \n",
       "58590    4.440663  -75.244141 2006-07-21 13:00:00      4.440663  "
      ]
     },
     "execution_count": 17,
     "metadata": {},
     "output_type": "execute_result"
    }
   ],
   "source": [
    "# veamos cuáles son esos registros que traen apostrofe\n",
    "data[data['duration (seconds)'].str.contains(\"`\",na=False)]\n",
    "# son 3, podriamos borrarlos. O mejor aun, probemos otra cosa\n",
    "# vamos a editarle el valor, como hicimos en la 1°observación (reemplazar '24:00' por '00:00')"
   ]
  },
  {
   "cell_type": "code",
   "execution_count": 18,
   "metadata": {
    "execution": {
     "iopub.execute_input": "2020-10-25T15:22:13.656147Z",
     "iopub.status.busy": "2020-10-25T15:22:13.652210Z",
     "iopub.status.idle": "2020-10-25T15:22:13.658880Z",
     "shell.execute_reply": "2020-10-25T15:22:13.658504Z"
    },
    "papermill": {
     "duration": 0.081373,
     "end_time": "2020-10-25T15:22:13.658965",
     "exception": false,
     "start_time": "2020-10-25T15:22:13.577592",
     "status": "completed"
    },
    "tags": []
   },
   "outputs": [],
   "source": [
    "# le asigno a cada combinacion de fila/columna, el valor sin apostrofe.\n",
    "data.loc[27822,'duration (seconds)'] = 2\n",
    "data.loc[35692,'duration (seconds)'] = 8\n",
    "data.loc[58590,'duration (seconds)'] = 0.5"
   ]
  },
  {
   "cell_type": "code",
   "execution_count": 19,
   "metadata": {
    "execution": {
     "iopub.execute_input": "2020-10-25T15:22:13.823548Z",
     "iopub.status.busy": "2020-10-25T15:22:13.822619Z",
     "iopub.status.idle": "2020-10-25T15:22:13.827350Z",
     "shell.execute_reply": "2020-10-25T15:22:13.826890Z"
    },
    "papermill": {
     "duration": 0.096633,
     "end_time": "2020-10-25T15:22:13.827425",
     "exception": false,
     "start_time": "2020-10-25T15:22:13.730792",
     "status": "completed"
    },
    "tags": []
   },
   "outputs": [],
   "source": [
    "# ahora si, procedemos a convertir el tipo de datos a float64\n",
    "\n",
    "data['duration(seconds)_num']=data['duration (seconds)'].astype('float64')"
   ]
  },
  {
   "cell_type": "markdown",
   "metadata": {
    "papermill": {
     "duration": 0.068924,
     "end_time": "2020-10-25T15:22:13.965743",
     "exception": false,
     "start_time": "2020-10-25T15:22:13.896819",
     "status": "completed"
    },
    "tags": []
   },
   "source": [
    "**********************"
   ]
  },
  {
   "cell_type": "markdown",
   "metadata": {
    "papermill": {
     "duration": 0.070047,
     "end_time": "2020-10-25T15:22:14.105092",
     "exception": false,
     "start_time": "2020-10-25T15:22:14.035045",
     "status": "completed"
    },
    "tags": []
   },
   "source": [
    "#4° OBSERVACIÓN. DATE POSTED FIGURA COMO OBJECT<br>\n",
    "<br>\n",
    "Enfoque: convertirlo a datetime64"
   ]
  },
  {
   "cell_type": "code",
   "execution_count": 20,
   "metadata": {
    "execution": {
     "iopub.execute_input": "2020-10-25T15:22:14.259195Z",
     "iopub.status.busy": "2020-10-25T15:22:14.258620Z",
     "iopub.status.idle": "2020-10-25T15:22:14.306149Z",
     "shell.execute_reply": "2020-10-25T15:22:14.305728Z"
    },
    "papermill": {
     "duration": 0.129809,
     "end_time": "2020-10-25T15:22:14.306239",
     "exception": false,
     "start_time": "2020-10-25T15:22:14.176430",
     "status": "completed"
    },
    "tags": []
   },
   "outputs": [],
   "source": [
    "data['datePosted_dat']=data['date posted'].astype('datetime64')\n",
    "#este no dio problemas. Ya tenemos la conversión"
   ]
  },
  {
   "cell_type": "markdown",
   "metadata": {
    "papermill": {
     "duration": 0.0702,
     "end_time": "2020-10-25T15:22:14.446881",
     "exception": false,
     "start_time": "2020-10-25T15:22:14.376681",
     "status": "completed"
    },
    "tags": []
   },
   "source": [
    "Terminamos por el momento con las conversiones de datos. Proximo paso: tratamiento de nulos"
   ]
  },
  {
   "cell_type": "markdown",
   "metadata": {
    "papermill": {
     "duration": 0.070014,
     "end_time": "2020-10-25T15:22:14.586857",
     "exception": false,
     "start_time": "2020-10-25T15:22:14.516843",
     "status": "completed"
    },
    "tags": []
   },
   "source": [
    "****************************************************************************************"
   ]
  },
  {
   "cell_type": "markdown",
   "metadata": {
    "papermill": {
     "duration": 0.071125,
     "end_time": "2020-10-25T15:22:14.728227",
     "exception": false,
     "start_time": "2020-10-25T15:22:14.657102",
     "status": "completed"
    },
    "tags": []
   },
   "source": [
    "![The kaggle logo][3]\n",
    "[3]: https://elcomercio.pe/resizer/CMBy5GAqgqFYqvWBHQFqMM58u7A=/580x330/smart/filters:format(jpeg):quality(75)/cloudfront-us-east-1.images.arcpublishing.com/elcomercio/3RKS3OTR4BFUBIXJOKYADRE4AI.jpg"
   ]
  },
  {
   "cell_type": "markdown",
   "metadata": {
    "papermill": {
     "duration": 0.069485,
     "end_time": "2020-10-25T15:22:14.868645",
     "exception": false,
     "start_time": "2020-10-25T15:22:14.799160",
     "status": "completed"
    },
    "tags": []
   },
   "source": [
    "#TRATAMIENTO DE NULOS"
   ]
  },
  {
   "cell_type": "markdown",
   "metadata": {
    "papermill": {
     "duration": 0.068156,
     "end_time": "2020-10-25T15:22:15.005308",
     "exception": false,
     "start_time": "2020-10-25T15:22:14.937152",
     "status": "completed"
    },
    "tags": []
   },
   "source": [
    "Veamos como estan nuestros datos"
   ]
  },
  {
   "cell_type": "code",
   "execution_count": 21,
   "metadata": {
    "execution": {
     "iopub.execute_input": "2020-10-25T15:22:15.147998Z",
     "iopub.status.busy": "2020-10-25T15:22:15.147557Z",
     "iopub.status.idle": "2020-10-25T15:22:15.351481Z",
     "shell.execute_reply": "2020-10-25T15:22:15.351033Z"
    },
    "papermill": {
     "duration": 0.277955,
     "end_time": "2020-10-25T15:22:15.351567",
     "exception": false,
     "start_time": "2020-10-25T15:22:15.073612",
     "status": "completed"
    },
    "tags": []
   },
   "outputs": [
    {
     "data": {
      "text/html": [
       "<div>\n",
       "<style scoped>\n",
       "    .dataframe tbody tr th:only-of-type {\n",
       "        vertical-align: middle;\n",
       "    }\n",
       "\n",
       "    .dataframe tbody tr th {\n",
       "        vertical-align: top;\n",
       "    }\n",
       "\n",
       "    .dataframe thead th {\n",
       "        text-align: right;\n",
       "    }\n",
       "</style>\n",
       "<table border=\"1\" class=\"dataframe\">\n",
       "  <thead>\n",
       "    <tr style=\"text-align: right;\">\n",
       "      <th></th>\n",
       "      <th>variable</th>\n",
       "      <th>q_nan</th>\n",
       "      <th>p_nan</th>\n",
       "      <th>q_zeros</th>\n",
       "      <th>p_zeros</th>\n",
       "      <th>unique</th>\n",
       "      <th>type</th>\n",
       "    </tr>\n",
       "  </thead>\n",
       "  <tbody>\n",
       "    <tr>\n",
       "      <th>0</th>\n",
       "      <td>datetime</td>\n",
       "      <td>0</td>\n",
       "      <td>0.000000</td>\n",
       "      <td>0</td>\n",
       "      <td>0.0</td>\n",
       "      <td>69585</td>\n",
       "      <td>object</td>\n",
       "    </tr>\n",
       "    <tr>\n",
       "      <th>1</th>\n",
       "      <td>city</td>\n",
       "      <td>0</td>\n",
       "      <td>0.000000</td>\n",
       "      <td>0</td>\n",
       "      <td>0.0</td>\n",
       "      <td>19899</td>\n",
       "      <td>object</td>\n",
       "    </tr>\n",
       "    <tr>\n",
       "      <th>2</th>\n",
       "      <td>state</td>\n",
       "      <td>5797</td>\n",
       "      <td>0.072164</td>\n",
       "      <td>0</td>\n",
       "      <td>0.0</td>\n",
       "      <td>67</td>\n",
       "      <td>object</td>\n",
       "    </tr>\n",
       "    <tr>\n",
       "      <th>3</th>\n",
       "      <td>country</td>\n",
       "      <td>9669</td>\n",
       "      <td>0.120364</td>\n",
       "      <td>0</td>\n",
       "      <td>0.0</td>\n",
       "      <td>5</td>\n",
       "      <td>object</td>\n",
       "    </tr>\n",
       "    <tr>\n",
       "      <th>4</th>\n",
       "      <td>shape</td>\n",
       "      <td>1932</td>\n",
       "      <td>0.024050</td>\n",
       "      <td>0</td>\n",
       "      <td>0.0</td>\n",
       "      <td>29</td>\n",
       "      <td>object</td>\n",
       "    </tr>\n",
       "    <tr>\n",
       "      <th>5</th>\n",
       "      <td>duration (seconds)</td>\n",
       "      <td>0</td>\n",
       "      <td>0.000000</td>\n",
       "      <td>0</td>\n",
       "      <td>0.0</td>\n",
       "      <td>703</td>\n",
       "      <td>object</td>\n",
       "    </tr>\n",
       "    <tr>\n",
       "      <th>6</th>\n",
       "      <td>duration (hours/min)</td>\n",
       "      <td>0</td>\n",
       "      <td>0.000000</td>\n",
       "      <td>0</td>\n",
       "      <td>0.0</td>\n",
       "      <td>8349</td>\n",
       "      <td>object</td>\n",
       "    </tr>\n",
       "    <tr>\n",
       "      <th>7</th>\n",
       "      <td>comments</td>\n",
       "      <td>15</td>\n",
       "      <td>0.000187</td>\n",
       "      <td>0</td>\n",
       "      <td>0.0</td>\n",
       "      <td>79996</td>\n",
       "      <td>object</td>\n",
       "    </tr>\n",
       "    <tr>\n",
       "      <th>8</th>\n",
       "      <td>date posted</td>\n",
       "      <td>0</td>\n",
       "      <td>0.000000</td>\n",
       "      <td>0</td>\n",
       "      <td>0.0</td>\n",
       "      <td>317</td>\n",
       "      <td>object</td>\n",
       "    </tr>\n",
       "    <tr>\n",
       "      <th>9</th>\n",
       "      <td>latitude</td>\n",
       "      <td>0</td>\n",
       "      <td>0.000000</td>\n",
       "      <td>0</td>\n",
       "      <td>0.0</td>\n",
       "      <td>23311</td>\n",
       "      <td>object</td>\n",
       "    </tr>\n",
       "    <tr>\n",
       "      <th>10</th>\n",
       "      <td>longitude</td>\n",
       "      <td>0</td>\n",
       "      <td>0.000000</td>\n",
       "      <td>0</td>\n",
       "      <td>0.0</td>\n",
       "      <td>19454</td>\n",
       "      <td>float64</td>\n",
       "    </tr>\n",
       "    <tr>\n",
       "      <th>11</th>\n",
       "      <td>datetime_dat</td>\n",
       "      <td>0</td>\n",
       "      <td>0.000000</td>\n",
       "      <td>0</td>\n",
       "      <td>0.0</td>\n",
       "      <td>69433</td>\n",
       "      <td>datetime64[ns]</td>\n",
       "    </tr>\n",
       "    <tr>\n",
       "      <th>12</th>\n",
       "      <td>latitude_num</td>\n",
       "      <td>0</td>\n",
       "      <td>0.000000</td>\n",
       "      <td>0</td>\n",
       "      <td>0.0</td>\n",
       "      <td>19907</td>\n",
       "      <td>float64</td>\n",
       "    </tr>\n",
       "    <tr>\n",
       "      <th>13</th>\n",
       "      <td>duration(seconds)_num</td>\n",
       "      <td>0</td>\n",
       "      <td>0.000000</td>\n",
       "      <td>0</td>\n",
       "      <td>0.0</td>\n",
       "      <td>533</td>\n",
       "      <td>float64</td>\n",
       "    </tr>\n",
       "    <tr>\n",
       "      <th>14</th>\n",
       "      <td>datePosted_dat</td>\n",
       "      <td>0</td>\n",
       "      <td>0.000000</td>\n",
       "      <td>0</td>\n",
       "      <td>0.0</td>\n",
       "      <td>317</td>\n",
       "      <td>datetime64[ns]</td>\n",
       "    </tr>\n",
       "  </tbody>\n",
       "</table>\n",
       "</div>"
      ],
      "text/plain": [
       "                 variable  q_nan     p_nan  q_zeros  p_zeros  unique  \\\n",
       "0                datetime      0  0.000000        0      0.0   69585   \n",
       "1                    city      0  0.000000        0      0.0   19899   \n",
       "2                   state   5797  0.072164        0      0.0      67   \n",
       "3                 country   9669  0.120364        0      0.0       5   \n",
       "4                   shape   1932  0.024050        0      0.0      29   \n",
       "5      duration (seconds)      0  0.000000        0      0.0     703   \n",
       "6    duration (hours/min)      0  0.000000        0      0.0    8349   \n",
       "7                comments     15  0.000187        0      0.0   79996   \n",
       "8             date posted      0  0.000000        0      0.0     317   \n",
       "9                latitude      0  0.000000        0      0.0   23311   \n",
       "10             longitude       0  0.000000        0      0.0   19454   \n",
       "11           datetime_dat      0  0.000000        0      0.0   69433   \n",
       "12           latitude_num      0  0.000000        0      0.0   19907   \n",
       "13  duration(seconds)_num      0  0.000000        0      0.0     533   \n",
       "14         datePosted_dat      0  0.000000        0      0.0     317   \n",
       "\n",
       "              type  \n",
       "0           object  \n",
       "1           object  \n",
       "2           object  \n",
       "3           object  \n",
       "4           object  \n",
       "5           object  \n",
       "6           object  \n",
       "7           object  \n",
       "8           object  \n",
       "9           object  \n",
       "10         float64  \n",
       "11  datetime64[ns]  \n",
       "12         float64  \n",
       "13         float64  \n",
       "14  datetime64[ns]  "
      ]
     },
     "execution_count": 21,
     "metadata": {},
     "output_type": "execute_result"
    }
   ],
   "source": [
    "status(data)"
   ]
  },
  {
   "cell_type": "markdown",
   "metadata": {
    "papermill": {
     "duration": 0.069952,
     "end_time": "2020-10-25T15:22:15.496412",
     "exception": false,
     "start_time": "2020-10-25T15:22:15.426460",
     "status": "completed"
    },
    "tags": []
   },
   "source": [
    "* recordemos que estamos duplicando las columnas, al final eliminaremos las originales que ya tienen su \"arreglo\"\n",
    "* vemos que hay nulos en state, country, shape y comments"
   ]
  },
  {
   "cell_type": "markdown",
   "metadata": {
    "papermill": {
     "duration": 0.07131,
     "end_time": "2020-10-25T15:22:15.637375",
     "exception": false,
     "start_time": "2020-10-25T15:22:15.566065",
     "status": "completed"
    },
    "tags": []
   },
   "source": [
    "#5° OBSERVACIÓN: NULOS EN COUNTRY, STATE y CITY<br>\n",
    "<br>\n",
    "Enfoque: obtenerlos a partir de sus coordenadas"
   ]
  },
  {
   "cell_type": "markdown",
   "metadata": {
    "papermill": {
     "duration": 0.072791,
     "end_time": "2020-10-25T15:22:15.781490",
     "exception": false,
     "start_time": "2020-10-25T15:22:15.708699",
     "status": "completed"
    },
    "tags": []
   },
   "source": [
    "Hay 9669 nulos en country. Podriamos eliminarlos...<br>\n",
    "..Pero si yo tengo correctamente las coordenadas, podría obtener su país a traves de ellas<br>\n",
    "Esto se logra gracias a reverse_geocoding"
   ]
  },
  {
   "cell_type": "code",
   "execution_count": 22,
   "metadata": {
    "execution": {
     "iopub.execute_input": "2020-10-25T15:22:15.947215Z",
     "iopub.status.busy": "2020-10-25T15:22:15.946617Z",
     "iopub.status.idle": "2020-10-25T15:22:15.949436Z",
     "shell.execute_reply": "2020-10-25T15:22:15.948808Z"
    },
    "papermill": {
     "duration": 0.097278,
     "end_time": "2020-10-25T15:22:15.949535",
     "exception": false,
     "start_time": "2020-10-25T15:22:15.852257",
     "status": "completed"
    },
    "tags": []
   },
   "outputs": [],
   "source": [
    "# creo una variable con la tupla de lat y long (para pasarle a reverse_geocoding y haga su magia)\n",
    "coordinates = list(zip(data['latitude_num'], data['longitude ']))"
   ]
  },
  {
   "cell_type": "code",
   "execution_count": 23,
   "metadata": {
    "execution": {
     "iopub.execute_input": "2020-10-25T15:22:16.166095Z",
     "iopub.status.busy": "2020-10-25T15:22:16.165632Z",
     "iopub.status.idle": "2020-10-25T15:22:16.168180Z",
     "shell.execute_reply": "2020-10-25T15:22:16.168597Z"
    },
    "papermill": {
     "duration": 0.113296,
     "end_time": "2020-10-25T15:22:16.168709",
     "exception": false,
     "start_time": "2020-10-25T15:22:16.055413",
     "status": "completed"
    },
    "tags": []
   },
   "outputs": [],
   "source": [
    "import reverse_geocoder as rg"
   ]
  },
  {
   "cell_type": "code",
   "execution_count": 24,
   "metadata": {
    "execution": {
     "iopub.execute_input": "2020-10-25T15:22:16.313174Z",
     "iopub.status.busy": "2020-10-25T15:22:16.312450Z",
     "iopub.status.idle": "2020-10-25T15:22:17.613196Z",
     "shell.execute_reply": "2020-10-25T15:22:17.613605Z"
    },
    "papermill": {
     "duration": 1.374978,
     "end_time": "2020-10-25T15:22:17.613712",
     "exception": false,
     "start_time": "2020-10-25T15:22:16.238734",
     "status": "completed"
    },
    "tags": []
   },
   "outputs": [
    {
     "name": "stdout",
     "output_type": "stream",
     "text": [
      "Loading formatted geocoded file...\n"
     ]
    }
   ],
   "source": [
    "# le paso al geocoding mis coordenadas para que me devuelva países en una lista\n",
    "results = rg.search(coordinates) # default mode = 2\n",
    "# print(results)"
   ]
  },
  {
   "cell_type": "markdown",
   "metadata": {
    "papermill": {
     "duration": 0.07182,
     "end_time": "2020-10-25T15:22:17.758075",
     "exception": false,
     "start_time": "2020-10-25T15:22:17.686255",
     "status": "completed"
    },
    "tags": []
   },
   "source": [
    "Por ejemplo, para el registro 1 nos devuelve:<br>\n",
    "'lat' : '29.38663':<br>\n",
    "'lon' : '-98.61797':<br>\n",
    "'name': 'Lackland Air Force Base':<br>\n",
    "'admin1': 'Texas':<br>\n",
    "'admin2': 'Bexar County' (este campo no lo vamos a usar)<br>\n",
    "'cc': 'US':<br>"
   ]
  },
  {
   "cell_type": "markdown",
   "metadata": {
    "papermill": {
     "duration": 0.070248,
     "end_time": "2020-10-25T15:22:17.900458",
     "exception": false,
     "start_time": "2020-10-25T15:22:17.830210",
     "status": "completed"
    },
    "tags": []
   },
   "source": [
    "Ahora veamos que tiene el primer registro de nuestros datos"
   ]
  },
  {
   "cell_type": "code",
   "execution_count": 25,
   "metadata": {
    "execution": {
     "iopub.execute_input": "2020-10-25T15:22:18.051434Z",
     "iopub.status.busy": "2020-10-25T15:22:18.050635Z",
     "iopub.status.idle": "2020-10-25T15:22:18.054704Z",
     "shell.execute_reply": "2020-10-25T15:22:18.054219Z"
    },
    "papermill": {
     "duration": 0.081891,
     "end_time": "2020-10-25T15:22:18.054782",
     "exception": false,
     "start_time": "2020-10-25T15:22:17.972891",
     "status": "completed"
    },
    "tags": []
   },
   "outputs": [
    {
     "data": {
      "text/plain": [
       "latitude          29.38421\n",
       "longitude         -98.5811\n",
       "city          lackland afb\n",
       "state                   tx\n",
       "country                NaN\n",
       "Name: 1, dtype: object"
      ]
     },
     "execution_count": 25,
     "metadata": {},
     "output_type": "execute_result"
    }
   ],
   "source": [
    "data.loc[1,['latitude','longitude ','city','state','country']]\n",
    "# los datos coinciden. Este avistamiento fue en Lackland afb(AirForce Base), Texas.\n",
    "# latitud y longitud vemos que es la misma practicamente (es lo que usa para encontrar países)\n",
    "# a partir de ahi obtuve su país (aparece como cc), y tambien su estado(admin1) y ciudad(name)"
   ]
  },
  {
   "cell_type": "markdown",
   "metadata": {
    "papermill": {
     "duration": 0.071086,
     "end_time": "2020-10-25T15:22:18.196924",
     "exception": false,
     "start_time": "2020-10-25T15:22:18.125838",
     "status": "completed"
    },
    "tags": []
   },
   "source": [
    "¿Qué hacemos ahora?"
   ]
  },
  {
   "cell_type": "code",
   "execution_count": 26,
   "metadata": {
    "execution": {
     "iopub.execute_input": "2020-10-25T15:22:18.347698Z",
     "iopub.status.busy": "2020-10-25T15:22:18.347259Z",
     "iopub.status.idle": "2020-10-25T15:22:18.569038Z",
     "shell.execute_reply": "2020-10-25T15:22:18.568429Z"
    },
    "papermill": {
     "duration": 0.297216,
     "end_time": "2020-10-25T15:22:18.569137",
     "exception": false,
     "start_time": "2020-10-25T15:22:18.271921",
     "status": "completed"
    },
    "tags": []
   },
   "outputs": [],
   "source": [
    "# ahora unimos nuestra data con lo que nos interesa de la lista. Primero convertimos esa lista en un dataframe\n",
    "results_df = pd.DataFrame(results)"
   ]
  },
  {
   "cell_type": "code",
   "execution_count": 27,
   "metadata": {
    "execution": {
     "iopub.execute_input": "2020-10-25T15:22:18.787860Z",
     "iopub.status.busy": "2020-10-25T15:22:18.786075Z",
     "iopub.status.idle": "2020-10-25T15:22:18.793050Z",
     "shell.execute_reply": "2020-10-25T15:22:18.792679Z"
    },
    "papermill": {
     "duration": 0.117793,
     "end_time": "2020-10-25T15:22:18.793130",
     "exception": false,
     "start_time": "2020-10-25T15:22:18.675337",
     "status": "completed"
    },
    "tags": []
   },
   "outputs": [],
   "source": [
    "# ahora simplemente seleccionamos que columnas queremos agregar de results_df a nuestros datos\n",
    "# ¿se acuerdan que reiniciamos el indice cuando eliminamos un registro en el 2° problema? Fue para hacer esta union facilmente\n",
    "\n",
    "data['country_c']=results_df['cc']\n",
    "data['city_c']=results_df['name']\n",
    "data['state_c'] = results_df['admin1']"
   ]
  },
  {
   "cell_type": "code",
   "execution_count": 28,
   "metadata": {
    "execution": {
     "iopub.execute_input": "2020-10-25T15:22:18.940167Z",
     "iopub.status.busy": "2020-10-25T15:22:18.939689Z",
     "iopub.status.idle": "2020-10-25T15:22:18.984558Z",
     "shell.execute_reply": "2020-10-25T15:22:18.984173Z"
    },
    "papermill": {
     "duration": 0.119794,
     "end_time": "2020-10-25T15:22:18.984638",
     "exception": false,
     "start_time": "2020-10-25T15:22:18.864844",
     "status": "completed"
    },
    "tags": []
   },
   "outputs": [
    {
     "data": {
      "text/html": [
       "<div>\n",
       "<style scoped>\n",
       "    .dataframe tbody tr th:only-of-type {\n",
       "        vertical-align: middle;\n",
       "    }\n",
       "\n",
       "    .dataframe tbody tr th {\n",
       "        vertical-align: top;\n",
       "    }\n",
       "\n",
       "    .dataframe thead th {\n",
       "        text-align: right;\n",
       "    }\n",
       "</style>\n",
       "<table border=\"1\" class=\"dataframe\">\n",
       "  <thead>\n",
       "    <tr style=\"text-align: right;\">\n",
       "      <th></th>\n",
       "      <th>country</th>\n",
       "      <th>country_c</th>\n",
       "      <th>state</th>\n",
       "      <th>state_c</th>\n",
       "      <th>city</th>\n",
       "      <th>city_c</th>\n",
       "    </tr>\n",
       "  </thead>\n",
       "  <tbody>\n",
       "    <tr>\n",
       "      <th>0</th>\n",
       "      <td>us</td>\n",
       "      <td>US</td>\n",
       "      <td>tx</td>\n",
       "      <td>Texas</td>\n",
       "      <td>san marcos</td>\n",
       "      <td>San Marcos</td>\n",
       "    </tr>\n",
       "    <tr>\n",
       "      <th>1</th>\n",
       "      <td>NaN</td>\n",
       "      <td>US</td>\n",
       "      <td>tx</td>\n",
       "      <td>Texas</td>\n",
       "      <td>lackland afb</td>\n",
       "      <td>Lackland Air Force Base</td>\n",
       "    </tr>\n",
       "    <tr>\n",
       "      <th>2</th>\n",
       "      <td>gb</td>\n",
       "      <td>GB</td>\n",
       "      <td>NaN</td>\n",
       "      <td>England</td>\n",
       "      <td>chester (uk/england)</td>\n",
       "      <td>Blacon</td>\n",
       "    </tr>\n",
       "    <tr>\n",
       "      <th>3</th>\n",
       "      <td>us</td>\n",
       "      <td>US</td>\n",
       "      <td>tx</td>\n",
       "      <td>Texas</td>\n",
       "      <td>edna</td>\n",
       "      <td>Edna</td>\n",
       "    </tr>\n",
       "    <tr>\n",
       "      <th>4</th>\n",
       "      <td>us</td>\n",
       "      <td>US</td>\n",
       "      <td>hi</td>\n",
       "      <td>Hawaii</td>\n",
       "      <td>kaneohe</td>\n",
       "      <td>Kane'ohe</td>\n",
       "    </tr>\n",
       "    <tr>\n",
       "      <th>...</th>\n",
       "      <td>...</td>\n",
       "      <td>...</td>\n",
       "      <td>...</td>\n",
       "      <td>...</td>\n",
       "      <td>...</td>\n",
       "      <td>...</td>\n",
       "    </tr>\n",
       "    <tr>\n",
       "      <th>80326</th>\n",
       "      <td>us</td>\n",
       "      <td>US</td>\n",
       "      <td>tn</td>\n",
       "      <td>Tennessee</td>\n",
       "      <td>nashville</td>\n",
       "      <td>Nashville</td>\n",
       "    </tr>\n",
       "    <tr>\n",
       "      <th>80327</th>\n",
       "      <td>us</td>\n",
       "      <td>US</td>\n",
       "      <td>id</td>\n",
       "      <td>Idaho</td>\n",
       "      <td>boise</td>\n",
       "      <td>Boise</td>\n",
       "    </tr>\n",
       "    <tr>\n",
       "      <th>80328</th>\n",
       "      <td>us</td>\n",
       "      <td>US</td>\n",
       "      <td>ca</td>\n",
       "      <td>California</td>\n",
       "      <td>napa</td>\n",
       "      <td>Napa</td>\n",
       "    </tr>\n",
       "    <tr>\n",
       "      <th>80329</th>\n",
       "      <td>us</td>\n",
       "      <td>US</td>\n",
       "      <td>va</td>\n",
       "      <td>Virginia</td>\n",
       "      <td>vienna</td>\n",
       "      <td>Vienna</td>\n",
       "    </tr>\n",
       "    <tr>\n",
       "      <th>80330</th>\n",
       "      <td>us</td>\n",
       "      <td>US</td>\n",
       "      <td>ok</td>\n",
       "      <td>Oklahoma</td>\n",
       "      <td>edmond</td>\n",
       "      <td>Edmond</td>\n",
       "    </tr>\n",
       "  </tbody>\n",
       "</table>\n",
       "<p>80331 rows × 6 columns</p>\n",
       "</div>"
      ],
      "text/plain": [
       "      country country_c state     state_c                  city  \\\n",
       "0          us        US    tx       Texas            san marcos   \n",
       "1         NaN        US    tx       Texas          lackland afb   \n",
       "2          gb        GB   NaN     England  chester (uk/england)   \n",
       "3          us        US    tx       Texas                  edna   \n",
       "4          us        US    hi      Hawaii               kaneohe   \n",
       "...       ...       ...   ...         ...                   ...   \n",
       "80326      us        US    tn   Tennessee             nashville   \n",
       "80327      us        US    id       Idaho                 boise   \n",
       "80328      us        US    ca  California                  napa   \n",
       "80329      us        US    va    Virginia                vienna   \n",
       "80330      us        US    ok    Oklahoma                edmond   \n",
       "\n",
       "                        city_c  \n",
       "0                   San Marcos  \n",
       "1      Lackland Air Force Base  \n",
       "2                       Blacon  \n",
       "3                         Edna  \n",
       "4                     Kane'ohe  \n",
       "...                        ...  \n",
       "80326                Nashville  \n",
       "80327                    Boise  \n",
       "80328                     Napa  \n",
       "80329                   Vienna  \n",
       "80330                   Edmond  \n",
       "\n",
       "[80331 rows x 6 columns]"
      ]
     },
     "execution_count": 28,
     "metadata": {},
     "output_type": "execute_result"
    }
   ],
   "source": [
    "# et voilà, tenemos data de todos esos paises que eran aparecian nulos, a partir de sus coordenadas\n",
    "(data[['country','country_c','state','state_c','city','city_c']])\n",
    "# por ejemplo para el registro 1, venia país nulo. Sin embargo ahora sabemos que es de US. Lo confirma que el estado es Texas"
   ]
  },
  {
   "cell_type": "markdown",
   "metadata": {
    "papermill": {
     "duration": 0.072408,
     "end_time": "2020-10-25T15:22:19.128964",
     "exception": false,
     "start_time": "2020-10-25T15:22:19.056556",
     "status": "completed"
    },
    "tags": []
   },
   "source": [
    "Nota: hay algunos estados en esta nueva columna state_c que vienen vacios, a pesar de que los obtuvimos con geocoding<br>\n",
    "Vamos a reemplazarlos por el mismo valor que aparezca en ciudad"
   ]
  },
  {
   "cell_type": "code",
   "execution_count": 29,
   "metadata": {
    "execution": {
     "iopub.execute_input": "2020-10-25T15:22:19.275063Z",
     "iopub.status.busy": "2020-10-25T15:22:19.274617Z",
     "iopub.status.idle": "2020-10-25T15:22:19.276850Z",
     "shell.execute_reply": "2020-10-25T15:22:19.276414Z"
    },
    "papermill": {
     "duration": 0.075806,
     "end_time": "2020-10-25T15:22:19.276920",
     "exception": false,
     "start_time": "2020-10-25T15:22:19.201114",
     "status": "completed"
    },
    "tags": []
   },
   "outputs": [],
   "source": [
    "import numpy as np"
   ]
  },
  {
   "cell_type": "code",
   "execution_count": 30,
   "metadata": {
    "execution": {
     "iopub.execute_input": "2020-10-25T15:22:19.433501Z",
     "iopub.status.busy": "2020-10-25T15:22:19.433019Z",
     "iopub.status.idle": "2020-10-25T15:22:19.448374Z",
     "shell.execute_reply": "2020-10-25T15:22:19.447934Z"
    },
    "papermill": {
     "duration": 0.10079,
     "end_time": "2020-10-25T15:22:19.448460",
     "exception": false,
     "start_time": "2020-10-25T15:22:19.347670",
     "status": "completed"
    },
    "tags": []
   },
   "outputs": [],
   "source": [
    "# primero los pasamos a nulo\n",
    "data['state_c'] = data['state_c'].replace({'': np.nan})\n",
    "\n",
    "# y ahora a esos nulos le asignamos el nombre de la ciudad\n",
    "data['state_c'] = data['state_c'].fillna(data['city_c'])"
   ]
  },
  {
   "cell_type": "markdown",
   "metadata": {
    "papermill": {
     "duration": 0.072181,
     "end_time": "2020-10-25T15:22:19.592737",
     "exception": false,
     "start_time": "2020-10-25T15:22:19.520556",
     "status": "completed"
    },
    "tags": []
   },
   "source": [
    "****************"
   ]
  },
  {
   "cell_type": "markdown",
   "metadata": {
    "papermill": {
     "duration": 0.07268,
     "end_time": "2020-10-25T15:22:19.737497",
     "exception": false,
     "start_time": "2020-10-25T15:22:19.664817",
     "status": "completed"
    },
    "tags": []
   },
   "source": [
    "#6° OBSERVACIÓN: NULOS EN SHAPE Y COMMENTS"
   ]
  },
  {
   "cell_type": "code",
   "execution_count": 31,
   "metadata": {
    "execution": {
     "iopub.execute_input": "2020-10-25T15:22:19.892192Z",
     "iopub.status.busy": "2020-10-25T15:22:19.891396Z",
     "iopub.status.idle": "2020-10-25T15:22:19.904900Z",
     "shell.execute_reply": "2020-10-25T15:22:19.904385Z"
    },
    "papermill": {
     "duration": 0.093935,
     "end_time": "2020-10-25T15:22:19.905003",
     "exception": false,
     "start_time": "2020-10-25T15:22:19.811068",
     "status": "completed"
    },
    "tags": []
   },
   "outputs": [],
   "source": [
    "# Enfoque: aca si no podemos hacer nada por estos nulos, solo le asignaremos un string 'No data'\n",
    "data['shape'] = data['shape'].fillna(\"No data\")\n",
    "data['comments'] = data['comments'].fillna(\"No data\")"
   ]
  },
  {
   "cell_type": "markdown",
   "metadata": {
    "papermill": {
     "duration": 0.109432,
     "end_time": "2020-10-25T15:22:20.122903",
     "exception": false,
     "start_time": "2020-10-25T15:22:20.013471",
     "status": "completed"
    },
    "tags": []
   },
   "source": [
    "***********************************************************************"
   ]
  },
  {
   "cell_type": "markdown",
   "metadata": {
    "papermill": {
     "duration": 0.108989,
     "end_time": "2020-10-25T15:22:20.341438",
     "exception": false,
     "start_time": "2020-10-25T15:22:20.232449",
     "status": "completed"
    },
    "tags": []
   },
   "source": [
    "#OTRAS TRANSFORMACIONES"
   ]
  },
  {
   "cell_type": "markdown",
   "metadata": {
    "papermill": {
     "duration": 0.108817,
     "end_time": "2020-10-25T15:22:20.559485",
     "exception": false,
     "start_time": "2020-10-25T15:22:20.450668",
     "status": "completed"
    },
    "tags": []
   },
   "source": [
    "#7° OBSERVACIÓN: CREAR NUEVA COLUMNA DE TIEMPO DE AVISTAMIENTO (MINUTOS)<br>\n",
    "Enfoque: Crearemos la columna a partir de la columna de segundos, que tiene datos consistentes"
   ]
  },
  {
   "cell_type": "code",
   "execution_count": 32,
   "metadata": {
    "execution": {
     "iopub.execute_input": "2020-10-25T15:22:20.780221Z",
     "iopub.status.busy": "2020-10-25T15:22:20.779484Z",
     "iopub.status.idle": "2020-10-25T15:22:20.784105Z",
     "shell.execute_reply": "2020-10-25T15:22:20.783530Z"
    },
    "papermill": {
     "duration": 0.116949,
     "end_time": "2020-10-25T15:22:20.784199",
     "exception": false,
     "start_time": "2020-10-25T15:22:20.667250",
     "status": "completed"
    },
    "tags": []
   },
   "outputs": [],
   "source": [
    "# 'columna en segundos' / 60 = 'columna en minutos'\n",
    "data['duration(minutes)_num']=data['duration(seconds)_num'] /60"
   ]
  },
  {
   "cell_type": "markdown",
   "metadata": {
    "papermill": {
     "duration": 0.108616,
     "end_time": "2020-10-25T15:22:21.001636",
     "exception": false,
     "start_time": "2020-10-25T15:22:20.893020",
     "status": "completed"
    },
    "tags": []
   },
   "source": [
    "#ULTIMOS PASOS"
   ]
  },
  {
   "cell_type": "markdown",
   "metadata": {
    "papermill": {
     "duration": 0.11287,
     "end_time": "2020-10-25T15:22:21.222769",
     "exception": false,
     "start_time": "2020-10-25T15:22:21.109899",
     "status": "completed"
    },
    "tags": []
   },
   "source": [
    "Eliminamos todas esas columnas originales que fueron tratadas"
   ]
  },
  {
   "cell_type": "code",
   "execution_count": 33,
   "metadata": {
    "execution": {
     "iopub.execute_input": "2020-10-25T15:22:21.444430Z",
     "iopub.status.busy": "2020-10-25T15:22:21.443916Z",
     "iopub.status.idle": "2020-10-25T15:22:21.467248Z",
     "shell.execute_reply": "2020-10-25T15:22:21.466777Z"
    },
    "papermill": {
     "duration": 0.135767,
     "end_time": "2020-10-25T15:22:21.467348",
     "exception": false,
     "start_time": "2020-10-25T15:22:21.331581",
     "status": "completed"
    },
    "tags": []
   },
   "outputs": [],
   "source": [
    "data=data.drop(['datetime','latitude','duration (seconds)','date posted','country','state','city','duration(seconds)_num'],axis=1)\n",
    "# elimino  tambien duration (hours/min) \n",
    "data=data.drop(['duration (hours/min)'],axis=1)"
   ]
  },
  {
   "cell_type": "markdown",
   "metadata": {
    "papermill": {
     "duration": 0.071036,
     "end_time": "2020-10-25T15:22:21.610130",
     "exception": false,
     "start_time": "2020-10-25T15:22:21.539094",
     "status": "completed"
    },
    "tags": []
   },
   "source": [
    "Cambiamos los nombres de las nuevas columnas, y las reordenamos"
   ]
  },
  {
   "cell_type": "code",
   "execution_count": 34,
   "metadata": {
    "execution": {
     "iopub.execute_input": "2020-10-25T15:22:21.760318Z",
     "iopub.status.busy": "2020-10-25T15:22:21.759647Z",
     "iopub.status.idle": "2020-10-25T15:22:21.777813Z",
     "shell.execute_reply": "2020-10-25T15:22:21.777270Z"
    },
    "papermill": {
     "duration": 0.095839,
     "end_time": "2020-10-25T15:22:21.777918",
     "exception": false,
     "start_time": "2020-10-25T15:22:21.682079",
     "status": "completed"
    },
    "tags": []
   },
   "outputs": [],
   "source": [
    "data = data.rename(columns={\"datetime_dat\": \"datetime\", \n",
    "                             \"latitude_num\": \"latitude\", \n",
    "                             'datePosted_dat' : 'datePosted',\n",
    "                             'country_c':'country',\n",
    "                             'state_c':'state',\n",
    "                             'city_c': 'city',\n",
    "                             'duration(minutes)_num': 'duration(minutes)',\n",
    "                             'longitude ': 'longitude' })\n",
    "\n",
    "data = data[[\"datetime\", \"country\", \"state\",\"city\",\"shape\",\"duration(minutes)\",\"comments\", \"datePosted\",\"latitude\",\"longitude\"]]"
   ]
  },
  {
   "cell_type": "markdown",
   "metadata": {
    "papermill": {
     "duration": 0.108785,
     "end_time": "2020-10-25T15:22:21.995720",
     "exception": false,
     "start_time": "2020-10-25T15:22:21.886935",
     "status": "completed"
    },
    "tags": []
   },
   "source": [
    "Y tenemos nuestro set de datos un poco más ordenado "
   ]
  },
  {
   "cell_type": "code",
   "execution_count": 35,
   "metadata": {
    "execution": {
     "iopub.execute_input": "2020-10-25T15:22:22.237328Z",
     "iopub.status.busy": "2020-10-25T15:22:22.218144Z",
     "iopub.status.idle": "2020-10-25T15:22:22.350781Z",
     "shell.execute_reply": "2020-10-25T15:22:22.350339Z"
    },
    "papermill": {
     "duration": 0.246786,
     "end_time": "2020-10-25T15:22:22.350856",
     "exception": false,
     "start_time": "2020-10-25T15:22:22.104070",
     "status": "completed"
    },
    "tags": []
   },
   "outputs": [
    {
     "data": {
      "text/html": [
       "<div>\n",
       "<style scoped>\n",
       "    .dataframe tbody tr th:only-of-type {\n",
       "        vertical-align: middle;\n",
       "    }\n",
       "\n",
       "    .dataframe tbody tr th {\n",
       "        vertical-align: top;\n",
       "    }\n",
       "\n",
       "    .dataframe thead th {\n",
       "        text-align: right;\n",
       "    }\n",
       "</style>\n",
       "<table border=\"1\" class=\"dataframe\">\n",
       "  <thead>\n",
       "    <tr style=\"text-align: right;\">\n",
       "      <th></th>\n",
       "      <th>variable</th>\n",
       "      <th>q_nan</th>\n",
       "      <th>p_nan</th>\n",
       "      <th>q_zeros</th>\n",
       "      <th>p_zeros</th>\n",
       "      <th>unique</th>\n",
       "      <th>type</th>\n",
       "    </tr>\n",
       "  </thead>\n",
       "  <tbody>\n",
       "    <tr>\n",
       "      <th>0</th>\n",
       "      <td>datetime</td>\n",
       "      <td>0</td>\n",
       "      <td>0.0</td>\n",
       "      <td>0</td>\n",
       "      <td>0.0</td>\n",
       "      <td>69433</td>\n",
       "      <td>datetime64[ns]</td>\n",
       "    </tr>\n",
       "    <tr>\n",
       "      <th>1</th>\n",
       "      <td>country</td>\n",
       "      <td>0</td>\n",
       "      <td>0.0</td>\n",
       "      <td>0</td>\n",
       "      <td>0.0</td>\n",
       "      <td>164</td>\n",
       "      <td>object</td>\n",
       "    </tr>\n",
       "    <tr>\n",
       "      <th>2</th>\n",
       "      <td>state</td>\n",
       "      <td>0</td>\n",
       "      <td>0.0</td>\n",
       "      <td>0</td>\n",
       "      <td>0.0</td>\n",
       "      <td>840</td>\n",
       "      <td>object</td>\n",
       "    </tr>\n",
       "    <tr>\n",
       "      <th>3</th>\n",
       "      <td>city</td>\n",
       "      <td>0</td>\n",
       "      <td>0.0</td>\n",
       "      <td>0</td>\n",
       "      <td>0.0</td>\n",
       "      <td>10676</td>\n",
       "      <td>object</td>\n",
       "    </tr>\n",
       "    <tr>\n",
       "      <th>4</th>\n",
       "      <td>shape</td>\n",
       "      <td>0</td>\n",
       "      <td>0.0</td>\n",
       "      <td>0</td>\n",
       "      <td>0.0</td>\n",
       "      <td>30</td>\n",
       "      <td>object</td>\n",
       "    </tr>\n",
       "    <tr>\n",
       "      <th>5</th>\n",
       "      <td>duration(minutes)</td>\n",
       "      <td>0</td>\n",
       "      <td>0.0</td>\n",
       "      <td>0</td>\n",
       "      <td>0.0</td>\n",
       "      <td>533</td>\n",
       "      <td>float64</td>\n",
       "    </tr>\n",
       "    <tr>\n",
       "      <th>6</th>\n",
       "      <td>comments</td>\n",
       "      <td>0</td>\n",
       "      <td>0.0</td>\n",
       "      <td>0</td>\n",
       "      <td>0.0</td>\n",
       "      <td>79997</td>\n",
       "      <td>object</td>\n",
       "    </tr>\n",
       "    <tr>\n",
       "      <th>7</th>\n",
       "      <td>datePosted</td>\n",
       "      <td>0</td>\n",
       "      <td>0.0</td>\n",
       "      <td>0</td>\n",
       "      <td>0.0</td>\n",
       "      <td>317</td>\n",
       "      <td>datetime64[ns]</td>\n",
       "    </tr>\n",
       "    <tr>\n",
       "      <th>8</th>\n",
       "      <td>latitude</td>\n",
       "      <td>0</td>\n",
       "      <td>0.0</td>\n",
       "      <td>0</td>\n",
       "      <td>0.0</td>\n",
       "      <td>19907</td>\n",
       "      <td>float64</td>\n",
       "    </tr>\n",
       "    <tr>\n",
       "      <th>9</th>\n",
       "      <td>longitude</td>\n",
       "      <td>0</td>\n",
       "      <td>0.0</td>\n",
       "      <td>0</td>\n",
       "      <td>0.0</td>\n",
       "      <td>19454</td>\n",
       "      <td>float64</td>\n",
       "    </tr>\n",
       "  </tbody>\n",
       "</table>\n",
       "</div>"
      ],
      "text/plain": [
       "            variable  q_nan  p_nan  q_zeros  p_zeros  unique            type\n",
       "0           datetime      0    0.0        0      0.0   69433  datetime64[ns]\n",
       "1            country      0    0.0        0      0.0     164          object\n",
       "2              state      0    0.0        0      0.0     840          object\n",
       "3               city      0    0.0        0      0.0   10676          object\n",
       "4              shape      0    0.0        0      0.0      30          object\n",
       "5  duration(minutes)      0    0.0        0      0.0     533         float64\n",
       "6           comments      0    0.0        0      0.0   79997          object\n",
       "7         datePosted      0    0.0        0      0.0     317  datetime64[ns]\n",
       "8           latitude      0    0.0        0      0.0   19907         float64\n",
       "9          longitude      0    0.0        0      0.0   19454         float64"
      ]
     },
     "execution_count": 35,
     "metadata": {},
     "output_type": "execute_result"
    }
   ],
   "source": [
    "status(data)"
   ]
  },
  {
   "cell_type": "markdown",
   "metadata": {
    "papermill": {
     "duration": 0.073822,
     "end_time": "2020-10-25T15:22:22.498051",
     "exception": false,
     "start_time": "2020-10-25T15:22:22.424229",
     "status": "completed"
    },
    "tags": []
   },
   "source": [
    "*************************"
   ]
  },
  {
   "cell_type": "markdown",
   "metadata": {
    "papermill": {
     "duration": 0.07299,
     "end_time": "2020-10-25T15:22:22.644501",
     "exception": false,
     "start_time": "2020-10-25T15:22:22.571511",
     "status": "completed"
    },
    "tags": []
   },
   "source": [
    "#(EDIT) 8° OBSERVACIÓN: ASIGNAR NOMBRE AMIGABLE A LOS PAISES"
   ]
  },
  {
   "cell_type": "markdown",
   "metadata": {
    "papermill": {
     "duration": 0.076714,
     "end_time": "2020-10-25T15:22:22.795061",
     "exception": false,
     "start_time": "2020-10-25T15:22:22.718347",
     "status": "completed"
    },
    "tags": []
   },
   "source": [
    "Mientras revisaba los ultimos detalles este notebook, se me ocurrio que para visualizar, estaria bueno tener los nombres de los países<br>\n",
    "En teoría es simple... seria buscar una tabla de países y hacer el join. Veremos que sale"
   ]
  },
  {
   "cell_type": "markdown",
   "metadata": {
    "papermill": {
     "duration": 0.073195,
     "end_time": "2020-10-25T15:22:22.941597",
     "exception": false,
     "start_time": "2020-10-25T15:22:22.868402",
     "status": "completed"
    },
    "tags": []
   },
   "source": [
    "<img src=\"https://thumbs.gfycat.com/DelightfulDisfiguredHamadryad-size_restricted.gif\">"
   ]
  },
  {
   "cell_type": "markdown",
   "metadata": {
    "papermill": {
     "duration": 0.072022,
     "end_time": "2020-10-25T15:22:23.087792",
     "exception": false,
     "start_time": "2020-10-25T15:22:23.015770",
     "status": "completed"
    },
    "tags": []
   },
   "source": [
    "Conseguí esta tabla googleando unos minutos"
   ]
  },
  {
   "cell_type": "code",
   "execution_count": 36,
   "metadata": {
    "execution": {
     "iopub.execute_input": "2020-10-25T15:22:23.281333Z",
     "iopub.status.busy": "2020-10-25T15:22:23.280846Z",
     "iopub.status.idle": "2020-10-25T15:22:23.305085Z",
     "shell.execute_reply": "2020-10-25T15:22:23.304696Z"
    },
    "papermill": {
     "duration": 0.143683,
     "end_time": "2020-10-25T15:22:23.305170",
     "exception": false,
     "start_time": "2020-10-25T15:22:23.161487",
     "status": "completed"
    },
    "tags": []
   },
   "outputs": [],
   "source": [
    "countryNames = pd.read_csv('../input/country-code-and-names/Comtrade Country Code and ISO list v1.2.csv', sep =';')"
   ]
  },
  {
   "cell_type": "code",
   "execution_count": 37,
   "metadata": {
    "execution": {
     "iopub.execute_input": "2020-10-25T15:22:23.456000Z",
     "iopub.status.busy": "2020-10-25T15:22:23.455536Z",
     "iopub.status.idle": "2020-10-25T15:22:23.458558Z",
     "shell.execute_reply": "2020-10-25T15:22:23.458156Z"
    },
    "papermill": {
     "duration": 0.081664,
     "end_time": "2020-10-25T15:22:23.458631",
     "exception": false,
     "start_time": "2020-10-25T15:22:23.376967",
     "status": "completed"
    },
    "tags": []
   },
   "outputs": [],
   "source": [
    "# Me quedo con las unicas columnas que me van a interesar\n",
    "countryNames = countryNames.drop(['Country Code','Country Name, Full ','Country Comments','ISO3-digit Alpha','Start Valid Year','End Valid Year'],axis=1)"
   ]
  },
  {
   "cell_type": "code",
   "execution_count": 38,
   "metadata": {
    "execution": {
     "iopub.execute_input": "2020-10-25T15:22:23.610676Z",
     "iopub.status.busy": "2020-10-25T15:22:23.607809Z",
     "iopub.status.idle": "2020-10-25T15:22:23.614645Z",
     "shell.execute_reply": "2020-10-25T15:22:23.614198Z"
    },
    "papermill": {
     "duration": 0.084128,
     "end_time": "2020-10-25T15:22:23.614719",
     "exception": false,
     "start_time": "2020-10-25T15:22:23.530591",
     "status": "completed"
    },
    "tags": []
   },
   "outputs": [
    {
     "data": {
      "text/html": [
       "<div>\n",
       "<style scoped>\n",
       "    .dataframe tbody tr th:only-of-type {\n",
       "        vertical-align: middle;\n",
       "    }\n",
       "\n",
       "    .dataframe tbody tr th {\n",
       "        vertical-align: top;\n",
       "    }\n",
       "\n",
       "    .dataframe thead th {\n",
       "        text-align: right;\n",
       "    }\n",
       "</style>\n",
       "<table border=\"1\" class=\"dataframe\">\n",
       "  <thead>\n",
       "    <tr style=\"text-align: right;\">\n",
       "      <th></th>\n",
       "      <th>Country Name, Abbreviation</th>\n",
       "      <th>ISO2-digit Alpha</th>\n",
       "    </tr>\n",
       "  </thead>\n",
       "  <tbody>\n",
       "    <tr>\n",
       "      <th>0</th>\n",
       "      <td>Afghanistan</td>\n",
       "      <td>AF</td>\n",
       "    </tr>\n",
       "    <tr>\n",
       "      <th>1</th>\n",
       "      <td>Albania</td>\n",
       "      <td>AL</td>\n",
       "    </tr>\n",
       "    <tr>\n",
       "      <th>2</th>\n",
       "      <td>Algeria</td>\n",
       "      <td>DZ</td>\n",
       "    </tr>\n",
       "    <tr>\n",
       "      <th>3</th>\n",
       "      <td>American Samoa</td>\n",
       "      <td>AS</td>\n",
       "    </tr>\n",
       "    <tr>\n",
       "      <th>4</th>\n",
       "      <td>Andorra</td>\n",
       "      <td>AD</td>\n",
       "    </tr>\n",
       "    <tr>\n",
       "      <th>...</th>\n",
       "      <td>...</td>\n",
       "      <td>...</td>\n",
       "    </tr>\n",
       "    <tr>\n",
       "      <th>230</th>\n",
       "      <td>Western Sahara</td>\n",
       "      <td>EH</td>\n",
       "    </tr>\n",
       "    <tr>\n",
       "      <th>231</th>\n",
       "      <td>World</td>\n",
       "      <td>WL</td>\n",
       "    </tr>\n",
       "    <tr>\n",
       "      <th>232</th>\n",
       "      <td>Yemen</td>\n",
       "      <td>YE</td>\n",
       "    </tr>\n",
       "    <tr>\n",
       "      <th>233</th>\n",
       "      <td>Zambia</td>\n",
       "      <td>ZM</td>\n",
       "    </tr>\n",
       "    <tr>\n",
       "      <th>234</th>\n",
       "      <td>Zimbabwe</td>\n",
       "      <td>ZW</td>\n",
       "    </tr>\n",
       "  </tbody>\n",
       "</table>\n",
       "<p>235 rows × 2 columns</p>\n",
       "</div>"
      ],
      "text/plain": [
       "    Country Name, Abbreviation ISO2-digit Alpha\n",
       "0                  Afghanistan               AF\n",
       "1                      Albania               AL\n",
       "2                      Algeria               DZ\n",
       "3               American Samoa               AS\n",
       "4                      Andorra               AD\n",
       "..                         ...              ...\n",
       "230             Western Sahara               EH\n",
       "231                      World               WL\n",
       "232                      Yemen               YE\n",
       "233                     Zambia               ZM\n",
       "234                   Zimbabwe               ZW\n",
       "\n",
       "[235 rows x 2 columns]"
      ]
     },
     "execution_count": 38,
     "metadata": {},
     "output_type": "execute_result"
    }
   ],
   "source": [
    "# Asi quedó mi tabla de países\n",
    "countryNames"
   ]
  },
  {
   "cell_type": "markdown",
   "metadata": {
    "papermill": {
     "duration": 0.072454,
     "end_time": "2020-10-25T15:22:23.759347",
     "exception": false,
     "start_time": "2020-10-25T15:22:23.686893",
     "status": "completed"
    },
    "tags": []
   },
   "source": [
    "Hacemos el join (left)"
   ]
  },
  {
   "cell_type": "code",
   "execution_count": 39,
   "metadata": {
    "execution": {
     "iopub.execute_input": "2020-10-25T15:22:23.928348Z",
     "iopub.status.busy": "2020-10-25T15:22:23.927677Z",
     "iopub.status.idle": "2020-10-25T15:22:23.967871Z",
     "shell.execute_reply": "2020-10-25T15:22:23.967465Z"
    },
    "papermill": {
     "duration": 0.134181,
     "end_time": "2020-10-25T15:22:23.967957",
     "exception": false,
     "start_time": "2020-10-25T15:22:23.833776",
     "status": "completed"
    },
    "tags": []
   },
   "outputs": [],
   "source": [
    "data_final = data.merge(countryNames, left_on='country', right_on='ISO2-digit Alpha', how='left')"
   ]
  },
  {
   "cell_type": "code",
   "execution_count": 40,
   "metadata": {
    "execution": {
     "iopub.execute_input": "2020-10-25T15:22:24.133488Z",
     "iopub.status.busy": "2020-10-25T15:22:24.116155Z",
     "iopub.status.idle": "2020-10-25T15:22:24.271083Z",
     "shell.execute_reply": "2020-10-25T15:22:24.270517Z"
    },
    "papermill": {
     "duration": 0.230535,
     "end_time": "2020-10-25T15:22:24.271177",
     "exception": false,
     "start_time": "2020-10-25T15:22:24.040642",
     "status": "completed"
    },
    "tags": []
   },
   "outputs": [
    {
     "data": {
      "text/html": [
       "<div>\n",
       "<style scoped>\n",
       "    .dataframe tbody tr th:only-of-type {\n",
       "        vertical-align: middle;\n",
       "    }\n",
       "\n",
       "    .dataframe tbody tr th {\n",
       "        vertical-align: top;\n",
       "    }\n",
       "\n",
       "    .dataframe thead th {\n",
       "        text-align: right;\n",
       "    }\n",
       "</style>\n",
       "<table border=\"1\" class=\"dataframe\">\n",
       "  <thead>\n",
       "    <tr style=\"text-align: right;\">\n",
       "      <th></th>\n",
       "      <th>variable</th>\n",
       "      <th>q_nan</th>\n",
       "      <th>p_nan</th>\n",
       "      <th>q_zeros</th>\n",
       "      <th>p_zeros</th>\n",
       "      <th>unique</th>\n",
       "      <th>type</th>\n",
       "    </tr>\n",
       "  </thead>\n",
       "  <tbody>\n",
       "    <tr>\n",
       "      <th>0</th>\n",
       "      <td>datetime</td>\n",
       "      <td>0</td>\n",
       "      <td>0.000000</td>\n",
       "      <td>0</td>\n",
       "      <td>0.0</td>\n",
       "      <td>69433</td>\n",
       "      <td>datetime64[ns]</td>\n",
       "    </tr>\n",
       "    <tr>\n",
       "      <th>1</th>\n",
       "      <td>country</td>\n",
       "      <td>0</td>\n",
       "      <td>0.000000</td>\n",
       "      <td>0</td>\n",
       "      <td>0.0</td>\n",
       "      <td>164</td>\n",
       "      <td>object</td>\n",
       "    </tr>\n",
       "    <tr>\n",
       "      <th>2</th>\n",
       "      <td>state</td>\n",
       "      <td>0</td>\n",
       "      <td>0.000000</td>\n",
       "      <td>0</td>\n",
       "      <td>0.0</td>\n",
       "      <td>840</td>\n",
       "      <td>object</td>\n",
       "    </tr>\n",
       "    <tr>\n",
       "      <th>3</th>\n",
       "      <td>city</td>\n",
       "      <td>0</td>\n",
       "      <td>0.000000</td>\n",
       "      <td>0</td>\n",
       "      <td>0.0</td>\n",
       "      <td>10676</td>\n",
       "      <td>object</td>\n",
       "    </tr>\n",
       "    <tr>\n",
       "      <th>4</th>\n",
       "      <td>shape</td>\n",
       "      <td>0</td>\n",
       "      <td>0.000000</td>\n",
       "      <td>0</td>\n",
       "      <td>0.0</td>\n",
       "      <td>30</td>\n",
       "      <td>object</td>\n",
       "    </tr>\n",
       "    <tr>\n",
       "      <th>5</th>\n",
       "      <td>duration(minutes)</td>\n",
       "      <td>0</td>\n",
       "      <td>0.000000</td>\n",
       "      <td>0</td>\n",
       "      <td>0.0</td>\n",
       "      <td>533</td>\n",
       "      <td>float64</td>\n",
       "    </tr>\n",
       "    <tr>\n",
       "      <th>6</th>\n",
       "      <td>comments</td>\n",
       "      <td>0</td>\n",
       "      <td>0.000000</td>\n",
       "      <td>0</td>\n",
       "      <td>0.0</td>\n",
       "      <td>79997</td>\n",
       "      <td>object</td>\n",
       "    </tr>\n",
       "    <tr>\n",
       "      <th>7</th>\n",
       "      <td>datePosted</td>\n",
       "      <td>0</td>\n",
       "      <td>0.000000</td>\n",
       "      <td>0</td>\n",
       "      <td>0.0</td>\n",
       "      <td>317</td>\n",
       "      <td>datetime64[ns]</td>\n",
       "    </tr>\n",
       "    <tr>\n",
       "      <th>8</th>\n",
       "      <td>latitude</td>\n",
       "      <td>0</td>\n",
       "      <td>0.000000</td>\n",
       "      <td>0</td>\n",
       "      <td>0.0</td>\n",
       "      <td>19907</td>\n",
       "      <td>float64</td>\n",
       "    </tr>\n",
       "    <tr>\n",
       "      <th>9</th>\n",
       "      <td>longitude</td>\n",
       "      <td>0</td>\n",
       "      <td>0.000000</td>\n",
       "      <td>0</td>\n",
       "      <td>0.0</td>\n",
       "      <td>19454</td>\n",
       "      <td>float64</td>\n",
       "    </tr>\n",
       "    <tr>\n",
       "      <th>10</th>\n",
       "      <td>Country Name, Abbreviation</td>\n",
       "      <td>88</td>\n",
       "      <td>0.001095</td>\n",
       "      <td>0</td>\n",
       "      <td>0.0</td>\n",
       "      <td>155</td>\n",
       "      <td>object</td>\n",
       "    </tr>\n",
       "    <tr>\n",
       "      <th>11</th>\n",
       "      <td>ISO2-digit Alpha</td>\n",
       "      <td>88</td>\n",
       "      <td>0.001095</td>\n",
       "      <td>0</td>\n",
       "      <td>0.0</td>\n",
       "      <td>155</td>\n",
       "      <td>object</td>\n",
       "    </tr>\n",
       "  </tbody>\n",
       "</table>\n",
       "</div>"
      ],
      "text/plain": [
       "                      variable  q_nan     p_nan  q_zeros  p_zeros  unique  \\\n",
       "0                     datetime      0  0.000000        0      0.0   69433   \n",
       "1                      country      0  0.000000        0      0.0     164   \n",
       "2                        state      0  0.000000        0      0.0     840   \n",
       "3                         city      0  0.000000        0      0.0   10676   \n",
       "4                        shape      0  0.000000        0      0.0      30   \n",
       "5            duration(minutes)      0  0.000000        0      0.0     533   \n",
       "6                     comments      0  0.000000        0      0.0   79997   \n",
       "7                   datePosted      0  0.000000        0      0.0     317   \n",
       "8                     latitude      0  0.000000        0      0.0   19907   \n",
       "9                    longitude      0  0.000000        0      0.0   19454   \n",
       "10  Country Name, Abbreviation     88  0.001095        0      0.0     155   \n",
       "11            ISO2-digit Alpha     88  0.001095        0      0.0     155   \n",
       "\n",
       "              type  \n",
       "0   datetime64[ns]  \n",
       "1           object  \n",
       "2           object  \n",
       "3           object  \n",
       "4           object  \n",
       "5          float64  \n",
       "6           object  \n",
       "7   datetime64[ns]  \n",
       "8          float64  \n",
       "9          float64  \n",
       "10          object  \n",
       "11          object  "
      ]
     },
     "execution_count": 40,
     "metadata": {},
     "output_type": "execute_result"
    }
   ],
   "source": [
    "# Y vemos otra vez el status (...God bless status...)\n",
    "status(data_final)"
   ]
  },
  {
   "cell_type": "markdown",
   "metadata": {
    "papermill": {
     "duration": 0.108976,
     "end_time": "2020-10-25T15:22:24.489609",
     "exception": false,
     "start_time": "2020-10-25T15:22:24.380633",
     "status": "completed"
    },
    "tags": []
   },
   "source": [
    "Solucionamos los ultimos detalles:"
   ]
  },
  {
   "cell_type": "code",
   "execution_count": 41,
   "metadata": {
    "execution": {
     "iopub.execute_input": "2020-10-25T15:22:24.718395Z",
     "iopub.status.busy": "2020-10-25T15:22:24.717245Z",
     "iopub.status.idle": "2020-10-25T15:22:24.725349Z",
     "shell.execute_reply": "2020-10-25T15:22:24.724817Z"
    },
    "papermill": {
     "duration": 0.126547,
     "end_time": "2020-10-25T15:22:24.725433",
     "exception": false,
     "start_time": "2020-10-25T15:22:24.598886",
     "status": "completed"
    },
    "tags": []
   },
   "outputs": [],
   "source": [
    "# todavia hay nulos en Country Name, Abbreviation\n",
    "# probablemente este sucediendo porque hay codigos de paises en nuestra data principal, que no figuran en nuestra tabla de paises\n",
    "# entonces, vemos a decirle que si es nulo, muestre el codigo del pais de la tabla principal\n",
    "data_final['Country Name, Abbreviation'] = data_final['Country Name, Abbreviation'].fillna(data_final['country'])\n"
   ]
  },
  {
   "cell_type": "code",
   "execution_count": 42,
   "metadata": {
    "execution": {
     "iopub.execute_input": "2020-10-25T15:22:24.884767Z",
     "iopub.status.busy": "2020-10-25T15:22:24.884069Z",
     "iopub.status.idle": "2020-10-25T15:22:25.030575Z",
     "shell.execute_reply": "2020-10-25T15:22:25.030905Z"
    },
    "papermill": {
     "duration": 0.231836,
     "end_time": "2020-10-25T15:22:25.031013",
     "exception": false,
     "start_time": "2020-10-25T15:22:24.799177",
     "status": "completed"
    },
    "tags": []
   },
   "outputs": [],
   "source": [
    "# Nota: hay un inconveniente con el país Namibia, Africa\n",
    "# su codigo es NA, y me parece que se genera una confusion con NAN (nulo)\n",
    "# para solucionarlo momentaneamente voy a cambiar a mano el valor a \"Namibia\"\n",
    "data_final['Country Name, Abbreviation'] = data_final['Country Name, Abbreviation'].replace({'NA': 'Namibia'}, regex=True)"
   ]
  },
  {
   "cell_type": "code",
   "execution_count": 43,
   "metadata": {
    "execution": {
     "iopub.execute_input": "2020-10-25T15:22:25.185612Z",
     "iopub.status.busy": "2020-10-25T15:22:25.184973Z",
     "iopub.status.idle": "2020-10-25T15:22:25.216647Z",
     "shell.execute_reply": "2020-10-25T15:22:25.217112Z"
    },
    "papermill": {
     "duration": 0.112164,
     "end_time": "2020-10-25T15:22:25.217263",
     "exception": false,
     "start_time": "2020-10-25T15:22:25.105099",
     "status": "completed"
    },
    "tags": []
   },
   "outputs": [],
   "source": [
    "# Eliminamos las columnas que no nos sirven\n",
    "data_final = data_final.drop(['country','ISO2-digit Alpha'],axis=1)"
   ]
  },
  {
   "cell_type": "code",
   "execution_count": 44,
   "metadata": {
    "execution": {
     "iopub.execute_input": "2020-10-25T15:22:25.446381Z",
     "iopub.status.busy": "2020-10-25T15:22:25.445872Z",
     "iopub.status.idle": "2020-10-25T15:22:25.456346Z",
     "shell.execute_reply": "2020-10-25T15:22:25.455930Z"
    },
    "papermill": {
     "duration": 0.125719,
     "end_time": "2020-10-25T15:22:25.456424",
     "exception": false,
     "start_time": "2020-10-25T15:22:25.330705",
     "status": "completed"
    },
    "tags": []
   },
   "outputs": [],
   "source": [
    "# Renombramos nuestra columna para que quede com 'country'\n",
    "data_final = data_final.rename(columns={\"Country Name, Abbreviation\": \"country\"})"
   ]
  },
  {
   "cell_type": "code",
   "execution_count": 45,
   "metadata": {
    "execution": {
     "iopub.execute_input": "2020-10-25T15:22:25.611316Z",
     "iopub.status.busy": "2020-10-25T15:22:25.610856Z",
     "iopub.status.idle": "2020-10-25T15:22:25.621712Z",
     "shell.execute_reply": "2020-10-25T15:22:25.621331Z"
    },
    "papermill": {
     "duration": 0.091118,
     "end_time": "2020-10-25T15:22:25.621797",
     "exception": false,
     "start_time": "2020-10-25T15:22:25.530679",
     "status": "completed"
    },
    "tags": []
   },
   "outputs": [],
   "source": [
    "# Reordenamos\n",
    "data_final = data_final[[\"datetime\", \"country\", \"state\",\"city\",\"shape\",\"duration(minutes)\",\"comments\", \"datePosted\",\"latitude\",\"longitude\"]]"
   ]
  },
  {
   "cell_type": "markdown",
   "metadata": {
    "papermill": {
     "duration": 0.074396,
     "end_time": "2020-10-25T15:22:25.770407",
     "exception": false,
     "start_time": "2020-10-25T15:22:25.696011",
     "status": "completed"
    },
    "tags": []
   },
   "source": [
    "Y comprobamos una ultima vez.. se ve bien"
   ]
  },
  {
   "cell_type": "code",
   "execution_count": 46,
   "metadata": {
    "execution": {
     "iopub.execute_input": "2020-10-25T15:22:25.968714Z",
     "iopub.status.busy": "2020-10-25T15:22:25.927014Z",
     "iopub.status.idle": "2020-10-25T15:22:26.152563Z",
     "shell.execute_reply": "2020-10-25T15:22:26.153018Z"
    },
    "papermill": {
     "duration": 0.306566,
     "end_time": "2020-10-25T15:22:26.153128",
     "exception": false,
     "start_time": "2020-10-25T15:22:25.846562",
     "status": "completed"
    },
    "tags": []
   },
   "outputs": [
    {
     "data": {
      "text/html": [
       "<div>\n",
       "<style scoped>\n",
       "    .dataframe tbody tr th:only-of-type {\n",
       "        vertical-align: middle;\n",
       "    }\n",
       "\n",
       "    .dataframe tbody tr th {\n",
       "        vertical-align: top;\n",
       "    }\n",
       "\n",
       "    .dataframe thead th {\n",
       "        text-align: right;\n",
       "    }\n",
       "</style>\n",
       "<table border=\"1\" class=\"dataframe\">\n",
       "  <thead>\n",
       "    <tr style=\"text-align: right;\">\n",
       "      <th></th>\n",
       "      <th>variable</th>\n",
       "      <th>q_nan</th>\n",
       "      <th>p_nan</th>\n",
       "      <th>q_zeros</th>\n",
       "      <th>p_zeros</th>\n",
       "      <th>unique</th>\n",
       "      <th>type</th>\n",
       "    </tr>\n",
       "  </thead>\n",
       "  <tbody>\n",
       "    <tr>\n",
       "      <th>0</th>\n",
       "      <td>datetime</td>\n",
       "      <td>0</td>\n",
       "      <td>0.0</td>\n",
       "      <td>0</td>\n",
       "      <td>0.0</td>\n",
       "      <td>69433</td>\n",
       "      <td>datetime64[ns]</td>\n",
       "    </tr>\n",
       "    <tr>\n",
       "      <th>1</th>\n",
       "      <td>country</td>\n",
       "      <td>0</td>\n",
       "      <td>0.0</td>\n",
       "      <td>0</td>\n",
       "      <td>0.0</td>\n",
       "      <td>164</td>\n",
       "      <td>object</td>\n",
       "    </tr>\n",
       "    <tr>\n",
       "      <th>2</th>\n",
       "      <td>state</td>\n",
       "      <td>0</td>\n",
       "      <td>0.0</td>\n",
       "      <td>0</td>\n",
       "      <td>0.0</td>\n",
       "      <td>840</td>\n",
       "      <td>object</td>\n",
       "    </tr>\n",
       "    <tr>\n",
       "      <th>3</th>\n",
       "      <td>city</td>\n",
       "      <td>0</td>\n",
       "      <td>0.0</td>\n",
       "      <td>0</td>\n",
       "      <td>0.0</td>\n",
       "      <td>10676</td>\n",
       "      <td>object</td>\n",
       "    </tr>\n",
       "    <tr>\n",
       "      <th>4</th>\n",
       "      <td>shape</td>\n",
       "      <td>0</td>\n",
       "      <td>0.0</td>\n",
       "      <td>0</td>\n",
       "      <td>0.0</td>\n",
       "      <td>30</td>\n",
       "      <td>object</td>\n",
       "    </tr>\n",
       "    <tr>\n",
       "      <th>5</th>\n",
       "      <td>duration(minutes)</td>\n",
       "      <td>0</td>\n",
       "      <td>0.0</td>\n",
       "      <td>0</td>\n",
       "      <td>0.0</td>\n",
       "      <td>533</td>\n",
       "      <td>float64</td>\n",
       "    </tr>\n",
       "    <tr>\n",
       "      <th>6</th>\n",
       "      <td>comments</td>\n",
       "      <td>0</td>\n",
       "      <td>0.0</td>\n",
       "      <td>0</td>\n",
       "      <td>0.0</td>\n",
       "      <td>79997</td>\n",
       "      <td>object</td>\n",
       "    </tr>\n",
       "    <tr>\n",
       "      <th>7</th>\n",
       "      <td>datePosted</td>\n",
       "      <td>0</td>\n",
       "      <td>0.0</td>\n",
       "      <td>0</td>\n",
       "      <td>0.0</td>\n",
       "      <td>317</td>\n",
       "      <td>datetime64[ns]</td>\n",
       "    </tr>\n",
       "    <tr>\n",
       "      <th>8</th>\n",
       "      <td>latitude</td>\n",
       "      <td>0</td>\n",
       "      <td>0.0</td>\n",
       "      <td>0</td>\n",
       "      <td>0.0</td>\n",
       "      <td>19907</td>\n",
       "      <td>float64</td>\n",
       "    </tr>\n",
       "    <tr>\n",
       "      <th>9</th>\n",
       "      <td>longitude</td>\n",
       "      <td>0</td>\n",
       "      <td>0.0</td>\n",
       "      <td>0</td>\n",
       "      <td>0.0</td>\n",
       "      <td>19454</td>\n",
       "      <td>float64</td>\n",
       "    </tr>\n",
       "  </tbody>\n",
       "</table>\n",
       "</div>"
      ],
      "text/plain": [
       "            variable  q_nan  p_nan  q_zeros  p_zeros  unique            type\n",
       "0           datetime      0    0.0        0      0.0   69433  datetime64[ns]\n",
       "1            country      0    0.0        0      0.0     164          object\n",
       "2              state      0    0.0        0      0.0     840          object\n",
       "3               city      0    0.0        0      0.0   10676          object\n",
       "4              shape      0    0.0        0      0.0      30          object\n",
       "5  duration(minutes)      0    0.0        0      0.0     533         float64\n",
       "6           comments      0    0.0        0      0.0   79997          object\n",
       "7         datePosted      0    0.0        0      0.0     317  datetime64[ns]\n",
       "8           latitude      0    0.0        0      0.0   19907         float64\n",
       "9          longitude      0    0.0        0      0.0   19454         float64"
      ]
     },
     "execution_count": 46,
     "metadata": {},
     "output_type": "execute_result"
    }
   ],
   "source": [
    "status(data_final)"
   ]
  },
  {
   "cell_type": "code",
   "execution_count": 47,
   "metadata": {
    "execution": {
     "iopub.execute_input": "2020-10-25T15:22:26.352618Z",
     "iopub.status.busy": "2020-10-25T15:22:26.342209Z",
     "iopub.status.idle": "2020-10-25T15:22:26.444013Z",
     "shell.execute_reply": "2020-10-25T15:22:26.443601Z"
    },
    "papermill": {
     "duration": 0.214774,
     "end_time": "2020-10-25T15:22:26.444093",
     "exception": false,
     "start_time": "2020-10-25T15:22:26.229319",
     "status": "completed"
    },
    "tags": []
   },
   "outputs": [],
   "source": [
    "# Nota: hay punto y coma en el campo de comments. Cuando lo transformo a csv me lo toma como separador de columna\n",
    "# a pesar de que le declaro que separe solo por comas.\n",
    "# esto lo soluciona momentaneamente:\n",
    "data_final['comments'] = data_final['comments'].replace({';': ' '}, regex=True)"
   ]
  },
  {
   "cell_type": "markdown",
   "metadata": {
    "papermill": {
     "duration": 0.074416,
     "end_time": "2020-10-25T15:22:26.592803",
     "exception": false,
     "start_time": "2020-10-25T15:22:26.518387",
     "status": "completed"
    },
    "tags": []
   },
   "source": [
    "Guardamos el set limpio"
   ]
  },
  {
   "cell_type": "code",
   "execution_count": 48,
   "metadata": {
    "execution": {
     "iopub.execute_input": "2020-10-25T15:22:26.757470Z",
     "iopub.status.busy": "2020-10-25T15:22:26.756592Z",
     "iopub.status.idle": "2020-10-25T15:22:27.674143Z",
     "shell.execute_reply": "2020-10-25T15:22:27.673625Z"
    },
    "papermill": {
     "duration": 1.005456,
     "end_time": "2020-10-25T15:22:27.674245",
     "exception": false,
     "start_time": "2020-10-25T15:22:26.668789",
     "status": "completed"
    },
    "tags": []
   },
   "outputs": [],
   "source": [
    "data_final.to_csv('clean Data UFO.csv', index=False, sep =',')\n",
    "#quotechar=\"'\""
   ]
  },
  {
   "cell_type": "markdown",
   "metadata": {
    "papermill": {
     "duration": 0.115667,
     "end_time": "2020-10-25T15:22:27.903440",
     "exception": false,
     "start_time": "2020-10-25T15:22:27.787773",
     "status": "completed"
    },
    "tags": []
   },
   "source": [
    "<img src=\"https://i.pinimg.com/originals/a5/42/48/a5424852abc98df69ebd4b4e366e1b6f.gif\">"
   ]
  },
  {
   "cell_type": "markdown",
   "metadata": {
    "papermill": {
     "duration": 0.114149,
     "end_time": "2020-10-25T15:22:28.131330",
     "exception": false,
     "start_time": "2020-10-25T15:22:28.017181",
     "status": "completed"
    },
    "tags": []
   },
   "source": [
    "Aca continuaremos el analisis: https://www.kaggle.com/leogenzano/ufo-sightings-2-parte-analisis-exploratorio/"
   ]
  }
 ],
 "metadata": {
  "kernelspec": {
   "display_name": "Python 3",
   "language": "python",
   "name": "python3"
  },
  "language_info": {
   "codemirror_mode": {
    "name": "ipython",
    "version": 3
   },
   "file_extension": ".py",
   "mimetype": "text/x-python",
   "name": "python",
   "nbconvert_exporter": "python",
   "pygments_lexer": "ipython3",
   "version": "3.7.6"
  },
  "papermill": {
   "duration": 76.402003,
   "end_time": "2020-10-25T15:22:28.353954",
   "environment_variables": {},
   "exception": null,
   "input_path": "__notebook__.ipynb",
   "output_path": "__notebook__.ipynb",
   "parameters": {},
   "start_time": "2020-10-25T15:21:11.951951",
   "version": "2.1.0"
  }
 },
 "nbformat": 4,
 "nbformat_minor": 4
}
