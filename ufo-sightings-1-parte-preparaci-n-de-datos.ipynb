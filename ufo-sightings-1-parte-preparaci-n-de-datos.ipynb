{
 "cells": [
  {
   "cell_type": "markdown",
   "metadata": {
    "papermill": {
     "duration": 0.042095,
     "end_time": "2020-10-22T20:56:54.065349",
     "exception": false,
     "start_time": "2020-10-22T20:56:54.023254",
     "status": "completed"
    },
    "tags": []
   },
   "source": [
    "# **THE TRUTH IS OUT THERE** "
   ]
  },
  {
   "cell_type": "markdown",
   "metadata": {
    "papermill": {
     "duration": 0.03986,
     "end_time": "2020-10-22T20:56:54.144729",
     "exception": false,
     "start_time": "2020-10-22T20:56:54.104869",
     "status": "completed"
    },
    "tags": []
   },
   "source": [
    "Datos: https://www.kaggle.com/NUFORC/ufo-sightings<br>\n",
    "Es un registro de avistamientos de OVNI llevado a cabo por National UFO Reporting Center (NUFORC)<br>\n",
    "Contiene registros de avistamientos desde 1906 hasta 2014<br>\n",
    "En este notebook haremos una pequeña preparación de datos para dejar un set limpio para analizar luego con visualizaciones. Por ese motivo no va a ser un notebook muy entretenido. Las visualizaciones las hare en otro notebook"
   ]
  },
  {
   "cell_type": "markdown",
   "metadata": {
    "papermill": {
     "duration": 0.03945,
     "end_time": "2020-10-22T20:56:54.224728",
     "exception": false,
     "start_time": "2020-10-22T20:56:54.185278",
     "status": "completed"
    },
    "tags": []
   },
   "source": [
    "Consideraciones:\n",
    "* voy a estar utilizando algunas funciones de la libreria funpymodeling, que nos ayuda sobretodo con el analisis exploratorio y la preparación de datos https://pypi.org/project/funpymodeling/\n",
    "* Tambien voy a usar la libreria reverse_geocoding para encontrar nombres de países a partir de sus coordenadas https://github.com/thampiman/reverse-geocoder\n",
    "* Este notebook no fue realizado por un experto. Seguramente haya mejores maneras de afrontar las mismas problematicas. Quedo atento a cualquier comentario o sugerencia "
   ]
  },
  {
   "cell_type": "markdown",
   "metadata": {
    "papermill": {
     "duration": 0.039187,
     "end_time": "2020-10-22T20:56:54.303439",
     "exception": false,
     "start_time": "2020-10-22T20:56:54.264252",
     "status": "completed"
    },
    "tags": []
   },
   "source": [
    "![The kaggle logo][1]\n",
    "[1]: https://cdn.forbes.com.mx/2015/03/Internet-XFiles-Mulder.jpg"
   ]
  },
  {
   "cell_type": "markdown",
   "metadata": {
    "papermill": {
     "duration": 0.0396,
     "end_time": "2020-10-22T20:56:54.382953",
     "exception": false,
     "start_time": "2020-10-22T20:56:54.343353",
     "status": "completed"
    },
    "tags": []
   },
   "source": [
    "# **Comencemos**"
   ]
  },
  {
   "cell_type": "markdown",
   "metadata": {
    "papermill": {
     "duration": 0.039227,
     "end_time": "2020-10-22T20:56:54.462357",
     "exception": false,
     "start_time": "2020-10-22T20:56:54.423130",
     "status": "completed"
    },
    "tags": []
   },
   "source": [
    "**Importamos librerias que vamos a utilizar y cargamos los datos en un dataframe**"
   ]
  },
  {
   "cell_type": "code",
   "execution_count": 1,
   "metadata": {
    "_kg_hide-output": true,
    "collapsed": true,
    "execution": {
     "iopub.execute_input": "2020-10-22T20:56:54.546708Z",
     "iopub.status.busy": "2020-10-22T20:56:54.546088Z",
     "iopub.status.idle": "2020-10-22T20:57:22.012711Z",
     "shell.execute_reply": "2020-10-22T20:57:22.012052Z"
    },
    "papermill": {
     "duration": 27.510609,
     "end_time": "2020-10-22T20:57:22.012845",
     "exception": false,
     "start_time": "2020-10-22T20:56:54.502236",
     "status": "completed"
    },
    "tags": []
   },
   "outputs": [
    {
     "name": "stdout",
     "output_type": "stream",
     "text": [
      "Collecting funpymodeling\r\n",
      "  Downloading funpymodeling-0.1.7-py3-none-any.whl (6.4 kB)\r\n",
      "Collecting seaborn<0.11.0,>=0.10.1\r\n",
      "  Downloading seaborn-0.10.1-py3-none-any.whl (215 kB)\r\n",
      "\u001b[K     |████████████████████████████████| 215 kB 1.7 MB/s \r\n",
      "\u001b[?25hRequirement already satisfied: pandas<2.0.0,>=1.0.5 in /opt/conda/lib/python3.7/site-packages (from funpymodeling) (1.1.3)\r\n",
      "Collecting matplotlib<4.0.0,>=3.2.2\r\n",
      "  Downloading matplotlib-3.3.2-cp37-cp37m-manylinux1_x86_64.whl (11.6 MB)\r\n",
      "\u001b[K     |████████████████████████████████| 11.6 MB 6.4 MB/s \r\n",
      "\u001b[?25hRequirement already satisfied: typing-extensions<4.0.0,>=3.7.4; python_version < \"3.8\" in /opt/conda/lib/python3.7/site-packages (from funpymodeling) (3.7.4.1)\r\n",
      "Requirement already satisfied: sklearn<0.1,>=0.0 in /opt/conda/lib/python3.7/site-packages (from funpymodeling) (0.0)\r\n",
      "Requirement already satisfied: numpy<2.0.0,>=1.18.5 in /opt/conda/lib/python3.7/site-packages (from funpymodeling) (1.18.5)\r\n",
      "Requirement already satisfied: scipy>=1.0.1 in /opt/conda/lib/python3.7/site-packages (from seaborn<0.11.0,>=0.10.1->funpymodeling) (1.4.1)\r\n",
      "Requirement already satisfied: python-dateutil>=2.7.3 in /opt/conda/lib/python3.7/site-packages (from pandas<2.0.0,>=1.0.5->funpymodeling) (2.8.1)\r\n",
      "Requirement already satisfied: pytz>=2017.2 in /opt/conda/lib/python3.7/site-packages (from pandas<2.0.0,>=1.0.5->funpymodeling) (2019.3)\r\n",
      "Requirement already satisfied: kiwisolver>=1.0.1 in /opt/conda/lib/python3.7/site-packages (from matplotlib<4.0.0,>=3.2.2->funpymodeling) (1.2.0)\r\n",
      "Requirement already satisfied: pillow>=6.2.0 in /opt/conda/lib/python3.7/site-packages (from matplotlib<4.0.0,>=3.2.2->funpymodeling) (7.2.0)\r\n",
      "Requirement already satisfied: cycler>=0.10 in /opt/conda/lib/python3.7/site-packages (from matplotlib<4.0.0,>=3.2.2->funpymodeling) (0.10.0)\r\n",
      "Requirement already satisfied: pyparsing!=2.0.4,!=2.1.2,!=2.1.6,>=2.0.3 in /opt/conda/lib/python3.7/site-packages (from matplotlib<4.0.0,>=3.2.2->funpymodeling) (2.4.7)\r\n",
      "Requirement already satisfied: certifi>=2020.06.20 in /opt/conda/lib/python3.7/site-packages (from matplotlib<4.0.0,>=3.2.2->funpymodeling) (2020.6.20)\r\n",
      "Requirement already satisfied: scikit-learn in /opt/conda/lib/python3.7/site-packages (from sklearn<0.1,>=0.0->funpymodeling) (0.23.2)\r\n",
      "Requirement already satisfied: six>=1.5 in /opt/conda/lib/python3.7/site-packages (from python-dateutil>=2.7.3->pandas<2.0.0,>=1.0.5->funpymodeling) (1.14.0)\r\n",
      "Requirement already satisfied: threadpoolctl>=2.0.0 in /opt/conda/lib/python3.7/site-packages (from scikit-learn->sklearn<0.1,>=0.0->funpymodeling) (2.1.0)\r\n",
      "Requirement already satisfied: joblib>=0.11 in /opt/conda/lib/python3.7/site-packages (from scikit-learn->sklearn<0.1,>=0.0->funpymodeling) (0.14.1)\r\n",
      "Installing collected packages: matplotlib, seaborn, funpymodeling\r\n",
      "  Attempting uninstall: matplotlib\r\n",
      "    Found existing installation: matplotlib 3.2.1\r\n",
      "    Uninstalling matplotlib-3.2.1:\r\n",
      "      Successfully uninstalled matplotlib-3.2.1\r\n",
      "  Attempting uninstall: seaborn\r\n",
      "    Found existing installation: seaborn 0.10.0\r\n",
      "    Uninstalling seaborn-0.10.0:\r\n",
      "      Successfully uninstalled seaborn-0.10.0\r\n",
      "Successfully installed funpymodeling-0.1.7 matplotlib-3.3.2 seaborn-0.10.1\r\n",
      "\u001b[33mWARNING: You are using pip version 20.2.3; however, version 20.2.4 is available.\r\n",
      "You should consider upgrading via the '/opt/conda/bin/python -m pip install --upgrade pip' command.\u001b[0m\r\n",
      "Note: you may need to restart the kernel to use updated packages.\n"
     ]
    }
   ],
   "source": [
    "pip install funpymodeling\n"
   ]
  },
  {
   "cell_type": "code",
   "execution_count": 2,
   "metadata": {
    "_kg_hide-output": true,
    "execution": {
     "iopub.execute_input": "2020-10-22T20:57:22.124488Z",
     "iopub.status.busy": "2020-10-22T20:57:22.123803Z",
     "iopub.status.idle": "2020-10-22T20:57:31.751296Z",
     "shell.execute_reply": "2020-10-22T20:57:31.750716Z"
    },
    "papermill": {
     "duration": 9.684827,
     "end_time": "2020-10-22T20:57:31.751421",
     "exception": false,
     "start_time": "2020-10-22T20:57:22.066594",
     "status": "completed"
    },
    "tags": []
   },
   "outputs": [
    {
     "name": "stdout",
     "output_type": "stream",
     "text": [
      "Collecting reverse_geocoder\r\n",
      "  Downloading reverse_geocoder-1.5.1.tar.gz (2.2 MB)\r\n",
      "\u001b[K     |████████████████████████████████| 2.2 MB 1.4 MB/s \r\n",
      "\u001b[?25hRequirement already satisfied: numpy>=1.11.0 in /opt/conda/lib/python3.7/site-packages (from reverse_geocoder) (1.18.5)\r\n",
      "Requirement already satisfied: scipy>=0.17.1 in /opt/conda/lib/python3.7/site-packages (from reverse_geocoder) (1.4.1)\r\n",
      "Building wheels for collected packages: reverse-geocoder\r\n",
      "  Building wheel for reverse-geocoder (setup.py) ... \u001b[?25l-\b \b\\\b \bdone\r\n",
      "\u001b[?25h  Created wheel for reverse-geocoder: filename=reverse_geocoder-1.5.1-py3-none-any.whl size=2268088 sha256=a574fecbf681be55d4d674c807e835a298970ca3edea04c1da8872f81f3af988\r\n",
      "  Stored in directory: /root/.cache/pip/wheels/34/6e/70/5423639428a2cac8ea7eb467214a4254b549b381f306a9c790\r\n",
      "Successfully built reverse-geocoder\r\n",
      "Installing collected packages: reverse-geocoder\r\n",
      "Successfully installed reverse-geocoder-1.5.1\r\n",
      "\u001b[33mWARNING: You are using pip version 20.2.3; however, version 20.2.4 is available.\r\n",
      "You should consider upgrading via the '/opt/conda/bin/python -m pip install --upgrade pip' command.\u001b[0m\r\n",
      "Note: you may need to restart the kernel to use updated packages.\n"
     ]
    }
   ],
   "source": [
    "pip install reverse_geocoder"
   ]
  },
  {
   "cell_type": "code",
   "execution_count": 3,
   "metadata": {
    "execution": {
     "iopub.execute_input": "2020-10-22T20:57:31.877468Z",
     "iopub.status.busy": "2020-10-22T20:57:31.876687Z",
     "iopub.status.idle": "2020-10-22T20:57:33.572659Z",
     "shell.execute_reply": "2020-10-22T20:57:33.571998Z"
    },
    "papermill": {
     "duration": 1.760987,
     "end_time": "2020-10-22T20:57:33.572772",
     "exception": false,
     "start_time": "2020-10-22T20:57:31.811785",
     "status": "completed"
    },
    "tags": []
   },
   "outputs": [],
   "source": [
    "import pandas as pd\n",
    "from funpymodeling.exploratory import freq_tbl, status, profiling_num, cat_vars, num_vars\n",
    "from qgrid import show_grid\n",
    "from pandas_profiling import ProfileReport\n",
    "import reverse_geocoder as rg"
   ]
  },
  {
   "cell_type": "code",
   "execution_count": 4,
   "metadata": {
    "_kg_hide-output": true,
    "execution": {
     "iopub.execute_input": "2020-10-22T20:57:33.700876Z",
     "iopub.status.busy": "2020-10-22T20:57:33.700166Z",
     "iopub.status.idle": "2020-10-22T20:57:34.123560Z",
     "shell.execute_reply": "2020-10-22T20:57:34.124412Z"
    },
    "papermill": {
     "duration": 0.49183,
     "end_time": "2020-10-22T20:57:34.124612",
     "exception": false,
     "start_time": "2020-10-22T20:57:33.632782",
     "status": "completed"
    },
    "tags": []
   },
   "outputs": [
    {
     "name": "stderr",
     "output_type": "stream",
     "text": [
      "/opt/conda/lib/python3.7/site-packages/IPython/core/interactiveshell.py:3063: DtypeWarning: Columns (5,9) have mixed types.Specify dtype option on import or set low_memory=False.\n",
      "  interactivity=interactivity, compiler=compiler, result=result)\n"
     ]
    }
   ],
   "source": [
    "# Cargamos los datos\n",
    "data = pd.read_csv(\"../input/ufo-sightings/scrubbed.csv\", sep=\",\")"
   ]
  },
  {
   "cell_type": "code",
   "execution_count": 5,
   "metadata": {
    "execution": {
     "iopub.execute_input": "2020-10-22T20:57:34.284599Z",
     "iopub.status.busy": "2020-10-22T20:57:34.283886Z",
     "iopub.status.idle": "2020-10-22T20:57:34.478499Z",
     "shell.execute_reply": "2020-10-22T20:57:34.477852Z"
    },
    "papermill": {
     "duration": 0.291405,
     "end_time": "2020-10-22T20:57:34.478609",
     "exception": false,
     "start_time": "2020-10-22T20:57:34.187204",
     "status": "completed"
    },
    "tags": []
   },
   "outputs": [
    {
     "data": {
      "text/html": [
       "<div>\n",
       "<style scoped>\n",
       "    .dataframe tbody tr th:only-of-type {\n",
       "        vertical-align: middle;\n",
       "    }\n",
       "\n",
       "    .dataframe tbody tr th {\n",
       "        vertical-align: top;\n",
       "    }\n",
       "\n",
       "    .dataframe thead th {\n",
       "        text-align: right;\n",
       "    }\n",
       "</style>\n",
       "<table border=\"1\" class=\"dataframe\">\n",
       "  <thead>\n",
       "    <tr style=\"text-align: right;\">\n",
       "      <th></th>\n",
       "      <th>variable</th>\n",
       "      <th>q_nan</th>\n",
       "      <th>p_nan</th>\n",
       "      <th>q_zeros</th>\n",
       "      <th>p_zeros</th>\n",
       "      <th>unique</th>\n",
       "      <th>type</th>\n",
       "    </tr>\n",
       "  </thead>\n",
       "  <tbody>\n",
       "    <tr>\n",
       "      <th>0</th>\n",
       "      <td>datetime</td>\n",
       "      <td>0</td>\n",
       "      <td>0.000000</td>\n",
       "      <td>0</td>\n",
       "      <td>0.0</td>\n",
       "      <td>69586</td>\n",
       "      <td>object</td>\n",
       "    </tr>\n",
       "    <tr>\n",
       "      <th>1</th>\n",
       "      <td>city</td>\n",
       "      <td>0</td>\n",
       "      <td>0.000000</td>\n",
       "      <td>0</td>\n",
       "      <td>0.0</td>\n",
       "      <td>19900</td>\n",
       "      <td>object</td>\n",
       "    </tr>\n",
       "    <tr>\n",
       "      <th>2</th>\n",
       "      <td>state</td>\n",
       "      <td>5797</td>\n",
       "      <td>0.072163</td>\n",
       "      <td>0</td>\n",
       "      <td>0.0</td>\n",
       "      <td>67</td>\n",
       "      <td>object</td>\n",
       "    </tr>\n",
       "    <tr>\n",
       "      <th>3</th>\n",
       "      <td>country</td>\n",
       "      <td>9670</td>\n",
       "      <td>0.120375</td>\n",
       "      <td>0</td>\n",
       "      <td>0.0</td>\n",
       "      <td>5</td>\n",
       "      <td>object</td>\n",
       "    </tr>\n",
       "    <tr>\n",
       "      <th>4</th>\n",
       "      <td>shape</td>\n",
       "      <td>1932</td>\n",
       "      <td>0.024050</td>\n",
       "      <td>0</td>\n",
       "      <td>0.0</td>\n",
       "      <td>29</td>\n",
       "      <td>object</td>\n",
       "    </tr>\n",
       "    <tr>\n",
       "      <th>5</th>\n",
       "      <td>duration (seconds)</td>\n",
       "      <td>0</td>\n",
       "      <td>0.000000</td>\n",
       "      <td>0</td>\n",
       "      <td>0.0</td>\n",
       "      <td>706</td>\n",
       "      <td>object</td>\n",
       "    </tr>\n",
       "    <tr>\n",
       "      <th>6</th>\n",
       "      <td>duration (hours/min)</td>\n",
       "      <td>0</td>\n",
       "      <td>0.000000</td>\n",
       "      <td>0</td>\n",
       "      <td>0.0</td>\n",
       "      <td>8349</td>\n",
       "      <td>object</td>\n",
       "    </tr>\n",
       "    <tr>\n",
       "      <th>7</th>\n",
       "      <td>comments</td>\n",
       "      <td>15</td>\n",
       "      <td>0.000187</td>\n",
       "      <td>0</td>\n",
       "      <td>0.0</td>\n",
       "      <td>79997</td>\n",
       "      <td>object</td>\n",
       "    </tr>\n",
       "    <tr>\n",
       "      <th>8</th>\n",
       "      <td>date posted</td>\n",
       "      <td>0</td>\n",
       "      <td>0.000000</td>\n",
       "      <td>0</td>\n",
       "      <td>0.0</td>\n",
       "      <td>317</td>\n",
       "      <td>object</td>\n",
       "    </tr>\n",
       "    <tr>\n",
       "      <th>9</th>\n",
       "      <td>latitude</td>\n",
       "      <td>0</td>\n",
       "      <td>0.000000</td>\n",
       "      <td>0</td>\n",
       "      <td>0.0</td>\n",
       "      <td>23312</td>\n",
       "      <td>object</td>\n",
       "    </tr>\n",
       "    <tr>\n",
       "      <th>10</th>\n",
       "      <td>longitude</td>\n",
       "      <td>0</td>\n",
       "      <td>0.000000</td>\n",
       "      <td>0</td>\n",
       "      <td>0.0</td>\n",
       "      <td>19455</td>\n",
       "      <td>float64</td>\n",
       "    </tr>\n",
       "  </tbody>\n",
       "</table>\n",
       "</div>"
      ],
      "text/plain": [
       "                variable  q_nan     p_nan  q_zeros  p_zeros  unique     type\n",
       "0               datetime      0  0.000000        0      0.0   69586   object\n",
       "1                   city      0  0.000000        0      0.0   19900   object\n",
       "2                  state   5797  0.072163        0      0.0      67   object\n",
       "3                country   9670  0.120375        0      0.0       5   object\n",
       "4                  shape   1932  0.024050        0      0.0      29   object\n",
       "5     duration (seconds)      0  0.000000        0      0.0     706   object\n",
       "6   duration (hours/min)      0  0.000000        0      0.0    8349   object\n",
       "7               comments     15  0.000187        0      0.0   79997   object\n",
       "8            date posted      0  0.000000        0      0.0     317   object\n",
       "9               latitude      0  0.000000        0      0.0   23312   object\n",
       "10            longitude       0  0.000000        0      0.0   19455  float64"
      ]
     },
     "execution_count": 5,
     "metadata": {},
     "output_type": "execute_result"
    }
   ],
   "source": [
    "# Con la función status de funpymodeling, verificamos el estado de salud de los datos\n",
    "# tipos de datos: excepto por longitude, todos vienen en object. Llama la atención\n",
    "# hay muchisimos nulos en state, country y shape. Tambien tenemos algunos en comments\n",
    "# tenemos dos columnas que muestran el tiempo que duro el avistamiento. Nos quedaremos con la que tenga más sentido\n",
    "status(data)"
   ]
  },
  {
   "cell_type": "code",
   "execution_count": 6,
   "metadata": {
    "execution": {
     "iopub.execute_input": "2020-10-22T20:57:34.616020Z",
     "iopub.status.busy": "2020-10-22T20:57:34.615044Z",
     "iopub.status.idle": "2020-10-22T20:57:34.619626Z",
     "shell.execute_reply": "2020-10-22T20:57:34.619043Z"
    },
    "papermill": {
     "duration": 0.080738,
     "end_time": "2020-10-22T20:57:34.619733",
     "exception": false,
     "start_time": "2020-10-22T20:57:34.538995",
     "status": "completed"
    },
    "tags": []
   },
   "outputs": [
    {
     "data": {
      "text/html": [
       "<div>\n",
       "<style scoped>\n",
       "    .dataframe tbody tr th:only-of-type {\n",
       "        vertical-align: middle;\n",
       "    }\n",
       "\n",
       "    .dataframe tbody tr th {\n",
       "        vertical-align: top;\n",
       "    }\n",
       "\n",
       "    .dataframe thead th {\n",
       "        text-align: right;\n",
       "    }\n",
       "</style>\n",
       "<table border=\"1\" class=\"dataframe\">\n",
       "  <thead>\n",
       "    <tr style=\"text-align: right;\">\n",
       "      <th></th>\n",
       "      <th>datetime</th>\n",
       "      <th>city</th>\n",
       "      <th>state</th>\n",
       "      <th>country</th>\n",
       "      <th>shape</th>\n",
       "      <th>duration (seconds)</th>\n",
       "      <th>duration (hours/min)</th>\n",
       "      <th>comments</th>\n",
       "      <th>date posted</th>\n",
       "      <th>latitude</th>\n",
       "      <th>longitude</th>\n",
       "    </tr>\n",
       "  </thead>\n",
       "  <tbody>\n",
       "    <tr>\n",
       "      <th>0</th>\n",
       "      <td>10/10/1949 20:30</td>\n",
       "      <td>san marcos</td>\n",
       "      <td>tx</td>\n",
       "      <td>us</td>\n",
       "      <td>cylinder</td>\n",
       "      <td>2700</td>\n",
       "      <td>45 minutes</td>\n",
       "      <td>This event took place in early fall around 194...</td>\n",
       "      <td>4/27/2004</td>\n",
       "      <td>29.8830556</td>\n",
       "      <td>-97.941111</td>\n",
       "    </tr>\n",
       "    <tr>\n",
       "      <th>1</th>\n",
       "      <td>10/10/1949 21:00</td>\n",
       "      <td>lackland afb</td>\n",
       "      <td>tx</td>\n",
       "      <td>NaN</td>\n",
       "      <td>light</td>\n",
       "      <td>7200</td>\n",
       "      <td>1-2 hrs</td>\n",
       "      <td>1949 Lackland AFB&amp;#44 TX.  Lights racing acros...</td>\n",
       "      <td>12/16/2005</td>\n",
       "      <td>29.38421</td>\n",
       "      <td>-98.581082</td>\n",
       "    </tr>\n",
       "    <tr>\n",
       "      <th>2</th>\n",
       "      <td>10/10/1955 17:00</td>\n",
       "      <td>chester (uk/england)</td>\n",
       "      <td>NaN</td>\n",
       "      <td>gb</td>\n",
       "      <td>circle</td>\n",
       "      <td>20</td>\n",
       "      <td>20 seconds</td>\n",
       "      <td>Green/Orange circular disc over Chester&amp;#44 En...</td>\n",
       "      <td>1/21/2008</td>\n",
       "      <td>53.2</td>\n",
       "      <td>-2.916667</td>\n",
       "    </tr>\n",
       "    <tr>\n",
       "      <th>3</th>\n",
       "      <td>10/10/1956 21:00</td>\n",
       "      <td>edna</td>\n",
       "      <td>tx</td>\n",
       "      <td>us</td>\n",
       "      <td>circle</td>\n",
       "      <td>20</td>\n",
       "      <td>1/2 hour</td>\n",
       "      <td>My older brother and twin sister were leaving ...</td>\n",
       "      <td>1/17/2004</td>\n",
       "      <td>28.9783333</td>\n",
       "      <td>-96.645833</td>\n",
       "    </tr>\n",
       "    <tr>\n",
       "      <th>4</th>\n",
       "      <td>10/10/1960 20:00</td>\n",
       "      <td>kaneohe</td>\n",
       "      <td>hi</td>\n",
       "      <td>us</td>\n",
       "      <td>light</td>\n",
       "      <td>900</td>\n",
       "      <td>15 minutes</td>\n",
       "      <td>AS a Marine 1st Lt. flying an FJ4B fighter/att...</td>\n",
       "      <td>1/22/2004</td>\n",
       "      <td>21.4180556</td>\n",
       "      <td>-157.803611</td>\n",
       "    </tr>\n",
       "  </tbody>\n",
       "</table>\n",
       "</div>"
      ],
      "text/plain": [
       "           datetime                  city state country     shape  \\\n",
       "0  10/10/1949 20:30            san marcos    tx      us  cylinder   \n",
       "1  10/10/1949 21:00          lackland afb    tx     NaN     light   \n",
       "2  10/10/1955 17:00  chester (uk/england)   NaN      gb    circle   \n",
       "3  10/10/1956 21:00                  edna    tx      us    circle   \n",
       "4  10/10/1960 20:00               kaneohe    hi      us     light   \n",
       "\n",
       "  duration (seconds) duration (hours/min)  \\\n",
       "0               2700           45 minutes   \n",
       "1               7200              1-2 hrs   \n",
       "2                 20           20 seconds   \n",
       "3                 20             1/2 hour   \n",
       "4                900           15 minutes   \n",
       "\n",
       "                                            comments date posted    latitude  \\\n",
       "0  This event took place in early fall around 194...   4/27/2004  29.8830556   \n",
       "1  1949 Lackland AFB&#44 TX.  Lights racing acros...  12/16/2005    29.38421   \n",
       "2  Green/Orange circular disc over Chester&#44 En...   1/21/2008        53.2   \n",
       "3  My older brother and twin sister were leaving ...   1/17/2004  28.9783333   \n",
       "4  AS a Marine 1st Lt. flying an FJ4B fighter/att...   1/22/2004  21.4180556   \n",
       "\n",
       "   longitude   \n",
       "0  -97.941111  \n",
       "1  -98.581082  \n",
       "2   -2.916667  \n",
       "3  -96.645833  \n",
       "4 -157.803611  "
      ]
     },
     "execution_count": 6,
     "metadata": {},
     "output_type": "execute_result"
    }
   ],
   "source": [
    "# Veamos algunos datos\n",
    "data.head()"
   ]
  },
  {
   "cell_type": "markdown",
   "metadata": {
    "papermill": {
     "duration": 0.061132,
     "end_time": "2020-10-22T20:57:34.742120",
     "exception": false,
     "start_time": "2020-10-22T20:57:34.680988",
     "status": "completed"
    },
    "tags": []
   },
   "source": [
    "INDICE\n",
    "\n",
    "CONVERSIÓN DE TIPO DE DATOS\n",
    "* 1° OBSERVACIÓN: 'DATETIME' TIENE COMO TIPO DE DATOS: OBJECT\n",
    "* 2° OBSERVACIÓN. 'LATITUDE' TIENE COMO TIPO DE DATOS: OBJECT\n",
    "* 3° OBSERVACIÓN. TENEMOS DOS COLUMNAS PARA EL TIEMPO DE AVISTAMIENTO. AMBAS FIGURAN COMO OBJECT\n",
    "* 4° OBSERVACIÓN. DATE POSTED FIGURA COMO OBJECT\n",
    "TRATAMIENTO DE NULOS\n",
    "* 5° OBSERVACIÓN: NULOS EN COUNTRY, STATE y CITY\n",
    "* 6° OBSERVACIÓN: NULOS EN SHAPE Y COMMENTS\n",
    "OTRA TRANSFORMACIONES\n",
    "* 7° OBSERVACIÓN: CREAR NUEVA COLUMNA DE TIEMPO DE AVISTAMIENTO (MINUTOS)\n",
    "* ULTIMOS PASOS\n",
    "* (EDIT) 8° OBSERVACIÓN: ASIGNAR NOMBRE AMIGABLE A LOS PAISES"
   ]
  },
  {
   "cell_type": "markdown",
   "metadata": {
    "papermill": {
     "duration": 0.060018,
     "end_time": "2020-10-22T20:57:34.862795",
     "exception": false,
     "start_time": "2020-10-22T20:57:34.802777",
     "status": "completed"
    },
    "tags": []
   },
   "source": [
    "ALGUNAS ACLARACIONES"
   ]
  },
  {
   "cell_type": "markdown",
   "metadata": {
    "papermill": {
     "duration": 0.060072,
     "end_time": "2020-10-22T20:57:34.983577",
     "exception": false,
     "start_time": "2020-10-22T20:57:34.923505",
     "status": "completed"
    },
    "tags": []
   },
   "source": [
    "* No voy a estar reemplazando las variables originales, les asignare otro nombre y las eliminare al final cuando este seguro de que me quedo como quiero"
   ]
  },
  {
   "cell_type": "markdown",
   "metadata": {
    "papermill": {
     "duration": 0.059988,
     "end_time": "2020-10-22T20:57:35.104179",
     "exception": false,
     "start_time": "2020-10-22T20:57:35.044191",
     "status": "completed"
    },
    "tags": []
   },
   "source": [
    "****************************************************************************************"
   ]
  },
  {
   "cell_type": "markdown",
   "metadata": {
    "papermill": {
     "duration": 0.072231,
     "end_time": "2020-10-22T20:57:35.237410",
     "exception": false,
     "start_time": "2020-10-22T20:57:35.165179",
     "status": "completed"
    },
    "tags": []
   },
   "source": [
    "![The kaggle logo][2]\n",
    "[2]: https://i.ytimg.com/vi/FtyEo-8OWNA/hqdefault.jpg"
   ]
  },
  {
   "cell_type": "markdown",
   "metadata": {
    "papermill": {
     "duration": 0.078752,
     "end_time": "2020-10-22T20:57:35.381450",
     "exception": false,
     "start_time": "2020-10-22T20:57:35.302698",
     "status": "completed"
    },
    "tags": []
   },
   "source": [
    "# **CONVERSION DE TIPO DE DATOS**"
   ]
  },
  {
   "cell_type": "markdown",
   "metadata": {
    "papermill": {
     "duration": 0.06892,
     "end_time": "2020-10-22T20:57:35.542406",
     "exception": false,
     "start_time": "2020-10-22T20:57:35.473486",
     "status": "completed"
    },
    "tags": []
   },
   "source": [
    "#1° OBSERVACIÓN: 'DATETIME' TIENE COMO TIPO DE DATOS: OBJECT"
   ]
  },
  {
   "cell_type": "code",
   "execution_count": 7,
   "metadata": {
    "_kg_hide-output": true,
    "execution": {
     "iopub.execute_input": "2020-10-22T20:57:35.698644Z",
     "iopub.status.busy": "2020-10-22T20:57:35.693101Z",
     "iopub.status.idle": "2020-10-22T20:57:35.908507Z",
     "shell.execute_reply": "2020-10-22T20:57:35.909753Z"
    },
    "papermill": {
     "duration": 0.305067,
     "end_time": "2020-10-22T20:57:35.910000",
     "exception": false,
     "start_time": "2020-10-22T20:57:35.604933",
     "status": "completed"
    },
    "tags": []
   },
   "outputs": [
    {
     "ename": "ParserError",
     "evalue": "hour must be in 0..23: 10/11/2006 24:00",
     "output_type": "error",
     "traceback": [
      "\u001b[0;31m---------------------------------------------------------------------------\u001b[0m",
      "\u001b[0;31mValueError\u001b[0m                                Traceback (most recent call last)",
      "\u001b[0;32m/opt/conda/lib/python3.7/site-packages/dateutil/parser/_parser.py\u001b[0m in \u001b[0;36mparse\u001b[0;34m(self, timestr, default, ignoretz, tzinfos, **kwargs)\u001b[0m\n\u001b[1;32m    654\u001b[0m         \u001b[0;32mtry\u001b[0m\u001b[0;34m:\u001b[0m\u001b[0;34m\u001b[0m\u001b[0;34m\u001b[0m\u001b[0m\n\u001b[0;32m--> 655\u001b[0;31m             \u001b[0mret\u001b[0m \u001b[0;34m=\u001b[0m \u001b[0mself\u001b[0m\u001b[0;34m.\u001b[0m\u001b[0m_build_naive\u001b[0m\u001b[0;34m(\u001b[0m\u001b[0mres\u001b[0m\u001b[0;34m,\u001b[0m \u001b[0mdefault\u001b[0m\u001b[0;34m)\u001b[0m\u001b[0;34m\u001b[0m\u001b[0;34m\u001b[0m\u001b[0m\n\u001b[0m\u001b[1;32m    656\u001b[0m         \u001b[0;32mexcept\u001b[0m \u001b[0mValueError\u001b[0m \u001b[0;32mas\u001b[0m \u001b[0me\u001b[0m\u001b[0;34m:\u001b[0m\u001b[0;34m\u001b[0m\u001b[0;34m\u001b[0m\u001b[0m\n",
      "\u001b[0;32m/opt/conda/lib/python3.7/site-packages/dateutil/parser/_parser.py\u001b[0m in \u001b[0;36m_build_naive\u001b[0;34m(self, res, default)\u001b[0m\n\u001b[1;32m   1240\u001b[0m \u001b[0;34m\u001b[0m\u001b[0m\n\u001b[0;32m-> 1241\u001b[0;31m         \u001b[0mnaive\u001b[0m \u001b[0;34m=\u001b[0m \u001b[0mdefault\u001b[0m\u001b[0;34m.\u001b[0m\u001b[0mreplace\u001b[0m\u001b[0;34m(\u001b[0m\u001b[0;34m**\u001b[0m\u001b[0mrepl\u001b[0m\u001b[0;34m)\u001b[0m\u001b[0;34m\u001b[0m\u001b[0;34m\u001b[0m\u001b[0m\n\u001b[0m\u001b[1;32m   1242\u001b[0m \u001b[0;34m\u001b[0m\u001b[0m\n",
      "\u001b[0;31mValueError\u001b[0m: hour must be in 0..23",
      "\nThe above exception was the direct cause of the following exception:\n",
      "\u001b[0;31mParserError\u001b[0m                               Traceback (most recent call last)",
      "\u001b[0;32mpandas/_libs/tslib.pyx\u001b[0m in \u001b[0;36mpandas._libs.tslib.array_to_datetime\u001b[0;34m()\u001b[0m\n",
      "\u001b[0;32mpandas/_libs/tslibs/parsing.pyx\u001b[0m in \u001b[0;36mpandas._libs.tslibs.parsing.parse_datetime_string\u001b[0;34m()\u001b[0m\n",
      "\u001b[0;32m/opt/conda/lib/python3.7/site-packages/dateutil/parser/_parser.py\u001b[0m in \u001b[0;36mparse\u001b[0;34m(timestr, parserinfo, **kwargs)\u001b[0m\n\u001b[1;32m   1373\u001b[0m     \u001b[0;32melse\u001b[0m\u001b[0;34m:\u001b[0m\u001b[0;34m\u001b[0m\u001b[0;34m\u001b[0m\u001b[0m\n\u001b[0;32m-> 1374\u001b[0;31m         \u001b[0;32mreturn\u001b[0m \u001b[0mDEFAULTPARSER\u001b[0m\u001b[0;34m.\u001b[0m\u001b[0mparse\u001b[0m\u001b[0;34m(\u001b[0m\u001b[0mtimestr\u001b[0m\u001b[0;34m,\u001b[0m \u001b[0;34m**\u001b[0m\u001b[0mkwargs\u001b[0m\u001b[0;34m)\u001b[0m\u001b[0;34m\u001b[0m\u001b[0;34m\u001b[0m\u001b[0m\n\u001b[0m\u001b[1;32m   1375\u001b[0m \u001b[0;34m\u001b[0m\u001b[0m\n",
      "\u001b[0;32m/opt/conda/lib/python3.7/site-packages/dateutil/parser/_parser.py\u001b[0m in \u001b[0;36mparse\u001b[0;34m(self, timestr, default, ignoretz, tzinfos, **kwargs)\u001b[0m\n\u001b[1;32m    656\u001b[0m         \u001b[0;32mexcept\u001b[0m \u001b[0mValueError\u001b[0m \u001b[0;32mas\u001b[0m \u001b[0me\u001b[0m\u001b[0;34m:\u001b[0m\u001b[0;34m\u001b[0m\u001b[0;34m\u001b[0m\u001b[0m\n\u001b[0;32m--> 657\u001b[0;31m             \u001b[0msix\u001b[0m\u001b[0;34m.\u001b[0m\u001b[0mraise_from\u001b[0m\u001b[0;34m(\u001b[0m\u001b[0mParserError\u001b[0m\u001b[0;34m(\u001b[0m\u001b[0me\u001b[0m\u001b[0;34m.\u001b[0m\u001b[0margs\u001b[0m\u001b[0;34m[\u001b[0m\u001b[0;36m0\u001b[0m\u001b[0;34m]\u001b[0m \u001b[0;34m+\u001b[0m \u001b[0;34m\": %s\"\u001b[0m\u001b[0;34m,\u001b[0m \u001b[0mtimestr\u001b[0m\u001b[0;34m)\u001b[0m\u001b[0;34m,\u001b[0m \u001b[0me\u001b[0m\u001b[0;34m)\u001b[0m\u001b[0;34m\u001b[0m\u001b[0;34m\u001b[0m\u001b[0m\n\u001b[0m\u001b[1;32m    658\u001b[0m \u001b[0;34m\u001b[0m\u001b[0m\n",
      "\u001b[0;32m/opt/conda/lib/python3.7/site-packages/six.py\u001b[0m in \u001b[0;36mraise_from\u001b[0;34m(value, from_value)\u001b[0m\n",
      "\u001b[0;31mParserError\u001b[0m: hour must be in 0..23: 10/11/2006 24:00",
      "\nDuring handling of the above exception, another exception occurred:\n",
      "\u001b[0;31mTypeError\u001b[0m                                 Traceback (most recent call last)",
      "\u001b[0;32mpandas/_libs/tslib.pyx\u001b[0m in \u001b[0;36mpandas._libs.tslib.array_to_datetime\u001b[0;34m()\u001b[0m\n",
      "\u001b[0;31mTypeError\u001b[0m: invalid string coercion to datetime",
      "\nDuring handling of the above exception, another exception occurred:\n",
      "\u001b[0;31mValueError\u001b[0m                                Traceback (most recent call last)",
      "\u001b[0;32m/opt/conda/lib/python3.7/site-packages/dateutil/parser/_parser.py\u001b[0m in \u001b[0;36mparse\u001b[0;34m(self, timestr, default, ignoretz, tzinfos, **kwargs)\u001b[0m\n\u001b[1;32m    654\u001b[0m         \u001b[0;32mtry\u001b[0m\u001b[0;34m:\u001b[0m\u001b[0;34m\u001b[0m\u001b[0;34m\u001b[0m\u001b[0m\n\u001b[0;32m--> 655\u001b[0;31m             \u001b[0mret\u001b[0m \u001b[0;34m=\u001b[0m \u001b[0mself\u001b[0m\u001b[0;34m.\u001b[0m\u001b[0m_build_naive\u001b[0m\u001b[0;34m(\u001b[0m\u001b[0mres\u001b[0m\u001b[0;34m,\u001b[0m \u001b[0mdefault\u001b[0m\u001b[0;34m)\u001b[0m\u001b[0;34m\u001b[0m\u001b[0;34m\u001b[0m\u001b[0m\n\u001b[0m\u001b[1;32m    656\u001b[0m         \u001b[0;32mexcept\u001b[0m \u001b[0mValueError\u001b[0m \u001b[0;32mas\u001b[0m \u001b[0me\u001b[0m\u001b[0;34m:\u001b[0m\u001b[0;34m\u001b[0m\u001b[0;34m\u001b[0m\u001b[0m\n",
      "\u001b[0;32m/opt/conda/lib/python3.7/site-packages/dateutil/parser/_parser.py\u001b[0m in \u001b[0;36m_build_naive\u001b[0;34m(self, res, default)\u001b[0m\n\u001b[1;32m   1240\u001b[0m \u001b[0;34m\u001b[0m\u001b[0m\n\u001b[0;32m-> 1241\u001b[0;31m         \u001b[0mnaive\u001b[0m \u001b[0;34m=\u001b[0m \u001b[0mdefault\u001b[0m\u001b[0;34m.\u001b[0m\u001b[0mreplace\u001b[0m\u001b[0;34m(\u001b[0m\u001b[0;34m**\u001b[0m\u001b[0mrepl\u001b[0m\u001b[0;34m)\u001b[0m\u001b[0;34m\u001b[0m\u001b[0;34m\u001b[0m\u001b[0m\n\u001b[0m\u001b[1;32m   1242\u001b[0m \u001b[0;34m\u001b[0m\u001b[0m\n",
      "\u001b[0;31mValueError\u001b[0m: hour must be in 0..23",
      "\nThe above exception was the direct cause of the following exception:\n",
      "\u001b[0;31mParserError\u001b[0m                               Traceback (most recent call last)",
      "\u001b[0;32m<ipython-input-7-590542825859>\u001b[0m in \u001b[0;36m<module>\u001b[0;34m\u001b[0m\n\u001b[1;32m      1\u001b[0m \u001b[0;31m# Enfoque: convertirlo a datetime64\u001b[0m\u001b[0;34m\u001b[0m\u001b[0;34m\u001b[0m\u001b[0;34m\u001b[0m\u001b[0m\n\u001b[0;32m----> 2\u001b[0;31m \u001b[0mdata\u001b[0m\u001b[0;34m[\u001b[0m\u001b[0;34m'datetime_dat'\u001b[0m\u001b[0;34m]\u001b[0m\u001b[0;34m=\u001b[0m\u001b[0mdata\u001b[0m\u001b[0;34m[\u001b[0m\u001b[0;34m'datetime'\u001b[0m\u001b[0;34m]\u001b[0m\u001b[0;34m.\u001b[0m\u001b[0mastype\u001b[0m\u001b[0;34m(\u001b[0m\u001b[0;34m'datetime64'\u001b[0m\u001b[0;34m)\u001b[0m\u001b[0;34m\u001b[0m\u001b[0;34m\u001b[0m\u001b[0m\n\u001b[0m\u001b[1;32m      3\u001b[0m \u001b[0;31m# No permite hacer la conversion porque aparentemente algunas fechas tienen la hora como '24:00'\u001b[0m\u001b[0;34m\u001b[0m\u001b[0;34m\u001b[0m\u001b[0;34m\u001b[0m\u001b[0m\n\u001b[1;32m      4\u001b[0m \u001b[0;31m# entonces vamos a reemplazarlo por '00:00'\u001b[0m\u001b[0;34m\u001b[0m\u001b[0;34m\u001b[0m\u001b[0;34m\u001b[0m\u001b[0m\n",
      "\u001b[0;32m/opt/conda/lib/python3.7/site-packages/pandas/core/generic.py\u001b[0m in \u001b[0;36mastype\u001b[0;34m(self, dtype, copy, errors)\u001b[0m\n\u001b[1;32m   5544\u001b[0m         \u001b[0;32melse\u001b[0m\u001b[0;34m:\u001b[0m\u001b[0;34m\u001b[0m\u001b[0;34m\u001b[0m\u001b[0m\n\u001b[1;32m   5545\u001b[0m             \u001b[0;31m# else, only a single dtype is given\u001b[0m\u001b[0;34m\u001b[0m\u001b[0;34m\u001b[0m\u001b[0;34m\u001b[0m\u001b[0m\n\u001b[0;32m-> 5546\u001b[0;31m             \u001b[0mnew_data\u001b[0m \u001b[0;34m=\u001b[0m \u001b[0mself\u001b[0m\u001b[0;34m.\u001b[0m\u001b[0m_mgr\u001b[0m\u001b[0;34m.\u001b[0m\u001b[0mastype\u001b[0m\u001b[0;34m(\u001b[0m\u001b[0mdtype\u001b[0m\u001b[0;34m=\u001b[0m\u001b[0mdtype\u001b[0m\u001b[0;34m,\u001b[0m \u001b[0mcopy\u001b[0m\u001b[0;34m=\u001b[0m\u001b[0mcopy\u001b[0m\u001b[0;34m,\u001b[0m \u001b[0merrors\u001b[0m\u001b[0;34m=\u001b[0m\u001b[0merrors\u001b[0m\u001b[0;34m,\u001b[0m\u001b[0;34m)\u001b[0m\u001b[0;34m\u001b[0m\u001b[0;34m\u001b[0m\u001b[0m\n\u001b[0m\u001b[1;32m   5547\u001b[0m             \u001b[0;32mreturn\u001b[0m \u001b[0mself\u001b[0m\u001b[0;34m.\u001b[0m\u001b[0m_constructor\u001b[0m\u001b[0;34m(\u001b[0m\u001b[0mnew_data\u001b[0m\u001b[0;34m)\u001b[0m\u001b[0;34m.\u001b[0m\u001b[0m__finalize__\u001b[0m\u001b[0;34m(\u001b[0m\u001b[0mself\u001b[0m\u001b[0;34m,\u001b[0m \u001b[0mmethod\u001b[0m\u001b[0;34m=\u001b[0m\u001b[0;34m\"astype\"\u001b[0m\u001b[0;34m)\u001b[0m\u001b[0;34m\u001b[0m\u001b[0;34m\u001b[0m\u001b[0m\n\u001b[1;32m   5548\u001b[0m \u001b[0;34m\u001b[0m\u001b[0m\n",
      "\u001b[0;32m/opt/conda/lib/python3.7/site-packages/pandas/core/internals/managers.py\u001b[0m in \u001b[0;36mastype\u001b[0;34m(self, dtype, copy, errors)\u001b[0m\n\u001b[1;32m    593\u001b[0m         \u001b[0mself\u001b[0m\u001b[0;34m,\u001b[0m \u001b[0mdtype\u001b[0m\u001b[0;34m,\u001b[0m \u001b[0mcopy\u001b[0m\u001b[0;34m:\u001b[0m \u001b[0mbool\u001b[0m \u001b[0;34m=\u001b[0m \u001b[0;32mFalse\u001b[0m\u001b[0;34m,\u001b[0m \u001b[0merrors\u001b[0m\u001b[0;34m:\u001b[0m \u001b[0mstr\u001b[0m \u001b[0;34m=\u001b[0m \u001b[0;34m\"raise\"\u001b[0m\u001b[0;34m\u001b[0m\u001b[0;34m\u001b[0m\u001b[0m\n\u001b[1;32m    594\u001b[0m     ) -> \"BlockManager\":\n\u001b[0;32m--> 595\u001b[0;31m         \u001b[0;32mreturn\u001b[0m \u001b[0mself\u001b[0m\u001b[0;34m.\u001b[0m\u001b[0mapply\u001b[0m\u001b[0;34m(\u001b[0m\u001b[0;34m\"astype\"\u001b[0m\u001b[0;34m,\u001b[0m \u001b[0mdtype\u001b[0m\u001b[0;34m=\u001b[0m\u001b[0mdtype\u001b[0m\u001b[0;34m,\u001b[0m \u001b[0mcopy\u001b[0m\u001b[0;34m=\u001b[0m\u001b[0mcopy\u001b[0m\u001b[0;34m,\u001b[0m \u001b[0merrors\u001b[0m\u001b[0;34m=\u001b[0m\u001b[0merrors\u001b[0m\u001b[0;34m)\u001b[0m\u001b[0;34m\u001b[0m\u001b[0;34m\u001b[0m\u001b[0m\n\u001b[0m\u001b[1;32m    596\u001b[0m \u001b[0;34m\u001b[0m\u001b[0m\n\u001b[1;32m    597\u001b[0m     def convert(\n",
      "\u001b[0;32m/opt/conda/lib/python3.7/site-packages/pandas/core/internals/managers.py\u001b[0m in \u001b[0;36mapply\u001b[0;34m(self, f, align_keys, **kwargs)\u001b[0m\n\u001b[1;32m    404\u001b[0m                 \u001b[0mapplied\u001b[0m \u001b[0;34m=\u001b[0m \u001b[0mb\u001b[0m\u001b[0;34m.\u001b[0m\u001b[0mapply\u001b[0m\u001b[0;34m(\u001b[0m\u001b[0mf\u001b[0m\u001b[0;34m,\u001b[0m \u001b[0;34m**\u001b[0m\u001b[0mkwargs\u001b[0m\u001b[0;34m)\u001b[0m\u001b[0;34m\u001b[0m\u001b[0;34m\u001b[0m\u001b[0m\n\u001b[1;32m    405\u001b[0m             \u001b[0;32melse\u001b[0m\u001b[0;34m:\u001b[0m\u001b[0;34m\u001b[0m\u001b[0;34m\u001b[0m\u001b[0m\n\u001b[0;32m--> 406\u001b[0;31m                 \u001b[0mapplied\u001b[0m \u001b[0;34m=\u001b[0m \u001b[0mgetattr\u001b[0m\u001b[0;34m(\u001b[0m\u001b[0mb\u001b[0m\u001b[0;34m,\u001b[0m \u001b[0mf\u001b[0m\u001b[0;34m)\u001b[0m\u001b[0;34m(\u001b[0m\u001b[0;34m**\u001b[0m\u001b[0mkwargs\u001b[0m\u001b[0;34m)\u001b[0m\u001b[0;34m\u001b[0m\u001b[0;34m\u001b[0m\u001b[0m\n\u001b[0m\u001b[1;32m    407\u001b[0m             \u001b[0mresult_blocks\u001b[0m \u001b[0;34m=\u001b[0m \u001b[0m_extend_blocks\u001b[0m\u001b[0;34m(\u001b[0m\u001b[0mapplied\u001b[0m\u001b[0;34m,\u001b[0m \u001b[0mresult_blocks\u001b[0m\u001b[0;34m)\u001b[0m\u001b[0;34m\u001b[0m\u001b[0;34m\u001b[0m\u001b[0m\n\u001b[1;32m    408\u001b[0m \u001b[0;34m\u001b[0m\u001b[0m\n",
      "\u001b[0;32m/opt/conda/lib/python3.7/site-packages/pandas/core/internals/blocks.py\u001b[0m in \u001b[0;36mastype\u001b[0;34m(self, dtype, copy, errors)\u001b[0m\n\u001b[1;32m    593\u001b[0m             \u001b[0mvals1d\u001b[0m \u001b[0;34m=\u001b[0m \u001b[0mvalues\u001b[0m\u001b[0;34m.\u001b[0m\u001b[0mravel\u001b[0m\u001b[0;34m(\u001b[0m\u001b[0;34m)\u001b[0m\u001b[0;34m\u001b[0m\u001b[0;34m\u001b[0m\u001b[0m\n\u001b[1;32m    594\u001b[0m             \u001b[0;32mtry\u001b[0m\u001b[0;34m:\u001b[0m\u001b[0;34m\u001b[0m\u001b[0;34m\u001b[0m\u001b[0m\n\u001b[0;32m--> 595\u001b[0;31m                 \u001b[0mvalues\u001b[0m \u001b[0;34m=\u001b[0m \u001b[0mastype_nansafe\u001b[0m\u001b[0;34m(\u001b[0m\u001b[0mvals1d\u001b[0m\u001b[0;34m,\u001b[0m \u001b[0mdtype\u001b[0m\u001b[0;34m,\u001b[0m \u001b[0mcopy\u001b[0m\u001b[0;34m=\u001b[0m\u001b[0;32mTrue\u001b[0m\u001b[0;34m)\u001b[0m\u001b[0;34m\u001b[0m\u001b[0;34m\u001b[0m\u001b[0m\n\u001b[0m\u001b[1;32m    596\u001b[0m             \u001b[0;32mexcept\u001b[0m \u001b[0;34m(\u001b[0m\u001b[0mValueError\u001b[0m\u001b[0;34m,\u001b[0m \u001b[0mTypeError\u001b[0m\u001b[0;34m)\u001b[0m\u001b[0;34m:\u001b[0m\u001b[0;34m\u001b[0m\u001b[0;34m\u001b[0m\u001b[0m\n\u001b[1;32m    597\u001b[0m                 \u001b[0;31m# e.g. astype_nansafe can fail on object-dtype of strings\u001b[0m\u001b[0;34m\u001b[0m\u001b[0;34m\u001b[0m\u001b[0;34m\u001b[0m\u001b[0m\n",
      "\u001b[0;32m/opt/conda/lib/python3.7/site-packages/pandas/core/dtypes/cast.py\u001b[0m in \u001b[0;36mastype_nansafe\u001b[0;34m(arr, dtype, copy, skipna)\u001b[0m\n\u001b[1;32m    978\u001b[0m             \u001b[0;32mfrom\u001b[0m \u001b[0mpandas\u001b[0m \u001b[0;32mimport\u001b[0m \u001b[0mto_datetime\u001b[0m\u001b[0;34m\u001b[0m\u001b[0;34m\u001b[0m\u001b[0m\n\u001b[1;32m    979\u001b[0m \u001b[0;34m\u001b[0m\u001b[0m\n\u001b[0;32m--> 980\u001b[0;31m             \u001b[0;32mreturn\u001b[0m \u001b[0mastype_nansafe\u001b[0m\u001b[0;34m(\u001b[0m\u001b[0mto_datetime\u001b[0m\u001b[0;34m(\u001b[0m\u001b[0marr\u001b[0m\u001b[0;34m)\u001b[0m\u001b[0;34m.\u001b[0m\u001b[0mvalues\u001b[0m\u001b[0;34m,\u001b[0m \u001b[0mdtype\u001b[0m\u001b[0;34m,\u001b[0m \u001b[0mcopy\u001b[0m\u001b[0;34m=\u001b[0m\u001b[0mcopy\u001b[0m\u001b[0;34m)\u001b[0m\u001b[0;34m\u001b[0m\u001b[0;34m\u001b[0m\u001b[0m\n\u001b[0m\u001b[1;32m    981\u001b[0m         \u001b[0;32melif\u001b[0m \u001b[0mis_timedelta64_dtype\u001b[0m\u001b[0;34m(\u001b[0m\u001b[0mdtype\u001b[0m\u001b[0;34m)\u001b[0m\u001b[0;34m:\u001b[0m\u001b[0;34m\u001b[0m\u001b[0;34m\u001b[0m\u001b[0m\n\u001b[1;32m    982\u001b[0m             \u001b[0;32mfrom\u001b[0m \u001b[0mpandas\u001b[0m \u001b[0;32mimport\u001b[0m \u001b[0mto_timedelta\u001b[0m\u001b[0;34m\u001b[0m\u001b[0;34m\u001b[0m\u001b[0m\n",
      "\u001b[0;32m/opt/conda/lib/python3.7/site-packages/pandas/core/tools/datetimes.py\u001b[0m in \u001b[0;36mto_datetime\u001b[0;34m(arg, errors, dayfirst, yearfirst, utc, format, exact, unit, infer_datetime_format, origin, cache)\u001b[0m\n\u001b[1;32m    826\u001b[0m             \u001b[0mresult\u001b[0m \u001b[0;34m=\u001b[0m \u001b[0m_convert_and_box_cache\u001b[0m\u001b[0;34m(\u001b[0m\u001b[0marg\u001b[0m\u001b[0;34m,\u001b[0m \u001b[0mcache_array\u001b[0m\u001b[0;34m)\u001b[0m\u001b[0;34m\u001b[0m\u001b[0;34m\u001b[0m\u001b[0m\n\u001b[1;32m    827\u001b[0m         \u001b[0;32melse\u001b[0m\u001b[0;34m:\u001b[0m\u001b[0;34m\u001b[0m\u001b[0;34m\u001b[0m\u001b[0m\n\u001b[0;32m--> 828\u001b[0;31m             \u001b[0mresult\u001b[0m \u001b[0;34m=\u001b[0m \u001b[0mconvert_listlike\u001b[0m\u001b[0;34m(\u001b[0m\u001b[0marg\u001b[0m\u001b[0;34m,\u001b[0m \u001b[0mformat\u001b[0m\u001b[0;34m)\u001b[0m\u001b[0;34m\u001b[0m\u001b[0;34m\u001b[0m\u001b[0m\n\u001b[0m\u001b[1;32m    829\u001b[0m     \u001b[0;32melse\u001b[0m\u001b[0;34m:\u001b[0m\u001b[0;34m\u001b[0m\u001b[0;34m\u001b[0m\u001b[0m\n\u001b[1;32m    830\u001b[0m         \u001b[0mresult\u001b[0m \u001b[0;34m=\u001b[0m \u001b[0mconvert_listlike\u001b[0m\u001b[0;34m(\u001b[0m\u001b[0mnp\u001b[0m\u001b[0;34m.\u001b[0m\u001b[0marray\u001b[0m\u001b[0;34m(\u001b[0m\u001b[0;34m[\u001b[0m\u001b[0marg\u001b[0m\u001b[0;34m]\u001b[0m\u001b[0;34m)\u001b[0m\u001b[0;34m,\u001b[0m \u001b[0mformat\u001b[0m\u001b[0;34m)\u001b[0m\u001b[0;34m[\u001b[0m\u001b[0;36m0\u001b[0m\u001b[0;34m]\u001b[0m\u001b[0;34m\u001b[0m\u001b[0;34m\u001b[0m\u001b[0m\n",
      "\u001b[0;32m/opt/conda/lib/python3.7/site-packages/pandas/core/tools/datetimes.py\u001b[0m in \u001b[0;36m_convert_listlike_datetimes\u001b[0;34m(arg, format, name, tz, unit, errors, infer_datetime_format, dayfirst, yearfirst, exact)\u001b[0m\n\u001b[1;32m    464\u001b[0m             \u001b[0merrors\u001b[0m\u001b[0;34m=\u001b[0m\u001b[0merrors\u001b[0m\u001b[0;34m,\u001b[0m\u001b[0;34m\u001b[0m\u001b[0;34m\u001b[0m\u001b[0m\n\u001b[1;32m    465\u001b[0m             \u001b[0mrequire_iso8601\u001b[0m\u001b[0;34m=\u001b[0m\u001b[0mrequire_iso8601\u001b[0m\u001b[0;34m,\u001b[0m\u001b[0;34m\u001b[0m\u001b[0;34m\u001b[0m\u001b[0m\n\u001b[0;32m--> 466\u001b[0;31m             \u001b[0mallow_object\u001b[0m\u001b[0;34m=\u001b[0m\u001b[0;32mTrue\u001b[0m\u001b[0;34m,\u001b[0m\u001b[0;34m\u001b[0m\u001b[0;34m\u001b[0m\u001b[0m\n\u001b[0m\u001b[1;32m    467\u001b[0m         )\n\u001b[1;32m    468\u001b[0m \u001b[0;34m\u001b[0m\u001b[0m\n",
      "\u001b[0;32m/opt/conda/lib/python3.7/site-packages/pandas/core/arrays/datetimes.py\u001b[0m in \u001b[0;36mobjects_to_datetime64ns\u001b[0;34m(data, dayfirst, yearfirst, utc, errors, require_iso8601, allow_object)\u001b[0m\n\u001b[1;32m   2057\u001b[0m             \u001b[0;32mreturn\u001b[0m \u001b[0mvalues\u001b[0m\u001b[0;34m.\u001b[0m\u001b[0mview\u001b[0m\u001b[0;34m(\u001b[0m\u001b[0;34m\"i8\"\u001b[0m\u001b[0;34m)\u001b[0m\u001b[0;34m,\u001b[0m \u001b[0mtz_parsed\u001b[0m\u001b[0;34m\u001b[0m\u001b[0;34m\u001b[0m\u001b[0m\n\u001b[1;32m   2058\u001b[0m         \u001b[0;32mexcept\u001b[0m \u001b[0;34m(\u001b[0m\u001b[0mValueError\u001b[0m\u001b[0;34m,\u001b[0m \u001b[0mTypeError\u001b[0m\u001b[0;34m)\u001b[0m\u001b[0;34m:\u001b[0m\u001b[0;34m\u001b[0m\u001b[0;34m\u001b[0m\u001b[0m\n\u001b[0;32m-> 2059\u001b[0;31m             \u001b[0;32mraise\u001b[0m \u001b[0me\u001b[0m\u001b[0;34m\u001b[0m\u001b[0;34m\u001b[0m\u001b[0m\n\u001b[0m\u001b[1;32m   2060\u001b[0m \u001b[0;34m\u001b[0m\u001b[0m\n\u001b[1;32m   2061\u001b[0m     \u001b[0;32mif\u001b[0m \u001b[0mtz_parsed\u001b[0m \u001b[0;32mis\u001b[0m \u001b[0;32mnot\u001b[0m \u001b[0;32mNone\u001b[0m\u001b[0;34m:\u001b[0m\u001b[0;34m\u001b[0m\u001b[0;34m\u001b[0m\u001b[0m\n",
      "\u001b[0;32m/opt/conda/lib/python3.7/site-packages/pandas/core/arrays/datetimes.py\u001b[0m in \u001b[0;36mobjects_to_datetime64ns\u001b[0;34m(data, dayfirst, yearfirst, utc, errors, require_iso8601, allow_object)\u001b[0m\n\u001b[1;32m   2048\u001b[0m             \u001b[0mdayfirst\u001b[0m\u001b[0;34m=\u001b[0m\u001b[0mdayfirst\u001b[0m\u001b[0;34m,\u001b[0m\u001b[0;34m\u001b[0m\u001b[0;34m\u001b[0m\u001b[0m\n\u001b[1;32m   2049\u001b[0m             \u001b[0myearfirst\u001b[0m\u001b[0;34m=\u001b[0m\u001b[0myearfirst\u001b[0m\u001b[0;34m,\u001b[0m\u001b[0;34m\u001b[0m\u001b[0;34m\u001b[0m\u001b[0m\n\u001b[0;32m-> 2050\u001b[0;31m             \u001b[0mrequire_iso8601\u001b[0m\u001b[0;34m=\u001b[0m\u001b[0mrequire_iso8601\u001b[0m\u001b[0;34m,\u001b[0m\u001b[0;34m\u001b[0m\u001b[0;34m\u001b[0m\u001b[0m\n\u001b[0m\u001b[1;32m   2051\u001b[0m         )\n\u001b[1;32m   2052\u001b[0m     \u001b[0;32mexcept\u001b[0m \u001b[0mValueError\u001b[0m \u001b[0;32mas\u001b[0m \u001b[0me\u001b[0m\u001b[0;34m:\u001b[0m\u001b[0;34m\u001b[0m\u001b[0;34m\u001b[0m\u001b[0m\n",
      "\u001b[0;32mpandas/_libs/tslib.pyx\u001b[0m in \u001b[0;36mpandas._libs.tslib.array_to_datetime\u001b[0;34m()\u001b[0m\n",
      "\u001b[0;32mpandas/_libs/tslib.pyx\u001b[0m in \u001b[0;36mpandas._libs.tslib.array_to_datetime\u001b[0;34m()\u001b[0m\n",
      "\u001b[0;32mpandas/_libs/tslib.pyx\u001b[0m in \u001b[0;36mpandas._libs.tslib.array_to_datetime_object\u001b[0;34m()\u001b[0m\n",
      "\u001b[0;32mpandas/_libs/tslib.pyx\u001b[0m in \u001b[0;36mpandas._libs.tslib.array_to_datetime_object\u001b[0;34m()\u001b[0m\n",
      "\u001b[0;32mpandas/_libs/tslibs/parsing.pyx\u001b[0m in \u001b[0;36mpandas._libs.tslibs.parsing.parse_datetime_string\u001b[0;34m()\u001b[0m\n",
      "\u001b[0;32m/opt/conda/lib/python3.7/site-packages/dateutil/parser/_parser.py\u001b[0m in \u001b[0;36mparse\u001b[0;34m(timestr, parserinfo, **kwargs)\u001b[0m\n\u001b[1;32m   1372\u001b[0m         \u001b[0;32mreturn\u001b[0m \u001b[0mparser\u001b[0m\u001b[0;34m(\u001b[0m\u001b[0mparserinfo\u001b[0m\u001b[0;34m)\u001b[0m\u001b[0;34m.\u001b[0m\u001b[0mparse\u001b[0m\u001b[0;34m(\u001b[0m\u001b[0mtimestr\u001b[0m\u001b[0;34m,\u001b[0m \u001b[0;34m**\u001b[0m\u001b[0mkwargs\u001b[0m\u001b[0;34m)\u001b[0m\u001b[0;34m\u001b[0m\u001b[0;34m\u001b[0m\u001b[0m\n\u001b[1;32m   1373\u001b[0m     \u001b[0;32melse\u001b[0m\u001b[0;34m:\u001b[0m\u001b[0;34m\u001b[0m\u001b[0;34m\u001b[0m\u001b[0m\n\u001b[0;32m-> 1374\u001b[0;31m         \u001b[0;32mreturn\u001b[0m \u001b[0mDEFAULTPARSER\u001b[0m\u001b[0;34m.\u001b[0m\u001b[0mparse\u001b[0m\u001b[0;34m(\u001b[0m\u001b[0mtimestr\u001b[0m\u001b[0;34m,\u001b[0m \u001b[0;34m**\u001b[0m\u001b[0mkwargs\u001b[0m\u001b[0;34m)\u001b[0m\u001b[0;34m\u001b[0m\u001b[0;34m\u001b[0m\u001b[0m\n\u001b[0m\u001b[1;32m   1375\u001b[0m \u001b[0;34m\u001b[0m\u001b[0m\n\u001b[1;32m   1376\u001b[0m \u001b[0;34m\u001b[0m\u001b[0m\n",
      "\u001b[0;32m/opt/conda/lib/python3.7/site-packages/dateutil/parser/_parser.py\u001b[0m in \u001b[0;36mparse\u001b[0;34m(self, timestr, default, ignoretz, tzinfos, **kwargs)\u001b[0m\n\u001b[1;32m    655\u001b[0m             \u001b[0mret\u001b[0m \u001b[0;34m=\u001b[0m \u001b[0mself\u001b[0m\u001b[0;34m.\u001b[0m\u001b[0m_build_naive\u001b[0m\u001b[0;34m(\u001b[0m\u001b[0mres\u001b[0m\u001b[0;34m,\u001b[0m \u001b[0mdefault\u001b[0m\u001b[0;34m)\u001b[0m\u001b[0;34m\u001b[0m\u001b[0;34m\u001b[0m\u001b[0m\n\u001b[1;32m    656\u001b[0m         \u001b[0;32mexcept\u001b[0m \u001b[0mValueError\u001b[0m \u001b[0;32mas\u001b[0m \u001b[0me\u001b[0m\u001b[0;34m:\u001b[0m\u001b[0;34m\u001b[0m\u001b[0;34m\u001b[0m\u001b[0m\n\u001b[0;32m--> 657\u001b[0;31m             \u001b[0msix\u001b[0m\u001b[0;34m.\u001b[0m\u001b[0mraise_from\u001b[0m\u001b[0;34m(\u001b[0m\u001b[0mParserError\u001b[0m\u001b[0;34m(\u001b[0m\u001b[0me\u001b[0m\u001b[0;34m.\u001b[0m\u001b[0margs\u001b[0m\u001b[0;34m[\u001b[0m\u001b[0;36m0\u001b[0m\u001b[0;34m]\u001b[0m \u001b[0;34m+\u001b[0m \u001b[0;34m\": %s\"\u001b[0m\u001b[0;34m,\u001b[0m \u001b[0mtimestr\u001b[0m\u001b[0;34m)\u001b[0m\u001b[0;34m,\u001b[0m \u001b[0me\u001b[0m\u001b[0;34m)\u001b[0m\u001b[0;34m\u001b[0m\u001b[0;34m\u001b[0m\u001b[0m\n\u001b[0m\u001b[1;32m    658\u001b[0m \u001b[0;34m\u001b[0m\u001b[0m\n\u001b[1;32m    659\u001b[0m         \u001b[0;32mif\u001b[0m \u001b[0;32mnot\u001b[0m \u001b[0mignoretz\u001b[0m\u001b[0;34m:\u001b[0m\u001b[0;34m\u001b[0m\u001b[0;34m\u001b[0m\u001b[0m\n",
      "\u001b[0;32m/opt/conda/lib/python3.7/site-packages/six.py\u001b[0m in \u001b[0;36mraise_from\u001b[0;34m(value, from_value)\u001b[0m\n",
      "\u001b[0;31mParserError\u001b[0m: hour must be in 0..23: 10/11/2006 24:00"
     ]
    }
   ],
   "source": [
    "# Enfoque: convertirlo a datetime64\n",
    "data['datetime_dat']=data['datetime'].astype('datetime64')\n",
    "# No permite hacer la conversion porque aparentemente algunas fechas tienen la hora como '24:00'\n",
    "# entonces vamos a reemplazarlo por '00:00'\n"
   ]
  },
  {
   "cell_type": "code",
   "execution_count": 8,
   "metadata": {
    "execution": {
     "iopub.execute_input": "2020-10-22T20:57:36.051310Z",
     "iopub.status.busy": "2020-10-22T20:57:36.050601Z",
     "iopub.status.idle": "2020-10-22T20:57:36.102168Z",
     "shell.execute_reply": "2020-10-22T20:57:36.102882Z"
    },
    "papermill": {
     "duration": 0.129556,
     "end_time": "2020-10-22T20:57:36.103070",
     "exception": false,
     "start_time": "2020-10-22T20:57:35.973514",
     "status": "completed"
    },
    "tags": []
   },
   "outputs": [
    {
     "data": {
      "text/html": [
       "<div>\n",
       "<style scoped>\n",
       "    .dataframe tbody tr th:only-of-type {\n",
       "        vertical-align: middle;\n",
       "    }\n",
       "\n",
       "    .dataframe tbody tr th {\n",
       "        vertical-align: top;\n",
       "    }\n",
       "\n",
       "    .dataframe thead th {\n",
       "        text-align: right;\n",
       "    }\n",
       "</style>\n",
       "<table border=\"1\" class=\"dataframe\">\n",
       "  <thead>\n",
       "    <tr style=\"text-align: right;\">\n",
       "      <th></th>\n",
       "      <th>datetime</th>\n",
       "      <th>city</th>\n",
       "      <th>state</th>\n",
       "      <th>country</th>\n",
       "      <th>shape</th>\n",
       "      <th>duration (seconds)</th>\n",
       "      <th>duration (hours/min)</th>\n",
       "      <th>comments</th>\n",
       "      <th>date posted</th>\n",
       "      <th>latitude</th>\n",
       "      <th>longitude</th>\n",
       "    </tr>\n",
       "  </thead>\n",
       "  <tbody>\n",
       "    <tr>\n",
       "      <th>388</th>\n",
       "      <td>10/11/2006 24:00</td>\n",
       "      <td>rome</td>\n",
       "      <td>ny</td>\n",
       "      <td>us</td>\n",
       "      <td>oval</td>\n",
       "      <td>120</td>\n",
       "      <td>a min or two</td>\n",
       "      <td>I was walking from the garage to the house&amp;#44...</td>\n",
       "      <td>2/1/2007</td>\n",
       "      <td>43.2127778</td>\n",
       "      <td>-75.456111</td>\n",
       "    </tr>\n",
       "    <tr>\n",
       "      <th>693</th>\n",
       "      <td>10/1/2001 24:00</td>\n",
       "      <td>chulucanas-piura la vieja (peru)</td>\n",
       "      <td>NaN</td>\n",
       "      <td>NaN</td>\n",
       "      <td>other</td>\n",
       "      <td>6312000</td>\n",
       "      <td>2 years</td>\n",
       "      <td>go to:  http://www.24horas.com.pe/data/videos/...</td>\n",
       "      <td>3/4/2003</td>\n",
       "      <td>-5.129547</td>\n",
       "      <td>-80.120569</td>\n",
       "    </tr>\n",
       "    <tr>\n",
       "      <th>962</th>\n",
       "      <td>10/1/2012 24:00</td>\n",
       "      <td>novi</td>\n",
       "      <td>mi</td>\n",
       "      <td>us</td>\n",
       "      <td>triangle</td>\n",
       "      <td>300</td>\n",
       "      <td>5 minutes</td>\n",
       "      <td>V shaped and 8 big and very brite lights&amp;#44mo...</td>\n",
       "      <td>10/30/2012</td>\n",
       "      <td>42.4805556</td>\n",
       "      <td>-83.475556</td>\n",
       "    </tr>\n",
       "    <tr>\n",
       "      <th>1067</th>\n",
       "      <td>10/12/2003 24:00</td>\n",
       "      <td>salatiga (indonesia)</td>\n",
       "      <td>NaN</td>\n",
       "      <td>NaN</td>\n",
       "      <td>disk</td>\n",
       "      <td>22</td>\n",
       "      <td>22 seconds</td>\n",
       "      <td>UFO in Salatiga&amp;#44Indonesia</td>\n",
       "      <td>10/31/2003</td>\n",
       "      <td>-7.33683</td>\n",
       "      <td>110.498817</td>\n",
       "    </tr>\n",
       "    <tr>\n",
       "      <th>1221</th>\n",
       "      <td>10/12/2013 24:00</td>\n",
       "      <td>cincinnati</td>\n",
       "      <td>oh</td>\n",
       "      <td>us</td>\n",
       "      <td>fireball</td>\n",
       "      <td>300</td>\n",
       "      <td>3-5 minutes</td>\n",
       "      <td>A bright orange light split into four&amp;#44 did ...</td>\n",
       "      <td>10/14/2013</td>\n",
       "      <td>39.1619444</td>\n",
       "      <td>-84.456944</td>\n",
       "    </tr>\n",
       "    <tr>\n",
       "      <th>...</th>\n",
       "      <td>...</td>\n",
       "      <td>...</td>\n",
       "      <td>...</td>\n",
       "      <td>...</td>\n",
       "      <td>...</td>\n",
       "      <td>...</td>\n",
       "      <td>...</td>\n",
       "      <td>...</td>\n",
       "      <td>...</td>\n",
       "      <td>...</td>\n",
       "      <td>...</td>\n",
       "    </tr>\n",
       "    <tr>\n",
       "      <th>79136</th>\n",
       "      <td>9/4/2005 24:00</td>\n",
       "      <td>boonville</td>\n",
       "      <td>nc</td>\n",
       "      <td>us</td>\n",
       "      <td>cigar</td>\n",
       "      <td>10800</td>\n",
       "      <td>3+ hours</td>\n",
       "      <td>Unusual activity in our small community&amp;#44 cr...</td>\n",
       "      <td>9/9/2013</td>\n",
       "      <td>36.2325</td>\n",
       "      <td>-80.708333</td>\n",
       "    </tr>\n",
       "    <tr>\n",
       "      <th>79137</th>\n",
       "      <td>9/4/2005 24:00</td>\n",
       "      <td>redondo beach</td>\n",
       "      <td>ca</td>\n",
       "      <td>us</td>\n",
       "      <td>triangle</td>\n",
       "      <td>300</td>\n",
       "      <td>5 minutes</td>\n",
       "      <td>Triangulat UFO seen over Redondo Beach&amp;#44 Cal...</td>\n",
       "      <td>12/16/2005</td>\n",
       "      <td>33.8492</td>\n",
       "      <td>-118.387500</td>\n",
       "    </tr>\n",
       "    <tr>\n",
       "      <th>79740</th>\n",
       "      <td>9/7/2002 24:00</td>\n",
       "      <td>portsmouth</td>\n",
       "      <td>oh</td>\n",
       "      <td>us</td>\n",
       "      <td>changing</td>\n",
       "      <td>900</td>\n",
       "      <td>15 minutes</td>\n",
       "      <td>A bright red light hoovering in the sky.</td>\n",
       "      <td>9/13/2002</td>\n",
       "      <td>38.7317</td>\n",
       "      <td>-82.997778</td>\n",
       "    </tr>\n",
       "    <tr>\n",
       "      <th>79759</th>\n",
       "      <td>9/7/2004 24:00</td>\n",
       "      <td>montrose</td>\n",
       "      <td>co</td>\n",
       "      <td>us</td>\n",
       "      <td>unknown</td>\n",
       "      <td>1200</td>\n",
       "      <td>20 minutes</td>\n",
       "      <td>Stationary object with three pulsating lights ...</td>\n",
       "      <td>9/9/2004</td>\n",
       "      <td>38.4783</td>\n",
       "      <td>-107.875556</td>\n",
       "    </tr>\n",
       "    <tr>\n",
       "      <th>79942</th>\n",
       "      <td>9/8/2003 24:00</td>\n",
       "      <td>cedar rapids</td>\n",
       "      <td>ia</td>\n",
       "      <td>us</td>\n",
       "      <td>changing</td>\n",
       "      <td>900</td>\n",
       "      <td>15 min</td>\n",
       "      <td>WE SEEN IT</td>\n",
       "      <td>9/17/2003</td>\n",
       "      <td>42.0083</td>\n",
       "      <td>-91.643889</td>\n",
       "    </tr>\n",
       "  </tbody>\n",
       "</table>\n",
       "<p>694 rows × 11 columns</p>\n",
       "</div>"
      ],
      "text/plain": [
       "               datetime                              city state country  \\\n",
       "388    10/11/2006 24:00                              rome    ny      us   \n",
       "693     10/1/2001 24:00  chulucanas-piura la vieja (peru)   NaN     NaN   \n",
       "962     10/1/2012 24:00                              novi    mi      us   \n",
       "1067   10/12/2003 24:00              salatiga (indonesia)   NaN     NaN   \n",
       "1221   10/12/2013 24:00                        cincinnati    oh      us   \n",
       "...                 ...                               ...   ...     ...   \n",
       "79136    9/4/2005 24:00                         boonville    nc      us   \n",
       "79137    9/4/2005 24:00                     redondo beach    ca      us   \n",
       "79740    9/7/2002 24:00                        portsmouth    oh      us   \n",
       "79759    9/7/2004 24:00                          montrose    co      us   \n",
       "79942    9/8/2003 24:00                      cedar rapids    ia      us   \n",
       "\n",
       "          shape duration (seconds) duration (hours/min)  \\\n",
       "388        oval                120         a min or two   \n",
       "693       other            6312000              2 years   \n",
       "962    triangle                300            5 minutes   \n",
       "1067       disk                 22           22 seconds   \n",
       "1221   fireball                300          3-5 minutes   \n",
       "...         ...                ...                  ...   \n",
       "79136     cigar              10800             3+ hours   \n",
       "79137  triangle                300            5 minutes   \n",
       "79740  changing                900           15 minutes   \n",
       "79759   unknown               1200           20 minutes   \n",
       "79942  changing                900               15 min   \n",
       "\n",
       "                                                comments date posted  \\\n",
       "388    I was walking from the garage to the house&#44...    2/1/2007   \n",
       "693    go to:  http://www.24horas.com.pe/data/videos/...    3/4/2003   \n",
       "962    V shaped and 8 big and very brite lights&#44mo...  10/30/2012   \n",
       "1067                        UFO in Salatiga&#44Indonesia  10/31/2003   \n",
       "1221   A bright orange light split into four&#44 did ...  10/14/2013   \n",
       "...                                                  ...         ...   \n",
       "79136  Unusual activity in our small community&#44 cr...    9/9/2013   \n",
       "79137  Triangulat UFO seen over Redondo Beach&#44 Cal...  12/16/2005   \n",
       "79740           A bright red light hoovering in the sky.   9/13/2002   \n",
       "79759  Stationary object with three pulsating lights ...    9/9/2004   \n",
       "79942                                         WE SEEN IT   9/17/2003   \n",
       "\n",
       "         latitude  longitude   \n",
       "388    43.2127778  -75.456111  \n",
       "693     -5.129547  -80.120569  \n",
       "962    42.4805556  -83.475556  \n",
       "1067     -7.33683  110.498817  \n",
       "1221   39.1619444  -84.456944  \n",
       "...           ...         ...  \n",
       "79136     36.2325  -80.708333  \n",
       "79137     33.8492 -118.387500  \n",
       "79740     38.7317  -82.997778  \n",
       "79759     38.4783 -107.875556  \n",
       "79942     42.0083  -91.643889  \n",
       "\n",
       "[694 rows x 11 columns]"
      ]
     },
     "execution_count": 8,
     "metadata": {},
     "output_type": "execute_result"
    }
   ],
   "source": [
    "# verifico si efectivamente hay registros con la hora cargada como '24:00'\n",
    "data[data['datetime'].str.contains(\"24:00\")]\n",
    "# hay 694 regirstros con hora '24:00'"
   ]
  },
  {
   "cell_type": "code",
   "execution_count": 9,
   "metadata": {
    "execution": {
     "iopub.execute_input": "2020-10-22T20:57:36.245631Z",
     "iopub.status.busy": "2020-10-22T20:57:36.244585Z",
     "iopub.status.idle": "2020-10-22T20:57:36.367275Z",
     "shell.execute_reply": "2020-10-22T20:57:36.366724Z"
    },
    "papermill": {
     "duration": 0.199422,
     "end_time": "2020-10-22T20:57:36.367399",
     "exception": false,
     "start_time": "2020-10-22T20:57:36.167977",
     "status": "completed"
    },
    "tags": []
   },
   "outputs": [],
   "source": [
    "# donde encuentra un '24:00' le asigna '00:00'\n",
    "data['datetime_dat'] = data['datetime'].replace({'24:00': '00:00'}, regex=True)"
   ]
  },
  {
   "cell_type": "code",
   "execution_count": 10,
   "metadata": {
    "execution": {
     "iopub.execute_input": "2020-10-22T20:57:36.511763Z",
     "iopub.status.busy": "2020-10-22T20:57:36.506710Z",
     "iopub.status.idle": "2020-10-22T20:57:44.372373Z",
     "shell.execute_reply": "2020-10-22T20:57:44.372907Z"
    },
    "papermill": {
     "duration": 7.94308,
     "end_time": "2020-10-22T20:57:44.373084",
     "exception": false,
     "start_time": "2020-10-22T20:57:36.430004",
     "status": "completed"
    },
    "tags": []
   },
   "outputs": [],
   "source": [
    "# Probemos ahora la conversión al tipo de datos datetime\n",
    "data['datetime_dat']=data['datetime_dat'].astype('datetime64')"
   ]
  },
  {
   "cell_type": "markdown",
   "metadata": {
    "papermill": {
     "duration": 0.061604,
     "end_time": "2020-10-22T20:57:44.497251",
     "exception": false,
     "start_time": "2020-10-22T20:57:44.435647",
     "status": "completed"
    },
    "tags": []
   },
   "source": [
    "**********************"
   ]
  },
  {
   "cell_type": "markdown",
   "metadata": {
    "papermill": {
     "duration": 0.061587,
     "end_time": "2020-10-22T20:57:44.620631",
     "exception": false,
     "start_time": "2020-10-22T20:57:44.559044",
     "status": "completed"
    },
    "tags": []
   },
   "source": [
    "#2° OBSERVACIÓN: 'LATITUDE' TIENE COMO TIPO DE DATOS: OBJECT"
   ]
  },
  {
   "cell_type": "code",
   "execution_count": 11,
   "metadata": {
    "_kg_hide-output": true,
    "execution": {
     "iopub.execute_input": "2020-10-22T20:57:44.762898Z",
     "iopub.status.busy": "2020-10-22T20:57:44.753814Z",
     "iopub.status.idle": "2020-10-22T20:57:44.775872Z",
     "shell.execute_reply": "2020-10-22T20:57:44.776456Z"
    },
    "papermill": {
     "duration": 0.094127,
     "end_time": "2020-10-22T20:57:44.776610",
     "exception": false,
     "start_time": "2020-10-22T20:57:44.682483",
     "status": "completed"
    },
    "tags": []
   },
   "outputs": [
    {
     "ename": "ValueError",
     "evalue": "could not convert string to float: '33q.200088'",
     "output_type": "error",
     "traceback": [
      "\u001b[0;31m---------------------------------------------------------------------------\u001b[0m",
      "\u001b[0;31mValueError\u001b[0m                                Traceback (most recent call last)",
      "\u001b[0;32m<ipython-input-11-d582f950a27b>\u001b[0m in \u001b[0;36m<module>\u001b[0;34m\u001b[0m\n\u001b[1;32m      1\u001b[0m \u001b[0;31m# Enfoque: convertirlo a float64\u001b[0m\u001b[0;34m\u001b[0m\u001b[0;34m\u001b[0m\u001b[0;34m\u001b[0m\u001b[0m\n\u001b[0;32m----> 2\u001b[0;31m \u001b[0mdata\u001b[0m\u001b[0;34m[\u001b[0m\u001b[0;34m'latitude_num'\u001b[0m\u001b[0;34m]\u001b[0m\u001b[0;34m=\u001b[0m\u001b[0mdata\u001b[0m\u001b[0;34m[\u001b[0m\u001b[0;34m'latitude'\u001b[0m\u001b[0;34m]\u001b[0m\u001b[0;34m.\u001b[0m\u001b[0mastype\u001b[0m\u001b[0;34m(\u001b[0m\u001b[0;34m'float64'\u001b[0m\u001b[0;34m)\u001b[0m\u001b[0;34m\u001b[0m\u001b[0;34m\u001b[0m\u001b[0m\n\u001b[0m\u001b[1;32m      3\u001b[0m \u001b[0;31m# no lo permite porque encontró un registro donde aparece una letra 'q'.\u001b[0m\u001b[0;34m\u001b[0m\u001b[0;34m\u001b[0m\u001b[0;34m\u001b[0m\u001b[0m\n\u001b[1;32m      4\u001b[0m \u001b[0;31m# desconozco si es algo propio de la codificacion de las latitudes. Pero como es solo un registro, lo elimino\u001b[0m\u001b[0;34m\u001b[0m\u001b[0;34m\u001b[0m\u001b[0;34m\u001b[0m\u001b[0m\n",
      "\u001b[0;32m/opt/conda/lib/python3.7/site-packages/pandas/core/generic.py\u001b[0m in \u001b[0;36mastype\u001b[0;34m(self, dtype, copy, errors)\u001b[0m\n\u001b[1;32m   5544\u001b[0m         \u001b[0;32melse\u001b[0m\u001b[0;34m:\u001b[0m\u001b[0;34m\u001b[0m\u001b[0;34m\u001b[0m\u001b[0m\n\u001b[1;32m   5545\u001b[0m             \u001b[0;31m# else, only a single dtype is given\u001b[0m\u001b[0;34m\u001b[0m\u001b[0;34m\u001b[0m\u001b[0;34m\u001b[0m\u001b[0m\n\u001b[0;32m-> 5546\u001b[0;31m             \u001b[0mnew_data\u001b[0m \u001b[0;34m=\u001b[0m \u001b[0mself\u001b[0m\u001b[0;34m.\u001b[0m\u001b[0m_mgr\u001b[0m\u001b[0;34m.\u001b[0m\u001b[0mastype\u001b[0m\u001b[0;34m(\u001b[0m\u001b[0mdtype\u001b[0m\u001b[0;34m=\u001b[0m\u001b[0mdtype\u001b[0m\u001b[0;34m,\u001b[0m \u001b[0mcopy\u001b[0m\u001b[0;34m=\u001b[0m\u001b[0mcopy\u001b[0m\u001b[0;34m,\u001b[0m \u001b[0merrors\u001b[0m\u001b[0;34m=\u001b[0m\u001b[0merrors\u001b[0m\u001b[0;34m,\u001b[0m\u001b[0;34m)\u001b[0m\u001b[0;34m\u001b[0m\u001b[0;34m\u001b[0m\u001b[0m\n\u001b[0m\u001b[1;32m   5547\u001b[0m             \u001b[0;32mreturn\u001b[0m \u001b[0mself\u001b[0m\u001b[0;34m.\u001b[0m\u001b[0m_constructor\u001b[0m\u001b[0;34m(\u001b[0m\u001b[0mnew_data\u001b[0m\u001b[0;34m)\u001b[0m\u001b[0;34m.\u001b[0m\u001b[0m__finalize__\u001b[0m\u001b[0;34m(\u001b[0m\u001b[0mself\u001b[0m\u001b[0;34m,\u001b[0m \u001b[0mmethod\u001b[0m\u001b[0;34m=\u001b[0m\u001b[0;34m\"astype\"\u001b[0m\u001b[0;34m)\u001b[0m\u001b[0;34m\u001b[0m\u001b[0;34m\u001b[0m\u001b[0m\n\u001b[1;32m   5548\u001b[0m \u001b[0;34m\u001b[0m\u001b[0m\n",
      "\u001b[0;32m/opt/conda/lib/python3.7/site-packages/pandas/core/internals/managers.py\u001b[0m in \u001b[0;36mastype\u001b[0;34m(self, dtype, copy, errors)\u001b[0m\n\u001b[1;32m    593\u001b[0m         \u001b[0mself\u001b[0m\u001b[0;34m,\u001b[0m \u001b[0mdtype\u001b[0m\u001b[0;34m,\u001b[0m \u001b[0mcopy\u001b[0m\u001b[0;34m:\u001b[0m \u001b[0mbool\u001b[0m \u001b[0;34m=\u001b[0m \u001b[0;32mFalse\u001b[0m\u001b[0;34m,\u001b[0m \u001b[0merrors\u001b[0m\u001b[0;34m:\u001b[0m \u001b[0mstr\u001b[0m \u001b[0;34m=\u001b[0m \u001b[0;34m\"raise\"\u001b[0m\u001b[0;34m\u001b[0m\u001b[0;34m\u001b[0m\u001b[0m\n\u001b[1;32m    594\u001b[0m     ) -> \"BlockManager\":\n\u001b[0;32m--> 595\u001b[0;31m         \u001b[0;32mreturn\u001b[0m \u001b[0mself\u001b[0m\u001b[0;34m.\u001b[0m\u001b[0mapply\u001b[0m\u001b[0;34m(\u001b[0m\u001b[0;34m\"astype\"\u001b[0m\u001b[0;34m,\u001b[0m \u001b[0mdtype\u001b[0m\u001b[0;34m=\u001b[0m\u001b[0mdtype\u001b[0m\u001b[0;34m,\u001b[0m \u001b[0mcopy\u001b[0m\u001b[0;34m=\u001b[0m\u001b[0mcopy\u001b[0m\u001b[0;34m,\u001b[0m \u001b[0merrors\u001b[0m\u001b[0;34m=\u001b[0m\u001b[0merrors\u001b[0m\u001b[0;34m)\u001b[0m\u001b[0;34m\u001b[0m\u001b[0;34m\u001b[0m\u001b[0m\n\u001b[0m\u001b[1;32m    596\u001b[0m \u001b[0;34m\u001b[0m\u001b[0m\n\u001b[1;32m    597\u001b[0m     def convert(\n",
      "\u001b[0;32m/opt/conda/lib/python3.7/site-packages/pandas/core/internals/managers.py\u001b[0m in \u001b[0;36mapply\u001b[0;34m(self, f, align_keys, **kwargs)\u001b[0m\n\u001b[1;32m    404\u001b[0m                 \u001b[0mapplied\u001b[0m \u001b[0;34m=\u001b[0m \u001b[0mb\u001b[0m\u001b[0;34m.\u001b[0m\u001b[0mapply\u001b[0m\u001b[0;34m(\u001b[0m\u001b[0mf\u001b[0m\u001b[0;34m,\u001b[0m \u001b[0;34m**\u001b[0m\u001b[0mkwargs\u001b[0m\u001b[0;34m)\u001b[0m\u001b[0;34m\u001b[0m\u001b[0;34m\u001b[0m\u001b[0m\n\u001b[1;32m    405\u001b[0m             \u001b[0;32melse\u001b[0m\u001b[0;34m:\u001b[0m\u001b[0;34m\u001b[0m\u001b[0;34m\u001b[0m\u001b[0m\n\u001b[0;32m--> 406\u001b[0;31m                 \u001b[0mapplied\u001b[0m \u001b[0;34m=\u001b[0m \u001b[0mgetattr\u001b[0m\u001b[0;34m(\u001b[0m\u001b[0mb\u001b[0m\u001b[0;34m,\u001b[0m \u001b[0mf\u001b[0m\u001b[0;34m)\u001b[0m\u001b[0;34m(\u001b[0m\u001b[0;34m**\u001b[0m\u001b[0mkwargs\u001b[0m\u001b[0;34m)\u001b[0m\u001b[0;34m\u001b[0m\u001b[0;34m\u001b[0m\u001b[0m\n\u001b[0m\u001b[1;32m    407\u001b[0m             \u001b[0mresult_blocks\u001b[0m \u001b[0;34m=\u001b[0m \u001b[0m_extend_blocks\u001b[0m\u001b[0;34m(\u001b[0m\u001b[0mapplied\u001b[0m\u001b[0;34m,\u001b[0m \u001b[0mresult_blocks\u001b[0m\u001b[0;34m)\u001b[0m\u001b[0;34m\u001b[0m\u001b[0;34m\u001b[0m\u001b[0m\n\u001b[1;32m    408\u001b[0m \u001b[0;34m\u001b[0m\u001b[0m\n",
      "\u001b[0;32m/opt/conda/lib/python3.7/site-packages/pandas/core/internals/blocks.py\u001b[0m in \u001b[0;36mastype\u001b[0;34m(self, dtype, copy, errors)\u001b[0m\n\u001b[1;32m    593\u001b[0m             \u001b[0mvals1d\u001b[0m \u001b[0;34m=\u001b[0m \u001b[0mvalues\u001b[0m\u001b[0;34m.\u001b[0m\u001b[0mravel\u001b[0m\u001b[0;34m(\u001b[0m\u001b[0;34m)\u001b[0m\u001b[0;34m\u001b[0m\u001b[0;34m\u001b[0m\u001b[0m\n\u001b[1;32m    594\u001b[0m             \u001b[0;32mtry\u001b[0m\u001b[0;34m:\u001b[0m\u001b[0;34m\u001b[0m\u001b[0;34m\u001b[0m\u001b[0m\n\u001b[0;32m--> 595\u001b[0;31m                 \u001b[0mvalues\u001b[0m \u001b[0;34m=\u001b[0m \u001b[0mastype_nansafe\u001b[0m\u001b[0;34m(\u001b[0m\u001b[0mvals1d\u001b[0m\u001b[0;34m,\u001b[0m \u001b[0mdtype\u001b[0m\u001b[0;34m,\u001b[0m \u001b[0mcopy\u001b[0m\u001b[0;34m=\u001b[0m\u001b[0;32mTrue\u001b[0m\u001b[0;34m)\u001b[0m\u001b[0;34m\u001b[0m\u001b[0;34m\u001b[0m\u001b[0m\n\u001b[0m\u001b[1;32m    596\u001b[0m             \u001b[0;32mexcept\u001b[0m \u001b[0;34m(\u001b[0m\u001b[0mValueError\u001b[0m\u001b[0;34m,\u001b[0m \u001b[0mTypeError\u001b[0m\u001b[0;34m)\u001b[0m\u001b[0;34m:\u001b[0m\u001b[0;34m\u001b[0m\u001b[0;34m\u001b[0m\u001b[0m\n\u001b[1;32m    597\u001b[0m                 \u001b[0;31m# e.g. astype_nansafe can fail on object-dtype of strings\u001b[0m\u001b[0;34m\u001b[0m\u001b[0;34m\u001b[0m\u001b[0;34m\u001b[0m\u001b[0m\n",
      "\u001b[0;32m/opt/conda/lib/python3.7/site-packages/pandas/core/dtypes/cast.py\u001b[0m in \u001b[0;36mastype_nansafe\u001b[0;34m(arr, dtype, copy, skipna)\u001b[0m\n\u001b[1;32m    993\u001b[0m     \u001b[0;32mif\u001b[0m \u001b[0mcopy\u001b[0m \u001b[0;32mor\u001b[0m \u001b[0mis_object_dtype\u001b[0m\u001b[0;34m(\u001b[0m\u001b[0marr\u001b[0m\u001b[0;34m)\u001b[0m \u001b[0;32mor\u001b[0m \u001b[0mis_object_dtype\u001b[0m\u001b[0;34m(\u001b[0m\u001b[0mdtype\u001b[0m\u001b[0;34m)\u001b[0m\u001b[0;34m:\u001b[0m\u001b[0;34m\u001b[0m\u001b[0;34m\u001b[0m\u001b[0m\n\u001b[1;32m    994\u001b[0m         \u001b[0;31m# Explicit copy, or required since NumPy can't view from / to object.\u001b[0m\u001b[0;34m\u001b[0m\u001b[0;34m\u001b[0m\u001b[0;34m\u001b[0m\u001b[0m\n\u001b[0;32m--> 995\u001b[0;31m         \u001b[0;32mreturn\u001b[0m \u001b[0marr\u001b[0m\u001b[0;34m.\u001b[0m\u001b[0mastype\u001b[0m\u001b[0;34m(\u001b[0m\u001b[0mdtype\u001b[0m\u001b[0;34m,\u001b[0m \u001b[0mcopy\u001b[0m\u001b[0;34m=\u001b[0m\u001b[0;32mTrue\u001b[0m\u001b[0;34m)\u001b[0m\u001b[0;34m\u001b[0m\u001b[0;34m\u001b[0m\u001b[0m\n\u001b[0m\u001b[1;32m    996\u001b[0m \u001b[0;34m\u001b[0m\u001b[0m\n\u001b[1;32m    997\u001b[0m     \u001b[0;32mreturn\u001b[0m \u001b[0marr\u001b[0m\u001b[0;34m.\u001b[0m\u001b[0mview\u001b[0m\u001b[0;34m(\u001b[0m\u001b[0mdtype\u001b[0m\u001b[0;34m)\u001b[0m\u001b[0;34m\u001b[0m\u001b[0;34m\u001b[0m\u001b[0m\n",
      "\u001b[0;31mValueError\u001b[0m: could not convert string to float: '33q.200088'"
     ]
    }
   ],
   "source": [
    "# Enfoque: convertirlo a float64\n",
    "data['latitude_num']=data['latitude'].astype('float64')\n",
    "# no lo permite porque encontró un registro donde aparece una letra 'q'. \n",
    "# desconozco si es algo propio de la codificacion de las latitudes. Pero como es solo un registro, lo elimino "
   ]
  },
  {
   "cell_type": "code",
   "execution_count": 12,
   "metadata": {
    "execution": {
     "iopub.execute_input": "2020-10-22T20:57:44.917208Z",
     "iopub.status.busy": "2020-10-22T20:57:44.909888Z",
     "iopub.status.idle": "2020-10-22T20:57:45.034384Z",
     "shell.execute_reply": "2020-10-22T20:57:45.033656Z"
    },
    "papermill": {
     "duration": 0.195008,
     "end_time": "2020-10-22T20:57:45.034515",
     "exception": false,
     "start_time": "2020-10-22T20:57:44.839507",
     "status": "completed"
    },
    "tags": []
   },
   "outputs": [
    {
     "data": {
      "text/html": [
       "<div>\n",
       "<style scoped>\n",
       "    .dataframe tbody tr th:only-of-type {\n",
       "        vertical-align: middle;\n",
       "    }\n",
       "\n",
       "    .dataframe tbody tr th {\n",
       "        vertical-align: top;\n",
       "    }\n",
       "\n",
       "    .dataframe thead th {\n",
       "        text-align: right;\n",
       "    }\n",
       "</style>\n",
       "<table border=\"1\" class=\"dataframe\">\n",
       "  <thead>\n",
       "    <tr style=\"text-align: right;\">\n",
       "      <th></th>\n",
       "      <th>latitude</th>\n",
       "      <th>frequency</th>\n",
       "      <th>percentage</th>\n",
       "      <th>cumulative_perc</th>\n",
       "    </tr>\n",
       "  </thead>\n",
       "  <tbody>\n",
       "    <tr>\n",
       "      <th>0</th>\n",
       "      <td>False</td>\n",
       "      <td>65535</td>\n",
       "      <td>0.815802</td>\n",
       "      <td>0.999985</td>\n",
       "    </tr>\n",
       "    <tr>\n",
       "      <th>1</th>\n",
       "      <td>True</td>\n",
       "      <td>1</td>\n",
       "      <td>0.000012</td>\n",
       "      <td>1.000000</td>\n",
       "    </tr>\n",
       "  </tbody>\n",
       "</table>\n",
       "</div>"
      ],
      "text/plain": [
       "  latitude  frequency  percentage  cumulative_perc\n",
       "0    False      65535    0.815802         0.999985\n",
       "1     True          1    0.000012         1.000000"
      ]
     },
     "execution_count": 12,
     "metadata": {},
     "output_type": "execute_result"
    }
   ],
   "source": [
    "# con freq_tbl de funpymodeling puedo verificar la frecuencia del dataframe\n",
    "# veamos si efectivamente encuentro algun caracter no numerico\n",
    "freq_tbl(data.latitude.str.contains('[A-Za-z]'))\n",
    "#efectivamente, encontró uno"
   ]
  },
  {
   "cell_type": "code",
   "execution_count": 13,
   "metadata": {
    "execution": {
     "iopub.execute_input": "2020-10-22T20:57:45.176145Z",
     "iopub.status.busy": "2020-10-22T20:57:45.170908Z",
     "iopub.status.idle": "2020-10-22T20:57:45.262940Z",
     "shell.execute_reply": "2020-10-22T20:57:45.262314Z"
    },
    "papermill": {
     "duration": 0.16498,
     "end_time": "2020-10-22T20:57:45.263051",
     "exception": false,
     "start_time": "2020-10-22T20:57:45.098071",
     "status": "completed"
    },
    "tags": []
   },
   "outputs": [
    {
     "data": {
      "text/html": [
       "<div>\n",
       "<style scoped>\n",
       "    .dataframe tbody tr th:only-of-type {\n",
       "        vertical-align: middle;\n",
       "    }\n",
       "\n",
       "    .dataframe tbody tr th {\n",
       "        vertical-align: top;\n",
       "    }\n",
       "\n",
       "    .dataframe thead th {\n",
       "        text-align: right;\n",
       "    }\n",
       "</style>\n",
       "<table border=\"1\" class=\"dataframe\">\n",
       "  <thead>\n",
       "    <tr style=\"text-align: right;\">\n",
       "      <th></th>\n",
       "      <th>datetime</th>\n",
       "      <th>city</th>\n",
       "      <th>state</th>\n",
       "      <th>country</th>\n",
       "      <th>shape</th>\n",
       "      <th>duration (seconds)</th>\n",
       "      <th>duration (hours/min)</th>\n",
       "      <th>comments</th>\n",
       "      <th>date posted</th>\n",
       "      <th>latitude</th>\n",
       "      <th>longitude</th>\n",
       "      <th>datetime_dat</th>\n",
       "    </tr>\n",
       "  </thead>\n",
       "  <tbody>\n",
       "    <tr>\n",
       "      <th>43782</th>\n",
       "      <td>5/22/1974 05:30</td>\n",
       "      <td>mescalero indian reservation</td>\n",
       "      <td>nm</td>\n",
       "      <td>NaN</td>\n",
       "      <td>rectangle</td>\n",
       "      <td>180</td>\n",
       "      <td>two hours</td>\n",
       "      <td>Huge rectangular object emmitting intense whit...</td>\n",
       "      <td>4/18/2012</td>\n",
       "      <td>33q.200088</td>\n",
       "      <td>-105.624152</td>\n",
       "      <td>1974-05-22 05:30:00</td>\n",
       "    </tr>\n",
       "  </tbody>\n",
       "</table>\n",
       "</div>"
      ],
      "text/plain": [
       "              datetime                          city state country      shape  \\\n",
       "43782  5/22/1974 05:30  mescalero indian reservation    nm     NaN  rectangle   \n",
       "\n",
       "      duration (seconds) duration (hours/min)  \\\n",
       "43782                180            two hours   \n",
       "\n",
       "                                                comments date posted  \\\n",
       "43782  Huge rectangular object emmitting intense whit...   4/18/2012   \n",
       "\n",
       "         latitude  longitude         datetime_dat  \n",
       "43782  33q.200088 -105.624152 1974-05-22 05:30:00  "
      ]
     },
     "execution_count": 13,
     "metadata": {},
     "output_type": "execute_result"
    }
   ],
   "source": [
    "#veamos qué registro es\n",
    "data[data['latitude'].str.contains('[A-Za-z]', na=False)]  \n",
    "#es el registro 43782. Vemos que en latitud aparece una 'q' en el medio"
   ]
  },
  {
   "cell_type": "code",
   "execution_count": 14,
   "metadata": {
    "execution": {
     "iopub.execute_input": "2020-10-22T20:57:45.398056Z",
     "iopub.status.busy": "2020-10-22T20:57:45.397362Z",
     "iopub.status.idle": "2020-10-22T20:57:45.416044Z",
     "shell.execute_reply": "2020-10-22T20:57:45.415411Z"
    },
    "papermill": {
     "duration": 0.087802,
     "end_time": "2020-10-22T20:57:45.416166",
     "exception": false,
     "start_time": "2020-10-22T20:57:45.328364",
     "status": "completed"
    },
    "tags": []
   },
   "outputs": [],
   "source": [
    "# Vemos que es el 43782. Vamos a eliminarlo con su índice \n",
    "data= data.drop([43782])"
   ]
  },
  {
   "cell_type": "code",
   "execution_count": 15,
   "metadata": {
    "execution": {
     "iopub.execute_input": "2020-10-22T20:57:45.563905Z",
     "iopub.status.busy": "2020-10-22T20:57:45.563210Z",
     "iopub.status.idle": "2020-10-22T20:57:45.571313Z",
     "shell.execute_reply": "2020-10-22T20:57:45.570724Z"
    },
    "papermill": {
     "duration": 0.089168,
     "end_time": "2020-10-22T20:57:45.571444",
     "exception": false,
     "start_time": "2020-10-22T20:57:45.482276",
     "status": "completed"
    },
    "tags": []
   },
   "outputs": [],
   "source": [
    "# MUY IMPORTANTE\n",
    "# en este punto, es recomendable reiniciar el índice de la tabla, \n",
    "# ya que luego obtendremos los países faltantes a traves de reverse_geocoding.\n",
    "data = data.reset_index(drop=True)"
   ]
  },
  {
   "cell_type": "code",
   "execution_count": 16,
   "metadata": {
    "execution": {
     "iopub.execute_input": "2020-10-22T20:57:45.713807Z",
     "iopub.status.busy": "2020-10-22T20:57:45.712881Z",
     "iopub.status.idle": "2020-10-22T20:57:45.716599Z",
     "shell.execute_reply": "2020-10-22T20:57:45.715962Z"
    },
    "papermill": {
     "duration": 0.080645,
     "end_time": "2020-10-22T20:57:45.716713",
     "exception": false,
     "start_time": "2020-10-22T20:57:45.636068",
     "status": "completed"
    },
    "tags": []
   },
   "outputs": [],
   "source": [
    "# probemos otra vez la conversión de object a numerico\n",
    "data['latitude_num']=data['latitude'].astype('float64')\n",
    "# ahora si nos permitió"
   ]
  },
  {
   "cell_type": "markdown",
   "metadata": {
    "papermill": {
     "duration": 0.06496,
     "end_time": "2020-10-22T20:57:45.848054",
     "exception": false,
     "start_time": "2020-10-22T20:57:45.783094",
     "status": "completed"
    },
    "tags": []
   },
   "source": [
    "**********************"
   ]
  },
  {
   "cell_type": "markdown",
   "metadata": {
    "papermill": {
     "duration": 0.065248,
     "end_time": "2020-10-22T20:57:45.978245",
     "exception": false,
     "start_time": "2020-10-22T20:57:45.912997",
     "status": "completed"
    },
    "tags": []
   },
   "source": [
    "#3° OBSERVACIÓN. TENEMOS DOS COLUMNAS PARA EL TIEMPO DE AVISTAMIENTO. AMBAS FIGURAN COMO OBJECT"
   ]
  },
  {
   "cell_type": "code",
   "execution_count": 17,
   "metadata": {
    "_kg_hide-output": true,
    "execution": {
     "iopub.execute_input": "2020-10-22T20:57:46.124197Z",
     "iopub.status.busy": "2020-10-22T20:57:46.120330Z",
     "iopub.status.idle": "2020-10-22T20:57:46.136902Z",
     "shell.execute_reply": "2020-10-22T20:57:46.137499Z"
    },
    "papermill": {
     "duration": 0.09459,
     "end_time": "2020-10-22T20:57:46.137654",
     "exception": false,
     "start_time": "2020-10-22T20:57:46.043064",
     "status": "completed"
    },
    "tags": []
   },
   "outputs": [
    {
     "ename": "ValueError",
     "evalue": "could not convert string to float: '2`'",
     "output_type": "error",
     "traceback": [
      "\u001b[0;31m---------------------------------------------------------------------------\u001b[0m",
      "\u001b[0;31mValueError\u001b[0m                                Traceback (most recent call last)",
      "\u001b[0;32m<ipython-input-17-fcc79012cc0c>\u001b[0m in \u001b[0;36m<module>\u001b[0;34m\u001b[0m\n\u001b[1;32m      2\u001b[0m \u001b[0;31m# me quedo con la que muestra en segundos (probablemente al final la transformemos a minutos para facilitar el analisis)\u001b[0m\u001b[0;34m\u001b[0m\u001b[0;34m\u001b[0m\u001b[0;34m\u001b[0m\u001b[0m\n\u001b[1;32m      3\u001b[0m \u001b[0;31m# entonces, tomamos 'duration (seconds)' y la transformamos a float64\u001b[0m\u001b[0;34m\u001b[0m\u001b[0;34m\u001b[0m\u001b[0;34m\u001b[0m\u001b[0m\n\u001b[0;32m----> 4\u001b[0;31m \u001b[0mdata\u001b[0m\u001b[0;34m[\u001b[0m\u001b[0;34m'duration(seconds)_num'\u001b[0m\u001b[0;34m]\u001b[0m\u001b[0;34m=\u001b[0m\u001b[0mdata\u001b[0m\u001b[0;34m[\u001b[0m\u001b[0;34m'duration (seconds)'\u001b[0m\u001b[0;34m]\u001b[0m\u001b[0;34m.\u001b[0m\u001b[0mastype\u001b[0m\u001b[0;34m(\u001b[0m\u001b[0;34m'float64'\u001b[0m\u001b[0;34m)\u001b[0m\u001b[0;34m\u001b[0m\u001b[0;34m\u001b[0m\u001b[0m\n\u001b[0m\u001b[1;32m      5\u001b[0m \u001b[0;31m# No lo puede converir porque encuentra valores como '2`', es decir tienen caracteres no numericos\u001b[0m\u001b[0;34m\u001b[0m\u001b[0;34m\u001b[0m\u001b[0;34m\u001b[0m\u001b[0m\n",
      "\u001b[0;32m/opt/conda/lib/python3.7/site-packages/pandas/core/generic.py\u001b[0m in \u001b[0;36mastype\u001b[0;34m(self, dtype, copy, errors)\u001b[0m\n\u001b[1;32m   5544\u001b[0m         \u001b[0;32melse\u001b[0m\u001b[0;34m:\u001b[0m\u001b[0;34m\u001b[0m\u001b[0;34m\u001b[0m\u001b[0m\n\u001b[1;32m   5545\u001b[0m             \u001b[0;31m# else, only a single dtype is given\u001b[0m\u001b[0;34m\u001b[0m\u001b[0;34m\u001b[0m\u001b[0;34m\u001b[0m\u001b[0m\n\u001b[0;32m-> 5546\u001b[0;31m             \u001b[0mnew_data\u001b[0m \u001b[0;34m=\u001b[0m \u001b[0mself\u001b[0m\u001b[0;34m.\u001b[0m\u001b[0m_mgr\u001b[0m\u001b[0;34m.\u001b[0m\u001b[0mastype\u001b[0m\u001b[0;34m(\u001b[0m\u001b[0mdtype\u001b[0m\u001b[0;34m=\u001b[0m\u001b[0mdtype\u001b[0m\u001b[0;34m,\u001b[0m \u001b[0mcopy\u001b[0m\u001b[0;34m=\u001b[0m\u001b[0mcopy\u001b[0m\u001b[0;34m,\u001b[0m \u001b[0merrors\u001b[0m\u001b[0;34m=\u001b[0m\u001b[0merrors\u001b[0m\u001b[0;34m,\u001b[0m\u001b[0;34m)\u001b[0m\u001b[0;34m\u001b[0m\u001b[0;34m\u001b[0m\u001b[0m\n\u001b[0m\u001b[1;32m   5547\u001b[0m             \u001b[0;32mreturn\u001b[0m \u001b[0mself\u001b[0m\u001b[0;34m.\u001b[0m\u001b[0m_constructor\u001b[0m\u001b[0;34m(\u001b[0m\u001b[0mnew_data\u001b[0m\u001b[0;34m)\u001b[0m\u001b[0;34m.\u001b[0m\u001b[0m__finalize__\u001b[0m\u001b[0;34m(\u001b[0m\u001b[0mself\u001b[0m\u001b[0;34m,\u001b[0m \u001b[0mmethod\u001b[0m\u001b[0;34m=\u001b[0m\u001b[0;34m\"astype\"\u001b[0m\u001b[0;34m)\u001b[0m\u001b[0;34m\u001b[0m\u001b[0;34m\u001b[0m\u001b[0m\n\u001b[1;32m   5548\u001b[0m \u001b[0;34m\u001b[0m\u001b[0m\n",
      "\u001b[0;32m/opt/conda/lib/python3.7/site-packages/pandas/core/internals/managers.py\u001b[0m in \u001b[0;36mastype\u001b[0;34m(self, dtype, copy, errors)\u001b[0m\n\u001b[1;32m    593\u001b[0m         \u001b[0mself\u001b[0m\u001b[0;34m,\u001b[0m \u001b[0mdtype\u001b[0m\u001b[0;34m,\u001b[0m \u001b[0mcopy\u001b[0m\u001b[0;34m:\u001b[0m \u001b[0mbool\u001b[0m \u001b[0;34m=\u001b[0m \u001b[0;32mFalse\u001b[0m\u001b[0;34m,\u001b[0m \u001b[0merrors\u001b[0m\u001b[0;34m:\u001b[0m \u001b[0mstr\u001b[0m \u001b[0;34m=\u001b[0m \u001b[0;34m\"raise\"\u001b[0m\u001b[0;34m\u001b[0m\u001b[0;34m\u001b[0m\u001b[0m\n\u001b[1;32m    594\u001b[0m     ) -> \"BlockManager\":\n\u001b[0;32m--> 595\u001b[0;31m         \u001b[0;32mreturn\u001b[0m \u001b[0mself\u001b[0m\u001b[0;34m.\u001b[0m\u001b[0mapply\u001b[0m\u001b[0;34m(\u001b[0m\u001b[0;34m\"astype\"\u001b[0m\u001b[0;34m,\u001b[0m \u001b[0mdtype\u001b[0m\u001b[0;34m=\u001b[0m\u001b[0mdtype\u001b[0m\u001b[0;34m,\u001b[0m \u001b[0mcopy\u001b[0m\u001b[0;34m=\u001b[0m\u001b[0mcopy\u001b[0m\u001b[0;34m,\u001b[0m \u001b[0merrors\u001b[0m\u001b[0;34m=\u001b[0m\u001b[0merrors\u001b[0m\u001b[0;34m)\u001b[0m\u001b[0;34m\u001b[0m\u001b[0;34m\u001b[0m\u001b[0m\n\u001b[0m\u001b[1;32m    596\u001b[0m \u001b[0;34m\u001b[0m\u001b[0m\n\u001b[1;32m    597\u001b[0m     def convert(\n",
      "\u001b[0;32m/opt/conda/lib/python3.7/site-packages/pandas/core/internals/managers.py\u001b[0m in \u001b[0;36mapply\u001b[0;34m(self, f, align_keys, **kwargs)\u001b[0m\n\u001b[1;32m    404\u001b[0m                 \u001b[0mapplied\u001b[0m \u001b[0;34m=\u001b[0m \u001b[0mb\u001b[0m\u001b[0;34m.\u001b[0m\u001b[0mapply\u001b[0m\u001b[0;34m(\u001b[0m\u001b[0mf\u001b[0m\u001b[0;34m,\u001b[0m \u001b[0;34m**\u001b[0m\u001b[0mkwargs\u001b[0m\u001b[0;34m)\u001b[0m\u001b[0;34m\u001b[0m\u001b[0;34m\u001b[0m\u001b[0m\n\u001b[1;32m    405\u001b[0m             \u001b[0;32melse\u001b[0m\u001b[0;34m:\u001b[0m\u001b[0;34m\u001b[0m\u001b[0;34m\u001b[0m\u001b[0m\n\u001b[0;32m--> 406\u001b[0;31m                 \u001b[0mapplied\u001b[0m \u001b[0;34m=\u001b[0m \u001b[0mgetattr\u001b[0m\u001b[0;34m(\u001b[0m\u001b[0mb\u001b[0m\u001b[0;34m,\u001b[0m \u001b[0mf\u001b[0m\u001b[0;34m)\u001b[0m\u001b[0;34m(\u001b[0m\u001b[0;34m**\u001b[0m\u001b[0mkwargs\u001b[0m\u001b[0;34m)\u001b[0m\u001b[0;34m\u001b[0m\u001b[0;34m\u001b[0m\u001b[0m\n\u001b[0m\u001b[1;32m    407\u001b[0m             \u001b[0mresult_blocks\u001b[0m \u001b[0;34m=\u001b[0m \u001b[0m_extend_blocks\u001b[0m\u001b[0;34m(\u001b[0m\u001b[0mapplied\u001b[0m\u001b[0;34m,\u001b[0m \u001b[0mresult_blocks\u001b[0m\u001b[0;34m)\u001b[0m\u001b[0;34m\u001b[0m\u001b[0;34m\u001b[0m\u001b[0m\n\u001b[1;32m    408\u001b[0m \u001b[0;34m\u001b[0m\u001b[0m\n",
      "\u001b[0;32m/opt/conda/lib/python3.7/site-packages/pandas/core/internals/blocks.py\u001b[0m in \u001b[0;36mastype\u001b[0;34m(self, dtype, copy, errors)\u001b[0m\n\u001b[1;32m    593\u001b[0m             \u001b[0mvals1d\u001b[0m \u001b[0;34m=\u001b[0m \u001b[0mvalues\u001b[0m\u001b[0;34m.\u001b[0m\u001b[0mravel\u001b[0m\u001b[0;34m(\u001b[0m\u001b[0;34m)\u001b[0m\u001b[0;34m\u001b[0m\u001b[0;34m\u001b[0m\u001b[0m\n\u001b[1;32m    594\u001b[0m             \u001b[0;32mtry\u001b[0m\u001b[0;34m:\u001b[0m\u001b[0;34m\u001b[0m\u001b[0;34m\u001b[0m\u001b[0m\n\u001b[0;32m--> 595\u001b[0;31m                 \u001b[0mvalues\u001b[0m \u001b[0;34m=\u001b[0m \u001b[0mastype_nansafe\u001b[0m\u001b[0;34m(\u001b[0m\u001b[0mvals1d\u001b[0m\u001b[0;34m,\u001b[0m \u001b[0mdtype\u001b[0m\u001b[0;34m,\u001b[0m \u001b[0mcopy\u001b[0m\u001b[0;34m=\u001b[0m\u001b[0;32mTrue\u001b[0m\u001b[0;34m)\u001b[0m\u001b[0;34m\u001b[0m\u001b[0;34m\u001b[0m\u001b[0m\n\u001b[0m\u001b[1;32m    596\u001b[0m             \u001b[0;32mexcept\u001b[0m \u001b[0;34m(\u001b[0m\u001b[0mValueError\u001b[0m\u001b[0;34m,\u001b[0m \u001b[0mTypeError\u001b[0m\u001b[0;34m)\u001b[0m\u001b[0;34m:\u001b[0m\u001b[0;34m\u001b[0m\u001b[0;34m\u001b[0m\u001b[0m\n\u001b[1;32m    597\u001b[0m                 \u001b[0;31m# e.g. astype_nansafe can fail on object-dtype of strings\u001b[0m\u001b[0;34m\u001b[0m\u001b[0;34m\u001b[0m\u001b[0;34m\u001b[0m\u001b[0m\n",
      "\u001b[0;32m/opt/conda/lib/python3.7/site-packages/pandas/core/dtypes/cast.py\u001b[0m in \u001b[0;36mastype_nansafe\u001b[0;34m(arr, dtype, copy, skipna)\u001b[0m\n\u001b[1;32m    993\u001b[0m     \u001b[0;32mif\u001b[0m \u001b[0mcopy\u001b[0m \u001b[0;32mor\u001b[0m \u001b[0mis_object_dtype\u001b[0m\u001b[0;34m(\u001b[0m\u001b[0marr\u001b[0m\u001b[0;34m)\u001b[0m \u001b[0;32mor\u001b[0m \u001b[0mis_object_dtype\u001b[0m\u001b[0;34m(\u001b[0m\u001b[0mdtype\u001b[0m\u001b[0;34m)\u001b[0m\u001b[0;34m:\u001b[0m\u001b[0;34m\u001b[0m\u001b[0;34m\u001b[0m\u001b[0m\n\u001b[1;32m    994\u001b[0m         \u001b[0;31m# Explicit copy, or required since NumPy can't view from / to object.\u001b[0m\u001b[0;34m\u001b[0m\u001b[0;34m\u001b[0m\u001b[0;34m\u001b[0m\u001b[0m\n\u001b[0;32m--> 995\u001b[0;31m         \u001b[0;32mreturn\u001b[0m \u001b[0marr\u001b[0m\u001b[0;34m.\u001b[0m\u001b[0mastype\u001b[0m\u001b[0;34m(\u001b[0m\u001b[0mdtype\u001b[0m\u001b[0;34m,\u001b[0m \u001b[0mcopy\u001b[0m\u001b[0;34m=\u001b[0m\u001b[0;32mTrue\u001b[0m\u001b[0;34m)\u001b[0m\u001b[0;34m\u001b[0m\u001b[0;34m\u001b[0m\u001b[0m\n\u001b[0m\u001b[1;32m    996\u001b[0m \u001b[0;34m\u001b[0m\u001b[0m\n\u001b[1;32m    997\u001b[0m     \u001b[0;32mreturn\u001b[0m \u001b[0marr\u001b[0m\u001b[0;34m.\u001b[0m\u001b[0mview\u001b[0m\u001b[0;34m(\u001b[0m\u001b[0mdtype\u001b[0m\u001b[0;34m)\u001b[0m\u001b[0;34m\u001b[0m\u001b[0;34m\u001b[0m\u001b[0m\n",
      "\u001b[0;31mValueError\u001b[0m: could not convert string to float: '2`'"
     ]
    }
   ],
   "source": [
    "# Enfoque: eliminar la que muestra en minutos, ya que tiene muchisimos caracteres no numericos (lo haremos al final del notebook).\n",
    "# me quedo con la que muestra en segundos (probablemente al final la transformemos a minutos para facilitar el analisis)\n",
    "# entonces, tomamos 'duration (seconds)' y la transformamos a float64\n",
    "data['duration(seconds)_num']=data['duration (seconds)'].astype('float64')\n",
    "# No lo puede converir porque encuentra valores como '2`', es decir tienen caracteres no numericos"
   ]
  },
  {
   "cell_type": "code",
   "execution_count": 18,
   "metadata": {
    "execution": {
     "iopub.execute_input": "2020-10-22T20:57:46.281059Z",
     "iopub.status.busy": "2020-10-22T20:57:46.280347Z",
     "iopub.status.idle": "2020-10-22T20:57:46.373581Z",
     "shell.execute_reply": "2020-10-22T20:57:46.374070Z"
    },
    "papermill": {
     "duration": 0.171088,
     "end_time": "2020-10-22T20:57:46.374228",
     "exception": false,
     "start_time": "2020-10-22T20:57:46.203140",
     "status": "completed"
    },
    "tags": []
   },
   "outputs": [
    {
     "data": {
      "text/html": [
       "<div>\n",
       "<style scoped>\n",
       "    .dataframe tbody tr th:only-of-type {\n",
       "        vertical-align: middle;\n",
       "    }\n",
       "\n",
       "    .dataframe tbody tr th {\n",
       "        vertical-align: top;\n",
       "    }\n",
       "\n",
       "    .dataframe thead th {\n",
       "        text-align: right;\n",
       "    }\n",
       "</style>\n",
       "<table border=\"1\" class=\"dataframe\">\n",
       "  <thead>\n",
       "    <tr style=\"text-align: right;\">\n",
       "      <th></th>\n",
       "      <th>datetime</th>\n",
       "      <th>city</th>\n",
       "      <th>state</th>\n",
       "      <th>country</th>\n",
       "      <th>shape</th>\n",
       "      <th>duration (seconds)</th>\n",
       "      <th>duration (hours/min)</th>\n",
       "      <th>comments</th>\n",
       "      <th>date posted</th>\n",
       "      <th>latitude</th>\n",
       "      <th>longitude</th>\n",
       "      <th>datetime_dat</th>\n",
       "      <th>latitude_num</th>\n",
       "    </tr>\n",
       "  </thead>\n",
       "  <tbody>\n",
       "    <tr>\n",
       "      <th>27822</th>\n",
       "      <td>2/2/2000 19:33</td>\n",
       "      <td>bouse</td>\n",
       "      <td>az</td>\n",
       "      <td>us</td>\n",
       "      <td>NaN</td>\n",
       "      <td>2`</td>\n",
       "      <td>each a few seconds</td>\n",
       "      <td>Driving through Plomosa Pass towards Bouse Loo...</td>\n",
       "      <td>2/16/2000</td>\n",
       "      <td>33.9325000</td>\n",
       "      <td>-114.005000</td>\n",
       "      <td>2000-02-02 19:33:00</td>\n",
       "      <td>33.932500</td>\n",
       "    </tr>\n",
       "    <tr>\n",
       "      <th>35692</th>\n",
       "      <td>4/10/2005 22:52</td>\n",
       "      <td>santa cruz</td>\n",
       "      <td>ca</td>\n",
       "      <td>us</td>\n",
       "      <td>NaN</td>\n",
       "      <td>8`</td>\n",
       "      <td>eight seconds</td>\n",
       "      <td>2 red lights moving together and apart with a ...</td>\n",
       "      <td>4/16/2005</td>\n",
       "      <td>36.9741667</td>\n",
       "      <td>-122.029722</td>\n",
       "      <td>2005-04-10 22:52:00</td>\n",
       "      <td>36.974167</td>\n",
       "    </tr>\n",
       "    <tr>\n",
       "      <th>58590</th>\n",
       "      <td>7/21/2006 13:00</td>\n",
       "      <td>ibague (colombia)</td>\n",
       "      <td>NaN</td>\n",
       "      <td>NaN</td>\n",
       "      <td>circle</td>\n",
       "      <td>0.5`</td>\n",
       "      <td>1/2 segundo</td>\n",
       "      <td>Viajaba a 27.000 pies en un avion comercial ve...</td>\n",
       "      <td>10/30/2006</td>\n",
       "      <td>4.440663</td>\n",
       "      <td>-75.244141</td>\n",
       "      <td>2006-07-21 13:00:00</td>\n",
       "      <td>4.440663</td>\n",
       "    </tr>\n",
       "  </tbody>\n",
       "</table>\n",
       "</div>"
      ],
      "text/plain": [
       "              datetime               city state country   shape  \\\n",
       "27822   2/2/2000 19:33              bouse    az      us     NaN   \n",
       "35692  4/10/2005 22:52         santa cruz    ca      us     NaN   \n",
       "58590  7/21/2006 13:00  ibague (colombia)   NaN     NaN  circle   \n",
       "\n",
       "      duration (seconds) duration (hours/min)  \\\n",
       "27822                 2`   each a few seconds   \n",
       "35692                 8`        eight seconds   \n",
       "58590               0.5`          1/2 segundo   \n",
       "\n",
       "                                                comments date posted  \\\n",
       "27822  Driving through Plomosa Pass towards Bouse Loo...   2/16/2000   \n",
       "35692  2 red lights moving together and apart with a ...   4/16/2005   \n",
       "58590  Viajaba a 27.000 pies en un avion comercial ve...  10/30/2006   \n",
       "\n",
       "         latitude  longitude         datetime_dat  latitude_num  \n",
       "27822  33.9325000 -114.005000 2000-02-02 19:33:00     33.932500  \n",
       "35692  36.9741667 -122.029722 2005-04-10 22:52:00     36.974167  \n",
       "58590    4.440663  -75.244141 2006-07-21 13:00:00      4.440663  "
      ]
     },
     "execution_count": 18,
     "metadata": {},
     "output_type": "execute_result"
    }
   ],
   "source": [
    "# veamos cuáles son esos registros que traen apostrofe\n",
    "data[data['duration (seconds)'].str.contains(\"`\",na=False)]\n",
    "# son 3, podriamos borrarlos. O mejor aun, probemos otra cosa\n",
    "# vamos a editarle el valor, como hicimos en la 1°observación (reemplazar '24:00' por '00:00')"
   ]
  },
  {
   "cell_type": "code",
   "execution_count": 19,
   "metadata": {
    "execution": {
     "iopub.execute_input": "2020-10-22T20:57:46.562490Z",
     "iopub.status.busy": "2020-10-22T20:57:46.561747Z",
     "iopub.status.idle": "2020-10-22T20:57:46.571276Z",
     "shell.execute_reply": "2020-10-22T20:57:46.570723Z"
    },
    "papermill": {
     "duration": 0.130403,
     "end_time": "2020-10-22T20:57:46.571410",
     "exception": false,
     "start_time": "2020-10-22T20:57:46.441007",
     "status": "completed"
    },
    "tags": []
   },
   "outputs": [],
   "source": [
    "# le asigno a cada combinacion de fila/columna, el valor sin apostrofe.\n",
    "data.loc[27822,'duration (seconds)'] = 2\n",
    "data.loc[35692,'duration (seconds)'] = 8\n",
    "data.loc[58590,'duration (seconds)'] = 0.5"
   ]
  },
  {
   "cell_type": "code",
   "execution_count": 20,
   "metadata": {
    "execution": {
     "iopub.execute_input": "2020-10-22T20:57:46.716350Z",
     "iopub.status.busy": "2020-10-22T20:57:46.715403Z",
     "iopub.status.idle": "2020-10-22T20:57:46.720109Z",
     "shell.execute_reply": "2020-10-22T20:57:46.719565Z"
    },
    "papermill": {
     "duration": 0.082431,
     "end_time": "2020-10-22T20:57:46.720234",
     "exception": false,
     "start_time": "2020-10-22T20:57:46.637803",
     "status": "completed"
    },
    "tags": []
   },
   "outputs": [],
   "source": [
    "# ahora si, procedemos a convertir el tipo de datos a float64\n",
    "\n",
    "data['duration(seconds)_num']=data['duration (seconds)'].astype('float64')"
   ]
  },
  {
   "cell_type": "markdown",
   "metadata": {
    "papermill": {
     "duration": 0.066266,
     "end_time": "2020-10-22T20:57:46.853619",
     "exception": false,
     "start_time": "2020-10-22T20:57:46.787353",
     "status": "completed"
    },
    "tags": []
   },
   "source": [
    "**********************"
   ]
  },
  {
   "cell_type": "markdown",
   "metadata": {
    "papermill": {
     "duration": 0.066694,
     "end_time": "2020-10-22T20:57:46.988261",
     "exception": false,
     "start_time": "2020-10-22T20:57:46.921567",
     "status": "completed"
    },
    "tags": []
   },
   "source": [
    "#4° OBSERVACIÓN. DATE POSTED FIGURA COMO OBJECT"
   ]
  },
  {
   "cell_type": "code",
   "execution_count": 21,
   "metadata": {
    "execution": {
     "iopub.execute_input": "2020-10-22T20:57:47.131093Z",
     "iopub.status.busy": "2020-10-22T20:57:47.130353Z",
     "iopub.status.idle": "2020-10-22T20:57:47.164925Z",
     "shell.execute_reply": "2020-10-22T20:57:47.164339Z"
    },
    "papermill": {
     "duration": 0.110504,
     "end_time": "2020-10-22T20:57:47.165047",
     "exception": false,
     "start_time": "2020-10-22T20:57:47.054543",
     "status": "completed"
    },
    "tags": []
   },
   "outputs": [],
   "source": [
    "# Enfoque: convertirlo a datetime64\n",
    "data['datePosted_dat']=data['date posted'].astype('datetime64')\n",
    "#este no dio problemas. Ya tenemos la conversión"
   ]
  },
  {
   "cell_type": "markdown",
   "metadata": {
    "papermill": {
     "duration": 0.067759,
     "end_time": "2020-10-22T20:57:47.299983",
     "exception": false,
     "start_time": "2020-10-22T20:57:47.232224",
     "status": "completed"
    },
    "tags": []
   },
   "source": [
    "Terminamos por el momento con las conversiones de datos. Proximo paso: tratamiento de nulos"
   ]
  },
  {
   "cell_type": "markdown",
   "metadata": {
    "papermill": {
     "duration": 0.06673,
     "end_time": "2020-10-22T20:57:47.435370",
     "exception": false,
     "start_time": "2020-10-22T20:57:47.368640",
     "status": "completed"
    },
    "tags": []
   },
   "source": [
    "****************************************************************************************"
   ]
  },
  {
   "cell_type": "markdown",
   "metadata": {
    "papermill": {
     "duration": 0.066305,
     "end_time": "2020-10-22T20:57:47.568423",
     "exception": false,
     "start_time": "2020-10-22T20:57:47.502118",
     "status": "completed"
    },
    "tags": []
   },
   "source": [
    "![The kaggle logo][3]\n",
    "[3]: https://elcomercio.pe/resizer/CMBy5GAqgqFYqvWBHQFqMM58u7A=/580x330/smart/filters:format(jpeg):quality(75)/cloudfront-us-east-1.images.arcpublishing.com/elcomercio/3RKS3OTR4BFUBIXJOKYADRE4AI.jpg"
   ]
  },
  {
   "cell_type": "markdown",
   "metadata": {
    "papermill": {
     "duration": 0.073388,
     "end_time": "2020-10-22T20:57:47.708568",
     "exception": false,
     "start_time": "2020-10-22T20:57:47.635180",
     "status": "completed"
    },
    "tags": []
   },
   "source": [
    "#TRATAMIENTO DE NULOS"
   ]
  },
  {
   "cell_type": "markdown",
   "metadata": {
    "papermill": {
     "duration": 0.066786,
     "end_time": "2020-10-22T20:57:47.842429",
     "exception": false,
     "start_time": "2020-10-22T20:57:47.775643",
     "status": "completed"
    },
    "tags": []
   },
   "source": [
    "Veamos como estan nuestros datos"
   ]
  },
  {
   "cell_type": "code",
   "execution_count": 22,
   "metadata": {
    "execution": {
     "iopub.execute_input": "2020-10-22T20:57:47.983804Z",
     "iopub.status.busy": "2020-10-22T20:57:47.983131Z",
     "iopub.status.idle": "2020-10-22T20:57:48.190696Z",
     "shell.execute_reply": "2020-10-22T20:57:48.190076Z"
    },
    "papermill": {
     "duration": 0.279649,
     "end_time": "2020-10-22T20:57:48.190809",
     "exception": false,
     "start_time": "2020-10-22T20:57:47.911160",
     "status": "completed"
    },
    "tags": []
   },
   "outputs": [
    {
     "data": {
      "text/html": [
       "<div>\n",
       "<style scoped>\n",
       "    .dataframe tbody tr th:only-of-type {\n",
       "        vertical-align: middle;\n",
       "    }\n",
       "\n",
       "    .dataframe tbody tr th {\n",
       "        vertical-align: top;\n",
       "    }\n",
       "\n",
       "    .dataframe thead th {\n",
       "        text-align: right;\n",
       "    }\n",
       "</style>\n",
       "<table border=\"1\" class=\"dataframe\">\n",
       "  <thead>\n",
       "    <tr style=\"text-align: right;\">\n",
       "      <th></th>\n",
       "      <th>variable</th>\n",
       "      <th>q_nan</th>\n",
       "      <th>p_nan</th>\n",
       "      <th>q_zeros</th>\n",
       "      <th>p_zeros</th>\n",
       "      <th>unique</th>\n",
       "      <th>type</th>\n",
       "    </tr>\n",
       "  </thead>\n",
       "  <tbody>\n",
       "    <tr>\n",
       "      <th>0</th>\n",
       "      <td>datetime</td>\n",
       "      <td>0</td>\n",
       "      <td>0.000000</td>\n",
       "      <td>0</td>\n",
       "      <td>0.0</td>\n",
       "      <td>69585</td>\n",
       "      <td>object</td>\n",
       "    </tr>\n",
       "    <tr>\n",
       "      <th>1</th>\n",
       "      <td>city</td>\n",
       "      <td>0</td>\n",
       "      <td>0.000000</td>\n",
       "      <td>0</td>\n",
       "      <td>0.0</td>\n",
       "      <td>19899</td>\n",
       "      <td>object</td>\n",
       "    </tr>\n",
       "    <tr>\n",
       "      <th>2</th>\n",
       "      <td>state</td>\n",
       "      <td>5797</td>\n",
       "      <td>0.072164</td>\n",
       "      <td>0</td>\n",
       "      <td>0.0</td>\n",
       "      <td>67</td>\n",
       "      <td>object</td>\n",
       "    </tr>\n",
       "    <tr>\n",
       "      <th>3</th>\n",
       "      <td>country</td>\n",
       "      <td>9669</td>\n",
       "      <td>0.120364</td>\n",
       "      <td>0</td>\n",
       "      <td>0.0</td>\n",
       "      <td>5</td>\n",
       "      <td>object</td>\n",
       "    </tr>\n",
       "    <tr>\n",
       "      <th>4</th>\n",
       "      <td>shape</td>\n",
       "      <td>1932</td>\n",
       "      <td>0.024050</td>\n",
       "      <td>0</td>\n",
       "      <td>0.0</td>\n",
       "      <td>29</td>\n",
       "      <td>object</td>\n",
       "    </tr>\n",
       "    <tr>\n",
       "      <th>5</th>\n",
       "      <td>duration (seconds)</td>\n",
       "      <td>0</td>\n",
       "      <td>0.000000</td>\n",
       "      <td>0</td>\n",
       "      <td>0.0</td>\n",
       "      <td>703</td>\n",
       "      <td>object</td>\n",
       "    </tr>\n",
       "    <tr>\n",
       "      <th>6</th>\n",
       "      <td>duration (hours/min)</td>\n",
       "      <td>0</td>\n",
       "      <td>0.000000</td>\n",
       "      <td>0</td>\n",
       "      <td>0.0</td>\n",
       "      <td>8349</td>\n",
       "      <td>object</td>\n",
       "    </tr>\n",
       "    <tr>\n",
       "      <th>7</th>\n",
       "      <td>comments</td>\n",
       "      <td>15</td>\n",
       "      <td>0.000187</td>\n",
       "      <td>0</td>\n",
       "      <td>0.0</td>\n",
       "      <td>79996</td>\n",
       "      <td>object</td>\n",
       "    </tr>\n",
       "    <tr>\n",
       "      <th>8</th>\n",
       "      <td>date posted</td>\n",
       "      <td>0</td>\n",
       "      <td>0.000000</td>\n",
       "      <td>0</td>\n",
       "      <td>0.0</td>\n",
       "      <td>317</td>\n",
       "      <td>object</td>\n",
       "    </tr>\n",
       "    <tr>\n",
       "      <th>9</th>\n",
       "      <td>latitude</td>\n",
       "      <td>0</td>\n",
       "      <td>0.000000</td>\n",
       "      <td>0</td>\n",
       "      <td>0.0</td>\n",
       "      <td>23311</td>\n",
       "      <td>object</td>\n",
       "    </tr>\n",
       "    <tr>\n",
       "      <th>10</th>\n",
       "      <td>longitude</td>\n",
       "      <td>0</td>\n",
       "      <td>0.000000</td>\n",
       "      <td>0</td>\n",
       "      <td>0.0</td>\n",
       "      <td>19454</td>\n",
       "      <td>float64</td>\n",
       "    </tr>\n",
       "    <tr>\n",
       "      <th>11</th>\n",
       "      <td>datetime_dat</td>\n",
       "      <td>0</td>\n",
       "      <td>0.000000</td>\n",
       "      <td>0</td>\n",
       "      <td>0.0</td>\n",
       "      <td>69433</td>\n",
       "      <td>datetime64[ns]</td>\n",
       "    </tr>\n",
       "    <tr>\n",
       "      <th>12</th>\n",
       "      <td>latitude_num</td>\n",
       "      <td>0</td>\n",
       "      <td>0.000000</td>\n",
       "      <td>0</td>\n",
       "      <td>0.0</td>\n",
       "      <td>19907</td>\n",
       "      <td>float64</td>\n",
       "    </tr>\n",
       "    <tr>\n",
       "      <th>13</th>\n",
       "      <td>duration(seconds)_num</td>\n",
       "      <td>0</td>\n",
       "      <td>0.000000</td>\n",
       "      <td>0</td>\n",
       "      <td>0.0</td>\n",
       "      <td>533</td>\n",
       "      <td>float64</td>\n",
       "    </tr>\n",
       "    <tr>\n",
       "      <th>14</th>\n",
       "      <td>datePosted_dat</td>\n",
       "      <td>0</td>\n",
       "      <td>0.000000</td>\n",
       "      <td>0</td>\n",
       "      <td>0.0</td>\n",
       "      <td>317</td>\n",
       "      <td>datetime64[ns]</td>\n",
       "    </tr>\n",
       "  </tbody>\n",
       "</table>\n",
       "</div>"
      ],
      "text/plain": [
       "                 variable  q_nan     p_nan  q_zeros  p_zeros  unique  \\\n",
       "0                datetime      0  0.000000        0      0.0   69585   \n",
       "1                    city      0  0.000000        0      0.0   19899   \n",
       "2                   state   5797  0.072164        0      0.0      67   \n",
       "3                 country   9669  0.120364        0      0.0       5   \n",
       "4                   shape   1932  0.024050        0      0.0      29   \n",
       "5      duration (seconds)      0  0.000000        0      0.0     703   \n",
       "6    duration (hours/min)      0  0.000000        0      0.0    8349   \n",
       "7                comments     15  0.000187        0      0.0   79996   \n",
       "8             date posted      0  0.000000        0      0.0     317   \n",
       "9                latitude      0  0.000000        0      0.0   23311   \n",
       "10             longitude       0  0.000000        0      0.0   19454   \n",
       "11           datetime_dat      0  0.000000        0      0.0   69433   \n",
       "12           latitude_num      0  0.000000        0      0.0   19907   \n",
       "13  duration(seconds)_num      0  0.000000        0      0.0     533   \n",
       "14         datePosted_dat      0  0.000000        0      0.0     317   \n",
       "\n",
       "              type  \n",
       "0           object  \n",
       "1           object  \n",
       "2           object  \n",
       "3           object  \n",
       "4           object  \n",
       "5           object  \n",
       "6           object  \n",
       "7           object  \n",
       "8           object  \n",
       "9           object  \n",
       "10         float64  \n",
       "11  datetime64[ns]  \n",
       "12         float64  \n",
       "13         float64  \n",
       "14  datetime64[ns]  "
      ]
     },
     "execution_count": 22,
     "metadata": {},
     "output_type": "execute_result"
    }
   ],
   "source": [
    "status(data)\n",
    "#recordemos que estamos duplicando las columnas, al final eliminaremos las originales que ya tienen su \"arreglo\"\n",
    "#vemos que hay nulos en state, country, shape y comments"
   ]
  },
  {
   "cell_type": "markdown",
   "metadata": {
    "papermill": {
     "duration": 0.067771,
     "end_time": "2020-10-22T20:57:48.325759",
     "exception": false,
     "start_time": "2020-10-22T20:57:48.257988",
     "status": "completed"
    },
    "tags": []
   },
   "source": [
    "#5° OBSERVACIÓN: NULOS EN COUNTRY, STATE y CITY"
   ]
  },
  {
   "cell_type": "code",
   "execution_count": 23,
   "metadata": {
    "execution": {
     "iopub.execute_input": "2020-10-22T20:57:48.466810Z",
     "iopub.status.busy": "2020-10-22T20:57:48.465943Z",
     "iopub.status.idle": "2020-10-22T20:57:48.468745Z",
     "shell.execute_reply": "2020-10-22T20:57:48.468184Z"
    },
    "papermill": {
     "duration": 0.075866,
     "end_time": "2020-10-22T20:57:48.468886",
     "exception": false,
     "start_time": "2020-10-22T20:57:48.393020",
     "status": "completed"
    },
    "tags": []
   },
   "outputs": [],
   "source": [
    "# Enfoque: hay 9669 nulos en country. Podriamos eliminarlos...\n",
    "# ..Pero si yo tengo correctamente las coordenadas, podría obtener su país a traves de ellas\n",
    "# esto se logra gracias a reverse_geocoding"
   ]
  },
  {
   "cell_type": "code",
   "execution_count": 24,
   "metadata": {
    "execution": {
     "iopub.execute_input": "2020-10-22T20:57:48.637751Z",
     "iopub.status.busy": "2020-10-22T20:57:48.636760Z",
     "iopub.status.idle": "2020-10-22T20:57:48.640149Z",
     "shell.execute_reply": "2020-10-22T20:57:48.639599Z"
    },
    "papermill": {
     "duration": 0.104101,
     "end_time": "2020-10-22T20:57:48.640263",
     "exception": false,
     "start_time": "2020-10-22T20:57:48.536162",
     "status": "completed"
    },
    "tags": []
   },
   "outputs": [],
   "source": [
    "# creo una variable con la tupla de lat y long (para pasarle a reverse_geocoding y haga su magia)\n",
    "coordinates = list(zip(data['latitude_num'], data['longitude ']))"
   ]
  },
  {
   "cell_type": "code",
   "execution_count": 25,
   "metadata": {
    "execution": {
     "iopub.execute_input": "2020-10-22T20:57:48.780898Z",
     "iopub.status.busy": "2020-10-22T20:57:48.780206Z",
     "iopub.status.idle": "2020-10-22T20:57:48.783211Z",
     "shell.execute_reply": "2020-10-22T20:57:48.782576Z"
    },
    "papermill": {
     "duration": 0.075409,
     "end_time": "2020-10-22T20:57:48.783326",
     "exception": false,
     "start_time": "2020-10-22T20:57:48.707917",
     "status": "completed"
    },
    "tags": []
   },
   "outputs": [],
   "source": [
    "import reverse_geocoder as rg"
   ]
  },
  {
   "cell_type": "code",
   "execution_count": 26,
   "metadata": {
    "execution": {
     "iopub.execute_input": "2020-10-22T20:57:48.925668Z",
     "iopub.status.busy": "2020-10-22T20:57:48.924555Z",
     "iopub.status.idle": "2020-10-22T20:57:50.533113Z",
     "shell.execute_reply": "2020-10-22T20:57:50.532332Z"
    },
    "papermill": {
     "duration": 1.68131,
     "end_time": "2020-10-22T20:57:50.533241",
     "exception": false,
     "start_time": "2020-10-22T20:57:48.851931",
     "status": "completed"
    },
    "tags": []
   },
   "outputs": [
    {
     "name": "stdout",
     "output_type": "stream",
     "text": [
      "Loading formatted geocoded file...\n"
     ]
    }
   ],
   "source": [
    "# le paso al geocoding, mis coordenadas para que me devuelva países\n",
    "# lo hace en una lista\n",
    "results = rg.search(coordinates) # default mode = 2\n",
    "# print(results)"
   ]
  },
  {
   "cell_type": "code",
   "execution_count": 27,
   "metadata": {
    "execution": {
     "iopub.execute_input": "2020-10-22T20:57:50.679014Z",
     "iopub.status.busy": "2020-10-22T20:57:50.678042Z",
     "iopub.status.idle": "2020-10-22T20:57:50.681032Z",
     "shell.execute_reply": "2020-10-22T20:57:50.680424Z"
    },
    "papermill": {
     "duration": 0.079566,
     "end_time": "2020-10-22T20:57:50.681149",
     "exception": false,
     "start_time": "2020-10-22T20:57:50.601583",
     "status": "completed"
    },
    "tags": []
   },
   "outputs": [],
   "source": [
    "# veamos que tiene la lista \"results\" para el primer registro\n",
    "#[('lat', '29.88327'), ('lon', '-97.94139'), ('name', 'San Marcos'), ('admin1', 'Texas'), ('admin2', 'Hays County'), ('cc', 'US')])"
   ]
  },
  {
   "cell_type": "code",
   "execution_count": 28,
   "metadata": {
    "execution": {
     "iopub.execute_input": "2020-10-22T20:57:50.826587Z",
     "iopub.status.busy": "2020-10-22T20:57:50.825557Z",
     "iopub.status.idle": "2020-10-22T20:57:50.829492Z",
     "shell.execute_reply": "2020-10-22T20:57:50.828872Z"
    },
    "papermill": {
     "duration": 0.080318,
     "end_time": "2020-10-22T20:57:50.829609",
     "exception": false,
     "start_time": "2020-10-22T20:57:50.749291",
     "status": "completed"
    },
    "tags": []
   },
   "outputs": [
    {
     "data": {
      "text/plain": [
       "datetime                                                  10/10/1949 20:30\n",
       "city                                                            san marcos\n",
       "state                                                                   tx\n",
       "country                                                                 us\n",
       "shape                                                             cylinder\n",
       "duration (seconds)                                                    2700\n",
       "duration (hours/min)                                            45 minutes\n",
       "comments                 This event took place in early fall around 194...\n",
       "date posted                                                      4/27/2004\n",
       "latitude                                                        29.8830556\n",
       "longitude                                                         -97.9411\n",
       "datetime_dat                                           1949-10-10 20:30:00\n",
       "latitude_num                                                       29.8831\n",
       "duration(seconds)_num                                                 2700\n",
       "datePosted_dat                                         2004-04-27 00:00:00\n",
       "Name: 0, dtype: object"
      ]
     },
     "execution_count": 28,
     "metadata": {},
     "output_type": "execute_result"
    }
   ],
   "source": [
    "# ahora veamos que tiene el primer registro de nuestros datos\n",
    "data.loc[0]\n",
    "# los datos coinciden. Este avistamiento fue en San Marcos, Texas (Estados unidos)\n",
    "# latitud y longitud vemos que es la misma practicamente (es lo que usa para encontrar países)\n",
    "# a partir de ahi obtuve su país (aparece como cc), y tambien su estado(admin1) y ciudad(name)"
   ]
  },
  {
   "cell_type": "code",
   "execution_count": 29,
   "metadata": {
    "execution": {
     "iopub.execute_input": "2020-10-22T20:57:50.972694Z",
     "iopub.status.busy": "2020-10-22T20:57:50.971748Z",
     "iopub.status.idle": "2020-10-22T20:57:51.315952Z",
     "shell.execute_reply": "2020-10-22T20:57:51.315391Z"
    },
    "papermill": {
     "duration": 0.417421,
     "end_time": "2020-10-22T20:57:51.316078",
     "exception": false,
     "start_time": "2020-10-22T20:57:50.898657",
     "status": "completed"
    },
    "tags": []
   },
   "outputs": [],
   "source": [
    "# ¿Qué hacemos ahora?\n",
    "# ahora unimos nuestra data con lo que nos interesa de la lista. Primero convertimos esa lista en un dataframe\n",
    "results_df = pd.DataFrame(results)\n"
   ]
  },
  {
   "cell_type": "code",
   "execution_count": 30,
   "metadata": {
    "execution": {
     "iopub.execute_input": "2020-10-22T20:57:51.460638Z",
     "iopub.status.busy": "2020-10-22T20:57:51.458904Z",
     "iopub.status.idle": "2020-10-22T20:57:51.467279Z",
     "shell.execute_reply": "2020-10-22T20:57:51.466663Z"
    },
    "papermill": {
     "duration": 0.082004,
     "end_time": "2020-10-22T20:57:51.467401",
     "exception": false,
     "start_time": "2020-10-22T20:57:51.385397",
     "status": "completed"
    },
    "tags": []
   },
   "outputs": [],
   "source": [
    "# ahora simplemente seleccionamos que columnas queremos agregar de results_df a nuestros datos\n",
    "# ¿se acuerdan que reiniciamos el indice cuando eliminamos un registro en el 2° problema? Fue para hacer esta union facilmente\n",
    "\n",
    "data['country_c']=results_df['cc']\n",
    "data['city_c']=results_df['name']\n",
    "data['state_c'] = results_df['admin1']"
   ]
  },
  {
   "cell_type": "code",
   "execution_count": 31,
   "metadata": {
    "execution": {
     "iopub.execute_input": "2020-10-22T20:57:51.610150Z",
     "iopub.status.busy": "2020-10-22T20:57:51.609394Z",
     "iopub.status.idle": "2020-10-22T20:57:51.679476Z",
     "shell.execute_reply": "2020-10-22T20:57:51.678922Z"
    },
    "papermill": {
     "duration": 0.143666,
     "end_time": "2020-10-22T20:57:51.679606",
     "exception": false,
     "start_time": "2020-10-22T20:57:51.535940",
     "status": "completed"
    },
    "tags": []
   },
   "outputs": [
    {
     "data": {
      "text/html": [
       "<div>\n",
       "<style scoped>\n",
       "    .dataframe tbody tr th:only-of-type {\n",
       "        vertical-align: middle;\n",
       "    }\n",
       "\n",
       "    .dataframe tbody tr th {\n",
       "        vertical-align: top;\n",
       "    }\n",
       "\n",
       "    .dataframe thead th {\n",
       "        text-align: right;\n",
       "    }\n",
       "</style>\n",
       "<table border=\"1\" class=\"dataframe\">\n",
       "  <thead>\n",
       "    <tr style=\"text-align: right;\">\n",
       "      <th></th>\n",
       "      <th>country</th>\n",
       "      <th>country_c</th>\n",
       "      <th>state</th>\n",
       "      <th>state_c</th>\n",
       "      <th>city</th>\n",
       "      <th>city_c</th>\n",
       "    </tr>\n",
       "  </thead>\n",
       "  <tbody>\n",
       "    <tr>\n",
       "      <th>0</th>\n",
       "      <td>us</td>\n",
       "      <td>US</td>\n",
       "      <td>tx</td>\n",
       "      <td>Texas</td>\n",
       "      <td>san marcos</td>\n",
       "      <td>San Marcos</td>\n",
       "    </tr>\n",
       "    <tr>\n",
       "      <th>1</th>\n",
       "      <td>NaN</td>\n",
       "      <td>US</td>\n",
       "      <td>tx</td>\n",
       "      <td>Texas</td>\n",
       "      <td>lackland afb</td>\n",
       "      <td>Lackland Air Force Base</td>\n",
       "    </tr>\n",
       "    <tr>\n",
       "      <th>2</th>\n",
       "      <td>gb</td>\n",
       "      <td>GB</td>\n",
       "      <td>NaN</td>\n",
       "      <td>England</td>\n",
       "      <td>chester (uk/england)</td>\n",
       "      <td>Blacon</td>\n",
       "    </tr>\n",
       "    <tr>\n",
       "      <th>3</th>\n",
       "      <td>us</td>\n",
       "      <td>US</td>\n",
       "      <td>tx</td>\n",
       "      <td>Texas</td>\n",
       "      <td>edna</td>\n",
       "      <td>Edna</td>\n",
       "    </tr>\n",
       "    <tr>\n",
       "      <th>4</th>\n",
       "      <td>us</td>\n",
       "      <td>US</td>\n",
       "      <td>hi</td>\n",
       "      <td>Hawaii</td>\n",
       "      <td>kaneohe</td>\n",
       "      <td>Kane'ohe</td>\n",
       "    </tr>\n",
       "    <tr>\n",
       "      <th>...</th>\n",
       "      <td>...</td>\n",
       "      <td>...</td>\n",
       "      <td>...</td>\n",
       "      <td>...</td>\n",
       "      <td>...</td>\n",
       "      <td>...</td>\n",
       "    </tr>\n",
       "    <tr>\n",
       "      <th>80326</th>\n",
       "      <td>us</td>\n",
       "      <td>US</td>\n",
       "      <td>tn</td>\n",
       "      <td>Tennessee</td>\n",
       "      <td>nashville</td>\n",
       "      <td>Nashville</td>\n",
       "    </tr>\n",
       "    <tr>\n",
       "      <th>80327</th>\n",
       "      <td>us</td>\n",
       "      <td>US</td>\n",
       "      <td>id</td>\n",
       "      <td>Idaho</td>\n",
       "      <td>boise</td>\n",
       "      <td>Boise</td>\n",
       "    </tr>\n",
       "    <tr>\n",
       "      <th>80328</th>\n",
       "      <td>us</td>\n",
       "      <td>US</td>\n",
       "      <td>ca</td>\n",
       "      <td>California</td>\n",
       "      <td>napa</td>\n",
       "      <td>Napa</td>\n",
       "    </tr>\n",
       "    <tr>\n",
       "      <th>80329</th>\n",
       "      <td>us</td>\n",
       "      <td>US</td>\n",
       "      <td>va</td>\n",
       "      <td>Virginia</td>\n",
       "      <td>vienna</td>\n",
       "      <td>Vienna</td>\n",
       "    </tr>\n",
       "    <tr>\n",
       "      <th>80330</th>\n",
       "      <td>us</td>\n",
       "      <td>US</td>\n",
       "      <td>ok</td>\n",
       "      <td>Oklahoma</td>\n",
       "      <td>edmond</td>\n",
       "      <td>Edmond</td>\n",
       "    </tr>\n",
       "  </tbody>\n",
       "</table>\n",
       "<p>80331 rows × 6 columns</p>\n",
       "</div>"
      ],
      "text/plain": [
       "      country country_c state     state_c                  city  \\\n",
       "0          us        US    tx       Texas            san marcos   \n",
       "1         NaN        US    tx       Texas          lackland afb   \n",
       "2          gb        GB   NaN     England  chester (uk/england)   \n",
       "3          us        US    tx       Texas                  edna   \n",
       "4          us        US    hi      Hawaii               kaneohe   \n",
       "...       ...       ...   ...         ...                   ...   \n",
       "80326      us        US    tn   Tennessee             nashville   \n",
       "80327      us        US    id       Idaho                 boise   \n",
       "80328      us        US    ca  California                  napa   \n",
       "80329      us        US    va    Virginia                vienna   \n",
       "80330      us        US    ok    Oklahoma                edmond   \n",
       "\n",
       "                        city_c  \n",
       "0                   San Marcos  \n",
       "1      Lackland Air Force Base  \n",
       "2                       Blacon  \n",
       "3                         Edna  \n",
       "4                     Kane'ohe  \n",
       "...                        ...  \n",
       "80326                Nashville  \n",
       "80327                    Boise  \n",
       "80328                     Napa  \n",
       "80329                   Vienna  \n",
       "80330                   Edmond  \n",
       "\n",
       "[80331 rows x 6 columns]"
      ]
     },
     "execution_count": 31,
     "metadata": {},
     "output_type": "execute_result"
    }
   ],
   "source": [
    "# et voilà, tenemos data de todos esos paises que eran aparecian nulos, a partir de sus coordenadas\n",
    "(data[['country','country_c','state','state_c','city','city_c']])\n",
    "# por ejemplo para el registro 1, venia país nulo. Sin embargo ahora sabemos que es de US. Lo confirma que el estado es Texas"
   ]
  },
  {
   "cell_type": "code",
   "execution_count": 32,
   "metadata": {
    "execution": {
     "iopub.execute_input": "2020-10-22T20:57:51.824917Z",
     "iopub.status.busy": "2020-10-22T20:57:51.824237Z",
     "iopub.status.idle": "2020-10-22T20:57:51.827001Z",
     "shell.execute_reply": "2020-10-22T20:57:51.826401Z"
    },
    "papermill": {
     "duration": 0.078325,
     "end_time": "2020-10-22T20:57:51.827112",
     "exception": false,
     "start_time": "2020-10-22T20:57:51.748787",
     "status": "completed"
    },
    "tags": []
   },
   "outputs": [],
   "source": [
    "import numpy as np"
   ]
  },
  {
   "cell_type": "code",
   "execution_count": 33,
   "metadata": {
    "execution": {
     "iopub.execute_input": "2020-10-22T20:57:51.978556Z",
     "iopub.status.busy": "2020-10-22T20:57:51.975323Z",
     "iopub.status.idle": "2020-10-22T20:57:51.986368Z",
     "shell.execute_reply": "2020-10-22T20:57:51.985692Z"
    },
    "papermill": {
     "duration": 0.090339,
     "end_time": "2020-10-22T20:57:51.986486",
     "exception": false,
     "start_time": "2020-10-22T20:57:51.896147",
     "status": "completed"
    },
    "tags": []
   },
   "outputs": [],
   "source": [
    "# Nota: hay algunos estados en esta nueva columna state_c que vienen vacios, a pesar de que los obtuvimos con geocoding\n",
    "# vamos a reemplazarlos por el mismo valor que aparezca en ciudad\n",
    "\n",
    "# primero los pasamos a nulo\n",
    "data['state_c'] = data['state_c'].replace({'': np.nan})"
   ]
  },
  {
   "cell_type": "code",
   "execution_count": 34,
   "metadata": {
    "execution": {
     "iopub.execute_input": "2020-10-22T20:57:52.139479Z",
     "iopub.status.busy": "2020-10-22T20:57:52.138740Z",
     "iopub.status.idle": "2020-10-22T20:57:52.146449Z",
     "shell.execute_reply": "2020-10-22T20:57:52.145782Z"
    },
    "papermill": {
     "duration": 0.089037,
     "end_time": "2020-10-22T20:57:52.146570",
     "exception": false,
     "start_time": "2020-10-22T20:57:52.057533",
     "status": "completed"
    },
    "tags": []
   },
   "outputs": [],
   "source": [
    "# y ahora a esos nulos le asignamos el nombre de la ciudad\n",
    "data['state_c'] = data['state_c'].fillna(data['city_c'])"
   ]
  },
  {
   "cell_type": "markdown",
   "metadata": {
    "papermill": {
     "duration": 0.074281,
     "end_time": "2020-10-22T20:57:52.290228",
     "exception": false,
     "start_time": "2020-10-22T20:57:52.215947",
     "status": "completed"
    },
    "tags": []
   },
   "source": [
    "****************"
   ]
  },
  {
   "cell_type": "markdown",
   "metadata": {
    "papermill": {
     "duration": 0.068843,
     "end_time": "2020-10-22T20:57:52.429337",
     "exception": false,
     "start_time": "2020-10-22T20:57:52.360494",
     "status": "completed"
    },
    "tags": []
   },
   "source": [
    "#6° OBSERVACIÓN: NULOS EN SHAPE Y COMMENTS"
   ]
  },
  {
   "cell_type": "code",
   "execution_count": 35,
   "metadata": {
    "execution": {
     "iopub.execute_input": "2020-10-22T20:57:52.586400Z",
     "iopub.status.busy": "2020-10-22T20:57:52.576652Z",
     "iopub.status.idle": "2020-10-22T20:57:52.589802Z",
     "shell.execute_reply": "2020-10-22T20:57:52.589284Z"
    },
    "papermill": {
     "duration": 0.091444,
     "end_time": "2020-10-22T20:57:52.589950",
     "exception": false,
     "start_time": "2020-10-22T20:57:52.498506",
     "status": "completed"
    },
    "tags": []
   },
   "outputs": [],
   "source": [
    "# Enfoque: aca si no podemos hacer nada por estos nulos, solo le asignaremos un string 'No data'\n",
    "data['shape'] = data['shape'].fillna(\"No data\")\n",
    "data['comments'] = data['comments'].fillna(\"No data\")"
   ]
  },
  {
   "cell_type": "markdown",
   "metadata": {
    "papermill": {
     "duration": 0.069131,
     "end_time": "2020-10-22T20:57:52.729681",
     "exception": false,
     "start_time": "2020-10-22T20:57:52.660550",
     "status": "completed"
    },
    "tags": []
   },
   "source": [
    "***********************************************************************"
   ]
  },
  {
   "cell_type": "markdown",
   "metadata": {
    "papermill": {
     "duration": 0.068598,
     "end_time": "2020-10-22T20:57:52.867935",
     "exception": false,
     "start_time": "2020-10-22T20:57:52.799337",
     "status": "completed"
    },
    "tags": []
   },
   "source": [
    "#OTRAS TRANSFORMACIONES"
   ]
  },
  {
   "cell_type": "markdown",
   "metadata": {
    "papermill": {
     "duration": 0.068821,
     "end_time": "2020-10-22T20:57:53.006166",
     "exception": false,
     "start_time": "2020-10-22T20:57:52.937345",
     "status": "completed"
    },
    "tags": []
   },
   "source": [
    "#7° OBSERVACIÓN: CREAR NUEVA COLUMNA DE TIEMPO DE AVISTAMIENTO (MINUTOS)"
   ]
  },
  {
   "cell_type": "code",
   "execution_count": 36,
   "metadata": {
    "execution": {
     "iopub.execute_input": "2020-10-22T20:57:53.151920Z",
     "iopub.status.busy": "2020-10-22T20:57:53.150982Z",
     "iopub.status.idle": "2020-10-22T20:57:53.154984Z",
     "shell.execute_reply": "2020-10-22T20:57:53.154443Z"
    },
    "papermill": {
     "duration": 0.079786,
     "end_time": "2020-10-22T20:57:53.155109",
     "exception": false,
     "start_time": "2020-10-22T20:57:53.075323",
     "status": "completed"
    },
    "tags": []
   },
   "outputs": [],
   "source": [
    "# vamos a crear nuevamente la columna de tiempo de avistamiento en minutos,\n",
    "# pero lo haremos a partir de la columna de segundos, que tiene datos consistentes\n",
    "data['duration(minutes)_num']=data['duration(seconds)_num'] /60"
   ]
  },
  {
   "cell_type": "markdown",
   "metadata": {
    "papermill": {
     "duration": 0.092257,
     "end_time": "2020-10-22T20:57:53.317487",
     "exception": false,
     "start_time": "2020-10-22T20:57:53.225230",
     "status": "completed"
    },
    "tags": []
   },
   "source": [
    "#ULTIMOS PASOS"
   ]
  },
  {
   "cell_type": "markdown",
   "metadata": {
    "papermill": {
     "duration": 0.069108,
     "end_time": "2020-10-22T20:57:53.469970",
     "exception": false,
     "start_time": "2020-10-22T20:57:53.400862",
     "status": "completed"
    },
    "tags": []
   },
   "source": [
    "Eliminamos todas esas columnas originales que fueron tratadas"
   ]
  },
  {
   "cell_type": "code",
   "execution_count": 37,
   "metadata": {
    "execution": {
     "iopub.execute_input": "2020-10-22T20:57:53.614840Z",
     "iopub.status.busy": "2020-10-22T20:57:53.614195Z",
     "iopub.status.idle": "2020-10-22T20:57:53.643751Z",
     "shell.execute_reply": "2020-10-22T20:57:53.643200Z"
    },
    "papermill": {
     "duration": 0.105107,
     "end_time": "2020-10-22T20:57:53.643889",
     "exception": false,
     "start_time": "2020-10-22T20:57:53.538782",
     "status": "completed"
    },
    "tags": []
   },
   "outputs": [],
   "source": [
    "data=data.drop(['datetime','latitude','duration (seconds)','date posted','country','state','city','duration(seconds)_num'],axis=1)\n",
    "# elimino  tambien duration (hours/min) \n",
    "data=data.drop(['duration (hours/min)'],axis=1)"
   ]
  },
  {
   "cell_type": "markdown",
   "metadata": {
    "papermill": {
     "duration": 0.069718,
     "end_time": "2020-10-22T20:57:53.783783",
     "exception": false,
     "start_time": "2020-10-22T20:57:53.714065",
     "status": "completed"
    },
    "tags": []
   },
   "source": [
    "Cambiamos los nombres de las nuevas columnas, y las reordenamos"
   ]
  },
  {
   "cell_type": "code",
   "execution_count": 38,
   "metadata": {
    "execution": {
     "iopub.execute_input": "2020-10-22T20:57:53.930528Z",
     "iopub.status.busy": "2020-10-22T20:57:53.929850Z",
     "iopub.status.idle": "2020-10-22T20:57:53.950748Z",
     "shell.execute_reply": "2020-10-22T20:57:53.950104Z"
    },
    "papermill": {
     "duration": 0.096384,
     "end_time": "2020-10-22T20:57:53.950891",
     "exception": false,
     "start_time": "2020-10-22T20:57:53.854507",
     "status": "completed"
    },
    "tags": []
   },
   "outputs": [],
   "source": [
    "data = data.rename(columns={\"datetime_dat\": \"datetime\", \n",
    "                             \"latitude_num\": \"latitude\", \n",
    "                             'datePosted_dat' : 'datePosted',\n",
    "                             'country_c':'country',\n",
    "                             'state_c':'state',\n",
    "                             'city_c': 'city',\n",
    "                             'duration(minutes)_num': 'duration(minutes)',\n",
    "                             'longitude ': 'longitude' })\n",
    "\n",
    "data = data[[\"datetime\", \"country\", \"state\",\"city\",\"shape\",\"duration(minutes)\",\"comments\", \"datePosted\",\"latitude\",\"longitude\"]]"
   ]
  },
  {
   "cell_type": "code",
   "execution_count": 39,
   "metadata": {
    "execution": {
     "iopub.execute_input": "2020-10-22T20:57:54.118677Z",
     "iopub.status.busy": "2020-10-22T20:57:54.117631Z",
     "iopub.status.idle": "2020-10-22T20:57:54.253301Z",
     "shell.execute_reply": "2020-10-22T20:57:54.252644Z"
    },
    "papermill": {
     "duration": 0.232931,
     "end_time": "2020-10-22T20:57:54.253416",
     "exception": false,
     "start_time": "2020-10-22T20:57:54.020485",
     "status": "completed"
    },
    "tags": []
   },
   "outputs": [
    {
     "data": {
      "text/html": [
       "<div>\n",
       "<style scoped>\n",
       "    .dataframe tbody tr th:only-of-type {\n",
       "        vertical-align: middle;\n",
       "    }\n",
       "\n",
       "    .dataframe tbody tr th {\n",
       "        vertical-align: top;\n",
       "    }\n",
       "\n",
       "    .dataframe thead th {\n",
       "        text-align: right;\n",
       "    }\n",
       "</style>\n",
       "<table border=\"1\" class=\"dataframe\">\n",
       "  <thead>\n",
       "    <tr style=\"text-align: right;\">\n",
       "      <th></th>\n",
       "      <th>variable</th>\n",
       "      <th>q_nan</th>\n",
       "      <th>p_nan</th>\n",
       "      <th>q_zeros</th>\n",
       "      <th>p_zeros</th>\n",
       "      <th>unique</th>\n",
       "      <th>type</th>\n",
       "    </tr>\n",
       "  </thead>\n",
       "  <tbody>\n",
       "    <tr>\n",
       "      <th>0</th>\n",
       "      <td>datetime</td>\n",
       "      <td>0</td>\n",
       "      <td>0.0</td>\n",
       "      <td>0</td>\n",
       "      <td>0.0</td>\n",
       "      <td>69433</td>\n",
       "      <td>datetime64[ns]</td>\n",
       "    </tr>\n",
       "    <tr>\n",
       "      <th>1</th>\n",
       "      <td>country</td>\n",
       "      <td>0</td>\n",
       "      <td>0.0</td>\n",
       "      <td>0</td>\n",
       "      <td>0.0</td>\n",
       "      <td>164</td>\n",
       "      <td>object</td>\n",
       "    </tr>\n",
       "    <tr>\n",
       "      <th>2</th>\n",
       "      <td>state</td>\n",
       "      <td>0</td>\n",
       "      <td>0.0</td>\n",
       "      <td>0</td>\n",
       "      <td>0.0</td>\n",
       "      <td>840</td>\n",
       "      <td>object</td>\n",
       "    </tr>\n",
       "    <tr>\n",
       "      <th>3</th>\n",
       "      <td>city</td>\n",
       "      <td>0</td>\n",
       "      <td>0.0</td>\n",
       "      <td>0</td>\n",
       "      <td>0.0</td>\n",
       "      <td>10676</td>\n",
       "      <td>object</td>\n",
       "    </tr>\n",
       "    <tr>\n",
       "      <th>4</th>\n",
       "      <td>shape</td>\n",
       "      <td>0</td>\n",
       "      <td>0.0</td>\n",
       "      <td>0</td>\n",
       "      <td>0.0</td>\n",
       "      <td>30</td>\n",
       "      <td>object</td>\n",
       "    </tr>\n",
       "    <tr>\n",
       "      <th>5</th>\n",
       "      <td>duration(minutes)</td>\n",
       "      <td>0</td>\n",
       "      <td>0.0</td>\n",
       "      <td>0</td>\n",
       "      <td>0.0</td>\n",
       "      <td>533</td>\n",
       "      <td>float64</td>\n",
       "    </tr>\n",
       "    <tr>\n",
       "      <th>6</th>\n",
       "      <td>comments</td>\n",
       "      <td>0</td>\n",
       "      <td>0.0</td>\n",
       "      <td>0</td>\n",
       "      <td>0.0</td>\n",
       "      <td>79997</td>\n",
       "      <td>object</td>\n",
       "    </tr>\n",
       "    <tr>\n",
       "      <th>7</th>\n",
       "      <td>datePosted</td>\n",
       "      <td>0</td>\n",
       "      <td>0.0</td>\n",
       "      <td>0</td>\n",
       "      <td>0.0</td>\n",
       "      <td>317</td>\n",
       "      <td>datetime64[ns]</td>\n",
       "    </tr>\n",
       "    <tr>\n",
       "      <th>8</th>\n",
       "      <td>latitude</td>\n",
       "      <td>0</td>\n",
       "      <td>0.0</td>\n",
       "      <td>0</td>\n",
       "      <td>0.0</td>\n",
       "      <td>19907</td>\n",
       "      <td>float64</td>\n",
       "    </tr>\n",
       "    <tr>\n",
       "      <th>9</th>\n",
       "      <td>longitude</td>\n",
       "      <td>0</td>\n",
       "      <td>0.0</td>\n",
       "      <td>0</td>\n",
       "      <td>0.0</td>\n",
       "      <td>19454</td>\n",
       "      <td>float64</td>\n",
       "    </tr>\n",
       "  </tbody>\n",
       "</table>\n",
       "</div>"
      ],
      "text/plain": [
       "            variable  q_nan  p_nan  q_zeros  p_zeros  unique            type\n",
       "0           datetime      0    0.0        0      0.0   69433  datetime64[ns]\n",
       "1            country      0    0.0        0      0.0     164          object\n",
       "2              state      0    0.0        0      0.0     840          object\n",
       "3               city      0    0.0        0      0.0   10676          object\n",
       "4              shape      0    0.0        0      0.0      30          object\n",
       "5  duration(minutes)      0    0.0        0      0.0     533         float64\n",
       "6           comments      0    0.0        0      0.0   79997          object\n",
       "7         datePosted      0    0.0        0      0.0     317  datetime64[ns]\n",
       "8           latitude      0    0.0        0      0.0   19907         float64\n",
       "9          longitude      0    0.0        0      0.0   19454         float64"
      ]
     },
     "execution_count": 39,
     "metadata": {},
     "output_type": "execute_result"
    }
   ],
   "source": [
    "# Y tenemos nuestro set de datos un poco más ordenado \n",
    "status(data)"
   ]
  },
  {
   "cell_type": "markdown",
   "metadata": {
    "papermill": {
     "duration": 0.072947,
     "end_time": "2020-10-22T20:57:54.397594",
     "exception": false,
     "start_time": "2020-10-22T20:57:54.324647",
     "status": "completed"
    },
    "tags": []
   },
   "source": [
    "*************************"
   ]
  },
  {
   "cell_type": "markdown",
   "metadata": {
    "papermill": {
     "duration": 0.071555,
     "end_time": "2020-10-22T20:57:54.539308",
     "exception": false,
     "start_time": "2020-10-22T20:57:54.467753",
     "status": "completed"
    },
    "tags": []
   },
   "source": [
    "#(EDIT) 8° OBSERVACIÓN: ASIGNAR NOMBRE AMIGABLE A LOS PAISES"
   ]
  },
  {
   "cell_type": "markdown",
   "metadata": {
    "papermill": {
     "duration": 0.069982,
     "end_time": "2020-10-22T20:57:54.679601",
     "exception": false,
     "start_time": "2020-10-22T20:57:54.609619",
     "status": "completed"
    },
    "tags": []
   },
   "source": [
    "Mientras revisaba los ultimos detalles este notebook, se me ocurrio que para visualizar, estaria bueno tener los nombres de los países<br>\n",
    "En teoría es simple... seria buscar una tabla de países y hacer el join. Veremos que sale"
   ]
  },
  {
   "cell_type": "markdown",
   "metadata": {
    "papermill": {
     "duration": 0.069584,
     "end_time": "2020-10-22T20:57:54.819418",
     "exception": false,
     "start_time": "2020-10-22T20:57:54.749834",
     "status": "completed"
    },
    "tags": []
   },
   "source": [
    "<img src=\"https://thumbs.gfycat.com/DelightfulDisfiguredHamadryad-size_restricted.gif\">"
   ]
  },
  {
   "cell_type": "code",
   "execution_count": 40,
   "metadata": {
    "execution": {
     "iopub.execute_input": "2020-10-22T20:57:54.969327Z",
     "iopub.status.busy": "2020-10-22T20:57:54.968333Z",
     "iopub.status.idle": "2020-10-22T20:57:54.974810Z",
     "shell.execute_reply": "2020-10-22T20:57:54.974348Z"
    },
    "papermill": {
     "duration": 0.083409,
     "end_time": "2020-10-22T20:57:54.974957",
     "exception": false,
     "start_time": "2020-10-22T20:57:54.891548",
     "status": "completed"
    },
    "tags": []
   },
   "outputs": [],
   "source": [
    "# Conseguí esta tabla googleando unos minutos\n",
    "countryNames = pd.read_csv('../input/country-code-and-names/Comtrade Country Code and ISO list v1.2.csv', sep =';')"
   ]
  },
  {
   "cell_type": "code",
   "execution_count": 41,
   "metadata": {
    "execution": {
     "iopub.execute_input": "2020-10-22T20:57:55.123670Z",
     "iopub.status.busy": "2020-10-22T20:57:55.123094Z",
     "iopub.status.idle": "2020-10-22T20:57:55.126267Z",
     "shell.execute_reply": "2020-10-22T20:57:55.125615Z"
    },
    "papermill": {
     "duration": 0.079875,
     "end_time": "2020-10-22T20:57:55.126381",
     "exception": false,
     "start_time": "2020-10-22T20:57:55.046506",
     "status": "completed"
    },
    "tags": []
   },
   "outputs": [],
   "source": [
    "# Me quedo con las unicas columnas que me van a interesar\n",
    "countryNames = countryNames.drop(['Country Code','Country Name, Full ','Country Comments','ISO3-digit Alpha','Start Valid Year','End Valid Year'],axis=1)"
   ]
  },
  {
   "cell_type": "code",
   "execution_count": 42,
   "metadata": {
    "execution": {
     "iopub.execute_input": "2020-10-22T20:57:55.281618Z",
     "iopub.status.busy": "2020-10-22T20:57:55.280806Z",
     "iopub.status.idle": "2020-10-22T20:57:55.285187Z",
     "shell.execute_reply": "2020-10-22T20:57:55.285622Z"
    },
    "papermill": {
     "duration": 0.087043,
     "end_time": "2020-10-22T20:57:55.285781",
     "exception": false,
     "start_time": "2020-10-22T20:57:55.198738",
     "status": "completed"
    },
    "tags": []
   },
   "outputs": [
    {
     "data": {
      "text/html": [
       "<div>\n",
       "<style scoped>\n",
       "    .dataframe tbody tr th:only-of-type {\n",
       "        vertical-align: middle;\n",
       "    }\n",
       "\n",
       "    .dataframe tbody tr th {\n",
       "        vertical-align: top;\n",
       "    }\n",
       "\n",
       "    .dataframe thead th {\n",
       "        text-align: right;\n",
       "    }\n",
       "</style>\n",
       "<table border=\"1\" class=\"dataframe\">\n",
       "  <thead>\n",
       "    <tr style=\"text-align: right;\">\n",
       "      <th></th>\n",
       "      <th>Country Name, Abbreviation</th>\n",
       "      <th>ISO2-digit Alpha</th>\n",
       "    </tr>\n",
       "  </thead>\n",
       "  <tbody>\n",
       "    <tr>\n",
       "      <th>0</th>\n",
       "      <td>Afghanistan</td>\n",
       "      <td>AF</td>\n",
       "    </tr>\n",
       "    <tr>\n",
       "      <th>1</th>\n",
       "      <td>Albania</td>\n",
       "      <td>AL</td>\n",
       "    </tr>\n",
       "    <tr>\n",
       "      <th>2</th>\n",
       "      <td>Algeria</td>\n",
       "      <td>DZ</td>\n",
       "    </tr>\n",
       "    <tr>\n",
       "      <th>3</th>\n",
       "      <td>American Samoa</td>\n",
       "      <td>AS</td>\n",
       "    </tr>\n",
       "    <tr>\n",
       "      <th>4</th>\n",
       "      <td>Andorra</td>\n",
       "      <td>AD</td>\n",
       "    </tr>\n",
       "    <tr>\n",
       "      <th>...</th>\n",
       "      <td>...</td>\n",
       "      <td>...</td>\n",
       "    </tr>\n",
       "    <tr>\n",
       "      <th>230</th>\n",
       "      <td>Western Sahara</td>\n",
       "      <td>EH</td>\n",
       "    </tr>\n",
       "    <tr>\n",
       "      <th>231</th>\n",
       "      <td>World</td>\n",
       "      <td>WL</td>\n",
       "    </tr>\n",
       "    <tr>\n",
       "      <th>232</th>\n",
       "      <td>Yemen</td>\n",
       "      <td>YE</td>\n",
       "    </tr>\n",
       "    <tr>\n",
       "      <th>233</th>\n",
       "      <td>Zambia</td>\n",
       "      <td>ZM</td>\n",
       "    </tr>\n",
       "    <tr>\n",
       "      <th>234</th>\n",
       "      <td>Zimbabwe</td>\n",
       "      <td>ZW</td>\n",
       "    </tr>\n",
       "  </tbody>\n",
       "</table>\n",
       "<p>235 rows × 2 columns</p>\n",
       "</div>"
      ],
      "text/plain": [
       "    Country Name, Abbreviation ISO2-digit Alpha\n",
       "0                  Afghanistan               AF\n",
       "1                      Albania               AL\n",
       "2                      Algeria               DZ\n",
       "3               American Samoa               AS\n",
       "4                      Andorra               AD\n",
       "..                         ...              ...\n",
       "230             Western Sahara               EH\n",
       "231                      World               WL\n",
       "232                      Yemen               YE\n",
       "233                     Zambia               ZM\n",
       "234                   Zimbabwe               ZW\n",
       "\n",
       "[235 rows x 2 columns]"
      ]
     },
     "execution_count": 42,
     "metadata": {},
     "output_type": "execute_result"
    }
   ],
   "source": [
    "# Asi quedó mi tabla de países\n",
    "countryNames"
   ]
  },
  {
   "cell_type": "code",
   "execution_count": 43,
   "metadata": {
    "execution": {
     "iopub.execute_input": "2020-10-22T20:57:55.444953Z",
     "iopub.status.busy": "2020-10-22T20:57:55.444236Z",
     "iopub.status.idle": "2020-10-22T20:57:55.487941Z",
     "shell.execute_reply": "2020-10-22T20:57:55.487373Z"
    },
    "papermill": {
     "duration": 0.129059,
     "end_time": "2020-10-22T20:57:55.488069",
     "exception": false,
     "start_time": "2020-10-22T20:57:55.359010",
     "status": "completed"
    },
    "tags": []
   },
   "outputs": [],
   "source": [
    "# Hacemos el join (left)\n",
    "data_final = data.merge(countryNames, left_on='country', right_on='ISO2-digit Alpha', how='left')"
   ]
  },
  {
   "cell_type": "code",
   "execution_count": 44,
   "metadata": {
    "execution": {
     "iopub.execute_input": "2020-10-22T20:57:55.655022Z",
     "iopub.status.busy": "2020-10-22T20:57:55.635225Z",
     "iopub.status.idle": "2020-10-22T20:57:55.811481Z",
     "shell.execute_reply": "2020-10-22T20:57:55.810977Z"
    },
    "papermill": {
     "duration": 0.252138,
     "end_time": "2020-10-22T20:57:55.811596",
     "exception": false,
     "start_time": "2020-10-22T20:57:55.559458",
     "status": "completed"
    },
    "tags": []
   },
   "outputs": [
    {
     "data": {
      "text/html": [
       "<div>\n",
       "<style scoped>\n",
       "    .dataframe tbody tr th:only-of-type {\n",
       "        vertical-align: middle;\n",
       "    }\n",
       "\n",
       "    .dataframe tbody tr th {\n",
       "        vertical-align: top;\n",
       "    }\n",
       "\n",
       "    .dataframe thead th {\n",
       "        text-align: right;\n",
       "    }\n",
       "</style>\n",
       "<table border=\"1\" class=\"dataframe\">\n",
       "  <thead>\n",
       "    <tr style=\"text-align: right;\">\n",
       "      <th></th>\n",
       "      <th>variable</th>\n",
       "      <th>q_nan</th>\n",
       "      <th>p_nan</th>\n",
       "      <th>q_zeros</th>\n",
       "      <th>p_zeros</th>\n",
       "      <th>unique</th>\n",
       "      <th>type</th>\n",
       "    </tr>\n",
       "  </thead>\n",
       "  <tbody>\n",
       "    <tr>\n",
       "      <th>0</th>\n",
       "      <td>datetime</td>\n",
       "      <td>0</td>\n",
       "      <td>0.000000</td>\n",
       "      <td>0</td>\n",
       "      <td>0.0</td>\n",
       "      <td>69433</td>\n",
       "      <td>datetime64[ns]</td>\n",
       "    </tr>\n",
       "    <tr>\n",
       "      <th>1</th>\n",
       "      <td>country</td>\n",
       "      <td>0</td>\n",
       "      <td>0.000000</td>\n",
       "      <td>0</td>\n",
       "      <td>0.0</td>\n",
       "      <td>164</td>\n",
       "      <td>object</td>\n",
       "    </tr>\n",
       "    <tr>\n",
       "      <th>2</th>\n",
       "      <td>state</td>\n",
       "      <td>0</td>\n",
       "      <td>0.000000</td>\n",
       "      <td>0</td>\n",
       "      <td>0.0</td>\n",
       "      <td>840</td>\n",
       "      <td>object</td>\n",
       "    </tr>\n",
       "    <tr>\n",
       "      <th>3</th>\n",
       "      <td>city</td>\n",
       "      <td>0</td>\n",
       "      <td>0.000000</td>\n",
       "      <td>0</td>\n",
       "      <td>0.0</td>\n",
       "      <td>10676</td>\n",
       "      <td>object</td>\n",
       "    </tr>\n",
       "    <tr>\n",
       "      <th>4</th>\n",
       "      <td>shape</td>\n",
       "      <td>0</td>\n",
       "      <td>0.000000</td>\n",
       "      <td>0</td>\n",
       "      <td>0.0</td>\n",
       "      <td>30</td>\n",
       "      <td>object</td>\n",
       "    </tr>\n",
       "    <tr>\n",
       "      <th>5</th>\n",
       "      <td>duration(minutes)</td>\n",
       "      <td>0</td>\n",
       "      <td>0.000000</td>\n",
       "      <td>0</td>\n",
       "      <td>0.0</td>\n",
       "      <td>533</td>\n",
       "      <td>float64</td>\n",
       "    </tr>\n",
       "    <tr>\n",
       "      <th>6</th>\n",
       "      <td>comments</td>\n",
       "      <td>0</td>\n",
       "      <td>0.000000</td>\n",
       "      <td>0</td>\n",
       "      <td>0.0</td>\n",
       "      <td>79997</td>\n",
       "      <td>object</td>\n",
       "    </tr>\n",
       "    <tr>\n",
       "      <th>7</th>\n",
       "      <td>datePosted</td>\n",
       "      <td>0</td>\n",
       "      <td>0.000000</td>\n",
       "      <td>0</td>\n",
       "      <td>0.0</td>\n",
       "      <td>317</td>\n",
       "      <td>datetime64[ns]</td>\n",
       "    </tr>\n",
       "    <tr>\n",
       "      <th>8</th>\n",
       "      <td>latitude</td>\n",
       "      <td>0</td>\n",
       "      <td>0.000000</td>\n",
       "      <td>0</td>\n",
       "      <td>0.0</td>\n",
       "      <td>19907</td>\n",
       "      <td>float64</td>\n",
       "    </tr>\n",
       "    <tr>\n",
       "      <th>9</th>\n",
       "      <td>longitude</td>\n",
       "      <td>0</td>\n",
       "      <td>0.000000</td>\n",
       "      <td>0</td>\n",
       "      <td>0.0</td>\n",
       "      <td>19454</td>\n",
       "      <td>float64</td>\n",
       "    </tr>\n",
       "    <tr>\n",
       "      <th>10</th>\n",
       "      <td>Country Name, Abbreviation</td>\n",
       "      <td>88</td>\n",
       "      <td>0.001095</td>\n",
       "      <td>0</td>\n",
       "      <td>0.0</td>\n",
       "      <td>155</td>\n",
       "      <td>object</td>\n",
       "    </tr>\n",
       "    <tr>\n",
       "      <th>11</th>\n",
       "      <td>ISO2-digit Alpha</td>\n",
       "      <td>88</td>\n",
       "      <td>0.001095</td>\n",
       "      <td>0</td>\n",
       "      <td>0.0</td>\n",
       "      <td>155</td>\n",
       "      <td>object</td>\n",
       "    </tr>\n",
       "  </tbody>\n",
       "</table>\n",
       "</div>"
      ],
      "text/plain": [
       "                      variable  q_nan     p_nan  q_zeros  p_zeros  unique  \\\n",
       "0                     datetime      0  0.000000        0      0.0   69433   \n",
       "1                      country      0  0.000000        0      0.0     164   \n",
       "2                        state      0  0.000000        0      0.0     840   \n",
       "3                         city      0  0.000000        0      0.0   10676   \n",
       "4                        shape      0  0.000000        0      0.0      30   \n",
       "5            duration(minutes)      0  0.000000        0      0.0     533   \n",
       "6                     comments      0  0.000000        0      0.0   79997   \n",
       "7                   datePosted      0  0.000000        0      0.0     317   \n",
       "8                     latitude      0  0.000000        0      0.0   19907   \n",
       "9                    longitude      0  0.000000        0      0.0   19454   \n",
       "10  Country Name, Abbreviation     88  0.001095        0      0.0     155   \n",
       "11            ISO2-digit Alpha     88  0.001095        0      0.0     155   \n",
       "\n",
       "              type  \n",
       "0   datetime64[ns]  \n",
       "1           object  \n",
       "2           object  \n",
       "3           object  \n",
       "4           object  \n",
       "5          float64  \n",
       "6           object  \n",
       "7   datetime64[ns]  \n",
       "8          float64  \n",
       "9          float64  \n",
       "10          object  \n",
       "11          object  "
      ]
     },
     "execution_count": 44,
     "metadata": {},
     "output_type": "execute_result"
    }
   ],
   "source": [
    "# Y vemos otra vez el status (...God bless status...)\n",
    "status(data_final)"
   ]
  },
  {
   "cell_type": "code",
   "execution_count": 45,
   "metadata": {
    "execution": {
     "iopub.execute_input": "2020-10-22T20:57:55.965352Z",
     "iopub.status.busy": "2020-10-22T20:57:55.964612Z",
     "iopub.status.idle": "2020-10-22T20:57:55.970859Z",
     "shell.execute_reply": "2020-10-22T20:57:55.970303Z"
    },
    "papermill": {
     "duration": 0.086542,
     "end_time": "2020-10-22T20:57:55.970972",
     "exception": false,
     "start_time": "2020-10-22T20:57:55.884430",
     "status": "completed"
    },
    "tags": []
   },
   "outputs": [],
   "source": [
    "# todavia hay nulos en Country Name, Abbreviation\n",
    "# probablemente este sucediendo porque hay codigos de paises en nuestra data principal, que no figuran en nuestra tabla de paises\n",
    "# entonces, vemos a decirle que si es nulo, muestre el codigo del pais de la tabla principal\n",
    "data_final['Country Name, Abbreviation'] = data_final['Country Name, Abbreviation'].fillna(data_final['country'])\n"
   ]
  },
  {
   "cell_type": "code",
   "execution_count": 46,
   "metadata": {
    "execution": {
     "iopub.execute_input": "2020-10-22T20:57:56.170015Z",
     "iopub.status.busy": "2020-10-22T20:57:56.169202Z",
     "iopub.status.idle": "2020-10-22T20:57:56.293989Z",
     "shell.execute_reply": "2020-10-22T20:57:56.292994Z"
    },
    "papermill": {
     "duration": 0.219411,
     "end_time": "2020-10-22T20:57:56.294169",
     "exception": false,
     "start_time": "2020-10-22T20:57:56.074758",
     "status": "completed"
    },
    "tags": []
   },
   "outputs": [],
   "source": [
    "# Nota: hay un inconveniente con el país Namibia, Africa\n",
    "# su codigo es NA, y me parece que se genera una confusion con NAN (nulo)\n",
    "# para solucionarlo momentaneamente voy a cambiar a mano el valor a \"Namibia\"\n",
    "data_final['Country Name, Abbreviation'] = data_final['Country Name, Abbreviation'].replace({'NA': 'Namibia'}, regex=True)"
   ]
  },
  {
   "cell_type": "code",
   "execution_count": 47,
   "metadata": {
    "execution": {
     "iopub.execute_input": "2020-10-22T20:57:56.451810Z",
     "iopub.status.busy": "2020-10-22T20:57:56.450505Z",
     "iopub.status.idle": "2020-10-22T20:57:56.486469Z",
     "shell.execute_reply": "2020-10-22T20:57:56.485899Z"
    },
    "papermill": {
     "duration": 0.114362,
     "end_time": "2020-10-22T20:57:56.486585",
     "exception": false,
     "start_time": "2020-10-22T20:57:56.372223",
     "status": "completed"
    },
    "tags": []
   },
   "outputs": [],
   "source": [
    "# Eliminamos las columnas que no nos sirven\n",
    "data_final = data_final.drop(['country','ISO2-digit Alpha'],axis=1)"
   ]
  },
  {
   "cell_type": "code",
   "execution_count": 48,
   "metadata": {
    "execution": {
     "iopub.execute_input": "2020-10-22T20:57:56.638624Z",
     "iopub.status.busy": "2020-10-22T20:57:56.637988Z",
     "iopub.status.idle": "2020-10-22T20:57:56.648346Z",
     "shell.execute_reply": "2020-10-22T20:57:56.647768Z"
    },
    "papermill": {
     "duration": 0.087074,
     "end_time": "2020-10-22T20:57:56.648462",
     "exception": false,
     "start_time": "2020-10-22T20:57:56.561388",
     "status": "completed"
    },
    "tags": []
   },
   "outputs": [],
   "source": [
    "# Renombramos nuestra columna para que quede com 'country'\n",
    "data_final = data_final.rename(columns={\"Country Name, Abbreviation\": \"country\"})"
   ]
  },
  {
   "cell_type": "code",
   "execution_count": 49,
   "metadata": {
    "execution": {
     "iopub.execute_input": "2020-10-22T20:57:56.799034Z",
     "iopub.status.busy": "2020-10-22T20:57:56.798370Z",
     "iopub.status.idle": "2020-10-22T20:57:56.809451Z",
     "shell.execute_reply": "2020-10-22T20:57:56.808797Z"
    },
    "papermill": {
     "duration": 0.088919,
     "end_time": "2020-10-22T20:57:56.809562",
     "exception": false,
     "start_time": "2020-10-22T20:57:56.720643",
     "status": "completed"
    },
    "tags": []
   },
   "outputs": [],
   "source": [
    "# Reordenamos\n",
    "data_final = data_final[[\"datetime\", \"country\", \"state\",\"city\",\"shape\",\"duration(minutes)\",\"comments\", \"datePosted\",\"latitude\",\"longitude\"]]"
   ]
  },
  {
   "cell_type": "code",
   "execution_count": 50,
   "metadata": {
    "execution": {
     "iopub.execute_input": "2020-10-22T20:57:56.980862Z",
     "iopub.status.busy": "2020-10-22T20:57:56.960217Z",
     "iopub.status.idle": "2020-10-22T20:57:57.108362Z",
     "shell.execute_reply": "2020-10-22T20:57:57.108800Z"
    },
    "papermill": {
     "duration": 0.225366,
     "end_time": "2020-10-22T20:57:57.108964",
     "exception": false,
     "start_time": "2020-10-22T20:57:56.883598",
     "status": "completed"
    },
    "tags": []
   },
   "outputs": [
    {
     "data": {
      "text/html": [
       "<div>\n",
       "<style scoped>\n",
       "    .dataframe tbody tr th:only-of-type {\n",
       "        vertical-align: middle;\n",
       "    }\n",
       "\n",
       "    .dataframe tbody tr th {\n",
       "        vertical-align: top;\n",
       "    }\n",
       "\n",
       "    .dataframe thead th {\n",
       "        text-align: right;\n",
       "    }\n",
       "</style>\n",
       "<table border=\"1\" class=\"dataframe\">\n",
       "  <thead>\n",
       "    <tr style=\"text-align: right;\">\n",
       "      <th></th>\n",
       "      <th>variable</th>\n",
       "      <th>q_nan</th>\n",
       "      <th>p_nan</th>\n",
       "      <th>q_zeros</th>\n",
       "      <th>p_zeros</th>\n",
       "      <th>unique</th>\n",
       "      <th>type</th>\n",
       "    </tr>\n",
       "  </thead>\n",
       "  <tbody>\n",
       "    <tr>\n",
       "      <th>0</th>\n",
       "      <td>datetime</td>\n",
       "      <td>0</td>\n",
       "      <td>0.0</td>\n",
       "      <td>0</td>\n",
       "      <td>0.0</td>\n",
       "      <td>69433</td>\n",
       "      <td>datetime64[ns]</td>\n",
       "    </tr>\n",
       "    <tr>\n",
       "      <th>1</th>\n",
       "      <td>country</td>\n",
       "      <td>0</td>\n",
       "      <td>0.0</td>\n",
       "      <td>0</td>\n",
       "      <td>0.0</td>\n",
       "      <td>164</td>\n",
       "      <td>object</td>\n",
       "    </tr>\n",
       "    <tr>\n",
       "      <th>2</th>\n",
       "      <td>state</td>\n",
       "      <td>0</td>\n",
       "      <td>0.0</td>\n",
       "      <td>0</td>\n",
       "      <td>0.0</td>\n",
       "      <td>840</td>\n",
       "      <td>object</td>\n",
       "    </tr>\n",
       "    <tr>\n",
       "      <th>3</th>\n",
       "      <td>city</td>\n",
       "      <td>0</td>\n",
       "      <td>0.0</td>\n",
       "      <td>0</td>\n",
       "      <td>0.0</td>\n",
       "      <td>10676</td>\n",
       "      <td>object</td>\n",
       "    </tr>\n",
       "    <tr>\n",
       "      <th>4</th>\n",
       "      <td>shape</td>\n",
       "      <td>0</td>\n",
       "      <td>0.0</td>\n",
       "      <td>0</td>\n",
       "      <td>0.0</td>\n",
       "      <td>30</td>\n",
       "      <td>object</td>\n",
       "    </tr>\n",
       "    <tr>\n",
       "      <th>5</th>\n",
       "      <td>duration(minutes)</td>\n",
       "      <td>0</td>\n",
       "      <td>0.0</td>\n",
       "      <td>0</td>\n",
       "      <td>0.0</td>\n",
       "      <td>533</td>\n",
       "      <td>float64</td>\n",
       "    </tr>\n",
       "    <tr>\n",
       "      <th>6</th>\n",
       "      <td>comments</td>\n",
       "      <td>0</td>\n",
       "      <td>0.0</td>\n",
       "      <td>0</td>\n",
       "      <td>0.0</td>\n",
       "      <td>79997</td>\n",
       "      <td>object</td>\n",
       "    </tr>\n",
       "    <tr>\n",
       "      <th>7</th>\n",
       "      <td>datePosted</td>\n",
       "      <td>0</td>\n",
       "      <td>0.0</td>\n",
       "      <td>0</td>\n",
       "      <td>0.0</td>\n",
       "      <td>317</td>\n",
       "      <td>datetime64[ns]</td>\n",
       "    </tr>\n",
       "    <tr>\n",
       "      <th>8</th>\n",
       "      <td>latitude</td>\n",
       "      <td>0</td>\n",
       "      <td>0.0</td>\n",
       "      <td>0</td>\n",
       "      <td>0.0</td>\n",
       "      <td>19907</td>\n",
       "      <td>float64</td>\n",
       "    </tr>\n",
       "    <tr>\n",
       "      <th>9</th>\n",
       "      <td>longitude</td>\n",
       "      <td>0</td>\n",
       "      <td>0.0</td>\n",
       "      <td>0</td>\n",
       "      <td>0.0</td>\n",
       "      <td>19454</td>\n",
       "      <td>float64</td>\n",
       "    </tr>\n",
       "  </tbody>\n",
       "</table>\n",
       "</div>"
      ],
      "text/plain": [
       "            variable  q_nan  p_nan  q_zeros  p_zeros  unique            type\n",
       "0           datetime      0    0.0        0      0.0   69433  datetime64[ns]\n",
       "1            country      0    0.0        0      0.0     164          object\n",
       "2              state      0    0.0        0      0.0     840          object\n",
       "3               city      0    0.0        0      0.0   10676          object\n",
       "4              shape      0    0.0        0      0.0      30          object\n",
       "5  duration(minutes)      0    0.0        0      0.0     533         float64\n",
       "6           comments      0    0.0        0      0.0   79997          object\n",
       "7         datePosted      0    0.0        0      0.0     317  datetime64[ns]\n",
       "8           latitude      0    0.0        0      0.0   19907         float64\n",
       "9          longitude      0    0.0        0      0.0   19454         float64"
      ]
     },
     "execution_count": 50,
     "metadata": {},
     "output_type": "execute_result"
    }
   ],
   "source": [
    "# Y comprobamos una ultima vez.. se ve bien\n",
    "status(data_final)"
   ]
  },
  {
   "cell_type": "code",
   "execution_count": 51,
   "metadata": {
    "execution": {
     "iopub.execute_input": "2020-10-22T20:57:57.268894Z",
     "iopub.status.busy": "2020-10-22T20:57:57.267553Z",
     "iopub.status.idle": "2020-10-22T20:57:57.398321Z",
     "shell.execute_reply": "2020-10-22T20:57:57.398816Z"
    },
    "papermill": {
     "duration": 0.216596,
     "end_time": "2020-10-22T20:57:57.398997",
     "exception": false,
     "start_time": "2020-10-22T20:57:57.182401",
     "status": "completed"
    },
    "tags": []
   },
   "outputs": [],
   "source": [
    "# Nota: hay punto y coma en el campo de comments. Cuando lo transformo a csv me lo toma como separador de columna\n",
    "# a pesar de que le declaro que separe solo por comas.\n",
    "# esto lo soluciona momentaneamente:\n",
    "data_final['comments'] = data_final['comments'].replace({';': ' '}, regex=True)"
   ]
  },
  {
   "cell_type": "code",
   "execution_count": 52,
   "metadata": {
    "execution": {
     "iopub.execute_input": "2020-10-22T20:57:57.554151Z",
     "iopub.status.busy": "2020-10-22T20:57:57.553416Z",
     "iopub.status.idle": "2020-10-22T20:57:58.700665Z",
     "shell.execute_reply": "2020-10-22T20:57:58.699540Z"
    },
    "papermill": {
     "duration": 1.226753,
     "end_time": "2020-10-22T20:57:58.700808",
     "exception": false,
     "start_time": "2020-10-22T20:57:57.474055",
     "status": "completed"
    },
    "tags": []
   },
   "outputs": [],
   "source": [
    "#guardamos el set limpio\n",
    "data_final.to_csv('clean Data UFO.csv', index=False, sep =',')\n",
    "#quotechar=\"'\""
   ]
  },
  {
   "cell_type": "markdown",
   "metadata": {
    "papermill": {
     "duration": 0.075615,
     "end_time": "2020-10-22T20:57:58.853111",
     "exception": false,
     "start_time": "2020-10-22T20:57:58.777496",
     "status": "completed"
    },
    "tags": []
   },
   "source": [
    "<img src=\"https://i.pinimg.com/originals/a5/42/48/a5424852abc98df69ebd4b4e366e1b6f.gif\">"
   ]
  },
  {
   "cell_type": "markdown",
   "metadata": {
    "papermill": {
     "duration": 0.073653,
     "end_time": "2020-10-22T20:57:59.000369",
     "exception": false,
     "start_time": "2020-10-22T20:57:58.926716",
     "status": "completed"
    },
    "tags": []
   },
   "source": [
    "Aca continuaremos el analisis: https://www.kaggle.com/leogenzano/ufo-sightings-2-parte-analisis-exploratorio/"
   ]
  }
 ],
 "metadata": {
  "kernelspec": {
   "display_name": "Python 3",
   "language": "python",
   "name": "python3"
  },
  "language_info": {
   "codemirror_mode": {
    "name": "ipython",
    "version": 3
   },
   "file_extension": ".py",
   "mimetype": "text/x-python",
   "name": "python",
   "nbconvert_exporter": "python",
   "pygments_lexer": "ipython3",
   "version": "3.7.6"
  },
  "papermill": {
   "duration": 69.294117,
   "end_time": "2020-10-22T20:57:59.188174",
   "environment_variables": {},
   "exception": null,
   "input_path": "__notebook__.ipynb",
   "output_path": "__notebook__.ipynb",
   "parameters": {},
   "start_time": "2020-10-22T20:56:49.894057",
   "version": "2.1.0"
  }
 },
 "nbformat": 4,
 "nbformat_minor": 4
}
